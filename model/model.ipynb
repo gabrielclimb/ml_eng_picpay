{
 "cells": [
  {
   "cell_type": "code",
   "execution_count": 2,
   "id": "90a30a1e-90fc-4c3d-952b-d908ba9a8d77",
   "metadata": {},
   "outputs": [],
   "source": [
    "%load_ext lab_black"
   ]
  },
  {
   "cell_type": "code",
   "execution_count": 3,
   "id": "f1053fd0-fd43-42dd-a7b4-f69114a5d642",
   "metadata": {},
   "outputs": [],
   "source": [
    "from time import sleep\n",
    "\n",
    "import requests as r\n",
    "import numpy as np\n",
    "import pandas as pd\n",
    "\n",
    "from utils import transform_data, get_data_from_api, get_data_from_table"
   ]
  },
  {
   "cell_type": "code",
   "execution_count": 4,
   "id": "bf8556d4-542d-45c8-950c-ad8b0a62575b",
   "metadata": {},
   "outputs": [],
   "source": [
    "df_beer = get_data_from_api()"
   ]
  },
  {
   "cell_type": "code",
   "execution_count": 5,
   "id": "fb2e74db-3231-4729-b579-144c601c9719",
   "metadata": {},
   "outputs": [],
   "source": [
    "# df_beer = get_data_from_table()"
   ]
  },
  {
   "cell_type": "markdown",
   "id": "5d82dd2b-bc04-4f38-9a34-c37c466c3275",
   "metadata": {},
   "source": [
    "# EDA"
   ]
  },
  {
   "cell_type": "markdown",
   "id": "1e59a273-7516-42e7-8f29-4a342eb27d19",
   "metadata": {},
   "source": [
    "#### Objetivo do modelo -> treine um modelo de machine learning que classifique as cervejas em seus respectivos ibus."
   ]
  },
  {
   "cell_type": "code",
   "execution_count": 6,
   "id": "d72ca097-f235-4552-8201-4dc063dc3c12",
   "metadata": {},
   "outputs": [],
   "source": [
    "import matplotlib.pyplot as plt\n",
    "import seaborn as sns"
   ]
  },
  {
   "cell_type": "code",
   "execution_count": 7,
   "id": "914a557d-95a7-452c-97ab-51d35d190b4a",
   "metadata": {},
   "outputs": [],
   "source": [
    "df_beer = df_beer.drop(columns=[\"id\"])"
   ]
  },
  {
   "cell_type": "markdown",
   "id": "b50e4004-6c57-4791-931e-6a1106723b45",
   "metadata": {},
   "source": [
    "## Nulos"
   ]
  },
  {
   "cell_type": "code",
   "execution_count": 8,
   "id": "a2135fc0-927d-4a36-b2c1-da9e42f7c217",
   "metadata": {},
   "outputs": [
    {
     "data": {
      "text/plain": [
       "name         0.000000\n",
       "abv          0.000000\n",
       "ibu          1.538462\n",
       "target_fg    0.307692\n",
       "target_og    0.307692\n",
       "ebc          1.846154\n",
       "srm          1.846154\n",
       "ph           0.615385\n",
       "dtype: float64"
      ]
     },
     "execution_count": 8,
     "metadata": {},
     "output_type": "execute_result"
    }
   ],
   "source": [
    "# null values\n",
    "(df_beer.isnull().sum() / df_beer.shape[0]) * 100"
   ]
  },
  {
   "cell_type": "markdown",
   "id": "42f81f18-fc39-4097-b1f0-970b137c7c70",
   "metadata": {},
   "source": [
    "Somente 1.53% das cervejas estão sem os valores de ibu. Vamos ver quais são."
   ]
  },
  {
   "cell_type": "markdown",
   "id": "838d1c74-58e5-4394-a6c3-463af0fcef21",
   "metadata": {},
   "source": [
    "#### ibu"
   ]
  },
  {
   "cell_type": "code",
   "execution_count": 9,
   "id": "2656ffc4-4ddb-42a3-aace-82d43e4086ed",
   "metadata": {},
   "outputs": [
    {
     "data": {
      "text/html": [
       "<div>\n",
       "<style scoped>\n",
       "    .dataframe tbody tr th:only-of-type {\n",
       "        vertical-align: middle;\n",
       "    }\n",
       "\n",
       "    .dataframe tbody tr th {\n",
       "        vertical-align: top;\n",
       "    }\n",
       "\n",
       "    .dataframe thead th {\n",
       "        text-align: right;\n",
       "    }\n",
       "</style>\n",
       "<table border=\"1\" class=\"dataframe\">\n",
       "  <thead>\n",
       "    <tr style=\"text-align: right;\">\n",
       "      <th></th>\n",
       "      <th>name</th>\n",
       "      <th>abv</th>\n",
       "      <th>ibu</th>\n",
       "      <th>target_fg</th>\n",
       "      <th>target_og</th>\n",
       "      <th>ebc</th>\n",
       "      <th>srm</th>\n",
       "      <th>ph</th>\n",
       "    </tr>\n",
       "  </thead>\n",
       "  <tbody>\n",
       "    <tr>\n",
       "      <th>23</th>\n",
       "      <td>The End Of History</td>\n",
       "      <td>55.0</td>\n",
       "      <td>NaN</td>\n",
       "      <td>1000.0</td>\n",
       "      <td>1112.0</td>\n",
       "      <td>NaN</td>\n",
       "      <td>NaN</td>\n",
       "      <td>4.4</td>\n",
       "    </tr>\n",
       "    <tr>\n",
       "      <th>168</th>\n",
       "      <td>AB:19</td>\n",
       "      <td>13.1</td>\n",
       "      <td>NaN</td>\n",
       "      <td>NaN</td>\n",
       "      <td>NaN</td>\n",
       "      <td>NaN</td>\n",
       "      <td>NaN</td>\n",
       "      <td>NaN</td>\n",
       "    </tr>\n",
       "    <tr>\n",
       "      <th>234</th>\n",
       "      <td>Mango And Chili Barley Wine</td>\n",
       "      <td>12.0</td>\n",
       "      <td>NaN</td>\n",
       "      <td>1015.0</td>\n",
       "      <td>1110.0</td>\n",
       "      <td>20.0</td>\n",
       "      <td>40.0</td>\n",
       "      <td>4.4</td>\n",
       "    </tr>\n",
       "    <tr>\n",
       "      <th>235</th>\n",
       "      <td>Science IPA</td>\n",
       "      <td>5.0</td>\n",
       "      <td>NaN</td>\n",
       "      <td>1011.0</td>\n",
       "      <td>1050.0</td>\n",
       "      <td>24.0</td>\n",
       "      <td>47.0</td>\n",
       "      <td>4.4</td>\n",
       "    </tr>\n",
       "    <tr>\n",
       "      <th>236</th>\n",
       "      <td>Honey And Lemon Blitz</td>\n",
       "      <td>3.2</td>\n",
       "      <td>NaN</td>\n",
       "      <td>1008.0</td>\n",
       "      <td>1039.0</td>\n",
       "      <td>8.0</td>\n",
       "      <td>4.0</td>\n",
       "      <td>3.2</td>\n",
       "    </tr>\n",
       "  </tbody>\n",
       "</table>\n",
       "</div>"
      ],
      "text/plain": [
       "                            name   abv  ibu  target_fg  target_og   ebc   srm  \\\n",
       "23            The End Of History  55.0  NaN     1000.0     1112.0   NaN   NaN   \n",
       "168                        AB:19  13.1  NaN        NaN        NaN   NaN   NaN   \n",
       "234  Mango And Chili Barley Wine  12.0  NaN     1015.0     1110.0  20.0  40.0   \n",
       "235                  Science IPA   5.0  NaN     1011.0     1050.0  24.0  47.0   \n",
       "236        Honey And Lemon Blitz   3.2  NaN     1008.0     1039.0   8.0   4.0   \n",
       "\n",
       "      ph  \n",
       "23   4.4  \n",
       "168  NaN  \n",
       "234  4.4  \n",
       "235  4.4  \n",
       "236  3.2  "
      ]
     },
     "execution_count": 9,
     "metadata": {},
     "output_type": "execute_result"
    }
   ],
   "source": [
    "df_beer[df_beer.ibu.isnull()]"
   ]
  },
  {
   "cell_type": "markdown",
   "id": "8c56bc26-c3bc-4f79-807b-e733a0c242a5",
   "metadata": {},
   "source": [
    "A primeira, end of history, tem um valor bem alto para abv, que já seria um outlier e que\n",
    "provavelmemt tirariamos do dataset, a segunda está com quase todos os valores nulos, então sobram 3, que é uma quantidade muito baixa perto do tamanho do dataset.\n",
    "Então, vamos tirar todas elas do dataset."
   ]
  },
  {
   "cell_type": "code",
   "execution_count": 10,
   "id": "9543dce1-8ada-47f9-8db3-8665d7aed76b",
   "metadata": {},
   "outputs": [],
   "source": [
    "df_beer = df_beer[~df_beer.ibu.isnull()].reset_index(drop=True)"
   ]
  },
  {
   "cell_type": "code",
   "execution_count": 11,
   "id": "033a03de-5be1-420b-8b54-bed672e59d49",
   "metadata": {},
   "outputs": [
    {
     "data": {
      "text/plain": [
       "name         0.0000\n",
       "abv          0.0000\n",
       "ibu          0.0000\n",
       "target_fg    0.0000\n",
       "target_og    0.0000\n",
       "ebc          1.2500\n",
       "srm          1.2500\n",
       "ph           0.3125\n",
       "dtype: float64"
      ]
     },
     "execution_count": 11,
     "metadata": {},
     "output_type": "execute_result"
    }
   ],
   "source": [
    "(df_beer.isnull().sum() / df_beer.shape[0]) * 100"
   ]
  },
  {
   "cell_type": "markdown",
   "id": "4d7c701a-9bf4-45d1-b99e-95a29565cddc",
   "metadata": {},
   "source": [
    "#### ebc"
   ]
  },
  {
   "cell_type": "code",
   "execution_count": 12,
   "id": "47229f96-6e89-49a9-bc58-0412c885bf15",
   "metadata": {},
   "outputs": [
    {
     "data": {
      "text/html": [
       "<div>\n",
       "<style scoped>\n",
       "    .dataframe tbody tr th:only-of-type {\n",
       "        vertical-align: middle;\n",
       "    }\n",
       "\n",
       "    .dataframe tbody tr th {\n",
       "        vertical-align: top;\n",
       "    }\n",
       "\n",
       "    .dataframe thead th {\n",
       "        text-align: right;\n",
       "    }\n",
       "</style>\n",
       "<table border=\"1\" class=\"dataframe\">\n",
       "  <thead>\n",
       "    <tr style=\"text-align: right;\">\n",
       "      <th></th>\n",
       "      <th>name</th>\n",
       "      <th>abv</th>\n",
       "      <th>ibu</th>\n",
       "      <th>target_fg</th>\n",
       "      <th>target_og</th>\n",
       "      <th>ebc</th>\n",
       "      <th>srm</th>\n",
       "      <th>ph</th>\n",
       "    </tr>\n",
       "  </thead>\n",
       "  <tbody>\n",
       "    <tr>\n",
       "      <th>18</th>\n",
       "      <td>Hello My Name Is Mette-Marit</td>\n",
       "      <td>8.2</td>\n",
       "      <td>70.0</td>\n",
       "      <td>1013.0</td>\n",
       "      <td>1076.0</td>\n",
       "      <td>NaN</td>\n",
       "      <td>NaN</td>\n",
       "      <td>4.4</td>\n",
       "    </tr>\n",
       "    <tr>\n",
       "      <th>33</th>\n",
       "      <td>Berliner Weisse With Raspberries And Rhubarb -...</td>\n",
       "      <td>3.6</td>\n",
       "      <td>8.0</td>\n",
       "      <td>1007.0</td>\n",
       "      <td>1040.0</td>\n",
       "      <td>NaN</td>\n",
       "      <td>NaN</td>\n",
       "      <td>3.2</td>\n",
       "    </tr>\n",
       "    <tr>\n",
       "      <th>128</th>\n",
       "      <td>Spiced Cherry Sour - B-Sides</td>\n",
       "      <td>6.5</td>\n",
       "      <td>20.0</td>\n",
       "      <td>1010.0</td>\n",
       "      <td>1060.0</td>\n",
       "      <td>NaN</td>\n",
       "      <td>NaN</td>\n",
       "      <td>3.2</td>\n",
       "    </tr>\n",
       "    <tr>\n",
       "      <th>147</th>\n",
       "      <td>AB:03</td>\n",
       "      <td>10.5</td>\n",
       "      <td>14.0</td>\n",
       "      <td>1013.0</td>\n",
       "      <td>1093.0</td>\n",
       "      <td>NaN</td>\n",
       "      <td>NaN</td>\n",
       "      <td>4.4</td>\n",
       "    </tr>\n",
       "  </tbody>\n",
       "</table>\n",
       "</div>"
      ],
      "text/plain": [
       "                                                  name   abv   ibu  target_fg  \\\n",
       "18                        Hello My Name Is Mette-Marit   8.2  70.0     1013.0   \n",
       "33   Berliner Weisse With Raspberries And Rhubarb -...   3.6   8.0     1007.0   \n",
       "128                       Spiced Cherry Sour - B-Sides   6.5  20.0     1010.0   \n",
       "147                                              AB:03  10.5  14.0     1013.0   \n",
       "\n",
       "     target_og  ebc  srm   ph  \n",
       "18      1076.0  NaN  NaN  4.4  \n",
       "33      1040.0  NaN  NaN  3.2  \n",
       "128     1060.0  NaN  NaN  3.2  \n",
       "147     1093.0  NaN  NaN  4.4  "
      ]
     },
     "execution_count": 12,
     "metadata": {},
     "output_type": "execute_result"
    }
   ],
   "source": [
    "df_beer[df_beer.ebc.isnull()]"
   ]
  },
  {
   "cell_type": "code",
   "execution_count": 13,
   "id": "a04def95-358e-45c5-9493-1cb89ff6ede8",
   "metadata": {},
   "outputs": [],
   "source": [
    "# Olhando no site da brewdog essas cervejas , quase todas as cervejas que tem o ebc nulo são experimentais\n",
    "# por tanto, vamos tirar tbm.\n",
    "df_beer = df_beer[~df_beer.ebc.isnull()].reset_index(drop=True)"
   ]
  },
  {
   "cell_type": "code",
   "execution_count": 14,
   "id": "04b7d354-4270-4f4f-a8f0-63315200026a",
   "metadata": {},
   "outputs": [
    {
     "data": {
      "text/plain": [
       "name         0.000000\n",
       "abv          0.000000\n",
       "ibu          0.000000\n",
       "target_fg    0.000000\n",
       "target_og    0.000000\n",
       "ebc          0.000000\n",
       "srm          0.000000\n",
       "ph           0.316456\n",
       "dtype: float64"
      ]
     },
     "execution_count": 14,
     "metadata": {},
     "output_type": "execute_result"
    }
   ],
   "source": [
    "(df_beer.isnull().sum() / df_beer.shape[0]) * 100"
   ]
  },
  {
   "cell_type": "markdown",
   "id": "644390fa-7f67-4839-8dff-fc0bb084ba18",
   "metadata": {},
   "source": [
    "#### ph"
   ]
  },
  {
   "cell_type": "code",
   "execution_count": 15,
   "id": "4bbf3d19-64c8-4d9e-8501-6b4ad94b4456",
   "metadata": {},
   "outputs": [
    {
     "data": {
      "text/html": [
       "<div>\n",
       "<style scoped>\n",
       "    .dataframe tbody tr th:only-of-type {\n",
       "        vertical-align: middle;\n",
       "    }\n",
       "\n",
       "    .dataframe tbody tr th {\n",
       "        vertical-align: top;\n",
       "    }\n",
       "\n",
       "    .dataframe thead th {\n",
       "        text-align: right;\n",
       "    }\n",
       "</style>\n",
       "<table border=\"1\" class=\"dataframe\">\n",
       "  <thead>\n",
       "    <tr style=\"text-align: right;\">\n",
       "      <th></th>\n",
       "      <th>name</th>\n",
       "      <th>abv</th>\n",
       "      <th>ibu</th>\n",
       "      <th>target_fg</th>\n",
       "      <th>target_og</th>\n",
       "      <th>ebc</th>\n",
       "      <th>srm</th>\n",
       "      <th>ph</th>\n",
       "    </tr>\n",
       "  </thead>\n",
       "  <tbody>\n",
       "    <tr>\n",
       "      <th>16</th>\n",
       "      <td>AB:06</td>\n",
       "      <td>11.2</td>\n",
       "      <td>150.0</td>\n",
       "      <td>1013.0</td>\n",
       "      <td>1098.0</td>\n",
       "      <td>70.0</td>\n",
       "      <td>35.0</td>\n",
       "      <td>NaN</td>\n",
       "    </tr>\n",
       "  </tbody>\n",
       "</table>\n",
       "</div>"
      ],
      "text/plain": [
       "     name   abv    ibu  target_fg  target_og   ebc   srm  ph\n",
       "16  AB:06  11.2  150.0     1013.0     1098.0  70.0  35.0 NaN"
      ]
     },
     "execution_count": 15,
     "metadata": {},
     "output_type": "execute_result"
    }
   ],
   "source": [
    "df_beer[df_beer.ph.isnull()]"
   ]
  },
  {
   "cell_type": "markdown",
   "id": "41184f8c-ec6e-42f7-94c5-7b1a6e819df3",
   "metadata": {},
   "source": [
    "Também é uma cerveja experimental, vamos tirar."
   ]
  },
  {
   "cell_type": "code",
   "execution_count": 16,
   "id": "e9407607-b3df-4075-8e9b-fa5b45e0035f",
   "metadata": {},
   "outputs": [],
   "source": [
    "df_beer = df_beer[~df_beer.ph.isnull()].reset_index(drop=True)"
   ]
  },
  {
   "cell_type": "code",
   "execution_count": 17,
   "id": "f3a2ddf6-d6b0-4dd5-997f-198fc55e5a0b",
   "metadata": {},
   "outputs": [
    {
     "data": {
      "text/plain": [
       "name         0.0\n",
       "abv          0.0\n",
       "ibu          0.0\n",
       "target_fg    0.0\n",
       "target_og    0.0\n",
       "ebc          0.0\n",
       "srm          0.0\n",
       "ph           0.0\n",
       "dtype: float64"
      ]
     },
     "execution_count": 17,
     "metadata": {},
     "output_type": "execute_result"
    }
   ],
   "source": [
    "(df_beer.isnull().sum() / df_beer.shape[0]) * 100"
   ]
  },
  {
   "cell_type": "code",
   "execution_count": 18,
   "id": "d4e47102-70c2-4e11-81fa-82c30dbd1b33",
   "metadata": {},
   "outputs": [],
   "source": [
    "df_beer_without_null = df_beer.copy(deep=True)"
   ]
  },
  {
   "cell_type": "markdown",
   "id": "b6e2e5d6-82ff-4270-b17a-1e0062a63bb2",
   "metadata": {},
   "source": [
    "## Distribuição dos dados"
   ]
  },
  {
   "cell_type": "code",
   "execution_count": 19,
   "id": "4a521e57-de04-4d45-89df-ab76ed44dd53",
   "metadata": {},
   "outputs": [
    {
     "data": {
      "text/plain": [
       "<AxesSubplot:>"
      ]
     },
     "execution_count": 19,
     "metadata": {},
     "output_type": "execute_result"
    },
    {
     "data": {
      "image/png": "[encoded data removed]",
      "text/plain": [
       "<Figure size 432x288 with 1 Axes>"
      ]
     },
     "metadata": {
      "needs_background": "light"
     },
     "output_type": "display_data"
    }
   ],
   "source": [
    "sns.boxplot(data=df_beer_without_null.drop(columns=[\"name\"]))"
   ]
  },
  {
   "cell_type": "markdown",
   "id": "3c173abd-87ba-4922-a667-75dd59013b33",
   "metadata": {},
   "source": [
    "Temos valores bem anomalos em ibu, vamos checar."
   ]
  },
  {
   "cell_type": "markdown",
   "id": "d6c5ba5d-3af6-48ee-974d-1d90a3feffc7",
   "metadata": {},
   "source": [
    "### ibu"
   ]
  },
  {
   "cell_type": "code",
   "execution_count": 20,
   "id": "b4bc97f9-b8e4-4b74-8436-66f2db65babb",
   "metadata": {},
   "outputs": [
    {
     "data": {
      "text/plain": [
       "<AxesSubplot:>"
      ]
     },
     "execution_count": 20,
     "metadata": {},
     "output_type": "execute_result"
    },
    {
     "data": {
      "image/png": "[encoded data removed]",
      "text/plain": [
       "<Figure size 432x288 with 1 Axes>"
      ]
     },
     "metadata": {
      "needs_background": "light"
     },
     "output_type": "display_data"
    }
   ],
   "source": [
    "sns.boxplot(data=df_beer_without_null.ibu)"
   ]
  },
  {
   "cell_type": "code",
   "execution_count": 21,
   "id": "03b8ff2b-8acc-4720-914b-557a1f561cf5",
   "metadata": {},
   "outputs": [
    {
     "data": {
      "text/plain": [
       "name         Tactical Nuclear Penguin\n",
       "abv                              32.0\n",
       "ibu                            1157.0\n",
       "target_fg                      1028.0\n",
       "target_og                      1157.0\n",
       "ebc                             250.0\n",
       "srm                             127.0\n",
       "ph                                4.4\n",
       "Name: 177, dtype: object"
      ]
     },
     "execution_count": 21,
     "metadata": {},
     "output_type": "execute_result"
    }
   ],
   "source": [
    "df_beer_without_null.iloc[df_beer_without_null.ibu.idxmax(), :]"
   ]
  },
  {
   "cell_type": "code",
   "execution_count": 22,
   "id": "9573a7dc-d53a-4a23-862b-9ce21342cdff",
   "metadata": {},
   "outputs": [
    {
     "data": {
      "text/html": [
       "<div>\n",
       "<style scoped>\n",
       "    .dataframe tbody tr th:only-of-type {\n",
       "        vertical-align: middle;\n",
       "    }\n",
       "\n",
       "    .dataframe tbody tr th {\n",
       "        vertical-align: top;\n",
       "    }\n",
       "\n",
       "    .dataframe thead th {\n",
       "        text-align: right;\n",
       "    }\n",
       "</style>\n",
       "<table border=\"1\" class=\"dataframe\">\n",
       "  <thead>\n",
       "    <tr style=\"text-align: right;\">\n",
       "      <th></th>\n",
       "      <th>name</th>\n",
       "      <th>abv</th>\n",
       "      <th>ibu</th>\n",
       "      <th>target_fg</th>\n",
       "      <th>target_og</th>\n",
       "      <th>ebc</th>\n",
       "      <th>srm</th>\n",
       "      <th>ph</th>\n",
       "    </tr>\n",
       "  </thead>\n",
       "  <tbody>\n",
       "    <tr>\n",
       "      <th>131</th>\n",
       "      <td>Sink The Bismarck!</td>\n",
       "      <td>41.0</td>\n",
       "      <td>1085.0</td>\n",
       "      <td>1016.0</td>\n",
       "      <td>1085.0</td>\n",
       "      <td>40.0</td>\n",
       "      <td>20.0</td>\n",
       "      <td>4.4</td>\n",
       "    </tr>\n",
       "    <tr>\n",
       "      <th>177</th>\n",
       "      <td>Tactical Nuclear Penguin</td>\n",
       "      <td>32.0</td>\n",
       "      <td>1157.0</td>\n",
       "      <td>1028.0</td>\n",
       "      <td>1157.0</td>\n",
       "      <td>250.0</td>\n",
       "      <td>127.0</td>\n",
       "      <td>4.4</td>\n",
       "    </tr>\n",
       "  </tbody>\n",
       "</table>\n",
       "</div>"
      ],
      "text/plain": [
       "                         name   abv     ibu  target_fg  target_og    ebc  \\\n",
       "131        Sink The Bismarck!  41.0  1085.0     1016.0     1085.0   40.0   \n",
       "177  Tactical Nuclear Penguin  32.0  1157.0     1028.0     1157.0  250.0   \n",
       "\n",
       "       srm   ph  \n",
       "131   20.0  4.4  \n",
       "177  127.0  4.4  "
      ]
     },
     "execution_count": 22,
     "metadata": {},
     "output_type": "execute_result"
    }
   ],
   "source": [
    "df_beer_without_null[df_beer_without_null.ibu > 400]"
   ]
  },
  {
   "cell_type": "markdown",
   "id": "bd7ed1e9-88dc-44d9-8794-f1f00f71ede3",
   "metadata": {},
   "source": [
    "Pesquisando na internet, vi que essas não são cervejas comuns e que talvez possuam essa quantidade de IBU, mesmo sendo outliers elas são ocorrencias reais, e não erros, então vamos deixar."
   ]
  },
  {
   "cell_type": "markdown",
   "id": "1b16ab52-d312-4a5a-8685-c0297b758ebd",
   "metadata": {},
   "source": [
    "### ph"
   ]
  },
  {
   "cell_type": "code",
   "execution_count": 23,
   "id": "52c6316c-18f0-436f-b75b-06dce07c61ba",
   "metadata": {},
   "outputs": [
    {
     "data": {
      "text/plain": [
       "<AxesSubplot:>"
      ]
     },
     "execution_count": 23,
     "metadata": {},
     "output_type": "execute_result"
    },
    {
     "data": {
      "image/png": "[encoded data removed]",
      "text/plain": [
       "<Figure size 432x288 with 1 Axes>"
      ]
     },
     "metadata": {
      "needs_background": "light"
     },
     "output_type": "display_data"
    }
   ],
   "source": [
    "sns.boxplot(data=df_beer_without_null.ph)"
   ]
  },
  {
   "cell_type": "code",
   "execution_count": 24,
   "id": "23f43d83-cd03-4827-a467-2f2a907f3f7b",
   "metadata": {},
   "outputs": [
    {
     "data": {
      "text/html": [
       "<div>\n",
       "<style scoped>\n",
       "    .dataframe tbody tr th:only-of-type {\n",
       "        vertical-align: middle;\n",
       "    }\n",
       "\n",
       "    .dataframe tbody tr th {\n",
       "        vertical-align: top;\n",
       "    }\n",
       "\n",
       "    .dataframe thead th {\n",
       "        text-align: right;\n",
       "    }\n",
       "</style>\n",
       "<table border=\"1\" class=\"dataframe\">\n",
       "  <thead>\n",
       "    <tr style=\"text-align: right;\">\n",
       "      <th></th>\n",
       "      <th>name</th>\n",
       "      <th>abv</th>\n",
       "      <th>ibu</th>\n",
       "      <th>target_fg</th>\n",
       "      <th>target_og</th>\n",
       "      <th>ebc</th>\n",
       "      <th>srm</th>\n",
       "      <th>ph</th>\n",
       "    </tr>\n",
       "  </thead>\n",
       "  <tbody>\n",
       "    <tr>\n",
       "      <th>306</th>\n",
       "      <td>Al Adjore!</td>\n",
       "      <td>9.0</td>\n",
       "      <td>65.0</td>\n",
       "      <td>1018.0</td>\n",
       "      <td>1085.0</td>\n",
       "      <td>35.0</td>\n",
       "      <td>18.0</td>\n",
       "      <td>79.0</td>\n",
       "    </tr>\n",
       "  </tbody>\n",
       "</table>\n",
       "</div>"
      ],
      "text/plain": [
       "           name  abv   ibu  target_fg  target_og   ebc   srm    ph\n",
       "306  Al Adjore!  9.0  65.0     1018.0     1085.0  35.0  18.0  79.0"
      ]
     },
     "execution_count": 24,
     "metadata": {},
     "output_type": "execute_result"
    }
   ],
   "source": [
    "df_beer_without_null[df_beer_without_null.ph > 14]"
   ]
  },
  {
   "cell_type": "markdown",
   "id": "364df056-a38a-429d-bf46-ce1b564b0d26",
   "metadata": {},
   "source": [
    "pH é uma medida que varia de 0 a 14, sendo 79 um valor impossível. Como é somente um registro, vamos tirar."
   ]
  },
  {
   "cell_type": "code",
   "execution_count": 25,
   "id": "36cf2167-4b30-42d9-94a7-a7dff6647ab7",
   "metadata": {},
   "outputs": [],
   "source": [
    "df_beer_without_null = df_beer_without_null.query(\"ph < 15\").reset_index(drop=True)"
   ]
  },
  {
   "cell_type": "markdown",
   "id": "afa20d75-e48b-4906-94a8-d5ebc4b1273f",
   "metadata": {},
   "source": [
    "### ebc"
   ]
  },
  {
   "cell_type": "code",
   "execution_count": 26,
   "id": "b146e649-dcc8-456b-b800-ab5e0a5b5403",
   "metadata": {},
   "outputs": [
    {
     "data": {
      "text/plain": [
       "<AxesSubplot:>"
      ]
     },
     "execution_count": 26,
     "metadata": {},
     "output_type": "execute_result"
    },
    {
     "data": {
      "image/png": "[encoded data removed]",
      "text/plain": [
       "<Figure size 432x288 with 1 Axes>"
      ]
     },
     "metadata": {
      "needs_background": "light"
     },
     "output_type": "display_data"
    }
   ],
   "source": [
    "sns.boxplot(data=df_beer_without_null.ebc)"
   ]
  },
  {
   "cell_type": "code",
   "execution_count": 27,
   "id": "e0c188eb-4055-4293-a706-81ee28f7e4c8",
   "metadata": {},
   "outputs": [
    {
     "data": {
      "text/html": [
       "<div>\n",
       "<style scoped>\n",
       "    .dataframe tbody tr th:only-of-type {\n",
       "        vertical-align: middle;\n",
       "    }\n",
       "\n",
       "    .dataframe tbody tr th {\n",
       "        vertical-align: top;\n",
       "    }\n",
       "\n",
       "    .dataframe thead th {\n",
       "        text-align: right;\n",
       "    }\n",
       "</style>\n",
       "<table border=\"1\" class=\"dataframe\">\n",
       "  <thead>\n",
       "    <tr style=\"text-align: right;\">\n",
       "      <th></th>\n",
       "      <th>name</th>\n",
       "      <th>abv</th>\n",
       "      <th>ibu</th>\n",
       "      <th>target_fg</th>\n",
       "      <th>target_og</th>\n",
       "      <th>ebc</th>\n",
       "      <th>srm</th>\n",
       "      <th>ph</th>\n",
       "    </tr>\n",
       "  </thead>\n",
       "  <tbody>\n",
       "    <tr>\n",
       "      <th>75</th>\n",
       "      <td>AB:04</td>\n",
       "      <td>15.0</td>\n",
       "      <td>80.0</td>\n",
       "      <td>1018.0</td>\n",
       "      <td>1113.0</td>\n",
       "      <td>400.0</td>\n",
       "      <td>200.0</td>\n",
       "      <td>4.0</td>\n",
       "    </tr>\n",
       "    <tr>\n",
       "      <th>124</th>\n",
       "      <td>Hinterland</td>\n",
       "      <td>9.0</td>\n",
       "      <td>85.0</td>\n",
       "      <td>1025.0</td>\n",
       "      <td>1094.0</td>\n",
       "      <td>400.0</td>\n",
       "      <td>200.0</td>\n",
       "      <td>4.3</td>\n",
       "    </tr>\n",
       "    <tr>\n",
       "      <th>169</th>\n",
       "      <td>Dog D</td>\n",
       "      <td>16.1</td>\n",
       "      <td>85.0</td>\n",
       "      <td>1015.0</td>\n",
       "      <td>1125.0</td>\n",
       "      <td>400.0</td>\n",
       "      <td>200.0</td>\n",
       "      <td>4.3</td>\n",
       "    </tr>\n",
       "    <tr>\n",
       "      <th>208</th>\n",
       "      <td>Barrel Aged Hinterland</td>\n",
       "      <td>9.0</td>\n",
       "      <td>85.0</td>\n",
       "      <td>1025.0</td>\n",
       "      <td>1094.0</td>\n",
       "      <td>400.0</td>\n",
       "      <td>200.0</td>\n",
       "      <td>4.3</td>\n",
       "    </tr>\n",
       "    <tr>\n",
       "      <th>214</th>\n",
       "      <td>Dog E</td>\n",
       "      <td>16.1</td>\n",
       "      <td>100.0</td>\n",
       "      <td>1125.0</td>\n",
       "      <td>1015.0</td>\n",
       "      <td>500.0</td>\n",
       "      <td>254.0</td>\n",
       "      <td>4.4</td>\n",
       "    </tr>\n",
       "    <tr>\n",
       "      <th>282</th>\n",
       "      <td>I Wanna Be Your Dog</td>\n",
       "      <td>12.0</td>\n",
       "      <td>55.0</td>\n",
       "      <td>1035.0</td>\n",
       "      <td>1125.0</td>\n",
       "      <td>600.0</td>\n",
       "      <td>305.0</td>\n",
       "      <td>4.1</td>\n",
       "    </tr>\n",
       "    <tr>\n",
       "      <th>301</th>\n",
       "      <td>Dog G</td>\n",
       "      <td>17.0</td>\n",
       "      <td>100.0</td>\n",
       "      <td>1015.0</td>\n",
       "      <td>1125.0</td>\n",
       "      <td>500.0</td>\n",
       "      <td>254.0</td>\n",
       "      <td>4.4</td>\n",
       "    </tr>\n",
       "    <tr>\n",
       "      <th>302</th>\n",
       "      <td>Mallow Mafia</td>\n",
       "      <td>12.0</td>\n",
       "      <td>75.0</td>\n",
       "      <td>1025.0</td>\n",
       "      <td>1116.0</td>\n",
       "      <td>390.0</td>\n",
       "      <td>198.0</td>\n",
       "      <td>4.4</td>\n",
       "    </tr>\n",
       "  </tbody>\n",
       "</table>\n",
       "</div>"
      ],
      "text/plain": [
       "                       name   abv    ibu  target_fg  target_og    ebc    srm  \\\n",
       "75                    AB:04  15.0   80.0     1018.0     1113.0  400.0  200.0   \n",
       "124              Hinterland   9.0   85.0     1025.0     1094.0  400.0  200.0   \n",
       "169                   Dog D  16.1   85.0     1015.0     1125.0  400.0  200.0   \n",
       "208  Barrel Aged Hinterland   9.0   85.0     1025.0     1094.0  400.0  200.0   \n",
       "214                   Dog E  16.1  100.0     1125.0     1015.0  500.0  254.0   \n",
       "282     I Wanna Be Your Dog  12.0   55.0     1035.0     1125.0  600.0  305.0   \n",
       "301                   Dog G  17.0  100.0     1015.0     1125.0  500.0  254.0   \n",
       "302            Mallow Mafia  12.0   75.0     1025.0     1116.0  390.0  198.0   \n",
       "\n",
       "      ph  \n",
       "75   4.0  \n",
       "124  4.3  \n",
       "169  4.3  \n",
       "208  4.3  \n",
       "214  4.4  \n",
       "282  4.1  \n",
       "301  4.4  \n",
       "302  4.4  "
      ]
     },
     "execution_count": 27,
     "metadata": {},
     "output_type": "execute_result"
    }
   ],
   "source": [
    "df_beer_without_null.query(\"ebc > 300\")"
   ]
  },
  {
   "cell_type": "markdown",
   "id": "4dd243d5-7846-4cbc-a06f-10b5b7e9ccfb",
   "metadata": {},
   "source": [
    "Novamente, os valores de EBC mesmo sendo altos, são verdadeiros, vamos deixar. [Receitas](https://brewdogrecipes.com/recipes/barrel-aged-hinterland)"
   ]
  },
  {
   "cell_type": "markdown",
   "id": "4e413724-701a-4b28-be1b-bb4fadc6b619",
   "metadata": {},
   "source": [
    "## Correlação"
   ]
  },
  {
   "cell_type": "code",
   "execution_count": 28,
   "id": "0670080c-56e4-4e90-b664-99f72b89a1a3",
   "metadata": {},
   "outputs": [
    {
     "data": {
      "text/plain": [
       "Text(0.5, 1.0, 'Correlation Heatmap')"
      ]
     },
     "execution_count": 28,
     "metadata": {},
     "output_type": "execute_result"
    },
    {
     "data": {
      "image/png": "[encoded data removed]",
      "text/plain": [
       "<Figure size 1152x432 with 2 Axes>"
      ]
     },
     "metadata": {
      "needs_background": "light"
     },
     "output_type": "display_data"
    }
   ],
   "source": [
    "plt.figure(figsize=(16, 6))\n",
    "\n",
    "corr = df_beer_without_null.drop(columns=[\"name\"]).corr()\n",
    "mask = np.triu(np.ones_like(corr, dtype=bool))\n",
    "heatmap = sns.heatmap(\n",
    "    corr,\n",
    "    annot=True,\n",
    "    cmap=\"coolwarm\",\n",
    "    mask=mask,\n",
    "    vmax=0.3,\n",
    "    center=0,\n",
    "    square=True,\n",
    "    linewidths=0.5,\n",
    "    cbar_kws={\"shrink\": 0.5},\n",
    ")\n",
    "heatmap.set_title(\"Correlation Heatmap\", fontdict={\"fontsize\": 12}, pad=12)"
   ]
  },
  {
   "cell_type": "code",
   "execution_count": 29,
   "id": "05642f51-3cd8-4773-b068-30d11e357b12",
   "metadata": {},
   "outputs": [
    {
     "data": {
      "text/plain": [
       "<AxesSubplot:xlabel='ebc', ylabel='srm'>"
      ]
     },
     "execution_count": 29,
     "metadata": {},
     "output_type": "execute_result"
    },
    {
     "data": {
      "image/png": "[encoded data removed]",
      "text/plain": [
       "<Figure size 432x288 with 1 Axes>"
      ]
     },
     "metadata": {
      "needs_background": "light"
     },
     "output_type": "display_data"
    }
   ],
   "source": [
    "sns.regplot(x=\"ebc\", y=\"srm\", data=df_beer_without_null)"
   ]
  },
  {
   "cell_type": "markdown",
   "id": "b8e17016-7de6-46b4-9d38-87c2ac51c7ff",
   "metadata": {},
   "source": [
    "SRM e EBC são variaveis altamente correlacionas, se formos fazer um modelo de regressao precisamos tomar cuidado com elas."
   ]
  },
  {
   "cell_type": "code",
   "execution_count": 30,
   "id": "ff9b4be3-d934-4558-b4a3-715c5281b42e",
   "metadata": {},
   "outputs": [
    {
     "data": {
      "text/html": [
       "<div>\n",
       "<style scoped>\n",
       "    .dataframe tbody tr th:only-of-type {\n",
       "        vertical-align: middle;\n",
       "    }\n",
       "\n",
       "    .dataframe tbody tr th {\n",
       "        vertical-align: top;\n",
       "    }\n",
       "\n",
       "    .dataframe thead th {\n",
       "        text-align: right;\n",
       "    }\n",
       "</style>\n",
       "<table border=\"1\" class=\"dataframe\">\n",
       "  <thead>\n",
       "    <tr style=\"text-align: right;\">\n",
       "      <th></th>\n",
       "      <th>name</th>\n",
       "      <th>abv</th>\n",
       "      <th>ibu</th>\n",
       "      <th>target_fg</th>\n",
       "      <th>target_og</th>\n",
       "      <th>ebc</th>\n",
       "      <th>srm</th>\n",
       "      <th>ph</th>\n",
       "    </tr>\n",
       "  </thead>\n",
       "  <tbody>\n",
       "    <tr>\n",
       "      <th>131</th>\n",
       "      <td>Sink The Bismarck!</td>\n",
       "      <td>41.0</td>\n",
       "      <td>1085.0</td>\n",
       "      <td>1016.0</td>\n",
       "      <td>1085.0</td>\n",
       "      <td>40.0</td>\n",
       "      <td>20.0</td>\n",
       "      <td>4.4</td>\n",
       "    </tr>\n",
       "  </tbody>\n",
       "</table>\n",
       "</div>"
      ],
      "text/plain": [
       "                   name   abv     ibu  target_fg  target_og   ebc   srm   ph\n",
       "131  Sink The Bismarck!  41.0  1085.0     1016.0     1085.0  40.0  20.0  4.4"
      ]
     },
     "execution_count": 30,
     "metadata": {},
     "output_type": "execute_result"
    }
   ],
   "source": [
    "df_beer_without_null[df_beer_without_null.ibu == 1085.0]"
   ]
  },
  {
   "cell_type": "markdown",
   "id": "8f3966fe-d6bb-4ce0-ac92-80afbbbcfece",
   "metadata": {},
   "source": [
    "# Feature Engineering"
   ]
  },
  {
   "cell_type": "markdown",
   "id": "2227eb74-8350-43f6-96fb-9ce18c5c12b0",
   "metadata": {},
   "source": [
    "## Tipo"
   ]
  },
  {
   "cell_type": "markdown",
   "id": "f1b28355-b3a6-4478-8e2c-54419b67da93",
   "metadata": {},
   "source": [
    "As cervejas são divididas em dois grupos principais, Ales e Largers. Vamos tentar inferir os tipos pelos nomes das cervejas."
   ]
  },
  {
   "cell_type": "code",
   "execution_count": 31,
   "id": "4baab4af-1261-4218-893f-bc05cd144483",
   "metadata": {},
   "outputs": [],
   "source": [
    "def ale_or_pilsen(text):\n",
    "    if \"ale\" in text.lower():\n",
    "        return \"ale\"\n",
    "    elif \"lager\" in text.lower():\n",
    "        return \"lager\"\n",
    "    else:\n",
    "        return \"who_knows\""
   ]
  },
  {
   "cell_type": "code",
   "execution_count": 32,
   "id": "68386e86-9c5d-4e22-ae9b-963c01d3095d",
   "metadata": {},
   "outputs": [
    {
     "data": {
      "text/plain": [
       "who_knows    0.910828\n",
       "ale          0.060510\n",
       "lager        0.028662\n",
       "Name: name, dtype: float64"
      ]
     },
     "execution_count": 32,
     "metadata": {},
     "output_type": "execute_result"
    }
   ],
   "source": [
    "df_beer_without_null.name.apply(ale_or_pilsen).value_counts(normalize=True)"
   ]
  },
  {
   "cell_type": "code",
   "execution_count": 33,
   "id": "bf706490-2b71-496b-a1dc-e353247a76c4",
   "metadata": {},
   "outputs": [],
   "source": [
    "df_beer_without_null[\"type\"] = df_beer_without_null.name.apply(ale_or_pilsen)"
   ]
  },
  {
   "cell_type": "markdown",
   "id": "1c8b83ee-f0e8-499d-bde0-b0e5b9865aff",
   "metadata": {},
   "source": [
    "## Cor"
   ]
  },
  {
   "cell_type": "markdown",
   "id": "175c98a5-b107-4ea8-8bc9-45a5e7139bc2",
   "metadata": {},
   "source": [
    "Para modelos de arvore é sempre bom agruparmos nossos dados continuos, \n",
    "fazendo um tipo de feature engineering conhecido como bucket ou binagem. \n",
    "Faremos isso com as escalas de coloração SRM e EBC, como elas são correlacionadas,\n",
    "podemos usar qualquer uma para esse agrupamento.\n",
    "\n",
    "Iremos usar como base a seguinte imagem\n",
    "![lovibond](imagens/chart_beer_hues.jpg)\n",
    "\n",
    "Porém, esse diagrama usa uma terceira escala de color conhecida como lovibond, então precisamos converter a SRM ou a EBC para adequarmos ao diagrama.\n",
    "\n",
    "Procurando na internet, vi que a conversão segue a seguinte fórmula:  \n",
    "˚L = EBC/1.97"
   ]
  },
  {
   "cell_type": "code",
   "execution_count": 34,
   "id": "515e5c9a-5f3a-4c01-8c68-7b55c9db587f",
   "metadata": {},
   "outputs": [],
   "source": [
    "def ebc_to_group(ebc_color: float) -> str:\n",
    "    lovibond = ebc_color / 1.97\n",
    "    if lovibond <= 7.5:\n",
    "        return \"yellow\"\n",
    "    elif lovibond > 7.5 and lovibond <= 14:\n",
    "        return \"amber\"\n",
    "    elif lovibond > 14 and lovibond <= 25:\n",
    "        return \"brown\"\n",
    "    elif lovibond > 25:\n",
    "        return \"black\""
   ]
  },
  {
   "cell_type": "code",
   "execution_count": 35,
   "id": "b0c8fca2-2efb-48ad-bed4-5f03422a54b2",
   "metadata": {},
   "outputs": [
    {
     "data": {
      "text/plain": [
       "black     0.321656\n",
       "amber     0.315287\n",
       "yellow    0.181529\n",
       "brown     0.181529\n",
       "Name: ebc, dtype: float64"
      ]
     },
     "execution_count": 35,
     "metadata": {},
     "output_type": "execute_result"
    }
   ],
   "source": [
    "df_beer_without_null.ebc.apply(ebc_to_group).value_counts(normalize=True)"
   ]
  },
  {
   "cell_type": "code",
   "execution_count": 36,
   "id": "db815043-c9e0-4a18-9222-78ee3e055ed3",
   "metadata": {},
   "outputs": [],
   "source": [
    "df_beer_without_null[\"color_group\"] = df_beer_without_null.ebc.apply(ebc_to_group)"
   ]
  },
  {
   "cell_type": "code",
   "execution_count": 37,
   "id": "faf61e3c-768c-4f68-8856-157575c4d546",
   "metadata": {},
   "outputs": [
    {
     "data": {
      "text/html": [
       "<div>\n",
       "<style scoped>\n",
       "    .dataframe tbody tr th:only-of-type {\n",
       "        vertical-align: middle;\n",
       "    }\n",
       "\n",
       "    .dataframe tbody tr th {\n",
       "        vertical-align: top;\n",
       "    }\n",
       "\n",
       "    .dataframe thead th {\n",
       "        text-align: right;\n",
       "    }\n",
       "</style>\n",
       "<table border=\"1\" class=\"dataframe\">\n",
       "  <thead>\n",
       "    <tr style=\"text-align: right;\">\n",
       "      <th></th>\n",
       "      <th>name</th>\n",
       "      <th>abv</th>\n",
       "      <th>ibu</th>\n",
       "      <th>target_fg</th>\n",
       "      <th>target_og</th>\n",
       "      <th>ebc</th>\n",
       "      <th>srm</th>\n",
       "      <th>ph</th>\n",
       "      <th>type</th>\n",
       "      <th>color_group</th>\n",
       "    </tr>\n",
       "  </thead>\n",
       "  <tbody>\n",
       "    <tr>\n",
       "      <th>0</th>\n",
       "      <td>Buzz</td>\n",
       "      <td>4.5</td>\n",
       "      <td>60.0</td>\n",
       "      <td>1010.0</td>\n",
       "      <td>1044.0</td>\n",
       "      <td>20.0</td>\n",
       "      <td>10.0</td>\n",
       "      <td>4.4</td>\n",
       "      <td>who_knows</td>\n",
       "      <td>amber</td>\n",
       "    </tr>\n",
       "    <tr>\n",
       "      <th>1</th>\n",
       "      <td>Trashy Blonde</td>\n",
       "      <td>4.1</td>\n",
       "      <td>41.5</td>\n",
       "      <td>1010.0</td>\n",
       "      <td>1041.7</td>\n",
       "      <td>15.0</td>\n",
       "      <td>15.0</td>\n",
       "      <td>4.4</td>\n",
       "      <td>who_knows</td>\n",
       "      <td>amber</td>\n",
       "    </tr>\n",
       "    <tr>\n",
       "      <th>2</th>\n",
       "      <td>Berliner Weisse With Yuzu - B-Sides</td>\n",
       "      <td>4.2</td>\n",
       "      <td>8.0</td>\n",
       "      <td>1007.0</td>\n",
       "      <td>1040.0</td>\n",
       "      <td>8.0</td>\n",
       "      <td>4.0</td>\n",
       "      <td>3.2</td>\n",
       "      <td>who_knows</td>\n",
       "      <td>yellow</td>\n",
       "    </tr>\n",
       "    <tr>\n",
       "      <th>3</th>\n",
       "      <td>Pilsen Lager</td>\n",
       "      <td>6.3</td>\n",
       "      <td>55.0</td>\n",
       "      <td>1012.0</td>\n",
       "      <td>1060.0</td>\n",
       "      <td>30.0</td>\n",
       "      <td>15.0</td>\n",
       "      <td>4.4</td>\n",
       "      <td>lager</td>\n",
       "      <td>brown</td>\n",
       "    </tr>\n",
       "    <tr>\n",
       "      <th>4</th>\n",
       "      <td>Avery Brown Dredge</td>\n",
       "      <td>7.2</td>\n",
       "      <td>59.0</td>\n",
       "      <td>1027.0</td>\n",
       "      <td>1069.0</td>\n",
       "      <td>10.0</td>\n",
       "      <td>5.0</td>\n",
       "      <td>4.4</td>\n",
       "      <td>who_knows</td>\n",
       "      <td>yellow</td>\n",
       "    </tr>\n",
       "  </tbody>\n",
       "</table>\n",
       "</div>"
      ],
      "text/plain": [
       "                                  name  abv   ibu  target_fg  target_og   ebc  \\\n",
       "0                                 Buzz  4.5  60.0     1010.0     1044.0  20.0   \n",
       "1                        Trashy Blonde  4.1  41.5     1010.0     1041.7  15.0   \n",
       "2  Berliner Weisse With Yuzu - B-Sides  4.2   8.0     1007.0     1040.0   8.0   \n",
       "3                         Pilsen Lager  6.3  55.0     1012.0     1060.0  30.0   \n",
       "4                   Avery Brown Dredge  7.2  59.0     1027.0     1069.0  10.0   \n",
       "\n",
       "    srm   ph       type color_group  \n",
       "0  10.0  4.4  who_knows       amber  \n",
       "1  15.0  4.4  who_knows       amber  \n",
       "2   4.0  3.2  who_knows      yellow  \n",
       "3  15.0  4.4      lager       brown  \n",
       "4   5.0  4.4  who_knows      yellow  "
      ]
     },
     "execution_count": 37,
     "metadata": {},
     "output_type": "execute_result"
    }
   ],
   "source": [
    "df_beer_without_null.head()"
   ]
  },
  {
   "cell_type": "markdown",
   "id": "ecac4160-5bd0-4a5d-83a6-873cce14d621",
   "metadata": {},
   "source": [
    "## Acidez"
   ]
  },
  {
   "cell_type": "markdown",
   "id": "1d872c99-b63e-432d-9d65-f171a6da59af",
   "metadata": {},
   "source": [
    "Acidez da cerveja é um fator que influencia diretamente no amargor da cerveja, vamos fazer um agrupamento entre elas"
   ]
  },
  {
   "cell_type": "code",
   "execution_count": 38,
   "id": "bceae432-04c2-4119-ad34-670633bca1fa",
   "metadata": {},
   "outputs": [
    {
     "data": {
      "text/plain": [
       "4.4    189\n",
       "4.2     38\n",
       "5.2     28\n",
       "4.1     11\n",
       "4.3     11\n",
       "4.6      8\n",
       "3.2      6\n",
       "4.0      5\n",
       "5.3      4\n",
       "4.5      4\n",
       "5.1      4\n",
       "3.5      2\n",
       "3.8      2\n",
       "5.6      1\n",
       "3.6      1\n",
       "Name: ph, dtype: int64"
      ]
     },
     "execution_count": 38,
     "metadata": {},
     "output_type": "execute_result"
    }
   ],
   "source": [
    "df_beer_without_null.ph.value_counts()"
   ]
  },
  {
   "cell_type": "code",
   "execution_count": 39,
   "id": "f05ea16d-5769-4957-87ad-425cb59fe73e",
   "metadata": {},
   "outputs": [
    {
     "data": {
      "text/plain": [
       "(3.8, 4.4]      254\n",
       "(5.0, 5.6]       37\n",
       "(4.4, 5.0]       12\n",
       "(3.198, 3.8]     11\n",
       "Name: ph, dtype: int64"
      ]
     },
     "execution_count": 39,
     "metadata": {},
     "output_type": "execute_result"
    }
   ],
   "source": [
    "pd.cut(df_beer_without_null.ph, bins=4).value_counts()"
   ]
  },
  {
   "cell_type": "code",
   "execution_count": 40,
   "id": "15ee24ff-ce58-49c9-9296-a6e02489b71a",
   "metadata": {},
   "outputs": [],
   "source": [
    "df_beer_without_null[\"ph_group\"] = pd.cut(df_beer_without_null.ph, bins=4).apply(str)"
   ]
  },
  {
   "cell_type": "markdown",
   "id": "70df7684-7375-487f-a5de-bff9b7e7baba",
   "metadata": {},
   "source": [
    "# Model"
   ]
  },
  {
   "cell_type": "code",
   "execution_count": 41,
   "id": "65e1a462-7248-4cf0-9762-b959989956af",
   "metadata": {},
   "outputs": [],
   "source": [
    "import lightgbm as lgb\n",
    "from sklearn.model_selection import train_test_split, RandomizedSearchCV\n",
    "from sklearn.ensemble import RandomForestRegressor\n",
    "from sklearn.metrics import mean_absolute_error, mean_squared_error"
   ]
  },
  {
   "cell_type": "code",
   "execution_count": 42,
   "id": "83ee1f78-8a95-45f5-9ec8-05722f687649",
   "metadata": {},
   "outputs": [],
   "source": [
    "objects_columns = df_beer_without_null.select_dtypes(\"object\").columns"
   ]
  },
  {
   "cell_type": "code",
   "execution_count": 43,
   "id": "3187a4ab-0361-47dd-91fb-47689b65a726",
   "metadata": {},
   "outputs": [],
   "source": [
    "df_beer_without_null[objects_columns] = df_beer_without_null[objects_columns].astype(\n",
    "    \"category\"\n",
    ")"
   ]
  },
  {
   "cell_type": "code",
   "execution_count": 44,
   "id": "48c61cfb-dec6-4b06-811f-1373efbf424f",
   "metadata": {
    "tags": []
   },
   "outputs": [],
   "source": [
    "df_beer_without_null = df_beer_without_null.drop(columns=[\"name\"])"
   ]
  },
  {
   "cell_type": "code",
   "execution_count": 45,
   "id": "61524914-76b6-4192-9c79-00417d7b4a58",
   "metadata": {},
   "outputs": [],
   "source": [
    "df_beer_dummies = pd.get_dummies(\n",
    "    df_beer_without_null, columns=[\"type\", \"color_group\", \"ph_group\"]\n",
    ")"
   ]
  },
  {
   "cell_type": "code",
   "execution_count": 46,
   "id": "37d2c4cd-c07a-4702-bd75-dc8a8899d16f",
   "metadata": {},
   "outputs": [],
   "source": [
    "X_dummies = df_beer_dummies.drop(columns=[\"ibu\"])\n",
    "y_dummies = df_beer_dummies.ibu\n",
    "\n",
    "X = df_beer_without_null.drop(columns=[\"ibu\"])\n",
    "y = df_beer_without_null.ibu"
   ]
  },
  {
   "cell_type": "code",
   "execution_count": 47,
   "id": "1690ca17-cbc6-4a98-8615-927c2433b373",
   "metadata": {},
   "outputs": [],
   "source": [
    "X_train_dummies, X_test_dummies, y_train_dummies, y_test_dummies = train_test_split(\n",
    "    X_dummies,\n",
    "    y_dummies,\n",
    "    test_size=0.3,\n",
    "    random_state=42,\n",
    ")"
   ]
  },
  {
   "cell_type": "code",
   "execution_count": 48,
   "id": "ca72cf41-3340-4f7d-b18c-fc182eff57c1",
   "metadata": {},
   "outputs": [],
   "source": [
    "X_train, X_test, y_train, y_test = train_test_split(\n",
    "    X,\n",
    "    y,\n",
    "    test_size=0.3,\n",
    "    random_state=42,\n",
    ")"
   ]
  },
  {
   "cell_type": "markdown",
   "id": "a43b4bd4-f211-40d6-911e-7e643a810e77",
   "metadata": {},
   "source": [
    "## RandomForestRegressor"
   ]
  },
  {
   "cell_type": "code",
   "execution_count": 46,
   "id": "18eb7750-af5f-4c00-83e1-1c35e96305bb",
   "metadata": {},
   "outputs": [],
   "source": [
    "n_estimators = [int(x) for x in np.linspace(start=100, stop=1000, num=10)]\n",
    "max_features = [\"auto\", \"sqrt\"]\n",
    "max_depth = [int(x) for x in np.linspace(2, 20, num=12)]\n",
    "max_depth.append(None)\n",
    "min_samples_split = [2, 5, 10]\n",
    "min_samples_leaf = [1, 2, 4]\n",
    "bootstrap = [True, False]\n",
    "criterion = [\"mse\", \"mae\"]\n",
    "random_grid = {\n",
    "    \"n_estimators\": n_estimators,\n",
    "    \"max_features\": max_features,\n",
    "    \"max_depth\": max_depth,\n",
    "    \"min_samples_leaf\": min_samples_leaf,\n",
    "    \"bootstrap\": bootstrap,\n",
    "    \"criterion\": criterion,\n",
    "}"
   ]
  },
  {
   "cell_type": "code",
   "execution_count": 48,
   "id": "c60de9f2-1f4a-441c-8188-96d9bfd9daaa",
   "metadata": {},
   "outputs": [],
   "source": [
    "rf = RandomForestRegressor(random_state=42, n_jobs=-1, criterion='mse')"
   ]
  },
  {
   "cell_type": "code",
   "execution_count": 49,
   "id": "733c2b81-b614-4616-ba2e-41ab4f4c2942",
   "metadata": {},
   "outputs": [],
   "source": [
    "rf_random = RandomizedSearchCV(\n",
    "    estimator=rf,\n",
    "    param_distributions=random_grid,\n",
    "    n_iter=100,\n",
    "    cv=3,\n",
    "    verbose=1,\n",
    "    random_state=42,\n",
    "    n_jobs=-1,\n",
    ")"
   ]
  },
  {
   "cell_type": "code",
   "execution_count": 50,
   "id": "fede99a7-3914-4978-bd57-0974666fc65c",
   "metadata": {},
   "outputs": [
    {
     "name": "stdout",
     "output_type": "stream",
     "text": [
      "Fitting 3 folds for each of 100 candidates, totalling 300 fits\n"
     ]
    },
    {
     "data": {
      "text/plain": [
       "RandomizedSearchCV(cv=3,\n",
       "                   estimator=RandomForestRegressor(n_jobs=-1, random_state=42),\n",
       "                   n_iter=100, n_jobs=-1,\n",
       "                   param_distributions={'bootstrap': [True, False],\n",
       "                                        'criterion': ['mse', 'mae'],\n",
       "                                        'max_depth': [2, 3, 5, 6, 8, 10, 11, 13,\n",
       "                                                      15, 16, 18, 20, None],\n",
       "                                        'max_features': ['auto', 'sqrt'],\n",
       "                                        'min_samples_leaf': [1, 2, 4],\n",
       "                                        'n_estimators': [100, 200, 300, 400,\n",
       "                                                         500, 600, 700, 800,\n",
       "                                                         900, 1000]},\n",
       "                   random_state=42, verbose=1)"
      ]
     },
     "execution_count": 50,
     "metadata": {},
     "output_type": "execute_result"
    }
   ],
   "source": [
    "rf_random.fit(X_train_dummies, y_train_dummies)"
   ]
  },
  {
   "cell_type": "markdown",
   "id": "3326089e-763c-4eee-bb8d-31c0e75d6fb8",
   "metadata": {},
   "source": [
    "### Eval"
   ]
  },
  {
   "cell_type": "code",
   "execution_count": 51,
   "id": "93608b96-0b62-4bda-add2-ba98f5694704",
   "metadata": {},
   "outputs": [],
   "source": [
    "from sklearn.metrics import mean_squared_error, mean_absolute_error"
   ]
  },
  {
   "cell_type": "code",
   "execution_count": 52,
   "id": "862e8d76-9e1d-4a49-968c-d634b8739b28",
   "metadata": {},
   "outputs": [],
   "source": [
    "y_pred_forest = rf_random.predict(X_test_dummies)"
   ]
  },
  {
   "cell_type": "code",
   "execution_count": 53,
   "id": "b091bccc-634c-46fd-b771-8c40451a0b4a",
   "metadata": {},
   "outputs": [
    {
     "data": {
      "text/plain": [
       "116.80334825179006"
      ]
     },
     "execution_count": 53,
     "metadata": {},
     "output_type": "execute_result"
    }
   ],
   "source": [
    "mean_squared_error(y_test_dummies, y_pred_forest, squared=False)"
   ]
  },
  {
   "cell_type": "code",
   "execution_count": 54,
   "id": "5ecd34e0-e6ca-4305-a190-42bcdf59bdb6",
   "metadata": {},
   "outputs": [
    {
     "data": {
      "text/plain": [
       "31.58828195488722"
      ]
     },
     "execution_count": 54,
     "metadata": {},
     "output_type": "execute_result"
    }
   ],
   "source": [
    "mean_absolute_error(y_test_dummies, y_pred_forest)"
   ]
  },
  {
   "cell_type": "markdown",
   "id": "9126992e-80c4-464b-9271-8d38bbf71103",
   "metadata": {},
   "source": [
    "## Lightgbm"
   ]
  },
  {
   "cell_type": "markdown",
   "id": "aa61837f-b0cd-4564-9ee3-f1b66a86783a",
   "metadata": {},
   "source": [
    "### Naive"
   ]
  },
  {
   "cell_type": "code",
   "execution_count": 55,
   "id": "9722152b-3f34-4763-b06d-ef3bdd067285",
   "metadata": {},
   "outputs": [],
   "source": [
    "lgb_regressor = lgb.LGBMRegressor(\n",
    "    min_data=1, n_estimators=200, max_depth=30, silent=True\n",
    ")"
   ]
  },
  {
   "cell_type": "code",
   "execution_count": 56,
   "id": "3abf970d-5274-426c-99e8-c40a78ecfe1c",
   "metadata": {
    "scrolled": true,
    "tags": []
   },
   "outputs": [
    {
     "name": "stdout",
     "output_type": "stream",
     "text": [
      "[LightGBM] [Warning] min_data_in_leaf is set with min_data=1, min_child_samples=20 will be ignored. Current value: min_data_in_leaf=1\n",
      "/Users/gabrielsoares/Library/Caches/pypoetry/virtualenvs/case_picpay-GeTRvL1e-py3.8/lib/python3.8/site-packages/lightgbm/basic.py:1433: UserWarning: Overriding the parameters from Reference Dataset.\n",
      "  _log_warning('Overriding the parameters from Reference Dataset.')\n",
      "/Users/gabrielsoares/Library/Caches/pypoetry/virtualenvs/case_picpay-GeTRvL1e-py3.8/lib/python3.8/site-packages/lightgbm/basic.py:1245: UserWarning: categorical_column in param dict is overridden.\n",
      "  _log_warning('{} in param dict is overridden.'.format(cat_alias))\n",
      "[1]\tvalid_0's rmse: 110.8\tvalid_0's l2: 12276.7\n",
      "Training until validation scores don't improve for 300 rounds\n",
      "[2]\tvalid_0's rmse: 101.538\tvalid_0's l2: 10310\n",
      "[3]\tvalid_0's rmse: 93.3644\tvalid_0's l2: 8716.91\n",
      "[4]\tvalid_0's rmse: 86.2907\tvalid_0's l2: 7446.09\n",
      "[5]\tvalid_0's rmse: 79.6453\tvalid_0's l2: 6343.37\n",
      "[6]\tvalid_0's rmse: 74.0411\tvalid_0's l2: 5482.08\n",
      "[7]\tvalid_0's rmse: 68.9082\tvalid_0's l2: 4748.35\n",
      "[8]\tvalid_0's rmse: 64.4177\tvalid_0's l2: 4149.65\n",
      "[9]\tvalid_0's rmse: 60.5485\tvalid_0's l2: 3666.12\n",
      "[10]\tvalid_0's rmse: 56.8707\tvalid_0's l2: 3234.27\n",
      "[11]\tvalid_0's rmse: 53.9119\tvalid_0's l2: 2906.5\n",
      "[12]\tvalid_0's rmse: 51.3646\tvalid_0's l2: 2638.32\n",
      "[13]\tvalid_0's rmse: 48.8764\tvalid_0's l2: 2388.9\n",
      "[14]\tvalid_0's rmse: 46.7245\tvalid_0's l2: 2183.18\n",
      "[15]\tvalid_0's rmse: 45.0969\tvalid_0's l2: 2033.73\n",
      "[16]\tvalid_0's rmse: 43.8022\tvalid_0's l2: 1918.64\n",
      "[17]\tvalid_0's rmse: 42.6322\tvalid_0's l2: 1817.5\n",
      "[18]\tvalid_0's rmse: 41.5939\tvalid_0's l2: 1730.05\n",
      "[19]\tvalid_0's rmse: 40.6566\tvalid_0's l2: 1652.96\n",
      "[20]\tvalid_0's rmse: 39.8746\tvalid_0's l2: 1589.98\n",
      "[21]\tvalid_0's rmse: 39.136\tvalid_0's l2: 1531.63\n",
      "[22]\tvalid_0's rmse: 38.5797\tvalid_0's l2: 1488.4\n",
      "[23]\tvalid_0's rmse: 38.0903\tvalid_0's l2: 1450.87\n",
      "[24]\tvalid_0's rmse: 37.7\tvalid_0's l2: 1421.29\n",
      "[25]\tvalid_0's rmse: 37.2076\tvalid_0's l2: 1384.41\n",
      "[26]\tvalid_0's rmse: 36.8863\tvalid_0's l2: 1360.6\n",
      "[27]\tvalid_0's rmse: 36.6634\tvalid_0's l2: 1344.2\n",
      "[28]\tvalid_0's rmse: 36.3075\tvalid_0's l2: 1318.23\n",
      "[29]\tvalid_0's rmse: 36.1112\tvalid_0's l2: 1304.02\n",
      "[30]\tvalid_0's rmse: 35.9881\tvalid_0's l2: 1295.15\n",
      "[31]\tvalid_0's rmse: 35.8991\tvalid_0's l2: 1288.75\n",
      "[32]\tvalid_0's rmse: 35.5912\tvalid_0's l2: 1266.73\n",
      "[33]\tvalid_0's rmse: 35.4763\tvalid_0's l2: 1258.57\n",
      "[34]\tvalid_0's rmse: 35.291\tvalid_0's l2: 1245.45\n",
      "[35]\tvalid_0's rmse: 35.1215\tvalid_0's l2: 1233.52\n",
      "[36]\tvalid_0's rmse: 35.0367\tvalid_0's l2: 1227.57\n",
      "[37]\tvalid_0's rmse: 34.9788\tvalid_0's l2: 1223.51\n",
      "[38]\tvalid_0's rmse: 34.9486\tvalid_0's l2: 1221.4\n",
      "[39]\tvalid_0's rmse: 34.9052\tvalid_0's l2: 1218.37\n",
      "[40]\tvalid_0's rmse: 34.8293\tvalid_0's l2: 1213.08\n",
      "[41]\tvalid_0's rmse: 34.7838\tvalid_0's l2: 1209.91\n",
      "[42]\tvalid_0's rmse: 34.7747\tvalid_0's l2: 1209.28\n",
      "[43]\tvalid_0's rmse: 34.7229\tvalid_0's l2: 1205.68\n",
      "[44]\tvalid_0's rmse: 34.6903\tvalid_0's l2: 1203.41\n",
      "[45]\tvalid_0's rmse: 34.6498\tvalid_0's l2: 1200.61\n",
      "[46]\tvalid_0's rmse: 34.6303\tvalid_0's l2: 1199.26\n",
      "[47]\tvalid_0's rmse: 34.5841\tvalid_0's l2: 1196.06\n",
      "[48]\tvalid_0's rmse: 34.539\tvalid_0's l2: 1192.94\n",
      "[49]\tvalid_0's rmse: 34.5383\tvalid_0's l2: 1192.89\n",
      "[50]\tvalid_0's rmse: 34.5223\tvalid_0's l2: 1191.79\n",
      "[51]\tvalid_0's rmse: 34.4919\tvalid_0's l2: 1189.69\n",
      "[52]\tvalid_0's rmse: 34.4952\tvalid_0's l2: 1189.92\n",
      "[53]\tvalid_0's rmse: 34.4628\tvalid_0's l2: 1187.68\n",
      "[54]\tvalid_0's rmse: 34.4569\tvalid_0's l2: 1187.27\n",
      "[55]\tvalid_0's rmse: 34.4923\tvalid_0's l2: 1189.72\n",
      "[56]\tvalid_0's rmse: 34.4593\tvalid_0's l2: 1187.45\n",
      "[57]\tvalid_0's rmse: 34.4348\tvalid_0's l2: 1185.75\n",
      "[58]\tvalid_0's rmse: 34.4341\tvalid_0's l2: 1185.71\n",
      "[59]\tvalid_0's rmse: 34.418\tvalid_0's l2: 1184.6\n",
      "[60]\tvalid_0's rmse: 34.4102\tvalid_0's l2: 1184.06\n",
      "[61]\tvalid_0's rmse: 34.4047\tvalid_0's l2: 1183.68\n",
      "[62]\tvalid_0's rmse: 34.3886\tvalid_0's l2: 1182.57\n",
      "[63]\tvalid_0's rmse: 34.4036\tvalid_0's l2: 1183.61\n",
      "[64]\tvalid_0's rmse: 34.3902\tvalid_0's l2: 1182.68\n",
      "[65]\tvalid_0's rmse: 34.3913\tvalid_0's l2: 1182.76\n",
      "[66]\tvalid_0's rmse: 34.3881\tvalid_0's l2: 1182.54\n",
      "[67]\tvalid_0's rmse: 34.3852\tvalid_0's l2: 1182.34\n",
      "[68]\tvalid_0's rmse: 34.3701\tvalid_0's l2: 1181.3\n",
      "[69]\tvalid_0's rmse: 34.3613\tvalid_0's l2: 1180.7\n",
      "[70]\tvalid_0's rmse: 34.3337\tvalid_0's l2: 1178.8\n",
      "[71]\tvalid_0's rmse: 34.3191\tvalid_0's l2: 1177.8\n",
      "[72]\tvalid_0's rmse: 34.321\tvalid_0's l2: 1177.93\n",
      "[73]\tvalid_0's rmse: 34.3165\tvalid_0's l2: 1177.62\n",
      "[74]\tvalid_0's rmse: 34.3185\tvalid_0's l2: 1177.76\n",
      "[75]\tvalid_0's rmse: 34.3262\tvalid_0's l2: 1178.29\n",
      "[76]\tvalid_0's rmse: 34.3201\tvalid_0's l2: 1177.87\n",
      "[77]\tvalid_0's rmse: 34.3122\tvalid_0's l2: 1177.33\n",
      "[78]\tvalid_0's rmse: 34.3062\tvalid_0's l2: 1176.91\n",
      "[79]\tvalid_0's rmse: 34.31\tvalid_0's l2: 1177.18\n",
      "[80]\tvalid_0's rmse: 34.3115\tvalid_0's l2: 1177.28\n",
      "[81]\tvalid_0's rmse: 34.305\tvalid_0's l2: 1176.84\n",
      "[82]\tvalid_0's rmse: 34.3086\tvalid_0's l2: 1177.08\n",
      "[83]\tvalid_0's rmse: 34.3047\tvalid_0's l2: 1176.81\n",
      "[84]\tvalid_0's rmse: 34.2952\tvalid_0's l2: 1176.16\n",
      "[85]\tvalid_0's rmse: 34.2976\tvalid_0's l2: 1176.32\n",
      "[86]\tvalid_0's rmse: 34.2945\tvalid_0's l2: 1176.11\n",
      "[87]\tvalid_0's rmse: 34.2977\tvalid_0's l2: 1176.33\n",
      "[88]\tvalid_0's rmse: 34.2998\tvalid_0's l2: 1176.48\n",
      "[89]\tvalid_0's rmse: 34.3004\tvalid_0's l2: 1176.52\n",
      "[90]\tvalid_0's rmse: 34.3014\tvalid_0's l2: 1176.59\n",
      "[91]\tvalid_0's rmse: 34.2954\tvalid_0's l2: 1176.18\n",
      "[92]\tvalid_0's rmse: 34.2974\tvalid_0's l2: 1176.31\n",
      "[93]\tvalid_0's rmse: 34.3001\tvalid_0's l2: 1176.5\n",
      "[94]\tvalid_0's rmse: 34.2977\tvalid_0's l2: 1176.33\n",
      "[95]\tvalid_0's rmse: 34.3095\tvalid_0's l2: 1177.14\n",
      "[96]\tvalid_0's rmse: 34.3075\tvalid_0's l2: 1177.01\n",
      "[97]\tvalid_0's rmse: 34.3033\tvalid_0's l2: 1176.72\n",
      "[98]\tvalid_0's rmse: 34.2899\tvalid_0's l2: 1175.8\n",
      "[99]\tvalid_0's rmse: 34.2835\tvalid_0's l2: 1175.36\n",
      "[100]\tvalid_0's rmse: 34.2907\tvalid_0's l2: 1175.85\n",
      "[101]\tvalid_0's rmse: 34.2932\tvalid_0's l2: 1176.03\n",
      "[102]\tvalid_0's rmse: 34.29\tvalid_0's l2: 1175.8\n",
      "[103]\tvalid_0's rmse: 34.2875\tvalid_0's l2: 1175.63\n",
      "[104]\tvalid_0's rmse: 34.2905\tvalid_0's l2: 1175.84\n",
      "[105]\tvalid_0's rmse: 34.2829\tvalid_0's l2: 1175.32\n",
      "[106]\tvalid_0's rmse: 34.2845\tvalid_0's l2: 1175.43\n",
      "[107]\tvalid_0's rmse: 34.2935\tvalid_0's l2: 1176.05\n",
      "[108]\tvalid_0's rmse: 34.2912\tvalid_0's l2: 1175.89\n",
      "[109]\tvalid_0's rmse: 34.2799\tvalid_0's l2: 1175.11\n",
      "[110]\tvalid_0's rmse: 34.2829\tvalid_0's l2: 1175.32\n",
      "[111]\tvalid_0's rmse: 34.2823\tvalid_0's l2: 1175.28\n",
      "[112]\tvalid_0's rmse: 34.2839\tvalid_0's l2: 1175.38\n",
      "[113]\tvalid_0's rmse: 34.2822\tvalid_0's l2: 1175.27\n",
      "[114]\tvalid_0's rmse: 34.2916\tvalid_0's l2: 1175.91\n",
      "[115]\tvalid_0's rmse: 34.2942\tvalid_0's l2: 1176.09\n",
      "[116]\tvalid_0's rmse: 34.2949\tvalid_0's l2: 1176.14\n",
      "[117]\tvalid_0's rmse: 34.2953\tvalid_0's l2: 1176.17\n",
      "[118]\tvalid_0's rmse: 34.2925\tvalid_0's l2: 1175.98\n",
      "[119]\tvalid_0's rmse: 34.2942\tvalid_0's l2: 1176.09\n",
      "[120]\tvalid_0's rmse: 34.2951\tvalid_0's l2: 1176.15\n",
      "[121]\tvalid_0's rmse: 34.2946\tvalid_0's l2: 1176.12\n",
      "[122]\tvalid_0's rmse: 34.2984\tvalid_0's l2: 1176.38\n",
      "[123]\tvalid_0's rmse: 34.3032\tvalid_0's l2: 1176.71\n",
      "[124]\tvalid_0's rmse: 34.3036\tvalid_0's l2: 1176.74\n",
      "[125]\tvalid_0's rmse: 34.3046\tvalid_0's l2: 1176.81\n",
      "[126]\tvalid_0's rmse: 34.3074\tvalid_0's l2: 1177\n",
      "[127]\tvalid_0's rmse: 34.3064\tvalid_0's l2: 1176.93\n",
      "[128]\tvalid_0's rmse: 34.311\tvalid_0's l2: 1177.24\n",
      "[129]\tvalid_0's rmse: 34.3105\tvalid_0's l2: 1177.21\n",
      "[130]\tvalid_0's rmse: 34.3104\tvalid_0's l2: 1177.2\n",
      "[131]\tvalid_0's rmse: 34.3077\tvalid_0's l2: 1177.02\n",
      "[132]\tvalid_0's rmse: 34.3093\tvalid_0's l2: 1177.13\n",
      "[133]\tvalid_0's rmse: 34.3079\tvalid_0's l2: 1177.03\n",
      "[134]\tvalid_0's rmse: 34.3065\tvalid_0's l2: 1176.94\n",
      "[135]\tvalid_0's rmse: 34.3049\tvalid_0's l2: 1176.83\n",
      "[136]\tvalid_0's rmse: 34.3012\tvalid_0's l2: 1176.57\n",
      "[137]\tvalid_0's rmse: 34.2996\tvalid_0's l2: 1176.46\n",
      "[138]\tvalid_0's rmse: 34.2939\tvalid_0's l2: 1176.07\n",
      "[139]\tvalid_0's rmse: 34.294\tvalid_0's l2: 1176.08\n",
      "[140]\tvalid_0's rmse: 34.2939\tvalid_0's l2: 1176.07\n",
      "[141]\tvalid_0's rmse: 34.2922\tvalid_0's l2: 1175.95\n",
      "[142]\tvalid_0's rmse: 34.2922\tvalid_0's l2: 1175.95\n",
      "[143]\tvalid_0's rmse: 34.2938\tvalid_0's l2: 1176.06\n",
      "[144]\tvalid_0's rmse: 34.2914\tvalid_0's l2: 1175.9\n",
      "[145]\tvalid_0's rmse: 34.2914\tvalid_0's l2: 1175.9\n",
      "[146]\tvalid_0's rmse: 34.2911\tvalid_0's l2: 1175.88\n",
      "[147]\tvalid_0's rmse: 34.292\tvalid_0's l2: 1175.94\n",
      "[148]\tvalid_0's rmse: 34.2922\tvalid_0's l2: 1175.95\n",
      "[149]\tvalid_0's rmse: 34.2921\tvalid_0's l2: 1175.95\n",
      "[150]\tvalid_0's rmse: 34.2927\tvalid_0's l2: 1175.99\n",
      "[151]\tvalid_0's rmse: 34.2926\tvalid_0's l2: 1175.98\n",
      "[152]\tvalid_0's rmse: 34.291\tvalid_0's l2: 1175.87\n",
      "[153]\tvalid_0's rmse: 34.2909\tvalid_0's l2: 1175.86\n",
      "[154]\tvalid_0's rmse: 34.2921\tvalid_0's l2: 1175.95\n",
      "[155]\tvalid_0's rmse: 34.2924\tvalid_0's l2: 1175.97\n",
      "[156]\tvalid_0's rmse: 34.2944\tvalid_0's l2: 1176.11\n",
      "[157]\tvalid_0's rmse: 34.2944\tvalid_0's l2: 1176.1\n",
      "[158]\tvalid_0's rmse: 34.2941\tvalid_0's l2: 1176.09\n",
      "[159]\tvalid_0's rmse: 34.2938\tvalid_0's l2: 1176.06\n",
      "[160]\tvalid_0's rmse: 34.2932\tvalid_0's l2: 1176.03\n",
      "[161]\tvalid_0's rmse: 34.2938\tvalid_0's l2: 1176.07\n",
      "[162]\tvalid_0's rmse: 34.2956\tvalid_0's l2: 1176.19\n",
      "[163]\tvalid_0's rmse: 34.2949\tvalid_0's l2: 1176.14\n",
      "[164]\tvalid_0's rmse: 34.2947\tvalid_0's l2: 1176.13\n",
      "[165]\tvalid_0's rmse: 34.2945\tvalid_0's l2: 1176.11\n",
      "[166]\tvalid_0's rmse: 34.2944\tvalid_0's l2: 1176.11\n",
      "[167]\tvalid_0's rmse: 34.2928\tvalid_0's l2: 1176\n",
      "[168]\tvalid_0's rmse: 34.2929\tvalid_0's l2: 1176\n",
      "[169]\tvalid_0's rmse: 34.2936\tvalid_0's l2: 1176.05\n",
      "[170]\tvalid_0's rmse: 34.2923\tvalid_0's l2: 1175.96\n",
      "[171]\tvalid_0's rmse: 34.2913\tvalid_0's l2: 1175.89\n",
      "[172]\tvalid_0's rmse: 34.2904\tvalid_0's l2: 1175.83\n",
      "[173]\tvalid_0's rmse: 34.2901\tvalid_0's l2: 1175.81\n",
      "[174]\tvalid_0's rmse: 34.2895\tvalid_0's l2: 1175.77\n",
      "[175]\tvalid_0's rmse: 34.2902\tvalid_0's l2: 1175.82\n",
      "[176]\tvalid_0's rmse: 34.2902\tvalid_0's l2: 1175.82\n",
      "[177]\tvalid_0's rmse: 34.2909\tvalid_0's l2: 1175.86\n",
      "[178]\tvalid_0's rmse: 34.2894\tvalid_0's l2: 1175.76\n",
      "[179]\tvalid_0's rmse: 34.2894\tvalid_0's l2: 1175.76\n",
      "[180]\tvalid_0's rmse: 34.2898\tvalid_0's l2: 1175.79\n",
      "[181]\tvalid_0's rmse: 34.289\tvalid_0's l2: 1175.74\n",
      "[182]\tvalid_0's rmse: 34.2883\tvalid_0's l2: 1175.69\n",
      "[183]\tvalid_0's rmse: 34.2887\tvalid_0's l2: 1175.72\n",
      "[184]\tvalid_0's rmse: 34.2881\tvalid_0's l2: 1175.67\n",
      "[185]\tvalid_0's rmse: 34.2873\tvalid_0's l2: 1175.62\n",
      "[186]\tvalid_0's rmse: 34.2876\tvalid_0's l2: 1175.64\n",
      "[187]\tvalid_0's rmse: 34.2869\tvalid_0's l2: 1175.59\n",
      "[188]\tvalid_0's rmse: 34.2867\tvalid_0's l2: 1175.58\n",
      "[189]\tvalid_0's rmse: 34.2859\tvalid_0's l2: 1175.53\n",
      "[190]\tvalid_0's rmse: 34.2863\tvalid_0's l2: 1175.55\n",
      "[191]\tvalid_0's rmse: 34.2864\tvalid_0's l2: 1175.56\n",
      "[192]\tvalid_0's rmse: 34.2869\tvalid_0's l2: 1175.59\n",
      "[193]\tvalid_0's rmse: 34.2865\tvalid_0's l2: 1175.56\n",
      "[194]\tvalid_0's rmse: 34.2863\tvalid_0's l2: 1175.55\n",
      "[195]\tvalid_0's rmse: 34.2863\tvalid_0's l2: 1175.55\n",
      "[196]\tvalid_0's rmse: 34.2858\tvalid_0's l2: 1175.52\n",
      "[197]\tvalid_0's rmse: 34.286\tvalid_0's l2: 1175.53\n",
      "[198]\tvalid_0's rmse: 34.2866\tvalid_0's l2: 1175.57\n",
      "[199]\tvalid_0's rmse: 34.2866\tvalid_0's l2: 1175.57\n",
      "[200]\tvalid_0's rmse: 34.2863\tvalid_0's l2: 1175.55\n",
      "Did not meet early stopping. Best iteration is:\n",
      "[109]\tvalid_0's rmse: 34.2799\tvalid_0's l2: 1175.11\n"
     ]
    },
    {
     "data": {
      "text/plain": [
       "LGBMRegressor(max_depth=30, min_data=1, n_estimators=200)"
      ]
     },
     "execution_count": 56,
     "metadata": {},
     "output_type": "execute_result"
    }
   ],
   "source": [
    "lgb_regressor.fit(\n",
    "    X_train,\n",
    "    y_train,\n",
    "    eval_metric=\"rmse\",\n",
    "    eval_set=(X_test, y_test),\n",
    "    early_stopping_rounds=300,\n",
    ")"
   ]
  },
  {
   "cell_type": "code",
   "execution_count": 48,
   "id": "ff96e43a-4e2c-49bf-b2dc-563a73682c94",
   "metadata": {},
   "outputs": [],
   "source": [
    "y_pred_naive_lgb = lgb_regressor.predict(X_test)"
   ]
  },
  {
   "cell_type": "code",
   "execution_count": 59,
   "id": "0fe85b6b-ca07-4058-abda-e7d16d82a8b4",
   "metadata": {},
   "outputs": [
    {
     "data": {
      "text/plain": [
       "34.27989021388441"
      ]
     },
     "execution_count": 59,
     "metadata": {},
     "output_type": "execute_result"
    }
   ],
   "source": [
    "mean_squared_error(y_test, y_pred_naive_lgb, squared=False)"
   ]
  },
  {
   "cell_type": "code",
   "execution_count": 49,
   "id": "eba833b7-ee4c-41e3-b3c7-c713986954ea",
   "metadata": {},
   "outputs": [
    {
     "data": {
      "text/plain": [
       "19.306900546007892"
      ]
     },
     "execution_count": 49,
     "metadata": {},
     "output_type": "execute_result"
    }
   ],
   "source": [
    "mean_absolute_error(y_test, y_pred_naive_lgb)"
   ]
  },
  {
   "cell_type": "markdown",
   "id": "9723004b-aa64-422a-9266-db75d735bf04",
   "metadata": {},
   "source": [
    "### Tunning"
   ]
  },
  {
   "cell_type": "code",
   "execution_count": 49,
   "id": "93168c3b-0cc0-4b67-83f3-6de3fab60d33",
   "metadata": {},
   "outputs": [],
   "source": [
    "from scipy.stats import randint, uniform"
   ]
  },
  {
   "cell_type": "code",
   "execution_count": 50,
   "id": "2926a5cd-e4ee-4a8d-a67f-253da48bfcb4",
   "metadata": {},
   "outputs": [],
   "source": [
    "grid_params = {\n",
    "    \"colsample_bytree\": 1.0,\n",
    "    \"importance_type\": [\"gain\", \"split\"],\n",
    "    \"max_depth\": [5, 10, 20, 30, 40],\n",
    "    \"min_child_samples\": [10, 20, 30, 40],\n",
    "    \"min_child_weight\": [0.001],\n",
    "    \"min_split_gain\": [0.001],\n",
    "    \"n_estimators\": [100, 200, 300, 400, 500],\n",
    "    \"num_leaves\": [20, 30, 40],\n",
    "    \"random_state\": [42],\n",
    "    \"reg_alpha\": [0.01],\n",
    "    \"reg_lambda\": [0.01],\n",
    "    \"subsample\": [0.1, 0.2, 0.5, 1.0],\n",
    "    \"subsample_for_bin\": [5000, 10000, 200000],\n",
    "    \"subsample_freq\": [0, 1],\n",
    "    \"num_leaves\": randint(6, 50),\n",
    "    \"min_data\": [1, 2, 4, 8, 10],\n",
    "    \"learning_rate\": [0.9],\n",
    "    \"min_child_samples\": randint(10, 500),\n",
    "    \"boosting_type\": [\"gbdt\"],\n",
    "    \"subsample\": uniform(loc=0.2, scale=0.8),\n",
    "    \"colsample_bytree\": uniform(loc=0.4, scale=0.6),\n",
    "    \"bagging_fraction\": [0.2, 0.4, 0.6, 0.8],\n",
    "}"
   ]
  },
  {
   "cell_type": "code",
   "execution_count": 51,
   "id": "035b69f9-b826-471f-821f-babd518b062c",
   "metadata": {},
   "outputs": [],
   "source": [
    "lgb_regressor = lgb.LGBMRegressor(objective=\"regression\", silent=True)"
   ]
  },
  {
   "cell_type": "code",
   "execution_count": 52,
   "id": "42fd283c-7871-482c-9855-d3b88b353149",
   "metadata": {},
   "outputs": [],
   "source": [
    "model = RandomizedSearchCV(\n",
    "    estimator=lgb_regressor,\n",
    "    param_distributions=grid_params,\n",
    "    n_iter=200,\n",
    "    scoring=\"neg_root_mean_squared_error\",\n",
    "    cv=3,\n",
    "    n_jobs=-1,\n",
    "    refit=True,\n",
    "    random_state=42,\n",
    "    verbose=True,\n",
    ")"
   ]
  },
  {
   "cell_type": "code",
   "execution_count": 53,
   "id": "0f68d3d5-9e1d-4898-8e69-da64786590c8",
   "metadata": {
    "scrolled": true,
    "tags": []
   },
   "outputs": [
    {
     "name": "stdout",
     "output_type": "stream",
     "text": [
      "Fitting 3 folds for each of 200 candidates, totalling 600 fits\n",
      "[LightGBM] [Warning] min_data_in_leaf is set with min_data=1, min_child_samples=196 will be ignored. Current value: min_data_in_leaf=1\n",
      "[LightGBM] [Warning] bagging_fraction is set=0.2, subsample=0.5288296106545851 will be ignored. Current value: bagging_fraction=0.2\n",
      "[1]\tvalid_0's rmse: 40.9911\tvalid_0's l2: 1680.27\n",
      "Training until validation scores don't improve for 300 rounds\n",
      "[2]\tvalid_0's rmse: 38.0889\tvalid_0's l2: 1450.77\n",
      "[3]\tvalid_0's rmse: 37.3576\tvalid_0's l2: 1395.59\n",
      "[4]\tvalid_0's rmse: 37.6849\tvalid_0's l2: 1420.15\n",
      "[5]\tvalid_0's rmse: 38.1462\tvalid_0's l2: 1455.14\n",
      "[6]\tvalid_0's rmse: 37.9016\tvalid_0's l2: 1436.53\n",
      "[7]\tvalid_0's rmse: 37.6636\tvalid_0's l2: 1418.55\n",
      "[8]\tvalid_0's rmse: 37.6128\tvalid_0's l2: 1414.72\n",
      "[9]\tvalid_0's rmse: 37.1308\tvalid_0's l2: 1378.69\n",
      "[10]\tvalid_0's rmse: 36.5637\tvalid_0's l2: 1336.91\n",
      "[11]\tvalid_0's rmse: 36.5495\tvalid_0's l2: 1335.87\n",
      "[12]\tvalid_0's rmse: 35.8377\tvalid_0's l2: 1284.34\n",
      "[13]\tvalid_0's rmse: 35.2846\tvalid_0's l2: 1245\n",
      "[14]\tvalid_0's rmse: 35.2532\tvalid_0's l2: 1242.79\n",
      "[15]\tvalid_0's rmse: 35.1765\tvalid_0's l2: 1237.39\n",
      "[16]\tvalid_0's rmse: 35.2558\tvalid_0's l2: 1242.97\n",
      "[17]\tvalid_0's rmse: 34.9422\tvalid_0's l2: 1220.96\n",
      "[18]\tvalid_0's rmse: 35.1464\tvalid_0's l2: 1235.27\n",
      "[19]\tvalid_0's rmse: 35.5751\tvalid_0's l2: 1265.59\n",
      "[20]\tvalid_0's rmse: 35.6741\tvalid_0's l2: 1272.64\n",
      "[21]\tvalid_0's rmse: 35.7327\tvalid_0's l2: 1276.83\n",
      "[22]\tvalid_0's rmse: 35.7938\tvalid_0's l2: 1281.2\n",
      "[23]\tvalid_0's rmse: 35.6492\tvalid_0's l2: 1270.86\n",
      "[24]\tvalid_0's rmse: 35.519\tvalid_0's l2: 1261.6\n",
      "[25]\tvalid_0's rmse: 34.5086\tvalid_0's l2: 1190.84\n",
      "[26]\tvalid_0's rmse: 34.5429\tvalid_0's l2: 1193.21\n",
      "[27]\tvalid_0's rmse: 33.5827\tvalid_0's l2: 1127.8\n",
      "[28]\tvalid_0's rmse: 33.2095\tvalid_0's l2: 1102.87\n",
      "[29]\tvalid_0's rmse: 32.7812\tvalid_0's l2: 1074.6\n",
      "[30]\tvalid_0's rmse: 33.1195\tvalid_0's l2: 1096.9\n",
      "[31]\tvalid_0's rmse: 33.1422\tvalid_0's l2: 1098.4\n",
      "[32]\tvalid_0's rmse: 32.9271\tvalid_0's l2: 1084.19\n",
      "[33]\tvalid_0's rmse: 32.9264\tvalid_0's l2: 1084.15\n",
      "[34]\tvalid_0's rmse: 33.025\tvalid_0's l2: 1090.65\n",
      "[35]\tvalid_0's rmse: 33.0245\tvalid_0's l2: 1090.62\n",
      "[36]\tvalid_0's rmse: 33.3104\tvalid_0's l2: 1109.58\n",
      "[37]\tvalid_0's rmse: 33.2519\tvalid_0's l2: 1105.69\n",
      "[38]\tvalid_0's rmse: 33.1548\tvalid_0's l2: 1099.24\n",
      "[39]\tvalid_0's rmse: 33.0144\tvalid_0's l2: 1089.95\n",
      "[40]\tvalid_0's rmse: 32.9563\tvalid_0's l2: 1086.12\n",
      "[41]\tvalid_0's rmse: 32.9151\tvalid_0's l2: 1083.4\n",
      "[42]\tvalid_0's rmse: 32.8726\tvalid_0's l2: 1080.61\n",
      "[43]\tvalid_0's rmse: 32.9405\tvalid_0's l2: 1085.08\n",
      "[44]\tvalid_0's rmse: 32.9689\tvalid_0's l2: 1086.95\n",
      "[45]\tvalid_0's rmse: 32.946\tvalid_0's l2: 1085.44\n",
      "[46]\tvalid_0's rmse: 32.7298\tvalid_0's l2: 1071.24\n",
      "[47]\tvalid_0's rmse: 32.7809\tvalid_0's l2: 1074.59\n",
      "[48]\tvalid_0's rmse: 32.6932\tvalid_0's l2: 1068.84\n",
      "[49]\tvalid_0's rmse: 32.7141\tvalid_0's l2: 1070.21\n",
      "[50]\tvalid_0's rmse: 32.6604\tvalid_0's l2: 1066.7\n",
      "[51]\tvalid_0's rmse: 32.6887\tvalid_0's l2: 1068.55\n",
      "[52]\tvalid_0's rmse: 32.7061\tvalid_0's l2: 1069.69\n",
      "[53]\tvalid_0's rmse: 32.7786\tvalid_0's l2: 1074.43\n",
      "[54]\tvalid_0's rmse: 32.9032\tvalid_0's l2: 1082.62\n",
      "[55]\tvalid_0's rmse: 32.9025\tvalid_0's l2: 1082.57\n",
      "[56]\tvalid_0's rmse: 32.8509\tvalid_0's l2: 1079.18\n",
      "[57]\tvalid_0's rmse: 32.7902\tvalid_0's l2: 1075.2\n",
      "[58]\tvalid_0's rmse: 32.8175\tvalid_0's l2: 1076.99\n",
      "[59]\tvalid_0's rmse: 32.7283\tvalid_0's l2: 1071.14\n",
      "[60]\tvalid_0's rmse: 32.734\tvalid_0's l2: 1071.52\n",
      "[61]\tvalid_0's rmse: 32.7245\tvalid_0's l2: 1070.89\n",
      "[62]\tvalid_0's rmse: 32.7528\tvalid_0's l2: 1072.74\n",
      "[63]\tvalid_0's rmse: 32.7661\tvalid_0's l2: 1073.62\n",
      "[64]\tvalid_0's rmse: 32.6952\tvalid_0's l2: 1068.98\n",
      "[65]\tvalid_0's rmse: 32.7453\tvalid_0's l2: 1072.25\n",
      "[66]\tvalid_0's rmse: 32.7404\tvalid_0's l2: 1071.94\n",
      "[67]\tvalid_0's rmse: 32.7446\tvalid_0's l2: 1072.21\n",
      "[68]\tvalid_0's rmse: 32.7691\tvalid_0's l2: 1073.81\n",
      "[69]\tvalid_0's rmse: 32.7821\tvalid_0's l2: 1074.67\n",
      "[70]\tvalid_0's rmse: 32.7859\tvalid_0's l2: 1074.91\n",
      "[71]\tvalid_0's rmse: 32.7739\tvalid_0's l2: 1074.13\n",
      "[72]\tvalid_0's rmse: 32.7317\tvalid_0's l2: 1071.36\n",
      "[73]\tvalid_0's rmse: 32.7732\tvalid_0's l2: 1074.08\n",
      "[74]\tvalid_0's rmse: 32.7945\tvalid_0's l2: 1075.48\n"
     ]
    },
    {
     "name": "stderr",
     "output_type": "stream",
     "text": [
      "/Library/Frameworks/Python.framework/Versions/3.8/lib/python3.8/site-packages/lightgbm/basic.py:1433: UserWarning: Overriding the parameters from Reference Dataset.\n",
      "  _log_warning('Overriding the parameters from Reference Dataset.')\n",
      "/Library/Frameworks/Python.framework/Versions/3.8/lib/python3.8/site-packages/lightgbm/basic.py:1245: UserWarning: categorical_column in param dict is overridden.\n",
      "  _log_warning('{} in param dict is overridden.'.format(cat_alias))\n"
     ]
    },
    {
     "name": "stdout",
     "output_type": "stream",
     "text": [
      "[75]\tvalid_0's rmse: 32.7677\tvalid_0's l2: 1073.72\n",
      "[76]\tvalid_0's rmse: 32.7609\tvalid_0's l2: 1073.28\n",
      "[77]\tvalid_0's rmse: 32.7672\tvalid_0's l2: 1073.69\n",
      "[78]\tvalid_0's rmse: 32.7805\tvalid_0's l2: 1074.56\n",
      "[79]\tvalid_0's rmse: 32.7974\tvalid_0's l2: 1075.67\n",
      "[80]\tvalid_0's rmse: 32.7958\tvalid_0's l2: 1075.57\n",
      "[81]\tvalid_0's rmse: 32.7959\tvalid_0's l2: 1075.57\n",
      "[82]\tvalid_0's rmse: 32.8155\tvalid_0's l2: 1076.86\n",
      "[83]\tvalid_0's rmse: 32.8349\tvalid_0's l2: 1078.13\n",
      "[84]\tvalid_0's rmse: 32.8308\tvalid_0's l2: 1077.86\n",
      "[85]\tvalid_0's rmse: 32.8267\tvalid_0's l2: 1077.59\n",
      "[86]\tvalid_0's rmse: 32.8067\tvalid_0's l2: 1076.28\n",
      "[87]\tvalid_0's rmse: 32.816\tvalid_0's l2: 1076.89\n",
      "[88]\tvalid_0's rmse: 32.824\tvalid_0's l2: 1077.41\n",
      "[89]\tvalid_0's rmse: 32.8278\tvalid_0's l2: 1077.67\n",
      "[90]\tvalid_0's rmse: 32.8215\tvalid_0's l2: 1077.25\n",
      "[91]\tvalid_0's rmse: 32.8319\tvalid_0's l2: 1077.93\n",
      "[92]\tvalid_0's rmse: 32.8353\tvalid_0's l2: 1078.15\n",
      "[93]\tvalid_0's rmse: 32.8377\tvalid_0's l2: 1078.32\n",
      "[94]\tvalid_0's rmse: 32.8431\tvalid_0's l2: 1078.67\n",
      "[95]\tvalid_0's rmse: 32.8243\tvalid_0's l2: 1077.43\n",
      "[96]\tvalid_0's rmse: 32.8339\tvalid_0's l2: 1078.07\n",
      "[97]\tvalid_0's rmse: 32.827\tvalid_0's l2: 1077.61\n",
      "[98]\tvalid_0's rmse: 32.8298\tvalid_0's l2: 1077.8\n",
      "[99]\tvalid_0's rmse: 32.8333\tvalid_0's l2: 1078.03\n",
      "[100]\tvalid_0's rmse: 32.835\tvalid_0's l2: 1078.13\n",
      "[101]\tvalid_0's rmse: 32.8436\tvalid_0's l2: 1078.7\n",
      "[102]\tvalid_0's rmse: 32.8402\tvalid_0's l2: 1078.48\n",
      "[103]\tvalid_0's rmse: 32.8448\tvalid_0's l2: 1078.78\n",
      "[104]\tvalid_0's rmse: 32.8457\tvalid_0's l2: 1078.84\n",
      "[105]\tvalid_0's rmse: 32.844\tvalid_0's l2: 1078.73\n",
      "[106]\tvalid_0's rmse: 32.8331\tvalid_0's l2: 1078.01\n",
      "[107]\tvalid_0's rmse: 32.8322\tvalid_0's l2: 1077.95\n",
      "[108]\tvalid_0's rmse: 32.8412\tvalid_0's l2: 1078.54\n",
      "[109]\tvalid_0's rmse: 32.843\tvalid_0's l2: 1078.66\n",
      "[110]\tvalid_0's rmse: 32.8452\tvalid_0's l2: 1078.81\n",
      "[111]\tvalid_0's rmse: 32.8492\tvalid_0's l2: 1079.07\n",
      "[112]\tvalid_0's rmse: 32.8534\tvalid_0's l2: 1079.35\n",
      "[113]\tvalid_0's rmse: 32.8533\tvalid_0's l2: 1079.34\n",
      "[114]\tvalid_0's rmse: 32.8484\tvalid_0's l2: 1079.02\n",
      "[115]\tvalid_0's rmse: 32.8497\tvalid_0's l2: 1079.1\n",
      "[116]\tvalid_0's rmse: 32.8506\tvalid_0's l2: 1079.16\n",
      "[117]\tvalid_0's rmse: 32.856\tvalid_0's l2: 1079.52\n",
      "[118]\tvalid_0's rmse: 32.8557\tvalid_0's l2: 1079.5\n",
      "[119]\tvalid_0's rmse: 32.8525\tvalid_0's l2: 1079.29\n",
      "[120]\tvalid_0's rmse: 32.8503\tvalid_0's l2: 1079.14\n",
      "[121]\tvalid_0's rmse: 32.8442\tvalid_0's l2: 1078.74\n",
      "[122]\tvalid_0's rmse: 32.8456\tvalid_0's l2: 1078.83\n",
      "[123]\tvalid_0's rmse: 32.8516\tvalid_0's l2: 1079.23\n",
      "[124]\tvalid_0's rmse: 32.8548\tvalid_0's l2: 1079.44\n",
      "[125]\tvalid_0's rmse: 32.8546\tvalid_0's l2: 1079.42\n",
      "[126]\tvalid_0's rmse: 32.8563\tvalid_0's l2: 1079.54\n",
      "[127]\tvalid_0's rmse: 32.8619\tvalid_0's l2: 1079.9\n",
      "[128]\tvalid_0's rmse: 32.8614\tvalid_0's l2: 1079.87\n",
      "[129]\tvalid_0's rmse: 32.864\tvalid_0's l2: 1080.04\n",
      "[130]\tvalid_0's rmse: 32.865\tvalid_0's l2: 1080.11\n",
      "[131]\tvalid_0's rmse: 32.8644\tvalid_0's l2: 1080.07\n",
      "[132]\tvalid_0's rmse: 32.8651\tvalid_0's l2: 1080.12\n",
      "[133]\tvalid_0's rmse: 32.8652\tvalid_0's l2: 1080.12\n",
      "[134]\tvalid_0's rmse: 32.8644\tvalid_0's l2: 1080.07\n",
      "[135]\tvalid_0's rmse: 32.8633\tvalid_0's l2: 1080\n",
      "[136]\tvalid_0's rmse: 32.8644\tvalid_0's l2: 1080.07\n",
      "[137]\tvalid_0's rmse: 32.8672\tvalid_0's l2: 1080.25\n",
      "[138]\tvalid_0's rmse: 32.8674\tvalid_0's l2: 1080.26\n",
      "[139]\tvalid_0's rmse: 32.871\tvalid_0's l2: 1080.5\n",
      "[140]\tvalid_0's rmse: 32.8731\tvalid_0's l2: 1080.64\n",
      "[141]\tvalid_0's rmse: 32.8734\tvalid_0's l2: 1080.66\n",
      "[142]\tvalid_0's rmse: 32.8722\tvalid_0's l2: 1080.58\n",
      "[143]\tvalid_0's rmse: 32.8712\tvalid_0's l2: 1080.51\n",
      "[144]\tvalid_0's rmse: 32.8726\tvalid_0's l2: 1080.61\n",
      "[145]\tvalid_0's rmse: 32.8731\tvalid_0's l2: 1080.64\n",
      "[146]\tvalid_0's rmse: 32.8737\tvalid_0's l2: 1080.68\n",
      "[147]\tvalid_0's rmse: 32.8734\tvalid_0's l2: 1080.66\n",
      "[148]\tvalid_0's rmse: 32.8706\tvalid_0's l2: 1080.48\n",
      "[149]\tvalid_0's rmse: 32.8708\tvalid_0's l2: 1080.49\n",
      "[150]\tvalid_0's rmse: 32.8683\tvalid_0's l2: 1080.33\n",
      "[151]\tvalid_0's rmse: 32.8668\tvalid_0's l2: 1080.23\n",
      "[152]\tvalid_0's rmse: 32.8673\tvalid_0's l2: 1080.26\n",
      "[153]\tvalid_0's rmse: 32.8687\tvalid_0's l2: 1080.35\n",
      "[154]\tvalid_0's rmse: 32.8712\tvalid_0's l2: 1080.52\n",
      "[155]\tvalid_0's rmse: 32.8711\tvalid_0's l2: 1080.51\n",
      "[156]\tvalid_0's rmse: 32.8711\tvalid_0's l2: 1080.51\n",
      "[157]\tvalid_0's rmse: 32.8692\tvalid_0's l2: 1080.39\n",
      "[158]\tvalid_0's rmse: 32.8693\tvalid_0's l2: 1080.39\n",
      "[159]\tvalid_0's rmse: 32.8695\tvalid_0's l2: 1080.4\n",
      "[160]\tvalid_0's rmse: 32.872\tvalid_0's l2: 1080.57\n",
      "[161]\tvalid_0's rmse: 32.8735\tvalid_0's l2: 1080.67\n",
      "[162]\tvalid_0's rmse: 32.8734\tvalid_0's l2: 1080.66\n",
      "[163]\tvalid_0's rmse: 32.8725\tvalid_0's l2: 1080.6\n",
      "[164]\tvalid_0's rmse: 32.8727\tvalid_0's l2: 1080.62\n",
      "[165]\tvalid_0's rmse: 32.8731\tvalid_0's l2: 1080.64\n",
      "[166]\tvalid_0's rmse: 32.8731\tvalid_0's l2: 1080.64\n",
      "[167]\tvalid_0's rmse: 32.8723\tvalid_0's l2: 1080.59\n",
      "[168]\tvalid_0's rmse: 32.8723\tvalid_0's l2: 1080.59\n",
      "[169]\tvalid_0's rmse: 32.8723\tvalid_0's l2: 1080.59\n",
      "[170]\tvalid_0's rmse: 32.8723\tvalid_0's l2: 1080.59\n",
      "[171]\tvalid_0's rmse: 32.8723\tvalid_0's l2: 1080.59\n",
      "[172]\tvalid_0's rmse: 32.8723\tvalid_0's l2: 1080.59\n",
      "[173]\tvalid_0's rmse: 32.8723\tvalid_0's l2: 1080.59\n",
      "[174]\tvalid_0's rmse: 32.8723\tvalid_0's l2: 1080.59\n",
      "[175]\tvalid_0's rmse: 32.8723\tvalid_0's l2: 1080.59\n",
      "[176]\tvalid_0's rmse: 32.8723\tvalid_0's l2: 1080.59\n",
      "[177]\tvalid_0's rmse: 32.8723\tvalid_0's l2: 1080.59\n",
      "[178]\tvalid_0's rmse: 32.8723\tvalid_0's l2: 1080.59\n",
      "[179]\tvalid_0's rmse: 32.8723\tvalid_0's l2: 1080.59\n",
      "[180]\tvalid_0's rmse: 32.8723\tvalid_0's l2: 1080.59\n",
      "[181]\tvalid_0's rmse: 32.8723\tvalid_0's l2: 1080.59\n",
      "[182]\tvalid_0's rmse: 32.8723\tvalid_0's l2: 1080.59\n",
      "[183]\tvalid_0's rmse: 32.8723\tvalid_0's l2: 1080.59\n",
      "[184]\tvalid_0's rmse: 32.8723\tvalid_0's l2: 1080.59\n",
      "[185]\tvalid_0's rmse: 32.8723\tvalid_0's l2: 1080.59\n",
      "[186]\tvalid_0's rmse: 32.8723\tvalid_0's l2: 1080.59\n",
      "[187]\tvalid_0's rmse: 32.8723\tvalid_0's l2: 1080.59\n",
      "[188]\tvalid_0's rmse: 32.8723\tvalid_0's l2: 1080.59\n",
      "[189]\tvalid_0's rmse: 32.8723\tvalid_0's l2: 1080.59\n",
      "[190]\tvalid_0's rmse: 32.8723\tvalid_0's l2: 1080.59\n",
      "[191]\tvalid_0's rmse: 32.8723\tvalid_0's l2: 1080.59\n",
      "[192]\tvalid_0's rmse: 32.8723\tvalid_0's l2: 1080.59\n",
      "[193]\tvalid_0's rmse: 32.8723\tvalid_0's l2: 1080.59\n",
      "[194]\tvalid_0's rmse: 32.8723\tvalid_0's l2: 1080.59\n",
      "[195]\tvalid_0's rmse: 32.8723\tvalid_0's l2: 1080.59\n",
      "[196]\tvalid_0's rmse: 32.8723\tvalid_0's l2: 1080.59\n",
      "[197]\tvalid_0's rmse: 32.8723\tvalid_0's l2: 1080.59\n",
      "[198]\tvalid_0's rmse: 32.8723\tvalid_0's l2: 1080.59\n",
      "[199]\tvalid_0's rmse: 32.8723\tvalid_0's l2: 1080.59\n",
      "[200]\tvalid_0's rmse: 32.8723\tvalid_0's l2: 1080.59\n",
      "Did not meet early stopping. Best iteration is:\n",
      "[50]\tvalid_0's rmse: 32.6604\tvalid_0's l2: 1066.7\n"
     ]
    },
    {
     "data": {
      "text/plain": [
       "RandomizedSearchCV(cv=3, estimator=LGBMRegressor(objective='regression'),\n",
       "                   n_iter=200, n_jobs=-1,\n",
       "                   param_distributions={'bagging_fraction': [0.2, 0.4, 0.6,\n",
       "                                                             0.8],\n",
       "                                        'boosting_type': ['gbdt'],\n",
       "                                        'colsample_bytree': <scipy.stats._distn_infrastructure.rv_frozen object at 0x11c4e76a0>,\n",
       "                                        'importance_type': ['gain', 'split'],\n",
       "                                        'learning_rate': [0.9],\n",
       "                                        'max_depth': [5, 10, 20, 30, 40],\n",
       "                                        'min_...\n",
       "                                                         500],\n",
       "                                        'num_leaves': <scipy.stats._distn_infrastructure.rv_frozen object at 0x11c509a60>,\n",
       "                                        'random_state': [42],\n",
       "                                        'reg_alpha': [0.01],\n",
       "                                        'reg_lambda': [0.01],\n",
       "                                        'subsample': <scipy.stats._distn_infrastructure.rv_frozen object at 0x11c509610>,\n",
       "                                        'subsample_for_bin': [5000, 10000,\n",
       "                                                              200000],\n",
       "                                        'subsample_freq': [0, 1]},\n",
       "                   random_state=42, scoring='neg_root_mean_squared_error',\n",
       "                   verbose=True)"
      ]
     },
     "execution_count": 53,
     "metadata": {},
     "output_type": "execute_result"
    }
   ],
   "source": [
    "model.fit(\n",
    "    X_train,\n",
    "    y_train,\n",
    "    eval_metric=\"rmse\",\n",
    "    eval_set=(X_test, y_test),\n",
    "    early_stopping_rounds=300,\n",
    ")"
   ]
  },
  {
   "cell_type": "code",
   "execution_count": 54,
   "id": "537fd437-0c08-4451-9d94-b56a57cd94e7",
   "metadata": {},
   "outputs": [],
   "source": [
    "y_pred_tunning_lgb = model.predict(X_test)"
   ]
  },
  {
   "cell_type": "code",
   "execution_count": 55,
   "id": "125bad5b-35a6-426f-a93b-28783eb9a4dd",
   "metadata": {},
   "outputs": [
    {
     "data": {
      "text/plain": [
       "32.660389025192465"
      ]
     },
     "execution_count": 55,
     "metadata": {},
     "output_type": "execute_result"
    }
   ],
   "source": [
    "mean_squared_error(y_test, y_pred_tunning_lgb, squared=False)"
   ]
  },
  {
   "cell_type": "code",
   "execution_count": 56,
   "id": "97b885d4-fcb0-40b0-965e-b108ffaa5ef2",
   "metadata": {},
   "outputs": [
    {
     "data": {
      "text/plain": [
       "20.521925111729125"
      ]
     },
     "execution_count": 56,
     "metadata": {},
     "output_type": "execute_result"
    }
   ],
   "source": [
    "mean_absolute_error(y_test, y_pred_tunning_lgb)"
   ]
  },
  {
   "cell_type": "markdown",
   "id": "adf7726a-08c6-4eed-b1fd-748c3bb2bca1",
   "metadata": {},
   "source": [
    "## Compare"
   ]
  },
  {
   "cell_type": "code",
   "execution_count": 69,
   "id": "d81d6c08-dc1c-4231-bbaf-b04e092e96bc",
   "metadata": {},
   "outputs": [
    {
     "name": "stdout",
     "output_type": "stream",
     "text": [
      "RandomForest\n",
      "RMSE=116.80334825179006\n",
      "MAE=31.58828195488722\n",
      "\n",
      "LightgbmNaive\n",
      "RMSE=34.27989021388441\n",
      "MAE=19.306900546007892\n",
      "\n",
      "LightgbmRegressor\n",
      "RMSE=32.660389025192465\n",
      "MAE=20.521925111729125\n",
      "\n"
     ]
    }
   ],
   "source": [
    "print(\n",
    "    f\"RandomForest\\nRMSE={mean_squared_error(y_test, y_pred_forest, squared=False)}\\nMAE={mean_absolute_error(y_test, y_pred_forest)}\\n\"\n",
    ")\n",
    "print(\n",
    "    f\"LightgbmNaive\\nRMSE={mean_squared_error(y_test, y_pred_naive_lgb, squared=False)}\\nMAE={mean_absolute_error(y_test, y_pred_naive_lgb)}\\n\"\n",
    ")\n",
    "print(\n",
    "    f\"LightgbmRegressor\\nRMSE={mean_squared_error(y_test, y_pred_tunning_lgb, squared=False)}\\nMAE={mean_absolute_error(y_test, y_pred_tunning_lgb)}\\n\"\n",
    ")"
   ]
  },
  {
   "cell_type": "markdown",
   "id": "c5d5fc4a-600b-46a8-89a6-ff9cc4ad952a",
   "metadata": {},
   "source": [
    "**Naive e Tunning Lightgbm tiveram métricas muito próximas, entretando o RMSE do Tunning está melhor. Vamos usalo.**"
   ]
  },
  {
   "cell_type": "markdown",
   "id": "aa710c6e",
   "metadata": {},
   "source": [
    "# Produtização"
   ]
  },
  {
   "cell_type": "code",
   "execution_count": 57,
   "id": "e74ac0c4",
   "metadata": {},
   "outputs": [
    {
     "name": "stdout",
     "output_type": "stream",
     "text": [
      "[2021-06-24 11:09:46,848] WARNING - `pip_dependencies` parameter in `@env` is being deprecated soon, use `pip_packages` instead, e.g. `@env(pip_packages=[\"numpy\"])`\n"
     ]
    }
   ],
   "source": [
    "import os\n",
    "from server.model_server import BeerPredictionService"
   ]
  },
  {
   "cell_type": "code",
   "execution_count": 58,
   "id": "611f2eb9",
   "metadata": {},
   "outputs": [
    {
     "name": "stdout",
     "output_type": "stream",
     "text": [
      "[2021-06-24 11:09:52,848] WARNING - pip package requirement pandas already exist\n"
     ]
    },
    {
     "data": {
      "text/plain": [
       "<server.model_server.BeerPredictionService at 0x11ed830d0>"
      ]
     },
     "execution_count": 58,
     "metadata": {},
     "output_type": "execute_result"
    }
   ],
   "source": [
    "bento_service = BeerPredictionService()\n",
    "bento_service.pack(\"model\", model)"
   ]
  },
  {
   "cell_type": "code",
   "execution_count": 59,
   "id": "f1374473",
   "metadata": {},
   "outputs": [],
   "source": [
    "os.environ[\"BENTOML_HOME\"] = f\"{os.getcwd()}/bentoml\""
   ]
  },
  {
   "cell_type": "code",
   "execution_count": 61,
   "id": "0be6fefc-e63a-4dfd-b20d-5a6ea509d759",
   "metadata": {},
   "outputs": [
    {
     "data": {
      "text/plain": [
       "'/Users/gabrielsoares/Documents/Code/Case PicPay/model/bentoml'"
      ]
     },
     "execution_count": 61,
     "metadata": {},
     "output_type": "execute_result"
    }
   ],
   "source": [
    "f\"{os.getcwd()}/bentoml\""
   ]
  },
  {
   "cell_type": "code",
   "execution_count": 63,
   "id": "27ae09d1",
   "metadata": {},
   "outputs": [
    {
     "name": "stdout",
     "output_type": "stream",
     "text": [
      "[2021-06-24 11:23:18,563] WARNING - Resetting BentoService 'BeerPredictionService' version from 20210624112317_8FF6D4 to v1\n",
      "[2021-06-24 11:23:20,343] INFO - BentoService bundle 'BeerPredictionService:v1' saved to: /Users/gabrielsoares/Documents/Code/Case PicPay/model/bentoml/repository/BeerPredictionService/v1\n"
     ]
    },
    {
     "data": {
      "text/plain": [
       "'/Users/gabrielsoares/Documents/Code/Case PicPay/model/bentoml/repository/BeerPredictionService/v1'"
      ]
     },
     "execution_count": 63,
     "metadata": {},
     "output_type": "execute_result"
    }
   ],
   "source": [
    "bento_service.save(version=\"v1\")"
   ]
  },
  {
   "cell_type": "code",
   "execution_count": null,
   "id": "bc7a0de3-09c5-4875-9a71-f848e2ddfcf0",
   "metadata": {},
   "outputs": [],
   "source": []
  }
 ],
 "metadata": {
  "interpreter": {
   "hash": "853a2b7ef0c40ff47d8df57729c28f9c3f6cd5aee1c757e491db4d7519452609"
  },
  "kernelspec": {
   "display_name": "Python 3",
   "language": "python",
   "name": "python3"
  },
  "language_info": {
   "codemirror_mode": {
    "name": "ipython",
    "version": 3
   },
   "file_extension": ".py",
   "mimetype": "text/x-python",
   "name": "python",
   "nbconvert_exporter": "python",
   "pygments_lexer": "ipython3",
   "version": "3.8.10"
  }
 },
 "nbformat": 4,
 "nbformat_minor": 5
}
