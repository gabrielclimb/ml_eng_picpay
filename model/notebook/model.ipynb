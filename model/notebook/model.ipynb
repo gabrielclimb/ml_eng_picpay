{
 "cells": [
  {
   "cell_type": "code",
   "execution_count": 2,
   "id": "90a30a1e-90fc-4c3d-952b-d908ba9a8d77",
   "metadata": {},
   "outputs": [],
   "source": [
    "%load_ext lab_black"
   ]
  },
  {
   "cell_type": "code",
   "execution_count": 4,
   "id": "f1053fd0-fd43-42dd-a7b4-f69114a5d642",
   "metadata": {},
   "outputs": [],
   "source": [
    "from time import sleep\n",
    "\n",
    "import requests as r\n",
    "import numpy as np\n",
    "import pandas as pd\n",
    "\n",
    "from utils import transform_data, get_data_from_api"
   ]
  },
  {
   "cell_type": "code",
   "execution_count": 5,
   "id": "bf8556d4-542d-45c8-950c-ad8b0a62575b",
   "metadata": {},
   "outputs": [],
   "source": [
    "df_beer = get_data_from_api()"
   ]
  },
  {
   "cell_type": "markdown",
   "id": "5d82dd2b-bc04-4f38-9a34-c37c466c3275",
   "metadata": {},
   "source": [
    "# EDA"
   ]
  },
  {
   "cell_type": "markdown",
   "id": "1e59a273-7516-42e7-8f29-4a342eb27d19",
   "metadata": {},
   "source": [
    "#### Objetivo do modelo -> treine um modelo de machine learning que classifique as cervejas em seus respectivos ibus."
   ]
  },
  {
   "cell_type": "code",
   "execution_count": 3,
   "id": "d72ca097-f235-4552-8201-4dc063dc3c12",
   "metadata": {},
   "outputs": [],
   "source": [
    "import matplotlib.pyplot as plt\n",
    "import seaborn as sns"
   ]
  },
  {
   "cell_type": "code",
   "execution_count": 4,
   "id": "914a557d-95a7-452c-97ab-51d35d190b4a",
   "metadata": {},
   "outputs": [],
   "source": [
    "df_beer = df_beer.drop(columns=[\"id\"])"
   ]
  },
  {
   "cell_type": "markdown",
   "id": "b50e4004-6c57-4791-931e-6a1106723b45",
   "metadata": {},
   "source": [
    "## Nulos"
   ]
  },
  {
   "cell_type": "code",
   "execution_count": 5,
   "id": "a2135fc0-927d-4a36-b2c1-da9e42f7c217",
   "metadata": {},
   "outputs": [
    {
     "output_type": "execute_result",
     "data": {
      "text/plain": [
       "name         0.000000\n",
       "abv          0.000000\n",
       "ibu          1.538462\n",
       "target_fg    0.307692\n",
       "target_og    0.307692\n",
       "ebc          1.846154\n",
       "srm          1.846154\n",
       "ph           0.615385\n",
       "dtype: float64"
      ]
     },
     "metadata": {},
     "execution_count": 5
    }
   ],
   "source": [
    "# null values\n",
    "(df_beer.isnull().sum() / df_beer.shape[0]) * 100"
   ]
  },
  {
   "cell_type": "markdown",
   "id": "42f81f18-fc39-4097-b1f0-970b137c7c70",
   "metadata": {},
   "source": [
    "Somente 1.53% das cervejas estão sem os valores de ibu. Vamos ver quais são."
   ]
  },
  {
   "cell_type": "markdown",
   "id": "838d1c74-58e5-4394-a6c3-463af0fcef21",
   "metadata": {},
   "source": [
    "#### ibu"
   ]
  },
  {
   "cell_type": "code",
   "execution_count": 6,
   "id": "2656ffc4-4ddb-42a3-aace-82d43e4086ed",
   "metadata": {},
   "outputs": [
    {
     "output_type": "execute_result",
     "data": {
      "text/plain": [
       "                            name   abv  ibu  target_fg  target_og   ebc   srm  \\\n",
       "23            The End Of History  55.0  NaN     1000.0     1112.0   NaN   NaN   \n",
       "168                        AB:19  13.1  NaN        NaN        NaN   NaN   NaN   \n",
       "234  Mango And Chili Barley Wine  12.0  NaN     1015.0     1110.0  20.0  40.0   \n",
       "235                  Science IPA   5.0  NaN     1011.0     1050.0  24.0  47.0   \n",
       "236        Honey And Lemon Blitz   3.2  NaN     1008.0     1039.0   8.0   4.0   \n",
       "\n",
       "      ph  \n",
       "23   4.4  \n",
       "168  NaN  \n",
       "234  4.4  \n",
       "235  4.4  \n",
       "236  3.2  "
      ],
      "text/html": "<div>\n<style scoped>\n    .dataframe tbody tr th:only-of-type {\n        vertical-align: middle;\n    }\n\n    .dataframe tbody tr th {\n        vertical-align: top;\n    }\n\n    .dataframe thead th {\n        text-align: right;\n    }\n</style>\n<table border=\"1\" class=\"dataframe\">\n  <thead>\n    <tr style=\"text-align: right;\">\n      <th></th>\n      <th>name</th>\n      <th>abv</th>\n      <th>ibu</th>\n      <th>target_fg</th>\n      <th>target_og</th>\n      <th>ebc</th>\n      <th>srm</th>\n      <th>ph</th>\n    </tr>\n  </thead>\n  <tbody>\n    <tr>\n      <th>23</th>\n      <td>The End Of History</td>\n      <td>55.0</td>\n      <td>NaN</td>\n      <td>1000.0</td>\n      <td>1112.0</td>\n      <td>NaN</td>\n      <td>NaN</td>\n      <td>4.4</td>\n    </tr>\n    <tr>\n      <th>168</th>\n      <td>AB:19</td>\n      <td>13.1</td>\n      <td>NaN</td>\n      <td>NaN</td>\n      <td>NaN</td>\n      <td>NaN</td>\n      <td>NaN</td>\n      <td>NaN</td>\n    </tr>\n    <tr>\n      <th>234</th>\n      <td>Mango And Chili Barley Wine</td>\n      <td>12.0</td>\n      <td>NaN</td>\n      <td>1015.0</td>\n      <td>1110.0</td>\n      <td>20.0</td>\n      <td>40.0</td>\n      <td>4.4</td>\n    </tr>\n    <tr>\n      <th>235</th>\n      <td>Science IPA</td>\n      <td>5.0</td>\n      <td>NaN</td>\n      <td>1011.0</td>\n      <td>1050.0</td>\n      <td>24.0</td>\n      <td>47.0</td>\n      <td>4.4</td>\n    </tr>\n    <tr>\n      <th>236</th>\n      <td>Honey And Lemon Blitz</td>\n      <td>3.2</td>\n      <td>NaN</td>\n      <td>1008.0</td>\n      <td>1039.0</td>\n      <td>8.0</td>\n      <td>4.0</td>\n      <td>3.2</td>\n    </tr>\n  </tbody>\n</table>\n</div>"
     },
     "metadata": {},
     "execution_count": 6
    }
   ],
   "source": [
    "df_beer[df_beer.ibu.isnull()]"
   ]
  },
  {
   "cell_type": "markdown",
   "id": "8c56bc26-c3bc-4f79-807b-e733a0c242a5",
   "metadata": {},
   "source": [
    "A primeira, end of history, tem um valor bem alto para abv, que já seria um outlier e que\n",
    "provavelmemt tirariamos do dataset, a segunda está com quase todos os valores nulos, então sobram 3, que é uma quantidade muito baixa perto do tamanho do dataset.\n",
    "Então, vamos tirar todas elas do dataset."
   ]
  },
  {
   "cell_type": "code",
   "execution_count": 7,
   "id": "9543dce1-8ada-47f9-8db3-8665d7aed76b",
   "metadata": {},
   "outputs": [],
   "source": [
    "df_beer = df_beer[~df_beer.ibu.isnull()].reset_index(drop=True)"
   ]
  },
  {
   "cell_type": "code",
   "execution_count": 8,
   "id": "033a03de-5be1-420b-8b54-bed672e59d49",
   "metadata": {},
   "outputs": [
    {
     "output_type": "execute_result",
     "data": {
      "text/plain": [
       "name         0.0000\n",
       "abv          0.0000\n",
       "ibu          0.0000\n",
       "target_fg    0.0000\n",
       "target_og    0.0000\n",
       "ebc          1.2500\n",
       "srm          1.2500\n",
       "ph           0.3125\n",
       "dtype: float64"
      ]
     },
     "metadata": {},
     "execution_count": 8
    }
   ],
   "source": [
    "(df_beer.isnull().sum() / df_beer.shape[0]) * 100"
   ]
  },
  {
   "cell_type": "markdown",
   "id": "4d7c701a-9bf4-45d1-b99e-95a29565cddc",
   "metadata": {},
   "source": [
    "#### ebc"
   ]
  },
  {
   "cell_type": "code",
   "execution_count": 9,
   "id": "47229f96-6e89-49a9-bc58-0412c885bf15",
   "metadata": {},
   "outputs": [
    {
     "output_type": "execute_result",
     "data": {
      "text/plain": [
       "                                                  name   abv   ibu  target_fg  \\\n",
       "18                        Hello My Name Is Mette-Marit   8.2  70.0     1013.0   \n",
       "33   Berliner Weisse With Raspberries And Rhubarb -...   3.6   8.0     1007.0   \n",
       "128                       Spiced Cherry Sour - B-Sides   6.5  20.0     1010.0   \n",
       "147                                              AB:03  10.5  14.0     1013.0   \n",
       "\n",
       "     target_og  ebc  srm   ph  \n",
       "18      1076.0  NaN  NaN  4.4  \n",
       "33      1040.0  NaN  NaN  3.2  \n",
       "128     1060.0  NaN  NaN  3.2  \n",
       "147     1093.0  NaN  NaN  4.4  "
      ],
      "text/html": "<div>\n<style scoped>\n    .dataframe tbody tr th:only-of-type {\n        vertical-align: middle;\n    }\n\n    .dataframe tbody tr th {\n        vertical-align: top;\n    }\n\n    .dataframe thead th {\n        text-align: right;\n    }\n</style>\n<table border=\"1\" class=\"dataframe\">\n  <thead>\n    <tr style=\"text-align: right;\">\n      <th></th>\n      <th>name</th>\n      <th>abv</th>\n      <th>ibu</th>\n      <th>target_fg</th>\n      <th>target_og</th>\n      <th>ebc</th>\n      <th>srm</th>\n      <th>ph</th>\n    </tr>\n  </thead>\n  <tbody>\n    <tr>\n      <th>18</th>\n      <td>Hello My Name Is Mette-Marit</td>\n      <td>8.2</td>\n      <td>70.0</td>\n      <td>1013.0</td>\n      <td>1076.0</td>\n      <td>NaN</td>\n      <td>NaN</td>\n      <td>4.4</td>\n    </tr>\n    <tr>\n      <th>33</th>\n      <td>Berliner Weisse With Raspberries And Rhubarb -...</td>\n      <td>3.6</td>\n      <td>8.0</td>\n      <td>1007.0</td>\n      <td>1040.0</td>\n      <td>NaN</td>\n      <td>NaN</td>\n      <td>3.2</td>\n    </tr>\n    <tr>\n      <th>128</th>\n      <td>Spiced Cherry Sour - B-Sides</td>\n      <td>6.5</td>\n      <td>20.0</td>\n      <td>1010.0</td>\n      <td>1060.0</td>\n      <td>NaN</td>\n      <td>NaN</td>\n      <td>3.2</td>\n    </tr>\n    <tr>\n      <th>147</th>\n      <td>AB:03</td>\n      <td>10.5</td>\n      <td>14.0</td>\n      <td>1013.0</td>\n      <td>1093.0</td>\n      <td>NaN</td>\n      <td>NaN</td>\n      <td>4.4</td>\n    </tr>\n  </tbody>\n</table>\n</div>"
     },
     "metadata": {},
     "execution_count": 9
    }
   ],
   "source": [
    "df_beer[df_beer.ebc.isnull()]"
   ]
  },
  {
   "cell_type": "code",
   "execution_count": 10,
   "id": "a04def95-358e-45c5-9493-1cb89ff6ede8",
   "metadata": {},
   "outputs": [],
   "source": [
    "# Olhando no site da brewdog essas cervejas , quase todas as cervejas que tem o ebc nulo são experimentais\n",
    "# por tanto, vamos tirar tbm.\n",
    "df_beer = df_beer[~df_beer.ebc.isnull()].reset_index(drop=True)"
   ]
  },
  {
   "cell_type": "code",
   "execution_count": 11,
   "id": "04b7d354-4270-4f4f-a8f0-63315200026a",
   "metadata": {},
   "outputs": [
    {
     "output_type": "execute_result",
     "data": {
      "text/plain": [
       "name         0.000000\n",
       "abv          0.000000\n",
       "ibu          0.000000\n",
       "target_fg    0.000000\n",
       "target_og    0.000000\n",
       "ebc          0.000000\n",
       "srm          0.000000\n",
       "ph           0.316456\n",
       "dtype: float64"
      ]
     },
     "metadata": {},
     "execution_count": 11
    }
   ],
   "source": [
    "(df_beer.isnull().sum() / df_beer.shape[0]) * 100"
   ]
  },
  {
   "cell_type": "markdown",
   "id": "644390fa-7f67-4839-8dff-fc0bb084ba18",
   "metadata": {},
   "source": [
    "#### ph"
   ]
  },
  {
   "cell_type": "code",
   "execution_count": 12,
   "id": "4bbf3d19-64c8-4d9e-8501-6b4ad94b4456",
   "metadata": {},
   "outputs": [
    {
     "output_type": "execute_result",
     "data": {
      "text/plain": [
       "     name   abv    ibu  target_fg  target_og   ebc   srm  ph\n",
       "16  AB:06  11.2  150.0     1013.0     1098.0  70.0  35.0 NaN"
      ],
      "text/html": "<div>\n<style scoped>\n    .dataframe tbody tr th:only-of-type {\n        vertical-align: middle;\n    }\n\n    .dataframe tbody tr th {\n        vertical-align: top;\n    }\n\n    .dataframe thead th {\n        text-align: right;\n    }\n</style>\n<table border=\"1\" class=\"dataframe\">\n  <thead>\n    <tr style=\"text-align: right;\">\n      <th></th>\n      <th>name</th>\n      <th>abv</th>\n      <th>ibu</th>\n      <th>target_fg</th>\n      <th>target_og</th>\n      <th>ebc</th>\n      <th>srm</th>\n      <th>ph</th>\n    </tr>\n  </thead>\n  <tbody>\n    <tr>\n      <th>16</th>\n      <td>AB:06</td>\n      <td>11.2</td>\n      <td>150.0</td>\n      <td>1013.0</td>\n      <td>1098.0</td>\n      <td>70.0</td>\n      <td>35.0</td>\n      <td>NaN</td>\n    </tr>\n  </tbody>\n</table>\n</div>"
     },
     "metadata": {},
     "execution_count": 12
    }
   ],
   "source": [
    "df_beer[df_beer.ph.isnull()]"
   ]
  },
  {
   "cell_type": "markdown",
   "id": "41184f8c-ec6e-42f7-94c5-7b1a6e819df3",
   "metadata": {},
   "source": [
    "Também é uma cerveja experimental, vamos tirar."
   ]
  },
  {
   "cell_type": "code",
   "execution_count": 13,
   "id": "e9407607-b3df-4075-8e9b-fa5b45e0035f",
   "metadata": {},
   "outputs": [],
   "source": [
    "df_beer = df_beer[~df_beer.ph.isnull()].reset_index(drop=True)"
   ]
  },
  {
   "cell_type": "code",
   "execution_count": 14,
   "id": "f3a2ddf6-d6b0-4dd5-997f-198fc55e5a0b",
   "metadata": {},
   "outputs": [
    {
     "output_type": "execute_result",
     "data": {
      "text/plain": [
       "name         0.0\n",
       "abv          0.0\n",
       "ibu          0.0\n",
       "target_fg    0.0\n",
       "target_og    0.0\n",
       "ebc          0.0\n",
       "srm          0.0\n",
       "ph           0.0\n",
       "dtype: float64"
      ]
     },
     "metadata": {},
     "execution_count": 14
    }
   ],
   "source": [
    "(df_beer.isnull().sum() / df_beer.shape[0]) * 100"
   ]
  },
  {
   "cell_type": "code",
   "execution_count": 15,
   "id": "d4e47102-70c2-4e11-81fa-82c30dbd1b33",
   "metadata": {},
   "outputs": [],
   "source": [
    "df_beer_without_null = df_beer.copy(deep=True)"
   ]
  },
  {
   "cell_type": "markdown",
   "id": "b6e2e5d6-82ff-4270-b17a-1e0062a63bb2",
   "metadata": {},
   "source": [
    "## Distribuição dos dados"
   ]
  },
  {
   "cell_type": "code",
   "execution_count": 16,
   "id": "4a521e57-de04-4d45-89df-ab76ed44dd53",
   "metadata": {},
   "outputs": [
    {
     "output_type": "execute_result",
     "data": {
      "text/plain": [
       "<AxesSubplot:>"
      ]
     },
     "metadata": {},
     "execution_count": 16
    },
    {
     "output_type": "display_data",
     "data": {
      "text/plain": "<Figure size 432x288 with 1 Axes>",
      "image/svg+xml": "<?xml version=\"1.0\" encoding=\"utf-8\" standalone=\"no\"?>\n<!DOCTYPE svg PUBLIC \"-//W3C//DTD SVG 1.1//EN\"\n  \"http://www.w3.org/Graphics/SVG/1.1/DTD/svg11.dtd\">\n<svg height=\"250.058356pt\" version=\"1.1\" viewBox=\"0 0 381.65 250.058356\" width=\"381.65pt\" xmlns=\"http://www.w3.org/2000/svg\" xmlns:xlink=\"http://www.w3.org/1999/xlink\">\n <metadata>\n  <rdf:RDF xmlns:cc=\"http://creativecommons.org/ns#\" xmlns:dc=\"http://purl.org/dc/elements/1.1/\" xmlns:rdf=\"http://www.w3.org/1999/02/22-rdf-syntax-ns#\">\n   <cc:Work>\n    <dc:type rdf:resource=\"http://purl.org/dc/dcmitype/StillImage\"/>\n    <dc:date>2021-06-23T13:06:45.382268</dc:date>\n    <dc:format>image/svg+xml</dc:format>\n    <dc:creator>\n     <cc:Agent>\n      <dc:title>Matplotlib v3.4.2, https://matplotlib.org/</dc:title>\n     </cc:Agent>\n    </dc:creator>\n   </cc:Work>\n  </rdf:RDF>\n </metadata>\n <defs>\n  <style type=\"text/css\">*{stroke-linecap:butt;stroke-linejoin:round;}</style>\n </defs>\n <g id=\"figure_1\">\n  <g id=\"patch_1\">\n   <path d=\"M -0 250.058356 \nL 381.65 250.058356 \nL 381.65 0 \nL -0 0 \nz\n\" style=\"fill:none;\"/>\n  </g>\n  <g id=\"axes_1\">\n   <g id=\"patch_2\">\n    <path d=\"M 39.65 225.902106 \nL 374.45 225.902106 \nL 374.45 8.462106 \nL 39.65 8.462106 \nz\n\" style=\"fill:#ffffff;\"/>\n   </g>\n   <g id=\"patch_3\">\n    <path clip-path=\"url(#pe11c1efa9d)\" d=\"M 44.432857 215.130052 \nL 82.695714 215.130052 \nL 82.695714 214.480825 \nL 44.432857 214.480825 \nL 44.432857 215.130052 \nz\n\" style=\"fill:#3274a1;stroke:#3d3d3d;stroke-linejoin:miter;stroke-width:1.5;\"/>\n   </g>\n   <g id=\"patch_4\">\n    <path clip-path=\"url(#pe11c1efa9d)\" d=\"M 92.261429 210.038741 \nL 130.524286 210.038741 \nL 130.524286 204.059013 \nL 92.261429 204.059013 \nL 92.261429 210.038741 \nz\n\" style=\"fill:#e1812c;stroke:#3d3d3d;stroke-linejoin:miter;stroke-width:1.5;\"/>\n   </g>\n   <g id=\"patch_5\">\n    <path clip-path=\"url(#pe11c1efa9d)\" d=\"M 140.09 43.4606 \nL 178.352857 43.4606 \nL 178.352857 42.606353 \nL 140.09 42.606353 \nL 140.09 43.4606 \nz\n\" style=\"fill:#3a923a;stroke:#3d3d3d;stroke-linejoin:miter;stroke-width:1.5;\"/>\n   </g>\n   <g id=\"patch_6\">\n    <path clip-path=\"url(#pe11c1efa9d)\" d=\"M 187.918571 36.925611 \nL 226.181429 36.925611 \nL 226.181429 31.586568 \nL 187.918571 31.586568 \nL 187.918571 36.925611 \nz\n\" style=\"fill:#c03d3e;stroke:#3d3d3d;stroke-linejoin:miter;stroke-width:1.5;\"/>\n   </g>\n   <g id=\"patch_7\">\n    <path clip-path=\"url(#pe11c1efa9d)\" d=\"M 235.747143 213.455729 \nL 274.01 213.455729 \nL 274.01 203.221851 \nL 235.747143 203.221851 \nL 235.747143 213.455729 \nz\n\" style=\"fill:#9372b2;stroke:#3d3d3d;stroke-linejoin:miter;stroke-width:1.5;\"/>\n   </g>\n   <g id=\"patch_8\">\n    <path clip-path=\"url(#pe11c1efa9d)\" d=\"M 283.575714 214.651674 \nL 321.838571 214.651674 \nL 321.838571 209.526193 \nL 283.575714 209.526193 \nL 283.575714 214.651674 \nz\n\" style=\"fill:#845b53;stroke:#3d3d3d;stroke-linejoin:miter;stroke-width:1.5;\"/>\n   </g>\n   <g id=\"patch_9\">\n    <path clip-path=\"url(#pe11c1efa9d)\" d=\"M 331.404286 215.266732 \nL 369.667143 215.266732 \nL 369.667143 215.266732 \nL 331.404286 215.266732 \nL 331.404286 215.266732 \nz\n\" style=\"fill:#d684bd;stroke:#3d3d3d;stroke-linejoin:miter;stroke-width:1.5;\"/>\n   </g>\n   <g id=\"matplotlib.axis_1\">\n    <g id=\"xtick_1\">\n     <g id=\"line2d_1\">\n      <defs>\n       <path d=\"M 0 0 \nL 0 3.5 \n\" id=\"m1ccb4456b4\" style=\"stroke:#000000;stroke-width:0.8;\"/>\n      </defs>\n      <g>\n       <use style=\"stroke:#000000;stroke-width:0.8;\" x=\"63.564286\" xlink:href=\"#m1ccb4456b4\" y=\"225.902106\"/>\n      </g>\n     </g>\n     <g id=\"text_1\">\n      <!-- abv -->\n      <g transform=\"translate(54.366629 240.500543)scale(0.1 -0.1)\">\n       <defs>\n        <path d=\"M 2194 1759 \nQ 1497 1759 1228 1600 \nQ 959 1441 959 1056 \nQ 959 750 1161 570 \nQ 1363 391 1709 391 \nQ 2188 391 2477 730 \nQ 2766 1069 2766 1631 \nL 2766 1759 \nL 2194 1759 \nz\nM 3341 1997 \nL 3341 0 \nL 2766 0 \nL 2766 531 \nQ 2569 213 2275 61 \nQ 1981 -91 1556 -91 \nQ 1019 -91 701 211 \nQ 384 513 384 1019 \nQ 384 1609 779 1909 \nQ 1175 2209 1959 2209 \nL 2766 2209 \nL 2766 2266 \nQ 2766 2663 2505 2880 \nQ 2244 3097 1772 3097 \nQ 1472 3097 1187 3025 \nQ 903 2953 641 2809 \nL 641 3341 \nQ 956 3463 1253 3523 \nQ 1550 3584 1831 3584 \nQ 2591 3584 2966 3190 \nQ 3341 2797 3341 1997 \nz\n\" id=\"DejaVuSans-61\" transform=\"scale(0.015625)\"/>\n        <path d=\"M 3116 1747 \nQ 3116 2381 2855 2742 \nQ 2594 3103 2138 3103 \nQ 1681 3103 1420 2742 \nQ 1159 2381 1159 1747 \nQ 1159 1113 1420 752 \nQ 1681 391 2138 391 \nQ 2594 391 2855 752 \nQ 3116 1113 3116 1747 \nz\nM 1159 2969 \nQ 1341 3281 1617 3432 \nQ 1894 3584 2278 3584 \nQ 2916 3584 3314 3078 \nQ 3713 2572 3713 1747 \nQ 3713 922 3314 415 \nQ 2916 -91 2278 -91 \nQ 1894 -91 1617 61 \nQ 1341 213 1159 525 \nL 1159 0 \nL 581 0 \nL 581 4863 \nL 1159 4863 \nL 1159 2969 \nz\n\" id=\"DejaVuSans-62\" transform=\"scale(0.015625)\"/>\n        <path d=\"M 191 3500 \nL 800 3500 \nL 1894 563 \nL 2988 3500 \nL 3597 3500 \nL 2284 0 \nL 1503 0 \nL 191 3500 \nz\n\" id=\"DejaVuSans-76\" transform=\"scale(0.015625)\"/>\n       </defs>\n       <use xlink:href=\"#DejaVuSans-61\"/>\n       <use x=\"61.279297\" xlink:href=\"#DejaVuSans-62\"/>\n       <use x=\"124.755859\" xlink:href=\"#DejaVuSans-76\"/>\n      </g>\n     </g>\n    </g>\n    <g id=\"xtick_2\">\n     <g id=\"line2d_2\">\n      <g>\n       <use style=\"stroke:#000000;stroke-width:0.8;\" x=\"111.392857\" xlink:href=\"#m1ccb4456b4\" y=\"225.902106\"/>\n      </g>\n     </g>\n     <g id=\"text_2\">\n      <!-- ibu -->\n      <g transform=\"translate(103.660826 240.500543)scale(0.1 -0.1)\">\n       <defs>\n        <path d=\"M 603 3500 \nL 1178 3500 \nL 1178 0 \nL 603 0 \nL 603 3500 \nz\nM 603 4863 \nL 1178 4863 \nL 1178 4134 \nL 603 4134 \nL 603 4863 \nz\n\" id=\"DejaVuSans-69\" transform=\"scale(0.015625)\"/>\n        <path d=\"M 544 1381 \nL 544 3500 \nL 1119 3500 \nL 1119 1403 \nQ 1119 906 1312 657 \nQ 1506 409 1894 409 \nQ 2359 409 2629 706 \nQ 2900 1003 2900 1516 \nL 2900 3500 \nL 3475 3500 \nL 3475 0 \nL 2900 0 \nL 2900 538 \nQ 2691 219 2414 64 \nQ 2138 -91 1772 -91 \nQ 1169 -91 856 284 \nQ 544 659 544 1381 \nz\nM 1991 3584 \nL 1991 3584 \nz\n\" id=\"DejaVuSans-75\" transform=\"scale(0.015625)\"/>\n       </defs>\n       <use xlink:href=\"#DejaVuSans-69\"/>\n       <use x=\"27.783203\" xlink:href=\"#DejaVuSans-62\"/>\n       <use x=\"91.259766\" xlink:href=\"#DejaVuSans-75\"/>\n      </g>\n     </g>\n    </g>\n    <g id=\"xtick_3\">\n     <g id=\"line2d_3\">\n      <g>\n       <use style=\"stroke:#000000;stroke-width:0.8;\" x=\"159.221429\" xlink:href=\"#m1ccb4456b4\" y=\"225.902106\"/>\n      </g>\n     </g>\n     <g id=\"text_3\">\n      <!-- target_fg -->\n      <g transform=\"translate(136.583929 240.500543)scale(0.1 -0.1)\">\n       <defs>\n        <path d=\"M 1172 4494 \nL 1172 3500 \nL 2356 3500 \nL 2356 3053 \nL 1172 3053 \nL 1172 1153 \nQ 1172 725 1289 603 \nQ 1406 481 1766 481 \nL 2356 481 \nL 2356 0 \nL 1766 0 \nQ 1100 0 847 248 \nQ 594 497 594 1153 \nL 594 3053 \nL 172 3053 \nL 172 3500 \nL 594 3500 \nL 594 4494 \nL 1172 4494 \nz\n\" id=\"DejaVuSans-74\" transform=\"scale(0.015625)\"/>\n        <path d=\"M 2631 2963 \nQ 2534 3019 2420 3045 \nQ 2306 3072 2169 3072 \nQ 1681 3072 1420 2755 \nQ 1159 2438 1159 1844 \nL 1159 0 \nL 581 0 \nL 581 3500 \nL 1159 3500 \nL 1159 2956 \nQ 1341 3275 1631 3429 \nQ 1922 3584 2338 3584 \nQ 2397 3584 2469 3576 \nQ 2541 3569 2628 3553 \nL 2631 2963 \nz\n\" id=\"DejaVuSans-72\" transform=\"scale(0.015625)\"/>\n        <path d=\"M 2906 1791 \nQ 2906 2416 2648 2759 \nQ 2391 3103 1925 3103 \nQ 1463 3103 1205 2759 \nQ 947 2416 947 1791 \nQ 947 1169 1205 825 \nQ 1463 481 1925 481 \nQ 2391 481 2648 825 \nQ 2906 1169 2906 1791 \nz\nM 3481 434 \nQ 3481 -459 3084 -895 \nQ 2688 -1331 1869 -1331 \nQ 1566 -1331 1297 -1286 \nQ 1028 -1241 775 -1147 \nL 775 -588 \nQ 1028 -725 1275 -790 \nQ 1522 -856 1778 -856 \nQ 2344 -856 2625 -561 \nQ 2906 -266 2906 331 \nL 2906 616 \nQ 2728 306 2450 153 \nQ 2172 0 1784 0 \nQ 1141 0 747 490 \nQ 353 981 353 1791 \nQ 353 2603 747 3093 \nQ 1141 3584 1784 3584 \nQ 2172 3584 2450 3431 \nQ 2728 3278 2906 2969 \nL 2906 3500 \nL 3481 3500 \nL 3481 434 \nz\n\" id=\"DejaVuSans-67\" transform=\"scale(0.015625)\"/>\n        <path d=\"M 3597 1894 \nL 3597 1613 \nL 953 1613 \nQ 991 1019 1311 708 \nQ 1631 397 2203 397 \nQ 2534 397 2845 478 \nQ 3156 559 3463 722 \nL 3463 178 \nQ 3153 47 2828 -22 \nQ 2503 -91 2169 -91 \nQ 1331 -91 842 396 \nQ 353 884 353 1716 \nQ 353 2575 817 3079 \nQ 1281 3584 2069 3584 \nQ 2775 3584 3186 3129 \nQ 3597 2675 3597 1894 \nz\nM 3022 2063 \nQ 3016 2534 2758 2815 \nQ 2500 3097 2075 3097 \nQ 1594 3097 1305 2825 \nQ 1016 2553 972 2059 \nL 3022 2063 \nz\n\" id=\"DejaVuSans-65\" transform=\"scale(0.015625)\"/>\n        <path d=\"M 3263 -1063 \nL 3263 -1509 \nL -63 -1509 \nL -63 -1063 \nL 3263 -1063 \nz\n\" id=\"DejaVuSans-5f\" transform=\"scale(0.015625)\"/>\n        <path d=\"M 2375 4863 \nL 2375 4384 \nL 1825 4384 \nQ 1516 4384 1395 4259 \nQ 1275 4134 1275 3809 \nL 1275 3500 \nL 2222 3500 \nL 2222 3053 \nL 1275 3053 \nL 1275 0 \nL 697 0 \nL 697 3053 \nL 147 3053 \nL 147 3500 \nL 697 3500 \nL 697 3744 \nQ 697 4328 969 4595 \nQ 1241 4863 1831 4863 \nL 2375 4863 \nz\n\" id=\"DejaVuSans-66\" transform=\"scale(0.015625)\"/>\n       </defs>\n       <use xlink:href=\"#DejaVuSans-74\"/>\n       <use x=\"39.208984\" xlink:href=\"#DejaVuSans-61\"/>\n       <use x=\"100.488281\" xlink:href=\"#DejaVuSans-72\"/>\n       <use x=\"139.851562\" xlink:href=\"#DejaVuSans-67\"/>\n       <use x=\"203.328125\" xlink:href=\"#DejaVuSans-65\"/>\n       <use x=\"264.851562\" xlink:href=\"#DejaVuSans-74\"/>\n       <use x=\"304.060547\" xlink:href=\"#DejaVuSans-5f\"/>\n       <use x=\"354.060547\" xlink:href=\"#DejaVuSans-66\"/>\n       <use x=\"389.265625\" xlink:href=\"#DejaVuSans-67\"/>\n      </g>\n     </g>\n    </g>\n    <g id=\"xtick_4\">\n     <g id=\"line2d_4\">\n      <g>\n       <use style=\"stroke:#000000;stroke-width:0.8;\" x=\"207.05\" xlink:href=\"#m1ccb4456b4\" y=\"225.902106\"/>\n      </g>\n     </g>\n     <g id=\"text_4\">\n      <!-- target_og -->\n      <g transform=\"translate(183.113281 240.222418)scale(0.1 -0.1)\">\n       <defs>\n        <path d=\"M 1959 3097 \nQ 1497 3097 1228 2736 \nQ 959 2375 959 1747 \nQ 959 1119 1226 758 \nQ 1494 397 1959 397 \nQ 2419 397 2687 759 \nQ 2956 1122 2956 1747 \nQ 2956 2369 2687 2733 \nQ 2419 3097 1959 3097 \nz\nM 1959 3584 \nQ 2709 3584 3137 3096 \nQ 3566 2609 3566 1747 \nQ 3566 888 3137 398 \nQ 2709 -91 1959 -91 \nQ 1206 -91 779 398 \nQ 353 888 353 1747 \nQ 353 2609 779 3096 \nQ 1206 3584 1959 3584 \nz\n\" id=\"DejaVuSans-6f\" transform=\"scale(0.015625)\"/>\n       </defs>\n       <use xlink:href=\"#DejaVuSans-74\"/>\n       <use x=\"39.208984\" xlink:href=\"#DejaVuSans-61\"/>\n       <use x=\"100.488281\" xlink:href=\"#DejaVuSans-72\"/>\n       <use x=\"139.851562\" xlink:href=\"#DejaVuSans-67\"/>\n       <use x=\"203.328125\" xlink:href=\"#DejaVuSans-65\"/>\n       <use x=\"264.851562\" xlink:href=\"#DejaVuSans-74\"/>\n       <use x=\"304.060547\" xlink:href=\"#DejaVuSans-5f\"/>\n       <use x=\"354.060547\" xlink:href=\"#DejaVuSans-6f\"/>\n       <use x=\"415.242188\" xlink:href=\"#DejaVuSans-67\"/>\n      </g>\n     </g>\n    </g>\n    <g id=\"xtick_5\">\n     <g id=\"line2d_5\">\n      <g>\n       <use style=\"stroke:#000000;stroke-width:0.8;\" x=\"254.878571\" xlink:href=\"#m1ccb4456b4\" y=\"225.902106\"/>\n      </g>\n     </g>\n     <g id=\"text_5\">\n      <!-- ebc -->\n      <g transform=\"translate(245.878571 240.500543)scale(0.1 -0.1)\">\n       <defs>\n        <path d=\"M 3122 3366 \nL 3122 2828 \nQ 2878 2963 2633 3030 \nQ 2388 3097 2138 3097 \nQ 1578 3097 1268 2742 \nQ 959 2388 959 1747 \nQ 959 1106 1268 751 \nQ 1578 397 2138 397 \nQ 2388 397 2633 464 \nQ 2878 531 3122 666 \nL 3122 134 \nQ 2881 22 2623 -34 \nQ 2366 -91 2075 -91 \nQ 1284 -91 818 406 \nQ 353 903 353 1747 \nQ 353 2603 823 3093 \nQ 1294 3584 2113 3584 \nQ 2378 3584 2631 3529 \nQ 2884 3475 3122 3366 \nz\n\" id=\"DejaVuSans-63\" transform=\"scale(0.015625)\"/>\n       </defs>\n       <use xlink:href=\"#DejaVuSans-65\"/>\n       <use x=\"61.523438\" xlink:href=\"#DejaVuSans-62\"/>\n       <use x=\"125\" xlink:href=\"#DejaVuSans-63\"/>\n      </g>\n     </g>\n    </g>\n    <g id=\"xtick_6\">\n     <g id=\"line2d_6\">\n      <g>\n       <use style=\"stroke:#000000;stroke-width:0.8;\" x=\"302.707143\" xlink:href=\"#m1ccb4456b4\" y=\"225.902106\"/>\n      </g>\n     </g>\n     <g id=\"text_6\">\n      <!-- srm -->\n      <g transform=\"translate(293.264174 240.500543)scale(0.1 -0.1)\">\n       <defs>\n        <path d=\"M 2834 3397 \nL 2834 2853 \nQ 2591 2978 2328 3040 \nQ 2066 3103 1784 3103 \nQ 1356 3103 1142 2972 \nQ 928 2841 928 2578 \nQ 928 2378 1081 2264 \nQ 1234 2150 1697 2047 \nL 1894 2003 \nQ 2506 1872 2764 1633 \nQ 3022 1394 3022 966 \nQ 3022 478 2636 193 \nQ 2250 -91 1575 -91 \nQ 1294 -91 989 -36 \nQ 684 19 347 128 \nL 347 722 \nQ 666 556 975 473 \nQ 1284 391 1588 391 \nQ 1994 391 2212 530 \nQ 2431 669 2431 922 \nQ 2431 1156 2273 1281 \nQ 2116 1406 1581 1522 \nL 1381 1569 \nQ 847 1681 609 1914 \nQ 372 2147 372 2553 \nQ 372 3047 722 3315 \nQ 1072 3584 1716 3584 \nQ 2034 3584 2315 3537 \nQ 2597 3491 2834 3397 \nz\n\" id=\"DejaVuSans-73\" transform=\"scale(0.015625)\"/>\n        <path d=\"M 3328 2828 \nQ 3544 3216 3844 3400 \nQ 4144 3584 4550 3584 \nQ 5097 3584 5394 3201 \nQ 5691 2819 5691 2113 \nL 5691 0 \nL 5113 0 \nL 5113 2094 \nQ 5113 2597 4934 2840 \nQ 4756 3084 4391 3084 \nQ 3944 3084 3684 2787 \nQ 3425 2491 3425 1978 \nL 3425 0 \nL 2847 0 \nL 2847 2094 \nQ 2847 2600 2669 2842 \nQ 2491 3084 2119 3084 \nQ 1678 3084 1418 2786 \nQ 1159 2488 1159 1978 \nL 1159 0 \nL 581 0 \nL 581 3500 \nL 1159 3500 \nL 1159 2956 \nQ 1356 3278 1631 3431 \nQ 1906 3584 2284 3584 \nQ 2666 3584 2933 3390 \nQ 3200 3197 3328 2828 \nz\n\" id=\"DejaVuSans-6d\" transform=\"scale(0.015625)\"/>\n       </defs>\n       <use xlink:href=\"#DejaVuSans-73\"/>\n       <use x=\"52.099609\" xlink:href=\"#DejaVuSans-72\"/>\n       <use x=\"91.462891\" xlink:href=\"#DejaVuSans-6d\"/>\n      </g>\n     </g>\n    </g>\n    <g id=\"xtick_7\">\n     <g id=\"line2d_7\">\n      <g>\n       <use style=\"stroke:#000000;stroke-width:0.8;\" x=\"350.535714\" xlink:href=\"#m1ccb4456b4\" y=\"225.902106\"/>\n      </g>\n     </g>\n     <g id=\"text_7\">\n      <!-- ph -->\n      <g transform=\"translate(344.192746 240.500543)scale(0.1 -0.1)\">\n       <defs>\n        <path d=\"M 1159 525 \nL 1159 -1331 \nL 581 -1331 \nL 581 3500 \nL 1159 3500 \nL 1159 2969 \nQ 1341 3281 1617 3432 \nQ 1894 3584 2278 3584 \nQ 2916 3584 3314 3078 \nQ 3713 2572 3713 1747 \nQ 3713 922 3314 415 \nQ 2916 -91 2278 -91 \nQ 1894 -91 1617 61 \nQ 1341 213 1159 525 \nz\nM 3116 1747 \nQ 3116 2381 2855 2742 \nQ 2594 3103 2138 3103 \nQ 1681 3103 1420 2742 \nQ 1159 2381 1159 1747 \nQ 1159 1113 1420 752 \nQ 1681 391 2138 391 \nQ 2594 391 2855 752 \nQ 3116 1113 3116 1747 \nz\n\" id=\"DejaVuSans-70\" transform=\"scale(0.015625)\"/>\n        <path d=\"M 3513 2113 \nL 3513 0 \nL 2938 0 \nL 2938 2094 \nQ 2938 2591 2744 2837 \nQ 2550 3084 2163 3084 \nQ 1697 3084 1428 2787 \nQ 1159 2491 1159 1978 \nL 1159 0 \nL 581 0 \nL 581 4863 \nL 1159 4863 \nL 1159 2956 \nQ 1366 3272 1645 3428 \nQ 1925 3584 2291 3584 \nQ 2894 3584 3203 3211 \nQ 3513 2838 3513 2113 \nz\n\" id=\"DejaVuSans-68\" transform=\"scale(0.015625)\"/>\n       </defs>\n       <use xlink:href=\"#DejaVuSans-70\"/>\n       <use x=\"63.476562\" xlink:href=\"#DejaVuSans-68\"/>\n      </g>\n     </g>\n    </g>\n   </g>\n   <g id=\"matplotlib.axis_2\">\n    <g id=\"ytick_1\">\n     <g id=\"line2d_8\">\n      <defs>\n       <path d=\"M 0 0 \nL -3.5 0 \n\" id=\"m8f5a05734c\" style=\"stroke:#000000;stroke-width:0.8;\"/>\n      </defs>\n      <g>\n       <use style=\"stroke:#000000;stroke-width:0.8;\" x=\"39.65\" xlink:href=\"#m8f5a05734c\" y=\"216.018469\"/>\n      </g>\n     </g>\n     <g id=\"text_8\">\n      <!-- 0 -->\n      <g transform=\"translate(26.2875 219.817688)scale(0.1 -0.1)\">\n       <defs>\n        <path d=\"M 2034 4250 \nQ 1547 4250 1301 3770 \nQ 1056 3291 1056 2328 \nQ 1056 1369 1301 889 \nQ 1547 409 2034 409 \nQ 2525 409 2770 889 \nQ 3016 1369 3016 2328 \nQ 3016 3291 2770 3770 \nQ 2525 4250 2034 4250 \nz\nM 2034 4750 \nQ 2819 4750 3233 4129 \nQ 3647 3509 3647 2328 \nQ 3647 1150 3233 529 \nQ 2819 -91 2034 -91 \nQ 1250 -91 836 529 \nQ 422 1150 422 2328 \nQ 422 3509 836 4129 \nQ 1250 4750 2034 4750 \nz\n\" id=\"DejaVuSans-30\" transform=\"scale(0.015625)\"/>\n       </defs>\n       <use xlink:href=\"#DejaVuSans-30\"/>\n      </g>\n     </g>\n    </g>\n    <g id=\"ytick_2\">\n     <g id=\"line2d_9\">\n      <g>\n       <use style=\"stroke:#000000;stroke-width:0.8;\" x=\"39.65\" xlink:href=\"#m8f5a05734c\" y=\"181.848594\"/>\n      </g>\n     </g>\n     <g id=\"text_9\">\n      <!-- 200 -->\n      <g transform=\"translate(13.5625 185.647813)scale(0.1 -0.1)\">\n       <defs>\n        <path d=\"M 1228 531 \nL 3431 531 \nL 3431 0 \nL 469 0 \nL 469 531 \nQ 828 903 1448 1529 \nQ 2069 2156 2228 2338 \nQ 2531 2678 2651 2914 \nQ 2772 3150 2772 3378 \nQ 2772 3750 2511 3984 \nQ 2250 4219 1831 4219 \nQ 1534 4219 1204 4116 \nQ 875 4013 500 3803 \nL 500 4441 \nQ 881 4594 1212 4672 \nQ 1544 4750 1819 4750 \nQ 2544 4750 2975 4387 \nQ 3406 4025 3406 3419 \nQ 3406 3131 3298 2873 \nQ 3191 2616 2906 2266 \nQ 2828 2175 2409 1742 \nQ 1991 1309 1228 531 \nz\n\" id=\"DejaVuSans-32\" transform=\"scale(0.015625)\"/>\n       </defs>\n       <use xlink:href=\"#DejaVuSans-32\"/>\n       <use x=\"63.623047\" xlink:href=\"#DejaVuSans-30\"/>\n       <use x=\"127.246094\" xlink:href=\"#DejaVuSans-30\"/>\n      </g>\n     </g>\n    </g>\n    <g id=\"ytick_3\">\n     <g id=\"line2d_10\">\n      <g>\n       <use style=\"stroke:#000000;stroke-width:0.8;\" x=\"39.65\" xlink:href=\"#m8f5a05734c\" y=\"147.678719\"/>\n      </g>\n     </g>\n     <g id=\"text_10\">\n      <!-- 400 -->\n      <g transform=\"translate(13.5625 151.477938)scale(0.1 -0.1)\">\n       <defs>\n        <path d=\"M 2419 4116 \nL 825 1625 \nL 2419 1625 \nL 2419 4116 \nz\nM 2253 4666 \nL 3047 4666 \nL 3047 1625 \nL 3713 1625 \nL 3713 1100 \nL 3047 1100 \nL 3047 0 \nL 2419 0 \nL 2419 1100 \nL 313 1100 \nL 313 1709 \nL 2253 4666 \nz\n\" id=\"DejaVuSans-34\" transform=\"scale(0.015625)\"/>\n       </defs>\n       <use xlink:href=\"#DejaVuSans-34\"/>\n       <use x=\"63.623047\" xlink:href=\"#DejaVuSans-30\"/>\n       <use x=\"127.246094\" xlink:href=\"#DejaVuSans-30\"/>\n      </g>\n     </g>\n    </g>\n    <g id=\"ytick_4\">\n     <g id=\"line2d_11\">\n      <g>\n       <use style=\"stroke:#000000;stroke-width:0.8;\" x=\"39.65\" xlink:href=\"#m8f5a05734c\" y=\"113.508844\"/>\n      </g>\n     </g>\n     <g id=\"text_11\">\n      <!-- 600 -->\n      <g transform=\"translate(13.5625 117.308063)scale(0.1 -0.1)\">\n       <defs>\n        <path d=\"M 2113 2584 \nQ 1688 2584 1439 2293 \nQ 1191 2003 1191 1497 \nQ 1191 994 1439 701 \nQ 1688 409 2113 409 \nQ 2538 409 2786 701 \nQ 3034 994 3034 1497 \nQ 3034 2003 2786 2293 \nQ 2538 2584 2113 2584 \nz\nM 3366 4563 \nL 3366 3988 \nQ 3128 4100 2886 4159 \nQ 2644 4219 2406 4219 \nQ 1781 4219 1451 3797 \nQ 1122 3375 1075 2522 \nQ 1259 2794 1537 2939 \nQ 1816 3084 2150 3084 \nQ 2853 3084 3261 2657 \nQ 3669 2231 3669 1497 \nQ 3669 778 3244 343 \nQ 2819 -91 2113 -91 \nQ 1303 -91 875 529 \nQ 447 1150 447 2328 \nQ 447 3434 972 4092 \nQ 1497 4750 2381 4750 \nQ 2619 4750 2861 4703 \nQ 3103 4656 3366 4563 \nz\n\" id=\"DejaVuSans-36\" transform=\"scale(0.015625)\"/>\n       </defs>\n       <use xlink:href=\"#DejaVuSans-36\"/>\n       <use x=\"63.623047\" xlink:href=\"#DejaVuSans-30\"/>\n       <use x=\"127.246094\" xlink:href=\"#DejaVuSans-30\"/>\n      </g>\n     </g>\n    </g>\n    <g id=\"ytick_5\">\n     <g id=\"line2d_12\">\n      <g>\n       <use style=\"stroke:#000000;stroke-width:0.8;\" x=\"39.65\" xlink:href=\"#m8f5a05734c\" y=\"79.338969\"/>\n      </g>\n     </g>\n     <g id=\"text_12\">\n      <!-- 800 -->\n      <g transform=\"translate(13.5625 83.138188)scale(0.1 -0.1)\">\n       <defs>\n        <path d=\"M 2034 2216 \nQ 1584 2216 1326 1975 \nQ 1069 1734 1069 1313 \nQ 1069 891 1326 650 \nQ 1584 409 2034 409 \nQ 2484 409 2743 651 \nQ 3003 894 3003 1313 \nQ 3003 1734 2745 1975 \nQ 2488 2216 2034 2216 \nz\nM 1403 2484 \nQ 997 2584 770 2862 \nQ 544 3141 544 3541 \nQ 544 4100 942 4425 \nQ 1341 4750 2034 4750 \nQ 2731 4750 3128 4425 \nQ 3525 4100 3525 3541 \nQ 3525 3141 3298 2862 \nQ 3072 2584 2669 2484 \nQ 3125 2378 3379 2068 \nQ 3634 1759 3634 1313 \nQ 3634 634 3220 271 \nQ 2806 -91 2034 -91 \nQ 1263 -91 848 271 \nQ 434 634 434 1313 \nQ 434 1759 690 2068 \nQ 947 2378 1403 2484 \nz\nM 1172 3481 \nQ 1172 3119 1398 2916 \nQ 1625 2713 2034 2713 \nQ 2441 2713 2670 2916 \nQ 2900 3119 2900 3481 \nQ 2900 3844 2670 4047 \nQ 2441 4250 2034 4250 \nQ 1625 4250 1398 4047 \nQ 1172 3844 1172 3481 \nz\n\" id=\"DejaVuSans-38\" transform=\"scale(0.015625)\"/>\n       </defs>\n       <use xlink:href=\"#DejaVuSans-38\"/>\n       <use x=\"63.623047\" xlink:href=\"#DejaVuSans-30\"/>\n       <use x=\"127.246094\" xlink:href=\"#DejaVuSans-30\"/>\n      </g>\n     </g>\n    </g>\n    <g id=\"ytick_6\">\n     <g id=\"line2d_13\">\n      <g>\n       <use style=\"stroke:#000000;stroke-width:0.8;\" x=\"39.65\" xlink:href=\"#m8f5a05734c\" y=\"45.169094\"/>\n      </g>\n     </g>\n     <g id=\"text_13\">\n      <!-- 1000 -->\n      <g transform=\"translate(7.2 48.968313)scale(0.1 -0.1)\">\n       <defs>\n        <path d=\"M 794 531 \nL 1825 531 \nL 1825 4091 \nL 703 3866 \nL 703 4441 \nL 1819 4666 \nL 2450 4666 \nL 2450 531 \nL 3481 531 \nL 3481 0 \nL 794 0 \nL 794 531 \nz\n\" id=\"DejaVuSans-31\" transform=\"scale(0.015625)\"/>\n       </defs>\n       <use xlink:href=\"#DejaVuSans-31\"/>\n       <use x=\"63.623047\" xlink:href=\"#DejaVuSans-30\"/>\n       <use x=\"127.246094\" xlink:href=\"#DejaVuSans-30\"/>\n       <use x=\"190.869141\" xlink:href=\"#DejaVuSans-30\"/>\n      </g>\n     </g>\n    </g>\n    <g id=\"ytick_7\">\n     <g id=\"line2d_14\">\n      <g>\n       <use style=\"stroke:#000000;stroke-width:0.8;\" x=\"39.65\" xlink:href=\"#m8f5a05734c\" y=\"10.999219\"/>\n      </g>\n     </g>\n     <g id=\"text_14\">\n      <!-- 1200 -->\n      <g transform=\"translate(7.2 14.798437)scale(0.1 -0.1)\">\n       <use xlink:href=\"#DejaVuSans-31\"/>\n       <use x=\"63.623047\" xlink:href=\"#DejaVuSans-32\"/>\n       <use x=\"127.246094\" xlink:href=\"#DejaVuSans-30\"/>\n       <use x=\"190.869141\" xlink:href=\"#DejaVuSans-30\"/>\n      </g>\n     </g>\n    </g>\n   </g>\n   <g id=\"line2d_15\">\n    <path clip-path=\"url(#pe11c1efa9d)\" d=\"M 63.564286 215.130052 \nL 63.564286 215.933044 \n\" style=\"fill:none;stroke:#3d3d3d;stroke-linecap:square;stroke-width:1.5;\"/>\n   </g>\n   <g id=\"line2d_16\">\n    <path clip-path=\"url(#pe11c1efa9d)\" d=\"M 63.564286 214.480825 \nL 63.564286 213.541153 \n\" style=\"fill:none;stroke:#3d3d3d;stroke-linecap:square;stroke-width:1.5;\"/>\n   </g>\n   <g id=\"line2d_17\">\n    <path clip-path=\"url(#pe11c1efa9d)\" d=\"M 53.998571 215.933044 \nL 73.13 215.933044 \n\" style=\"fill:none;stroke:#3d3d3d;stroke-linecap:square;stroke-width:1.5;\"/>\n   </g>\n   <g id=\"line2d_18\">\n    <path clip-path=\"url(#pe11c1efa9d)\" d=\"M 53.998571 213.541153 \nL 73.13 213.541153 \n\" style=\"fill:none;stroke:#3d3d3d;stroke-linecap:square;stroke-width:1.5;\"/>\n   </g>\n   <g id=\"line2d_19\">\n    <defs>\n     <path d=\"M -0 3.535534 \nL 2.12132 0 \nL -0 -3.535534 \nL -2.12132 -0 \nz\n\" id=\"mbcc13a85d9\" style=\"stroke:#3d3d3d;stroke-linejoin:miter;\"/>\n    </defs>\n    <g clip-path=\"url(#pe11c1efa9d)\">\n     <use style=\"fill:#3d3d3d;stroke:#3d3d3d;stroke-linejoin:miter;\" x=\"63.564286\" xlink:href=\"#mbcc13a85d9\" y=\"213.455729\"/>\n     <use style=\"fill:#3d3d3d;stroke:#3d3d3d;stroke-linejoin:miter;\" x=\"63.564286\" xlink:href=\"#mbcc13a85d9\" y=\"213.199454\"/>\n     <use style=\"fill:#3d3d3d;stroke:#3d3d3d;stroke-linejoin:miter;\" x=\"63.564286\" xlink:href=\"#mbcc13a85d9\" y=\"213.455729\"/>\n     <use style=\"fill:#3d3d3d;stroke:#3d3d3d;stroke-linejoin:miter;\" x=\"63.564286\" xlink:href=\"#mbcc13a85d9\" y=\"213.421559\"/>\n     <use style=\"fill:#3d3d3d;stroke:#3d3d3d;stroke-linejoin:miter;\" x=\"63.564286\" xlink:href=\"#mbcc13a85d9\" y=\"212.891926\"/>\n     <use style=\"fill:#3d3d3d;stroke:#3d3d3d;stroke-linejoin:miter;\" x=\"63.564286\" xlink:href=\"#mbcc13a85d9\" y=\"209.013645\"/>\n     <use style=\"fill:#3d3d3d;stroke:#3d3d3d;stroke-linejoin:miter;\" x=\"63.564286\" xlink:href=\"#mbcc13a85d9\" y=\"213.455729\"/>\n     <use style=\"fill:#3d3d3d;stroke:#3d3d3d;stroke-linejoin:miter;\" x=\"63.564286\" xlink:href=\"#mbcc13a85d9\" y=\"213.250709\"/>\n     <use style=\"fill:#3d3d3d;stroke:#3d3d3d;stroke-linejoin:miter;\" x=\"63.564286\" xlink:href=\"#mbcc13a85d9\" y=\"212.94318\"/>\n     <use style=\"fill:#3d3d3d;stroke:#3d3d3d;stroke-linejoin:miter;\" x=\"63.564286\" xlink:href=\"#mbcc13a85d9\" y=\"213.07986\"/>\n     <use style=\"fill:#3d3d3d;stroke:#3d3d3d;stroke-linejoin:miter;\" x=\"63.564286\" xlink:href=\"#mbcc13a85d9\" y=\"213.267794\"/>\n     <use style=\"fill:#3d3d3d;stroke:#3d3d3d;stroke-linejoin:miter;\" x=\"63.564286\" xlink:href=\"#mbcc13a85d9\" y=\"210.551289\"/>\n     <use style=\"fill:#3d3d3d;stroke:#3d3d3d;stroke-linejoin:miter;\" x=\"63.564286\" xlink:href=\"#mbcc13a85d9\" y=\"213.455729\"/>\n     <use style=\"fill:#3d3d3d;stroke:#3d3d3d;stroke-linejoin:miter;\" x=\"63.564286\" xlink:href=\"#mbcc13a85d9\" y=\"213.267794\"/>\n     <use style=\"fill:#3d3d3d;stroke:#3d3d3d;stroke-linejoin:miter;\" x=\"63.564286\" xlink:href=\"#mbcc13a85d9\" y=\"213.11403\"/>\n    </g>\n   </g>\n   <g id=\"line2d_20\">\n    <path clip-path=\"url(#pe11c1efa9d)\" d=\"M 111.392857 210.038741 \nL 111.392857 216.018469 \n\" style=\"fill:none;stroke:#3d3d3d;stroke-linecap:square;stroke-width:1.5;\"/>\n   </g>\n   <g id=\"line2d_21\">\n    <path clip-path=\"url(#pe11c1efa9d)\" d=\"M 111.392857 204.059013 \nL 111.392857 198.933532 \n\" style=\"fill:none;stroke:#3d3d3d;stroke-linecap:square;stroke-width:1.5;\"/>\n   </g>\n   <g id=\"line2d_22\">\n    <path clip-path=\"url(#pe11c1efa9d)\" d=\"M 101.827143 216.018469 \nL 120.958571 216.018469 \n\" style=\"fill:none;stroke:#3d3d3d;stroke-linecap:square;stroke-width:1.5;\"/>\n   </g>\n   <g id=\"line2d_23\">\n    <path clip-path=\"url(#pe11c1efa9d)\" d=\"M 101.827143 198.933532 \nL 120.958571 198.933532 \n\" style=\"fill:none;stroke:#3d3d3d;stroke-linecap:square;stroke-width:1.5;\"/>\n   </g>\n   <g id=\"line2d_24\">\n    <g clip-path=\"url(#pe11c1efa9d)\">\n     <use style=\"fill:#3d3d3d;stroke:#3d3d3d;stroke-linejoin:miter;\" x=\"111.392857\" xlink:href=\"#mbcc13a85d9\" y=\"194.662297\"/>\n     <use style=\"fill:#3d3d3d;stroke:#3d3d3d;stroke-linejoin:miter;\" x=\"111.392857\" xlink:href=\"#mbcc13a85d9\" y=\"194.662297\"/>\n     <use style=\"fill:#3d3d3d;stroke:#3d3d3d;stroke-linejoin:miter;\" x=\"111.392857\" xlink:href=\"#mbcc13a85d9\" y=\"190.561912\"/>\n     <use style=\"fill:#3d3d3d;stroke:#3d3d3d;stroke-linejoin:miter;\" x=\"111.392857\" xlink:href=\"#mbcc13a85d9\" y=\"30.646897\"/>\n     <use style=\"fill:#3d3d3d;stroke:#3d3d3d;stroke-linejoin:miter;\" x=\"111.392857\" xlink:href=\"#mbcc13a85d9\" y=\"193.80805\"/>\n     <use style=\"fill:#3d3d3d;stroke:#3d3d3d;stroke-linejoin:miter;\" x=\"111.392857\" xlink:href=\"#mbcc13a85d9\" y=\"173.306125\"/>\n     <use style=\"fill:#3d3d3d;stroke:#3d3d3d;stroke-linejoin:miter;\" x=\"111.392857\" xlink:href=\"#mbcc13a85d9\" y=\"182.190293\"/>\n     <use style=\"fill:#3d3d3d;stroke:#3d3d3d;stroke-linejoin:miter;\" x=\"111.392857\" xlink:href=\"#mbcc13a85d9\" y=\"18.345742\"/>\n     <use style=\"fill:#3d3d3d;stroke:#3d3d3d;stroke-linejoin:miter;\" x=\"111.392857\" xlink:href=\"#mbcc13a85d9\" y=\"186.119828\"/>\n     <use style=\"fill:#3d3d3d;stroke:#3d3d3d;stroke-linejoin:miter;\" x=\"111.392857\" xlink:href=\"#mbcc13a85d9\" y=\"193.80805\"/>\n     <use style=\"fill:#3d3d3d;stroke:#3d3d3d;stroke-linejoin:miter;\" x=\"111.392857\" xlink:href=\"#mbcc13a85d9\" y=\"173.306125\"/>\n     <use style=\"fill:#3d3d3d;stroke:#3d3d3d;stroke-linejoin:miter;\" x=\"111.392857\" xlink:href=\"#mbcc13a85d9\" y=\"173.306125\"/>\n     <use style=\"fill:#3d3d3d;stroke:#3d3d3d;stroke-linejoin:miter;\" x=\"111.392857\" xlink:href=\"#mbcc13a85d9\" y=\"173.306125\"/>\n     <use style=\"fill:#3d3d3d;stroke:#3d3d3d;stroke-linejoin:miter;\" x=\"111.392857\" xlink:href=\"#mbcc13a85d9\" y=\"173.306125\"/>\n     <use style=\"fill:#3d3d3d;stroke:#3d3d3d;stroke-linejoin:miter;\" x=\"111.392857\" xlink:href=\"#mbcc13a85d9\" y=\"173.306125\"/>\n     <use style=\"fill:#3d3d3d;stroke:#3d3d3d;stroke-linejoin:miter;\" x=\"111.392857\" xlink:href=\"#mbcc13a85d9\" y=\"193.466352\"/>\n    </g>\n   </g>\n   <g id=\"line2d_25\">\n    <path clip-path=\"url(#pe11c1efa9d)\" d=\"M 159.221429 43.4606 \nL 159.221429 44.656546 \n\" style=\"fill:none;stroke:#3d3d3d;stroke-linecap:square;stroke-width:1.5;\"/>\n   </g>\n   <g id=\"line2d_26\">\n    <path clip-path=\"url(#pe11c1efa9d)\" d=\"M 159.221429 42.606353 \nL 159.221429 41.410408 \n\" style=\"fill:none;stroke:#3d3d3d;stroke-linecap:square;stroke-width:1.5;\"/>\n   </g>\n   <g id=\"line2d_27\">\n    <path clip-path=\"url(#pe11c1efa9d)\" d=\"M 149.655714 44.656546 \nL 168.787143 44.656546 \n\" style=\"fill:none;stroke:#3d3d3d;stroke-linecap:square;stroke-width:1.5;\"/>\n   </g>\n   <g id=\"line2d_28\">\n    <path clip-path=\"url(#pe11c1efa9d)\" d=\"M 149.655714 41.410408 \nL 168.787143 41.410408 \n\" style=\"fill:none;stroke:#3d3d3d;stroke-linecap:square;stroke-width:1.5;\"/>\n   </g>\n   <g id=\"line2d_29\">\n    <g clip-path=\"url(#pe11c1efa9d)\">\n     <use style=\"fill:#3d3d3d;stroke:#3d3d3d;stroke-linejoin:miter;\" x=\"159.221429\" xlink:href=\"#mbcc13a85d9\" y=\"45.169094\"/>\n     <use style=\"fill:#3d3d3d;stroke:#3d3d3d;stroke-linejoin:miter;\" x=\"159.221429\" xlink:href=\"#mbcc13a85d9\" y=\"45.169094\"/>\n     <use style=\"fill:#3d3d3d;stroke:#3d3d3d;stroke-linejoin:miter;\" x=\"159.221429\" xlink:href=\"#mbcc13a85d9\" y=\"45.169094\"/>\n     <use style=\"fill:#3d3d3d;stroke:#3d3d3d;stroke-linejoin:miter;\" x=\"159.221429\" xlink:href=\"#mbcc13a85d9\" y=\"45.169094\"/>\n     <use style=\"fill:#3d3d3d;stroke:#3d3d3d;stroke-linejoin:miter;\" x=\"159.221429\" xlink:href=\"#mbcc13a85d9\" y=\"40.556161\"/>\n     <use style=\"fill:#3d3d3d;stroke:#3d3d3d;stroke-linejoin:miter;\" x=\"159.221429\" xlink:href=\"#mbcc13a85d9\" y=\"40.897859\"/>\n     <use style=\"fill:#3d3d3d;stroke:#3d3d3d;stroke-linejoin:miter;\" x=\"159.221429\" xlink:href=\"#mbcc13a85d9\" y=\"40.043613\"/>\n     <use style=\"fill:#3d3d3d;stroke:#3d3d3d;stroke-linejoin:miter;\" x=\"159.221429\" xlink:href=\"#mbcc13a85d9\" y=\"34.234734\"/>\n     <use style=\"fill:#3d3d3d;stroke:#3d3d3d;stroke-linejoin:miter;\" x=\"159.221429\" xlink:href=\"#mbcc13a85d9\" y=\"40.043613\"/>\n     <use style=\"fill:#3d3d3d;stroke:#3d3d3d;stroke-linejoin:miter;\" x=\"159.221429\" xlink:href=\"#mbcc13a85d9\" y=\"40.897859\"/>\n     <use style=\"fill:#3d3d3d;stroke:#3d3d3d;stroke-linejoin:miter;\" x=\"159.221429\" xlink:href=\"#mbcc13a85d9\" y=\"41.239558\"/>\n     <use style=\"fill:#3d3d3d;stroke:#3d3d3d;stroke-linejoin:miter;\" x=\"159.221429\" xlink:href=\"#mbcc13a85d9\" y=\"41.239558\"/>\n     <use style=\"fill:#3d3d3d;stroke:#3d3d3d;stroke-linejoin:miter;\" x=\"159.221429\" xlink:href=\"#mbcc13a85d9\" y=\"27.742458\"/>\n     <use style=\"fill:#3d3d3d;stroke:#3d3d3d;stroke-linejoin:miter;\" x=\"159.221429\" xlink:href=\"#mbcc13a85d9\" y=\"38.676818\"/>\n     <use style=\"fill:#3d3d3d;stroke:#3d3d3d;stroke-linejoin:miter;\" x=\"159.221429\" xlink:href=\"#mbcc13a85d9\" y=\"34.234734\"/>\n     <use style=\"fill:#3d3d3d;stroke:#3d3d3d;stroke-linejoin:miter;\" x=\"159.221429\" xlink:href=\"#mbcc13a85d9\" y=\"40.897859\"/>\n     <use style=\"fill:#3d3d3d;stroke:#3d3d3d;stroke-linejoin:miter;\" x=\"159.221429\" xlink:href=\"#mbcc13a85d9\" y=\"34.234734\"/>\n     <use style=\"fill:#3d3d3d;stroke:#3d3d3d;stroke-linejoin:miter;\" x=\"159.221429\" xlink:href=\"#mbcc13a85d9\" y=\"40.385311\"/>\n     <use style=\"fill:#3d3d3d;stroke:#3d3d3d;stroke-linejoin:miter;\" x=\"159.221429\" xlink:href=\"#mbcc13a85d9\" y=\"40.043613\"/>\n     <use style=\"fill:#3d3d3d;stroke:#3d3d3d;stroke-linejoin:miter;\" x=\"159.221429\" xlink:href=\"#mbcc13a85d9\" y=\"41.239558\"/>\n     <use style=\"fill:#3d3d3d;stroke:#3d3d3d;stroke-linejoin:miter;\" x=\"159.221429\" xlink:href=\"#mbcc13a85d9\" y=\"40.385311\"/>\n     <use style=\"fill:#3d3d3d;stroke:#3d3d3d;stroke-linejoin:miter;\" x=\"159.221429\" xlink:href=\"#mbcc13a85d9\" y=\"38.335119\"/>\n     <use style=\"fill:#3d3d3d;stroke:#3d3d3d;stroke-linejoin:miter;\" x=\"159.221429\" xlink:href=\"#mbcc13a85d9\" y=\"36.797474\"/>\n     <use style=\"fill:#3d3d3d;stroke:#3d3d3d;stroke-linejoin:miter;\" x=\"159.221429\" xlink:href=\"#mbcc13a85d9\" y=\"40.897859\"/>\n     <use style=\"fill:#3d3d3d;stroke:#3d3d3d;stroke-linejoin:miter;\" x=\"159.221429\" xlink:href=\"#mbcc13a85d9\" y=\"39.701914\"/>\n     <use style=\"fill:#3d3d3d;stroke:#3d3d3d;stroke-linejoin:miter;\" x=\"159.221429\" xlink:href=\"#mbcc13a85d9\" y=\"23.812922\"/>\n     <use style=\"fill:#3d3d3d;stroke:#3d3d3d;stroke-linejoin:miter;\" x=\"159.221429\" xlink:href=\"#mbcc13a85d9\" y=\"37.651721\"/>\n     <use style=\"fill:#3d3d3d;stroke:#3d3d3d;stroke-linejoin:miter;\" x=\"159.221429\" xlink:href=\"#mbcc13a85d9\" y=\"24.667169\"/>\n     <use style=\"fill:#3d3d3d;stroke:#3d3d3d;stroke-linejoin:miter;\" x=\"159.221429\" xlink:href=\"#mbcc13a85d9\" y=\"26.033964\"/>\n     <use style=\"fill:#3d3d3d;stroke:#3d3d3d;stroke-linejoin:miter;\" x=\"159.221429\" xlink:href=\"#mbcc13a85d9\" y=\"30.646897\"/>\n     <use style=\"fill:#3d3d3d;stroke:#3d3d3d;stroke-linejoin:miter;\" x=\"159.221429\" xlink:href=\"#mbcc13a85d9\" y=\"37.139173\"/>\n     <use style=\"fill:#3d3d3d;stroke:#3d3d3d;stroke-linejoin:miter;\" x=\"159.221429\" xlink:href=\"#mbcc13a85d9\" y=\"40.556161\"/>\n     <use style=\"fill:#3d3d3d;stroke:#3d3d3d;stroke-linejoin:miter;\" x=\"159.221429\" xlink:href=\"#mbcc13a85d9\" y=\"39.189366\"/>\n     <use style=\"fill:#3d3d3d;stroke:#3d3d3d;stroke-linejoin:miter;\" x=\"159.221429\" xlink:href=\"#mbcc13a85d9\" y=\"38.676818\"/>\n     <use style=\"fill:#3d3d3d;stroke:#3d3d3d;stroke-linejoin:miter;\" x=\"159.221429\" xlink:href=\"#mbcc13a85d9\" y=\"40.897859\"/>\n    </g>\n   </g>\n   <g id=\"line2d_30\">\n    <path clip-path=\"url(#pe11c1efa9d)\" d=\"M 207.05 36.925611 \nL 207.05 43.973148 \n\" style=\"fill:none;stroke:#3d3d3d;stroke-linecap:square;stroke-width:1.5;\"/>\n   </g>\n   <g id=\"line2d_31\">\n    <path clip-path=\"url(#pe11c1efa9d)\" d=\"M 207.05 31.586568 \nL 207.05 23.642073 \n\" style=\"fill:none;stroke:#3d3d3d;stroke-linecap:square;stroke-width:1.5;\"/>\n   </g>\n   <g id=\"line2d_32\">\n    <path clip-path=\"url(#pe11c1efa9d)\" d=\"M 197.484286 43.973148 \nL 216.615714 43.973148 \n\" style=\"fill:none;stroke:#3d3d3d;stroke-linecap:square;stroke-width:1.5;\"/>\n   </g>\n   <g id=\"line2d_33\">\n    <path clip-path=\"url(#pe11c1efa9d)\" d=\"M 197.484286 23.642073 \nL 216.615714 23.642073 \n\" style=\"fill:none;stroke:#3d3d3d;stroke-linecap:square;stroke-width:1.5;\"/>\n   </g>\n   <g id=\"line2d_34\">\n    <g clip-path=\"url(#pe11c1efa9d)\">\n     <use style=\"fill:#3d3d3d;stroke:#3d3d3d;stroke-linejoin:miter;\" x=\"207.05\" xlink:href=\"#mbcc13a85d9\" y=\"22.958675\"/>\n     <use style=\"fill:#3d3d3d;stroke:#3d3d3d;stroke-linejoin:miter;\" x=\"207.05\" xlink:href=\"#mbcc13a85d9\" y=\"18.345742\"/>\n     <use style=\"fill:#3d3d3d;stroke:#3d3d3d;stroke-linejoin:miter;\" x=\"207.05\" xlink:href=\"#mbcc13a85d9\" y=\"19.541688\"/>\n     <use style=\"fill:#3d3d3d;stroke:#3d3d3d;stroke-linejoin:miter;\" x=\"207.05\" xlink:href=\"#mbcc13a85d9\" y=\"18.516591\"/>\n     <use style=\"fill:#3d3d3d;stroke:#3d3d3d;stroke-linejoin:miter;\" x=\"207.05\" xlink:href=\"#mbcc13a85d9\" y=\"18.345742\"/>\n     <use style=\"fill:#3d3d3d;stroke:#3d3d3d;stroke-linejoin:miter;\" x=\"207.05\" xlink:href=\"#mbcc13a85d9\" y=\"23.300374\"/>\n     <use style=\"fill:#3d3d3d;stroke:#3d3d3d;stroke-linejoin:miter;\" x=\"207.05\" xlink:href=\"#mbcc13a85d9\" y=\"22.958675\"/>\n     <use style=\"fill:#3d3d3d;stroke:#3d3d3d;stroke-linejoin:miter;\" x=\"207.05\" xlink:href=\"#mbcc13a85d9\" y=\"23.471223\"/>\n     <use style=\"fill:#3d3d3d;stroke:#3d3d3d;stroke-linejoin:miter;\" x=\"207.05\" xlink:href=\"#mbcc13a85d9\" y=\"23.300374\"/>\n    </g>\n   </g>\n   <g id=\"line2d_35\">\n    <path clip-path=\"url(#pe11c1efa9d)\" d=\"M 254.878571 213.455729 \nL 254.878571 215.67677 \n\" style=\"fill:none;stroke:#3d3d3d;stroke-linecap:square;stroke-width:1.5;\"/>\n   </g>\n   <g id=\"line2d_36\">\n    <path clip-path=\"url(#pe11c1efa9d)\" d=\"M 254.878571 203.221851 \nL 254.878571 187.999172 \n\" style=\"fill:none;stroke:#3d3d3d;stroke-linecap:square;stroke-width:1.5;\"/>\n   </g>\n   <g id=\"line2d_37\">\n    <path clip-path=\"url(#pe11c1efa9d)\" d=\"M 245.312857 215.67677 \nL 264.444286 215.67677 \n\" style=\"fill:none;stroke:#3d3d3d;stroke-linecap:square;stroke-width:1.5;\"/>\n   </g>\n   <g id=\"line2d_38\">\n    <path clip-path=\"url(#pe11c1efa9d)\" d=\"M 245.312857 187.999172 \nL 264.444286 187.999172 \n\" style=\"fill:none;stroke:#3d3d3d;stroke-linecap:square;stroke-width:1.5;\"/>\n   </g>\n   <g id=\"line2d_39\">\n    <g clip-path=\"url(#pe11c1efa9d)\">\n     <use style=\"fill:#3d3d3d;stroke:#3d3d3d;stroke-linejoin:miter;\" x=\"254.878571\" xlink:href=\"#mbcc13a85d9\" y=\"181.848594\"/>\n     <use style=\"fill:#3d3d3d;stroke:#3d3d3d;stroke-linejoin:miter;\" x=\"254.878571\" xlink:href=\"#mbcc13a85d9\" y=\"178.602456\"/>\n     <use style=\"fill:#3d3d3d;stroke:#3d3d3d;stroke-linejoin:miter;\" x=\"254.878571\" xlink:href=\"#mbcc13a85d9\" y=\"185.265582\"/>\n     <use style=\"fill:#3d3d3d;stroke:#3d3d3d;stroke-linejoin:miter;\" x=\"254.878571\" xlink:href=\"#mbcc13a85d9\" y=\"164.763657\"/>\n     <use style=\"fill:#3d3d3d;stroke:#3d3d3d;stroke-linejoin:miter;\" x=\"254.878571\" xlink:href=\"#mbcc13a85d9\" y=\"164.763657\"/>\n     <use style=\"fill:#3d3d3d;stroke:#3d3d3d;stroke-linejoin:miter;\" x=\"254.878571\" xlink:href=\"#mbcc13a85d9\" y=\"173.306125\"/>\n     <use style=\"fill:#3d3d3d;stroke:#3d3d3d;stroke-linejoin:miter;\" x=\"254.878571\" xlink:href=\"#mbcc13a85d9\" y=\"182.361142\"/>\n     <use style=\"fill:#3d3d3d;stroke:#3d3d3d;stroke-linejoin:miter;\" x=\"254.878571\" xlink:href=\"#mbcc13a85d9\" y=\"173.306125\"/>\n     <use style=\"fill:#3d3d3d;stroke:#3d3d3d;stroke-linejoin:miter;\" x=\"254.878571\" xlink:href=\"#mbcc13a85d9\" y=\"147.678719\"/>\n     <use style=\"fill:#3d3d3d;stroke:#3d3d3d;stroke-linejoin:miter;\" x=\"254.878571\" xlink:href=\"#mbcc13a85d9\" y=\"170.743385\"/>\n     <use style=\"fill:#3d3d3d;stroke:#3d3d3d;stroke-linejoin:miter;\" x=\"254.878571\" xlink:href=\"#mbcc13a85d9\" y=\"175.014619\"/>\n     <use style=\"fill:#3d3d3d;stroke:#3d3d3d;stroke-linejoin:miter;\" x=\"254.878571\" xlink:href=\"#mbcc13a85d9\" y=\"181.848594\"/>\n     <use style=\"fill:#3d3d3d;stroke:#3d3d3d;stroke-linejoin:miter;\" x=\"254.878571\" xlink:href=\"#mbcc13a85d9\" y=\"173.306125\"/>\n     <use style=\"fill:#3d3d3d;stroke:#3d3d3d;stroke-linejoin:miter;\" x=\"254.878571\" xlink:href=\"#mbcc13a85d9\" y=\"181.848594\"/>\n     <use style=\"fill:#3d3d3d;stroke:#3d3d3d;stroke-linejoin:miter;\" x=\"254.878571\" xlink:href=\"#mbcc13a85d9\" y=\"147.678719\"/>\n     <use style=\"fill:#3d3d3d;stroke:#3d3d3d;stroke-linejoin:miter;\" x=\"254.878571\" xlink:href=\"#mbcc13a85d9\" y=\"185.726875\"/>\n     <use style=\"fill:#3d3d3d;stroke:#3d3d3d;stroke-linejoin:miter;\" x=\"254.878571\" xlink:href=\"#mbcc13a85d9\" y=\"181.848594\"/>\n     <use style=\"fill:#3d3d3d;stroke:#3d3d3d;stroke-linejoin:miter;\" x=\"254.878571\" xlink:href=\"#mbcc13a85d9\" y=\"185.265582\"/>\n     <use style=\"fill:#3d3d3d;stroke:#3d3d3d;stroke-linejoin:miter;\" x=\"254.878571\" xlink:href=\"#mbcc13a85d9\" y=\"173.306125\"/>\n     <use style=\"fill:#3d3d3d;stroke:#3d3d3d;stroke-linejoin:miter;\" x=\"254.878571\" xlink:href=\"#mbcc13a85d9\" y=\"182.702841\"/>\n     <use style=\"fill:#3d3d3d;stroke:#3d3d3d;stroke-linejoin:miter;\" x=\"254.878571\" xlink:href=\"#mbcc13a85d9\" y=\"183.557088\"/>\n     <use style=\"fill:#3d3d3d;stroke:#3d3d3d;stroke-linejoin:miter;\" x=\"254.878571\" xlink:href=\"#mbcc13a85d9\" y=\"147.678719\"/>\n     <use style=\"fill:#3d3d3d;stroke:#3d3d3d;stroke-linejoin:miter;\" x=\"254.878571\" xlink:href=\"#mbcc13a85d9\" y=\"173.306125\"/>\n     <use style=\"fill:#3d3d3d;stroke:#3d3d3d;stroke-linejoin:miter;\" x=\"254.878571\" xlink:href=\"#mbcc13a85d9\" y=\"164.763657\"/>\n     <use style=\"fill:#3d3d3d;stroke:#3d3d3d;stroke-linejoin:miter;\" x=\"254.878571\" xlink:href=\"#mbcc13a85d9\" y=\"183.557088\"/>\n     <use style=\"fill:#3d3d3d;stroke:#3d3d3d;stroke-linejoin:miter;\" x=\"254.878571\" xlink:href=\"#mbcc13a85d9\" y=\"187.828322\"/>\n     <use style=\"fill:#3d3d3d;stroke:#3d3d3d;stroke-linejoin:miter;\" x=\"254.878571\" xlink:href=\"#mbcc13a85d9\" y=\"181.848594\"/>\n     <use style=\"fill:#3d3d3d;stroke:#3d3d3d;stroke-linejoin:miter;\" x=\"254.878571\" xlink:href=\"#mbcc13a85d9\" y=\"176.723113\"/>\n     <use style=\"fill:#3d3d3d;stroke:#3d3d3d;stroke-linejoin:miter;\" x=\"254.878571\" xlink:href=\"#mbcc13a85d9\" y=\"181.848594\"/>\n     <use style=\"fill:#3d3d3d;stroke:#3d3d3d;stroke-linejoin:miter;\" x=\"254.878571\" xlink:href=\"#mbcc13a85d9\" y=\"147.678719\"/>\n     <use style=\"fill:#3d3d3d;stroke:#3d3d3d;stroke-linejoin:miter;\" x=\"254.878571\" xlink:href=\"#mbcc13a85d9\" y=\"130.593781\"/>\n     <use style=\"fill:#3d3d3d;stroke:#3d3d3d;stroke-linejoin:miter;\" x=\"254.878571\" xlink:href=\"#mbcc13a85d9\" y=\"164.763657\"/>\n     <use style=\"fill:#3d3d3d;stroke:#3d3d3d;stroke-linejoin:miter;\" x=\"254.878571\" xlink:href=\"#mbcc13a85d9\" y=\"181.848594\"/>\n     <use style=\"fill:#3d3d3d;stroke:#3d3d3d;stroke-linejoin:miter;\" x=\"254.878571\" xlink:href=\"#mbcc13a85d9\" y=\"181.848594\"/>\n     <use style=\"fill:#3d3d3d;stroke:#3d3d3d;stroke-linejoin:miter;\" x=\"254.878571\" xlink:href=\"#mbcc13a85d9\" y=\"164.763657\"/>\n     <use style=\"fill:#3d3d3d;stroke:#3d3d3d;stroke-linejoin:miter;\" x=\"254.878571\" xlink:href=\"#mbcc13a85d9\" y=\"186.974075\"/>\n     <use style=\"fill:#3d3d3d;stroke:#3d3d3d;stroke-linejoin:miter;\" x=\"254.878571\" xlink:href=\"#mbcc13a85d9\" y=\"178.431607\"/>\n     <use style=\"fill:#3d3d3d;stroke:#3d3d3d;stroke-linejoin:miter;\" x=\"254.878571\" xlink:href=\"#mbcc13a85d9\" y=\"113.508844\"/>\n     <use style=\"fill:#3d3d3d;stroke:#3d3d3d;stroke-linejoin:miter;\" x=\"254.878571\" xlink:href=\"#mbcc13a85d9\" y=\"183.557088\"/>\n     <use style=\"fill:#3d3d3d;stroke:#3d3d3d;stroke-linejoin:miter;\" x=\"254.878571\" xlink:href=\"#mbcc13a85d9\" y=\"164.763657\"/>\n     <use style=\"fill:#3d3d3d;stroke:#3d3d3d;stroke-linejoin:miter;\" x=\"254.878571\" xlink:href=\"#mbcc13a85d9\" y=\"130.593781\"/>\n     <use style=\"fill:#3d3d3d;stroke:#3d3d3d;stroke-linejoin:miter;\" x=\"254.878571\" xlink:href=\"#mbcc13a85d9\" y=\"149.387213\"/>\n    </g>\n   </g>\n   <g id=\"line2d_40\">\n    <path clip-path=\"url(#pe11c1efa9d)\" d=\"M 302.707143 214.651674 \nL 302.707143 215.84762 \n\" style=\"fill:none;stroke:#3d3d3d;stroke-linecap:square;stroke-width:1.5;\"/>\n   </g>\n   <g id=\"line2d_41\">\n    <path clip-path=\"url(#pe11c1efa9d)\" d=\"M 302.707143 209.526193 \nL 302.707143 201.837971 \n\" style=\"fill:none;stroke:#3d3d3d;stroke-linecap:square;stroke-width:1.5;\"/>\n   </g>\n   <g id=\"line2d_42\">\n    <path clip-path=\"url(#pe11c1efa9d)\" d=\"M 293.141429 215.84762 \nL 312.272857 215.84762 \n\" style=\"fill:none;stroke:#3d3d3d;stroke-linecap:square;stroke-width:1.5;\"/>\n   </g>\n   <g id=\"line2d_43\">\n    <path clip-path=\"url(#pe11c1efa9d)\" d=\"M 293.141429 201.837971 \nL 312.272857 201.837971 \n\" style=\"fill:none;stroke:#3d3d3d;stroke-linecap:square;stroke-width:1.5;\"/>\n   </g>\n   <g id=\"line2d_44\">\n    <g clip-path=\"url(#pe11c1efa9d)\">\n     <use style=\"fill:#3d3d3d;stroke:#3d3d3d;stroke-linejoin:miter;\" x=\"302.707143\" xlink:href=\"#mbcc13a85d9\" y=\"198.933532\"/>\n     <use style=\"fill:#3d3d3d;stroke:#3d3d3d;stroke-linejoin:miter;\" x=\"302.707143\" xlink:href=\"#mbcc13a85d9\" y=\"197.310463\"/>\n     <use style=\"fill:#3d3d3d;stroke:#3d3d3d;stroke-linejoin:miter;\" x=\"302.707143\" xlink:href=\"#mbcc13a85d9\" y=\"200.642025\"/>\n     <use style=\"fill:#3d3d3d;stroke:#3d3d3d;stroke-linejoin:miter;\" x=\"302.707143\" xlink:href=\"#mbcc13a85d9\" y=\"190.391063\"/>\n     <use style=\"fill:#3d3d3d;stroke:#3d3d3d;stroke-linejoin:miter;\" x=\"302.707143\" xlink:href=\"#mbcc13a85d9\" y=\"190.049364\"/>\n     <use style=\"fill:#3d3d3d;stroke:#3d3d3d;stroke-linejoin:miter;\" x=\"302.707143\" xlink:href=\"#mbcc13a85d9\" y=\"194.662297\"/>\n     <use style=\"fill:#3d3d3d;stroke:#3d3d3d;stroke-linejoin:miter;\" x=\"302.707143\" xlink:href=\"#mbcc13a85d9\" y=\"198.933532\"/>\n     <use style=\"fill:#3d3d3d;stroke:#3d3d3d;stroke-linejoin:miter;\" x=\"302.707143\" xlink:href=\"#mbcc13a85d9\" y=\"194.662297\"/>\n     <use style=\"fill:#3d3d3d;stroke:#3d3d3d;stroke-linejoin:miter;\" x=\"302.707143\" xlink:href=\"#mbcc13a85d9\" y=\"181.848594\"/>\n     <use style=\"fill:#3d3d3d;stroke:#3d3d3d;stroke-linejoin:miter;\" x=\"302.707143\" xlink:href=\"#mbcc13a85d9\" y=\"193.380927\"/>\n     <use style=\"fill:#3d3d3d;stroke:#3d3d3d;stroke-linejoin:miter;\" x=\"302.707143\" xlink:href=\"#mbcc13a85d9\" y=\"195.516544\"/>\n     <use style=\"fill:#3d3d3d;stroke:#3d3d3d;stroke-linejoin:miter;\" x=\"302.707143\" xlink:href=\"#mbcc13a85d9\" y=\"198.933532\"/>\n     <use style=\"fill:#3d3d3d;stroke:#3d3d3d;stroke-linejoin:miter;\" x=\"302.707143\" xlink:href=\"#mbcc13a85d9\" y=\"194.662297\"/>\n     <use style=\"fill:#3d3d3d;stroke:#3d3d3d;stroke-linejoin:miter;\" x=\"302.707143\" xlink:href=\"#mbcc13a85d9\" y=\"198.933532\"/>\n     <use style=\"fill:#3d3d3d;stroke:#3d3d3d;stroke-linejoin:miter;\" x=\"302.707143\" xlink:href=\"#mbcc13a85d9\" y=\"181.848594\"/>\n     <use style=\"fill:#3d3d3d;stroke:#3d3d3d;stroke-linejoin:miter;\" x=\"302.707143\" xlink:href=\"#mbcc13a85d9\" y=\"200.86413\"/>\n     <use style=\"fill:#3d3d3d;stroke:#3d3d3d;stroke-linejoin:miter;\" x=\"302.707143\" xlink:href=\"#mbcc13a85d9\" y=\"198.591833\"/>\n     <use style=\"fill:#3d3d3d;stroke:#3d3d3d;stroke-linejoin:miter;\" x=\"302.707143\" xlink:href=\"#mbcc13a85d9\" y=\"200.642025\"/>\n     <use style=\"fill:#3d3d3d;stroke:#3d3d3d;stroke-linejoin:miter;\" x=\"302.707143\" xlink:href=\"#mbcc13a85d9\" y=\"194.320598\"/>\n     <use style=\"fill:#3d3d3d;stroke:#3d3d3d;stroke-linejoin:miter;\" x=\"302.707143\" xlink:href=\"#mbcc13a85d9\" y=\"199.360655\"/>\n     <use style=\"fill:#3d3d3d;stroke:#3d3d3d;stroke-linejoin:miter;\" x=\"302.707143\" xlink:href=\"#mbcc13a85d9\" y=\"199.787779\"/>\n     <use style=\"fill:#3d3d3d;stroke:#3d3d3d;stroke-linejoin:miter;\" x=\"302.707143\" xlink:href=\"#mbcc13a85d9\" y=\"181.848594\"/>\n     <use style=\"fill:#3d3d3d;stroke:#3d3d3d;stroke-linejoin:miter;\" x=\"302.707143\" xlink:href=\"#mbcc13a85d9\" y=\"194.320598\"/>\n     <use style=\"fill:#3d3d3d;stroke:#3d3d3d;stroke-linejoin:miter;\" x=\"302.707143\" xlink:href=\"#mbcc13a85d9\" y=\"190.049364\"/>\n     <use style=\"fill:#3d3d3d;stroke:#3d3d3d;stroke-linejoin:miter;\" x=\"302.707143\" xlink:href=\"#mbcc13a85d9\" y=\"199.787779\"/>\n     <use style=\"fill:#3d3d3d;stroke:#3d3d3d;stroke-linejoin:miter;\" x=\"302.707143\" xlink:href=\"#mbcc13a85d9\" y=\"198.933532\"/>\n     <use style=\"fill:#3d3d3d;stroke:#3d3d3d;stroke-linejoin:miter;\" x=\"302.707143\" xlink:href=\"#mbcc13a85d9\" y=\"196.370791\"/>\n     <use style=\"fill:#3d3d3d;stroke:#3d3d3d;stroke-linejoin:miter;\" x=\"302.707143\" xlink:href=\"#mbcc13a85d9\" y=\"198.933532\"/>\n     <use style=\"fill:#3d3d3d;stroke:#3d3d3d;stroke-linejoin:miter;\" x=\"302.707143\" xlink:href=\"#mbcc13a85d9\" y=\"181.848594\"/>\n     <use style=\"fill:#3d3d3d;stroke:#3d3d3d;stroke-linejoin:miter;\" x=\"302.707143\" xlink:href=\"#mbcc13a85d9\" y=\"172.622728\"/>\n     <use style=\"fill:#3d3d3d;stroke:#3d3d3d;stroke-linejoin:miter;\" x=\"302.707143\" xlink:href=\"#mbcc13a85d9\" y=\"190.049364\"/>\n     <use style=\"fill:#3d3d3d;stroke:#3d3d3d;stroke-linejoin:miter;\" x=\"302.707143\" xlink:href=\"#mbcc13a85d9\" y=\"198.660173\"/>\n     <use style=\"fill:#3d3d3d;stroke:#3d3d3d;stroke-linejoin:miter;\" x=\"302.707143\" xlink:href=\"#mbcc13a85d9\" y=\"198.660173\"/>\n     <use style=\"fill:#3d3d3d;stroke:#3d3d3d;stroke-linejoin:miter;\" x=\"302.707143\" xlink:href=\"#mbcc13a85d9\" y=\"190.049364\"/>\n     <use style=\"fill:#3d3d3d;stroke:#3d3d3d;stroke-linejoin:miter;\" x=\"302.707143\" xlink:href=\"#mbcc13a85d9\" y=\"201.263917\"/>\n     <use style=\"fill:#3d3d3d;stroke:#3d3d3d;stroke-linejoin:miter;\" x=\"302.707143\" xlink:href=\"#mbcc13a85d9\" y=\"196.883339\"/>\n     <use style=\"fill:#3d3d3d;stroke:#3d3d3d;stroke-linejoin:miter;\" x=\"302.707143\" xlink:href=\"#mbcc13a85d9\" y=\"163.90941\"/>\n     <use style=\"fill:#3d3d3d;stroke:#3d3d3d;stroke-linejoin:miter;\" x=\"302.707143\" xlink:href=\"#mbcc13a85d9\" y=\"199.616929\"/>\n     <use style=\"fill:#3d3d3d;stroke:#3d3d3d;stroke-linejoin:miter;\" x=\"302.707143\" xlink:href=\"#mbcc13a85d9\" y=\"190.049364\"/>\n     <use style=\"fill:#3d3d3d;stroke:#3d3d3d;stroke-linejoin:miter;\" x=\"302.707143\" xlink:href=\"#mbcc13a85d9\" y=\"172.622728\"/>\n     <use style=\"fill:#3d3d3d;stroke:#3d3d3d;stroke-linejoin:miter;\" x=\"302.707143\" xlink:href=\"#mbcc13a85d9\" y=\"182.190293\"/>\n    </g>\n   </g>\n   <g id=\"line2d_45\">\n    <path clip-path=\"url(#pe11c1efa9d)\" d=\"M 350.535714 215.266732 \nL 350.535714 215.266732 \n\" style=\"fill:none;stroke:#3d3d3d;stroke-linecap:square;stroke-width:1.5;\"/>\n   </g>\n   <g id=\"line2d_46\">\n    <path clip-path=\"url(#pe11c1efa9d)\" d=\"M 350.535714 215.266732 \nL 350.535714 215.266732 \n\" style=\"fill:none;stroke:#3d3d3d;stroke-linecap:square;stroke-width:1.5;\"/>\n   </g>\n   <g id=\"line2d_47\">\n    <path clip-path=\"url(#pe11c1efa9d)\" d=\"M 340.97 215.266732 \nL 360.101429 215.266732 \n\" style=\"fill:none;stroke:#3d3d3d;stroke-linecap:square;stroke-width:1.5;\"/>\n   </g>\n   <g id=\"line2d_48\">\n    <path clip-path=\"url(#pe11c1efa9d)\" d=\"M 340.97 215.266732 \nL 360.101429 215.266732 \n\" style=\"fill:none;stroke:#3d3d3d;stroke-linecap:square;stroke-width:1.5;\"/>\n   </g>\n   <g id=\"line2d_49\">\n    <g clip-path=\"url(#pe11c1efa9d)\">\n     <use style=\"fill:#3d3d3d;stroke:#3d3d3d;stroke-linejoin:miter;\" x=\"350.535714\" xlink:href=\"#mbcc13a85d9\" y=\"215.471751\"/>\n     <use style=\"fill:#3d3d3d;stroke:#3d3d3d;stroke-linejoin:miter;\" x=\"350.535714\" xlink:href=\"#mbcc13a85d9\" y=\"215.300902\"/>\n     <use style=\"fill:#3d3d3d;stroke:#3d3d3d;stroke-linejoin:miter;\" x=\"350.535714\" xlink:href=\"#mbcc13a85d9\" y=\"215.335072\"/>\n     <use style=\"fill:#3d3d3d;stroke:#3d3d3d;stroke-linejoin:miter;\" x=\"350.535714\" xlink:href=\"#mbcc13a85d9\" y=\"215.283817\"/>\n     <use style=\"fill:#3d3d3d;stroke:#3d3d3d;stroke-linejoin:miter;\" x=\"350.535714\" xlink:href=\"#mbcc13a85d9\" y=\"215.300902\"/>\n     <use style=\"fill:#3d3d3d;stroke:#3d3d3d;stroke-linejoin:miter;\" x=\"350.535714\" xlink:href=\"#mbcc13a85d9\" y=\"215.300902\"/>\n     <use style=\"fill:#3d3d3d;stroke:#3d3d3d;stroke-linejoin:miter;\" x=\"350.535714\" xlink:href=\"#mbcc13a85d9\" y=\"215.471751\"/>\n     <use style=\"fill:#3d3d3d;stroke:#3d3d3d;stroke-linejoin:miter;\" x=\"350.535714\" xlink:href=\"#mbcc13a85d9\" y=\"215.335072\"/>\n     <use style=\"fill:#3d3d3d;stroke:#3d3d3d;stroke-linejoin:miter;\" x=\"350.535714\" xlink:href=\"#mbcc13a85d9\" y=\"215.300902\"/>\n     <use style=\"fill:#3d3d3d;stroke:#3d3d3d;stroke-linejoin:miter;\" x=\"350.535714\" xlink:href=\"#mbcc13a85d9\" y=\"215.283817\"/>\n     <use style=\"fill:#3d3d3d;stroke:#3d3d3d;stroke-linejoin:miter;\" x=\"350.535714\" xlink:href=\"#mbcc13a85d9\" y=\"215.420496\"/>\n     <use style=\"fill:#3d3d3d;stroke:#3d3d3d;stroke-linejoin:miter;\" x=\"350.535714\" xlink:href=\"#mbcc13a85d9\" y=\"215.403411\"/>\n     <use style=\"fill:#3d3d3d;stroke:#3d3d3d;stroke-linejoin:miter;\" x=\"350.535714\" xlink:href=\"#mbcc13a85d9\" y=\"215.335072\"/>\n     <use style=\"fill:#3d3d3d;stroke:#3d3d3d;stroke-linejoin:miter;\" x=\"350.535714\" xlink:href=\"#mbcc13a85d9\" y=\"215.317987\"/>\n     <use style=\"fill:#3d3d3d;stroke:#3d3d3d;stroke-linejoin:miter;\" x=\"350.535714\" xlink:href=\"#mbcc13a85d9\" y=\"215.300902\"/>\n     <use style=\"fill:#3d3d3d;stroke:#3d3d3d;stroke-linejoin:miter;\" x=\"350.535714\" xlink:href=\"#mbcc13a85d9\" y=\"215.300902\"/>\n     <use style=\"fill:#3d3d3d;stroke:#3d3d3d;stroke-linejoin:miter;\" x=\"350.535714\" xlink:href=\"#mbcc13a85d9\" y=\"215.283817\"/>\n     <use style=\"fill:#3d3d3d;stroke:#3d3d3d;stroke-linejoin:miter;\" x=\"350.535714\" xlink:href=\"#mbcc13a85d9\" y=\"215.300902\"/>\n     <use style=\"fill:#3d3d3d;stroke:#3d3d3d;stroke-linejoin:miter;\" x=\"350.535714\" xlink:href=\"#mbcc13a85d9\" y=\"215.317987\"/>\n     <use style=\"fill:#3d3d3d;stroke:#3d3d3d;stroke-linejoin:miter;\" x=\"350.535714\" xlink:href=\"#mbcc13a85d9\" y=\"215.283817\"/>\n     <use style=\"fill:#3d3d3d;stroke:#3d3d3d;stroke-linejoin:miter;\" x=\"350.535714\" xlink:href=\"#mbcc13a85d9\" y=\"215.300902\"/>\n     <use style=\"fill:#3d3d3d;stroke:#3d3d3d;stroke-linejoin:miter;\" x=\"350.535714\" xlink:href=\"#mbcc13a85d9\" y=\"215.300902\"/>\n     <use style=\"fill:#3d3d3d;stroke:#3d3d3d;stroke-linejoin:miter;\" x=\"350.535714\" xlink:href=\"#mbcc13a85d9\" y=\"215.300902\"/>\n     <use style=\"fill:#3d3d3d;stroke:#3d3d3d;stroke-linejoin:miter;\" x=\"350.535714\" xlink:href=\"#mbcc13a85d9\" y=\"215.283817\"/>\n     <use style=\"fill:#3d3d3d;stroke:#3d3d3d;stroke-linejoin:miter;\" x=\"350.535714\" xlink:href=\"#mbcc13a85d9\" y=\"215.300902\"/>\n     <use style=\"fill:#3d3d3d;stroke:#3d3d3d;stroke-linejoin:miter;\" x=\"350.535714\" xlink:href=\"#mbcc13a85d9\" y=\"215.471751\"/>\n     <use style=\"fill:#3d3d3d;stroke:#3d3d3d;stroke-linejoin:miter;\" x=\"350.535714\" xlink:href=\"#mbcc13a85d9\" y=\"215.317987\"/>\n     <use style=\"fill:#3d3d3d;stroke:#3d3d3d;stroke-linejoin:miter;\" x=\"350.535714\" xlink:href=\"#mbcc13a85d9\" y=\"215.317987\"/>\n     <use style=\"fill:#3d3d3d;stroke:#3d3d3d;stroke-linejoin:miter;\" x=\"350.535714\" xlink:href=\"#mbcc13a85d9\" y=\"215.283817\"/>\n     <use style=\"fill:#3d3d3d;stroke:#3d3d3d;stroke-linejoin:miter;\" x=\"350.535714\" xlink:href=\"#mbcc13a85d9\" y=\"215.300902\"/>\n     <use style=\"fill:#3d3d3d;stroke:#3d3d3d;stroke-linejoin:miter;\" x=\"350.535714\" xlink:href=\"#mbcc13a85d9\" y=\"215.300902\"/>\n     <use style=\"fill:#3d3d3d;stroke:#3d3d3d;stroke-linejoin:miter;\" x=\"350.535714\" xlink:href=\"#mbcc13a85d9\" y=\"215.471751\"/>\n     <use style=\"fill:#3d3d3d;stroke:#3d3d3d;stroke-linejoin:miter;\" x=\"350.535714\" xlink:href=\"#mbcc13a85d9\" y=\"215.300902\"/>\n     <use style=\"fill:#3d3d3d;stroke:#3d3d3d;stroke-linejoin:miter;\" x=\"350.535714\" xlink:href=\"#mbcc13a85d9\" y=\"215.335072\"/>\n     <use style=\"fill:#3d3d3d;stroke:#3d3d3d;stroke-linejoin:miter;\" x=\"350.535714\" xlink:href=\"#mbcc13a85d9\" y=\"215.300902\"/>\n     <use style=\"fill:#3d3d3d;stroke:#3d3d3d;stroke-linejoin:miter;\" x=\"350.535714\" xlink:href=\"#mbcc13a85d9\" y=\"215.300902\"/>\n     <use style=\"fill:#3d3d3d;stroke:#3d3d3d;stroke-linejoin:miter;\" x=\"350.535714\" xlink:href=\"#mbcc13a85d9\" y=\"215.300902\"/>\n     <use style=\"fill:#3d3d3d;stroke:#3d3d3d;stroke-linejoin:miter;\" x=\"350.535714\" xlink:href=\"#mbcc13a85d9\" y=\"215.300902\"/>\n     <use style=\"fill:#3d3d3d;stroke:#3d3d3d;stroke-linejoin:miter;\" x=\"350.535714\" xlink:href=\"#mbcc13a85d9\" y=\"215.300902\"/>\n     <use style=\"fill:#3d3d3d;stroke:#3d3d3d;stroke-linejoin:miter;\" x=\"350.535714\" xlink:href=\"#mbcc13a85d9\" y=\"215.300902\"/>\n     <use style=\"fill:#3d3d3d;stroke:#3d3d3d;stroke-linejoin:miter;\" x=\"350.535714\" xlink:href=\"#mbcc13a85d9\" y=\"215.471751\"/>\n     <use style=\"fill:#3d3d3d;stroke:#3d3d3d;stroke-linejoin:miter;\" x=\"350.535714\" xlink:href=\"#mbcc13a85d9\" y=\"215.471751\"/>\n     <use style=\"fill:#3d3d3d;stroke:#3d3d3d;stroke-linejoin:miter;\" x=\"350.535714\" xlink:href=\"#mbcc13a85d9\" y=\"215.300902\"/>\n     <use style=\"fill:#3d3d3d;stroke:#3d3d3d;stroke-linejoin:miter;\" x=\"350.535714\" xlink:href=\"#mbcc13a85d9\" y=\"215.300902\"/>\n     <use style=\"fill:#3d3d3d;stroke:#3d3d3d;stroke-linejoin:miter;\" x=\"350.535714\" xlink:href=\"#mbcc13a85d9\" y=\"215.317987\"/>\n     <use style=\"fill:#3d3d3d;stroke:#3d3d3d;stroke-linejoin:miter;\" x=\"350.535714\" xlink:href=\"#mbcc13a85d9\" y=\"215.300902\"/>\n     <use style=\"fill:#3d3d3d;stroke:#3d3d3d;stroke-linejoin:miter;\" x=\"350.535714\" xlink:href=\"#mbcc13a85d9\" y=\"215.300902\"/>\n     <use style=\"fill:#3d3d3d;stroke:#3d3d3d;stroke-linejoin:miter;\" x=\"350.535714\" xlink:href=\"#mbcc13a85d9\" y=\"215.300902\"/>\n     <use style=\"fill:#3d3d3d;stroke:#3d3d3d;stroke-linejoin:miter;\" x=\"350.535714\" xlink:href=\"#mbcc13a85d9\" y=\"215.283817\"/>\n     <use style=\"fill:#3d3d3d;stroke:#3d3d3d;stroke-linejoin:miter;\" x=\"350.535714\" xlink:href=\"#mbcc13a85d9\" y=\"215.300902\"/>\n     <use style=\"fill:#3d3d3d;stroke:#3d3d3d;stroke-linejoin:miter;\" x=\"350.535714\" xlink:href=\"#mbcc13a85d9\" y=\"215.335072\"/>\n     <use style=\"fill:#3d3d3d;stroke:#3d3d3d;stroke-linejoin:miter;\" x=\"350.535714\" xlink:href=\"#mbcc13a85d9\" y=\"215.317987\"/>\n     <use style=\"fill:#3d3d3d;stroke:#3d3d3d;stroke-linejoin:miter;\" x=\"350.535714\" xlink:href=\"#mbcc13a85d9\" y=\"215.300902\"/>\n     <use style=\"fill:#3d3d3d;stroke:#3d3d3d;stroke-linejoin:miter;\" x=\"350.535714\" xlink:href=\"#mbcc13a85d9\" y=\"215.283817\"/>\n     <use style=\"fill:#3d3d3d;stroke:#3d3d3d;stroke-linejoin:miter;\" x=\"350.535714\" xlink:href=\"#mbcc13a85d9\" y=\"215.317987\"/>\n     <use style=\"fill:#3d3d3d;stroke:#3d3d3d;stroke-linejoin:miter;\" x=\"350.535714\" xlink:href=\"#mbcc13a85d9\" y=\"215.300902\"/>\n     <use style=\"fill:#3d3d3d;stroke:#3d3d3d;stroke-linejoin:miter;\" x=\"350.535714\" xlink:href=\"#mbcc13a85d9\" y=\"215.369242\"/>\n     <use style=\"fill:#3d3d3d;stroke:#3d3d3d;stroke-linejoin:miter;\" x=\"350.535714\" xlink:href=\"#mbcc13a85d9\" y=\"215.283817\"/>\n     <use style=\"fill:#3d3d3d;stroke:#3d3d3d;stroke-linejoin:miter;\" x=\"350.535714\" xlink:href=\"#mbcc13a85d9\" y=\"215.317987\"/>\n     <use style=\"fill:#3d3d3d;stroke:#3d3d3d;stroke-linejoin:miter;\" x=\"350.535714\" xlink:href=\"#mbcc13a85d9\" y=\"215.283817\"/>\n     <use style=\"fill:#3d3d3d;stroke:#3d3d3d;stroke-linejoin:miter;\" x=\"350.535714\" xlink:href=\"#mbcc13a85d9\" y=\"215.317987\"/>\n     <use style=\"fill:#3d3d3d;stroke:#3d3d3d;stroke-linejoin:miter;\" x=\"350.535714\" xlink:href=\"#mbcc13a85d9\" y=\"215.369242\"/>\n     <use style=\"fill:#3d3d3d;stroke:#3d3d3d;stroke-linejoin:miter;\" x=\"350.535714\" xlink:href=\"#mbcc13a85d9\" y=\"215.317987\"/>\n     <use style=\"fill:#3d3d3d;stroke:#3d3d3d;stroke-linejoin:miter;\" x=\"350.535714\" xlink:href=\"#mbcc13a85d9\" y=\"215.300902\"/>\n     <use style=\"fill:#3d3d3d;stroke:#3d3d3d;stroke-linejoin:miter;\" x=\"350.535714\" xlink:href=\"#mbcc13a85d9\" y=\"215.317987\"/>\n     <use style=\"fill:#3d3d3d;stroke:#3d3d3d;stroke-linejoin:miter;\" x=\"350.535714\" xlink:href=\"#mbcc13a85d9\" y=\"215.420496\"/>\n     <use style=\"fill:#3d3d3d;stroke:#3d3d3d;stroke-linejoin:miter;\" x=\"350.535714\" xlink:href=\"#mbcc13a85d9\" y=\"215.300902\"/>\n     <use style=\"fill:#3d3d3d;stroke:#3d3d3d;stroke-linejoin:miter;\" x=\"350.535714\" xlink:href=\"#mbcc13a85d9\" y=\"215.300902\"/>\n     <use style=\"fill:#3d3d3d;stroke:#3d3d3d;stroke-linejoin:miter;\" x=\"350.535714\" xlink:href=\"#mbcc13a85d9\" y=\"215.300902\"/>\n     <use style=\"fill:#3d3d3d;stroke:#3d3d3d;stroke-linejoin:miter;\" x=\"350.535714\" xlink:href=\"#mbcc13a85d9\" y=\"215.300902\"/>\n     <use style=\"fill:#3d3d3d;stroke:#3d3d3d;stroke-linejoin:miter;\" x=\"350.535714\" xlink:href=\"#mbcc13a85d9\" y=\"215.300902\"/>\n     <use style=\"fill:#3d3d3d;stroke:#3d3d3d;stroke-linejoin:miter;\" x=\"350.535714\" xlink:href=\"#mbcc13a85d9\" y=\"215.300902\"/>\n     <use style=\"fill:#3d3d3d;stroke:#3d3d3d;stroke-linejoin:miter;\" x=\"350.535714\" xlink:href=\"#mbcc13a85d9\" y=\"215.300902\"/>\n     <use style=\"fill:#3d3d3d;stroke:#3d3d3d;stroke-linejoin:miter;\" x=\"350.535714\" xlink:href=\"#mbcc13a85d9\" y=\"215.283817\"/>\n     <use style=\"fill:#3d3d3d;stroke:#3d3d3d;stroke-linejoin:miter;\" x=\"350.535714\" xlink:href=\"#mbcc13a85d9\" y=\"215.300902\"/>\n     <use style=\"fill:#3d3d3d;stroke:#3d3d3d;stroke-linejoin:miter;\" x=\"350.535714\" xlink:href=\"#mbcc13a85d9\" y=\"215.300902\"/>\n     <use style=\"fill:#3d3d3d;stroke:#3d3d3d;stroke-linejoin:miter;\" x=\"350.535714\" xlink:href=\"#mbcc13a85d9\" y=\"215.112967\"/>\n     <use style=\"fill:#3d3d3d;stroke:#3d3d3d;stroke-linejoin:miter;\" x=\"350.535714\" xlink:href=\"#mbcc13a85d9\" y=\"215.061713\"/>\n     <use style=\"fill:#3d3d3d;stroke:#3d3d3d;stroke-linejoin:miter;\" x=\"350.535714\" xlink:href=\"#mbcc13a85d9\" y=\"215.130052\"/>\n     <use style=\"fill:#3d3d3d;stroke:#3d3d3d;stroke-linejoin:miter;\" x=\"350.535714\" xlink:href=\"#mbcc13a85d9\" y=\"215.130052\"/>\n     <use style=\"fill:#3d3d3d;stroke:#3d3d3d;stroke-linejoin:miter;\" x=\"350.535714\" xlink:href=\"#mbcc13a85d9\" y=\"215.112967\"/>\n     <use style=\"fill:#3d3d3d;stroke:#3d3d3d;stroke-linejoin:miter;\" x=\"350.535714\" xlink:href=\"#mbcc13a85d9\" y=\"215.249647\"/>\n     <use style=\"fill:#3d3d3d;stroke:#3d3d3d;stroke-linejoin:miter;\" x=\"350.535714\" xlink:href=\"#mbcc13a85d9\" y=\"215.130052\"/>\n     <use style=\"fill:#3d3d3d;stroke:#3d3d3d;stroke-linejoin:miter;\" x=\"350.535714\" xlink:href=\"#mbcc13a85d9\" y=\"215.130052\"/>\n     <use style=\"fill:#3d3d3d;stroke:#3d3d3d;stroke-linejoin:miter;\" x=\"350.535714\" xlink:href=\"#mbcc13a85d9\" y=\"215.130052\"/>\n     <use style=\"fill:#3d3d3d;stroke:#3d3d3d;stroke-linejoin:miter;\" x=\"350.535714\" xlink:href=\"#mbcc13a85d9\" y=\"215.130052\"/>\n     <use style=\"fill:#3d3d3d;stroke:#3d3d3d;stroke-linejoin:miter;\" x=\"350.535714\" xlink:href=\"#mbcc13a85d9\" y=\"215.130052\"/>\n     <use style=\"fill:#3d3d3d;stroke:#3d3d3d;stroke-linejoin:miter;\" x=\"350.535714\" xlink:href=\"#mbcc13a85d9\" y=\"215.112967\"/>\n     <use style=\"fill:#3d3d3d;stroke:#3d3d3d;stroke-linejoin:miter;\" x=\"350.535714\" xlink:href=\"#mbcc13a85d9\" y=\"215.130052\"/>\n     <use style=\"fill:#3d3d3d;stroke:#3d3d3d;stroke-linejoin:miter;\" x=\"350.535714\" xlink:href=\"#mbcc13a85d9\" y=\"215.130052\"/>\n     <use style=\"fill:#3d3d3d;stroke:#3d3d3d;stroke-linejoin:miter;\" x=\"350.535714\" xlink:href=\"#mbcc13a85d9\" y=\"215.130052\"/>\n     <use style=\"fill:#3d3d3d;stroke:#3d3d3d;stroke-linejoin:miter;\" x=\"350.535714\" xlink:href=\"#mbcc13a85d9\" y=\"215.130052\"/>\n     <use style=\"fill:#3d3d3d;stroke:#3d3d3d;stroke-linejoin:miter;\" x=\"350.535714\" xlink:href=\"#mbcc13a85d9\" y=\"215.130052\"/>\n     <use style=\"fill:#3d3d3d;stroke:#3d3d3d;stroke-linejoin:miter;\" x=\"350.535714\" xlink:href=\"#mbcc13a85d9\" y=\"215.130052\"/>\n     <use style=\"fill:#3d3d3d;stroke:#3d3d3d;stroke-linejoin:miter;\" x=\"350.535714\" xlink:href=\"#mbcc13a85d9\" y=\"215.130052\"/>\n     <use style=\"fill:#3d3d3d;stroke:#3d3d3d;stroke-linejoin:miter;\" x=\"350.535714\" xlink:href=\"#mbcc13a85d9\" y=\"215.130052\"/>\n     <use style=\"fill:#3d3d3d;stroke:#3d3d3d;stroke-linejoin:miter;\" x=\"350.535714\" xlink:href=\"#mbcc13a85d9\" y=\"215.249647\"/>\n     <use style=\"fill:#3d3d3d;stroke:#3d3d3d;stroke-linejoin:miter;\" x=\"350.535714\" xlink:href=\"#mbcc13a85d9\" y=\"215.249647\"/>\n     <use style=\"fill:#3d3d3d;stroke:#3d3d3d;stroke-linejoin:miter;\" x=\"350.535714\" xlink:href=\"#mbcc13a85d9\" y=\"215.130052\"/>\n     <use style=\"fill:#3d3d3d;stroke:#3d3d3d;stroke-linejoin:miter;\" x=\"350.535714\" xlink:href=\"#mbcc13a85d9\" y=\"215.130052\"/>\n     <use style=\"fill:#3d3d3d;stroke:#3d3d3d;stroke-linejoin:miter;\" x=\"350.535714\" xlink:href=\"#mbcc13a85d9\" y=\"215.130052\"/>\n     <use style=\"fill:#3d3d3d;stroke:#3d3d3d;stroke-linejoin:miter;\" x=\"350.535714\" xlink:href=\"#mbcc13a85d9\" y=\"215.130052\"/>\n     <use style=\"fill:#3d3d3d;stroke:#3d3d3d;stroke-linejoin:miter;\" x=\"350.535714\" xlink:href=\"#mbcc13a85d9\" y=\"215.130052\"/>\n     <use style=\"fill:#3d3d3d;stroke:#3d3d3d;stroke-linejoin:miter;\" x=\"350.535714\" xlink:href=\"#mbcc13a85d9\" y=\"215.130052\"/>\n     <use style=\"fill:#3d3d3d;stroke:#3d3d3d;stroke-linejoin:miter;\" x=\"350.535714\" xlink:href=\"#mbcc13a85d9\" y=\"215.130052\"/>\n     <use style=\"fill:#3d3d3d;stroke:#3d3d3d;stroke-linejoin:miter;\" x=\"350.535714\" xlink:href=\"#mbcc13a85d9\" y=\"215.147137\"/>\n     <use style=\"fill:#3d3d3d;stroke:#3d3d3d;stroke-linejoin:miter;\" x=\"350.535714\" xlink:href=\"#mbcc13a85d9\" y=\"215.130052\"/>\n     <use style=\"fill:#3d3d3d;stroke:#3d3d3d;stroke-linejoin:miter;\" x=\"350.535714\" xlink:href=\"#mbcc13a85d9\" y=\"215.130052\"/>\n     <use style=\"fill:#3d3d3d;stroke:#3d3d3d;stroke-linejoin:miter;\" x=\"350.535714\" xlink:href=\"#mbcc13a85d9\" y=\"215.147137\"/>\n     <use style=\"fill:#3d3d3d;stroke:#3d3d3d;stroke-linejoin:miter;\" x=\"350.535714\" xlink:href=\"#mbcc13a85d9\" y=\"215.130052\"/>\n     <use style=\"fill:#3d3d3d;stroke:#3d3d3d;stroke-linejoin:miter;\" x=\"350.535714\" xlink:href=\"#mbcc13a85d9\" y=\"215.147137\"/>\n     <use style=\"fill:#3d3d3d;stroke:#3d3d3d;stroke-linejoin:miter;\" x=\"350.535714\" xlink:href=\"#mbcc13a85d9\" y=\"215.130052\"/>\n     <use style=\"fill:#3d3d3d;stroke:#3d3d3d;stroke-linejoin:miter;\" x=\"350.535714\" xlink:href=\"#mbcc13a85d9\" y=\"215.112967\"/>\n     <use style=\"fill:#3d3d3d;stroke:#3d3d3d;stroke-linejoin:miter;\" x=\"350.535714\" xlink:href=\"#mbcc13a85d9\" y=\"215.147137\"/>\n     <use style=\"fill:#3d3d3d;stroke:#3d3d3d;stroke-linejoin:miter;\" x=\"350.535714\" xlink:href=\"#mbcc13a85d9\" y=\"215.130052\"/>\n     <use style=\"fill:#3d3d3d;stroke:#3d3d3d;stroke-linejoin:miter;\" x=\"350.535714\" xlink:href=\"#mbcc13a85d9\" y=\"215.130052\"/>\n     <use style=\"fill:#3d3d3d;stroke:#3d3d3d;stroke-linejoin:miter;\" x=\"350.535714\" xlink:href=\"#mbcc13a85d9\" y=\"215.249647\"/>\n     <use style=\"fill:#3d3d3d;stroke:#3d3d3d;stroke-linejoin:miter;\" x=\"350.535714\" xlink:href=\"#mbcc13a85d9\" y=\"215.232562\"/>\n     <use style=\"fill:#3d3d3d;stroke:#3d3d3d;stroke-linejoin:miter;\" x=\"350.535714\" xlink:href=\"#mbcc13a85d9\" y=\"215.232562\"/>\n     <use style=\"fill:#3d3d3d;stroke:#3d3d3d;stroke-linejoin:miter;\" x=\"350.535714\" xlink:href=\"#mbcc13a85d9\" y=\"215.232562\"/>\n     <use style=\"fill:#3d3d3d;stroke:#3d3d3d;stroke-linejoin:miter;\" x=\"350.535714\" xlink:href=\"#mbcc13a85d9\" y=\"215.232562\"/>\n     <use style=\"fill:#3d3d3d;stroke:#3d3d3d;stroke-linejoin:miter;\" x=\"350.535714\" xlink:href=\"#mbcc13a85d9\" y=\"215.232562\"/>\n     <use style=\"fill:#3d3d3d;stroke:#3d3d3d;stroke-linejoin:miter;\" x=\"350.535714\" xlink:href=\"#mbcc13a85d9\" y=\"215.232562\"/>\n     <use style=\"fill:#3d3d3d;stroke:#3d3d3d;stroke-linejoin:miter;\" x=\"350.535714\" xlink:href=\"#mbcc13a85d9\" y=\"202.521369\"/>\n     <use style=\"fill:#3d3d3d;stroke:#3d3d3d;stroke-linejoin:miter;\" x=\"350.535714\" xlink:href=\"#mbcc13a85d9\" y=\"215.232562\"/>\n     <use style=\"fill:#3d3d3d;stroke:#3d3d3d;stroke-linejoin:miter;\" x=\"350.535714\" xlink:href=\"#mbcc13a85d9\" y=\"215.232562\"/>\n    </g>\n   </g>\n   <g id=\"line2d_50\">\n    <path clip-path=\"url(#pe11c1efa9d)\" d=\"M 44.432857 214.788354 \nL 82.695714 214.788354 \n\" style=\"fill:none;stroke:#3d3d3d;stroke-linecap:square;stroke-width:1.5;\"/>\n   </g>\n   <g id=\"line2d_51\">\n    <path clip-path=\"url(#pe11c1efa9d)\" d=\"M 92.261429 207.476 \nL 130.524286 207.476 \n\" style=\"fill:none;stroke:#3d3d3d;stroke-linecap:square;stroke-width:1.5;\"/>\n   </g>\n   <g id=\"line2d_52\">\n    <path clip-path=\"url(#pe11c1efa9d)\" d=\"M 140.09 43.118901 \nL 178.352857 43.118901 \n\" style=\"fill:none;stroke:#3d3d3d;stroke-linecap:square;stroke-width:1.5;\"/>\n   </g>\n   <g id=\"line2d_53\">\n    <path clip-path=\"url(#pe11c1efa9d)\" d=\"M 187.918571 34.063884 \nL 226.181429 34.063884 \n\" style=\"fill:none;stroke:#3d3d3d;stroke-linecap:square;stroke-width:1.5;\"/>\n   </g>\n   <g id=\"line2d_54\">\n    <path clip-path=\"url(#pe11c1efa9d)\" d=\"M 235.747143 210.892988 \nL 274.01 210.892988 \n\" style=\"fill:none;stroke:#3d3d3d;stroke-linecap:square;stroke-width:1.5;\"/>\n   </g>\n   <g id=\"line2d_55\">\n    <path clip-path=\"url(#pe11c1efa9d)\" d=\"M 283.575714 213.455729 \nL 321.838571 213.455729 \n\" style=\"fill:none;stroke:#3d3d3d;stroke-linecap:square;stroke-width:1.5;\"/>\n   </g>\n   <g id=\"line2d_56\">\n    <path clip-path=\"url(#pe11c1efa9d)\" d=\"M 331.404286 215.266732 \nL 369.667143 215.266732 \n\" style=\"fill:none;stroke:#3d3d3d;stroke-linecap:square;stroke-width:1.5;\"/>\n   </g>\n   <g id=\"patch_10\">\n    <path d=\"M 39.65 225.902106 \nL 39.65 8.462106 \n\" style=\"fill:none;stroke:#000000;stroke-linecap:square;stroke-linejoin:miter;stroke-width:0.8;\"/>\n   </g>\n   <g id=\"patch_11\">\n    <path d=\"M 374.45 225.902106 \nL 374.45 8.462106 \n\" style=\"fill:none;stroke:#000000;stroke-linecap:square;stroke-linejoin:miter;stroke-width:0.8;\"/>\n   </g>\n   <g id=\"patch_12\">\n    <path d=\"M 39.65 225.902106 \nL 374.45 225.902106 \n\" style=\"fill:none;stroke:#000000;stroke-linecap:square;stroke-linejoin:miter;stroke-width:0.8;\"/>\n   </g>\n   <g id=\"patch_13\">\n    <path d=\"M 39.65 8.462106 \nL 374.45 8.462106 \n\" style=\"fill:none;stroke:#000000;stroke-linecap:square;stroke-linejoin:miter;stroke-width:0.8;\"/>\n   </g>\n  </g>\n </g>\n <defs>\n  <clipPath id=\"pe11c1efa9d\">\n   <rect height=\"217.44\" width=\"334.8\" x=\"39.65\" y=\"8.462106\"/>\n  </clipPath>\n </defs>\n</svg>\n",
      "image/png": "[encoded data removed]"
     },
     "metadata": {
      "needs_background": "light"
     }
    }
   ],
   "source": [
    "sns.boxplot(data=df_beer_without_null.drop(columns=[\"name\"]))"
   ]
  },
  {
   "cell_type": "markdown",
   "id": "3c173abd-87ba-4922-a667-75dd59013b33",
   "metadata": {},
   "source": [
    "Temos valores bem anomalos em ibu, vamos checar."
   ]
  },
  {
   "cell_type": "markdown",
   "id": "d6c5ba5d-3af6-48ee-974d-1d90a3feffc7",
   "metadata": {},
   "source": [
    "### ibu"
   ]
  },
  {
   "cell_type": "code",
   "execution_count": 17,
   "id": "b4bc97f9-b8e4-4b74-8436-66f2db65babb",
   "metadata": {},
   "outputs": [
    {
     "output_type": "execute_result",
     "data": {
      "text/plain": [
       "<AxesSubplot:>"
      ]
     },
     "metadata": {},
     "execution_count": 17
    },
    {
     "output_type": "display_data",
     "data": {
      "text/plain": "<Figure size 432x288 with 1 Axes>",
      "image/svg+xml": "<?xml version=\"1.0\" encoding=\"utf-8\" standalone=\"no\"?>\n<!DOCTYPE svg PUBLIC \"-//W3C//DTD SVG 1.1//EN\"\n  \"http://www.w3.org/Graphics/SVG/1.1/DTD/svg11.dtd\">\n<svg height=\"249.780231pt\" version=\"1.1\" viewBox=\"0 0 381.65 249.780231\" width=\"381.65pt\" xmlns=\"http://www.w3.org/2000/svg\" xmlns:xlink=\"http://www.w3.org/1999/xlink\">\n <metadata>\n  <rdf:RDF xmlns:cc=\"http://creativecommons.org/ns#\" xmlns:dc=\"http://purl.org/dc/elements/1.1/\" xmlns:rdf=\"http://www.w3.org/1999/02/22-rdf-syntax-ns#\">\n   <cc:Work>\n    <dc:type rdf:resource=\"http://purl.org/dc/dcmitype/StillImage\"/>\n    <dc:date>2021-06-23T13:06:46.848739</dc:date>\n    <dc:format>image/svg+xml</dc:format>\n    <dc:creator>\n     <cc:Agent>\n      <dc:title>Matplotlib v3.4.2, https://matplotlib.org/</dc:title>\n     </cc:Agent>\n    </dc:creator>\n   </cc:Work>\n  </rdf:RDF>\n </metadata>\n <defs>\n  <style type=\"text/css\">*{stroke-linecap:butt;stroke-linejoin:round;}</style>\n </defs>\n <g id=\"figure_1\">\n  <g id=\"patch_1\">\n   <path d=\"M -0 249.780231 \nL 381.65 249.780231 \nL 381.65 0 \nL -0 0 \nz\n\" style=\"fill:none;\"/>\n  </g>\n  <g id=\"axes_1\">\n   <g id=\"patch_2\">\n    <path d=\"M 39.65 225.902106 \nL 374.45 225.902106 \nL 374.45 8.462106 \nL 39.65 8.462106 \nz\n\" style=\"fill:#ffffff;\"/>\n   </g>\n   <g id=\"patch_3\">\n    <path clip-path=\"url(#p411cb725b0)\" d=\"M 73.13 210.038741 \nL 340.97 210.038741 \nL 340.97 204.059013 \nL 73.13 204.059013 \nL 73.13 210.038741 \nz\n\" style=\"fill:#3274a1;stroke:#3f3f3f;stroke-linejoin:miter;stroke-width:1.5;\"/>\n   </g>\n   <g id=\"matplotlib.axis_1\">\n    <g id=\"xtick_1\">\n     <g id=\"line2d_1\">\n      <defs>\n       <path d=\"M 0 0 \nL 0 3.5 \n\" id=\"m3e76fb84e2\" style=\"stroke:#000000;stroke-width:0.8;\"/>\n      </defs>\n      <g>\n       <use style=\"stroke:#000000;stroke-width:0.8;\" x=\"207.05\" xlink:href=\"#m3e76fb84e2\" y=\"225.902106\"/>\n      </g>\n     </g>\n     <g id=\"text_1\">\n      <!-- 0 -->\n      <g transform=\"translate(203.86875 240.500543)scale(0.1 -0.1)\">\n       <defs>\n        <path d=\"M 2034 4250 \nQ 1547 4250 1301 3770 \nQ 1056 3291 1056 2328 \nQ 1056 1369 1301 889 \nQ 1547 409 2034 409 \nQ 2525 409 2770 889 \nQ 3016 1369 3016 2328 \nQ 3016 3291 2770 3770 \nQ 2525 4250 2034 4250 \nz\nM 2034 4750 \nQ 2819 4750 3233 4129 \nQ 3647 3509 3647 2328 \nQ 3647 1150 3233 529 \nQ 2819 -91 2034 -91 \nQ 1250 -91 836 529 \nQ 422 1150 422 2328 \nQ 422 3509 836 4129 \nQ 1250 4750 2034 4750 \nz\n\" id=\"DejaVuSans-30\" transform=\"scale(0.015625)\"/>\n       </defs>\n       <use xlink:href=\"#DejaVuSans-30\"/>\n      </g>\n     </g>\n    </g>\n   </g>\n   <g id=\"matplotlib.axis_2\">\n    <g id=\"ytick_1\">\n     <g id=\"line2d_2\">\n      <defs>\n       <path d=\"M 0 0 \nL -3.5 0 \n\" id=\"mf34ab62308\" style=\"stroke:#000000;stroke-width:0.8;\"/>\n      </defs>\n      <g>\n       <use style=\"stroke:#000000;stroke-width:0.8;\" x=\"39.65\" xlink:href=\"#mf34ab62308\" y=\"216.018469\"/>\n      </g>\n     </g>\n     <g id=\"text_2\">\n      <!-- 0 -->\n      <g transform=\"translate(26.2875 219.817688)scale(0.1 -0.1)\">\n       <use xlink:href=\"#DejaVuSans-30\"/>\n      </g>\n     </g>\n    </g>\n    <g id=\"ytick_2\">\n     <g id=\"line2d_3\">\n      <g>\n       <use style=\"stroke:#000000;stroke-width:0.8;\" x=\"39.65\" xlink:href=\"#mf34ab62308\" y=\"181.848594\"/>\n      </g>\n     </g>\n     <g id=\"text_3\">\n      <!-- 200 -->\n      <g transform=\"translate(13.5625 185.647813)scale(0.1 -0.1)\">\n       <defs>\n        <path d=\"M 1228 531 \nL 3431 531 \nL 3431 0 \nL 469 0 \nL 469 531 \nQ 828 903 1448 1529 \nQ 2069 2156 2228 2338 \nQ 2531 2678 2651 2914 \nQ 2772 3150 2772 3378 \nQ 2772 3750 2511 3984 \nQ 2250 4219 1831 4219 \nQ 1534 4219 1204 4116 \nQ 875 4013 500 3803 \nL 500 4441 \nQ 881 4594 1212 4672 \nQ 1544 4750 1819 4750 \nQ 2544 4750 2975 4387 \nQ 3406 4025 3406 3419 \nQ 3406 3131 3298 2873 \nQ 3191 2616 2906 2266 \nQ 2828 2175 2409 1742 \nQ 1991 1309 1228 531 \nz\n\" id=\"DejaVuSans-32\" transform=\"scale(0.015625)\"/>\n       </defs>\n       <use xlink:href=\"#DejaVuSans-32\"/>\n       <use x=\"63.623047\" xlink:href=\"#DejaVuSans-30\"/>\n       <use x=\"127.246094\" xlink:href=\"#DejaVuSans-30\"/>\n      </g>\n     </g>\n    </g>\n    <g id=\"ytick_3\">\n     <g id=\"line2d_4\">\n      <g>\n       <use style=\"stroke:#000000;stroke-width:0.8;\" x=\"39.65\" xlink:href=\"#mf34ab62308\" y=\"147.678719\"/>\n      </g>\n     </g>\n     <g id=\"text_4\">\n      <!-- 400 -->\n      <g transform=\"translate(13.5625 151.477938)scale(0.1 -0.1)\">\n       <defs>\n        <path d=\"M 2419 4116 \nL 825 1625 \nL 2419 1625 \nL 2419 4116 \nz\nM 2253 4666 \nL 3047 4666 \nL 3047 1625 \nL 3713 1625 \nL 3713 1100 \nL 3047 1100 \nL 3047 0 \nL 2419 0 \nL 2419 1100 \nL 313 1100 \nL 313 1709 \nL 2253 4666 \nz\n\" id=\"DejaVuSans-34\" transform=\"scale(0.015625)\"/>\n       </defs>\n       <use xlink:href=\"#DejaVuSans-34\"/>\n       <use x=\"63.623047\" xlink:href=\"#DejaVuSans-30\"/>\n       <use x=\"127.246094\" xlink:href=\"#DejaVuSans-30\"/>\n      </g>\n     </g>\n    </g>\n    <g id=\"ytick_4\">\n     <g id=\"line2d_5\">\n      <g>\n       <use style=\"stroke:#000000;stroke-width:0.8;\" x=\"39.65\" xlink:href=\"#mf34ab62308\" y=\"113.508844\"/>\n      </g>\n     </g>\n     <g id=\"text_5\">\n      <!-- 600 -->\n      <g transform=\"translate(13.5625 117.308063)scale(0.1 -0.1)\">\n       <defs>\n        <path d=\"M 2113 2584 \nQ 1688 2584 1439 2293 \nQ 1191 2003 1191 1497 \nQ 1191 994 1439 701 \nQ 1688 409 2113 409 \nQ 2538 409 2786 701 \nQ 3034 994 3034 1497 \nQ 3034 2003 2786 2293 \nQ 2538 2584 2113 2584 \nz\nM 3366 4563 \nL 3366 3988 \nQ 3128 4100 2886 4159 \nQ 2644 4219 2406 4219 \nQ 1781 4219 1451 3797 \nQ 1122 3375 1075 2522 \nQ 1259 2794 1537 2939 \nQ 1816 3084 2150 3084 \nQ 2853 3084 3261 2657 \nQ 3669 2231 3669 1497 \nQ 3669 778 3244 343 \nQ 2819 -91 2113 -91 \nQ 1303 -91 875 529 \nQ 447 1150 447 2328 \nQ 447 3434 972 4092 \nQ 1497 4750 2381 4750 \nQ 2619 4750 2861 4703 \nQ 3103 4656 3366 4563 \nz\n\" id=\"DejaVuSans-36\" transform=\"scale(0.015625)\"/>\n       </defs>\n       <use xlink:href=\"#DejaVuSans-36\"/>\n       <use x=\"63.623047\" xlink:href=\"#DejaVuSans-30\"/>\n       <use x=\"127.246094\" xlink:href=\"#DejaVuSans-30\"/>\n      </g>\n     </g>\n    </g>\n    <g id=\"ytick_5\">\n     <g id=\"line2d_6\">\n      <g>\n       <use style=\"stroke:#000000;stroke-width:0.8;\" x=\"39.65\" xlink:href=\"#mf34ab62308\" y=\"79.338969\"/>\n      </g>\n     </g>\n     <g id=\"text_6\">\n      <!-- 800 -->\n      <g transform=\"translate(13.5625 83.138188)scale(0.1 -0.1)\">\n       <defs>\n        <path d=\"M 2034 2216 \nQ 1584 2216 1326 1975 \nQ 1069 1734 1069 1313 \nQ 1069 891 1326 650 \nQ 1584 409 2034 409 \nQ 2484 409 2743 651 \nQ 3003 894 3003 1313 \nQ 3003 1734 2745 1975 \nQ 2488 2216 2034 2216 \nz\nM 1403 2484 \nQ 997 2584 770 2862 \nQ 544 3141 544 3541 \nQ 544 4100 942 4425 \nQ 1341 4750 2034 4750 \nQ 2731 4750 3128 4425 \nQ 3525 4100 3525 3541 \nQ 3525 3141 3298 2862 \nQ 3072 2584 2669 2484 \nQ 3125 2378 3379 2068 \nQ 3634 1759 3634 1313 \nQ 3634 634 3220 271 \nQ 2806 -91 2034 -91 \nQ 1263 -91 848 271 \nQ 434 634 434 1313 \nQ 434 1759 690 2068 \nQ 947 2378 1403 2484 \nz\nM 1172 3481 \nQ 1172 3119 1398 2916 \nQ 1625 2713 2034 2713 \nQ 2441 2713 2670 2916 \nQ 2900 3119 2900 3481 \nQ 2900 3844 2670 4047 \nQ 2441 4250 2034 4250 \nQ 1625 4250 1398 4047 \nQ 1172 3844 1172 3481 \nz\n\" id=\"DejaVuSans-38\" transform=\"scale(0.015625)\"/>\n       </defs>\n       <use xlink:href=\"#DejaVuSans-38\"/>\n       <use x=\"63.623047\" xlink:href=\"#DejaVuSans-30\"/>\n       <use x=\"127.246094\" xlink:href=\"#DejaVuSans-30\"/>\n      </g>\n     </g>\n    </g>\n    <g id=\"ytick_6\">\n     <g id=\"line2d_7\">\n      <g>\n       <use style=\"stroke:#000000;stroke-width:0.8;\" x=\"39.65\" xlink:href=\"#mf34ab62308\" y=\"45.169094\"/>\n      </g>\n     </g>\n     <g id=\"text_7\">\n      <!-- 1000 -->\n      <g transform=\"translate(7.2 48.968313)scale(0.1 -0.1)\">\n       <defs>\n        <path d=\"M 794 531 \nL 1825 531 \nL 1825 4091 \nL 703 3866 \nL 703 4441 \nL 1819 4666 \nL 2450 4666 \nL 2450 531 \nL 3481 531 \nL 3481 0 \nL 794 0 \nL 794 531 \nz\n\" id=\"DejaVuSans-31\" transform=\"scale(0.015625)\"/>\n       </defs>\n       <use xlink:href=\"#DejaVuSans-31\"/>\n       <use x=\"63.623047\" xlink:href=\"#DejaVuSans-30\"/>\n       <use x=\"127.246094\" xlink:href=\"#DejaVuSans-30\"/>\n       <use x=\"190.869141\" xlink:href=\"#DejaVuSans-30\"/>\n      </g>\n     </g>\n    </g>\n    <g id=\"ytick_7\">\n     <g id=\"line2d_8\">\n      <g>\n       <use style=\"stroke:#000000;stroke-width:0.8;\" x=\"39.65\" xlink:href=\"#mf34ab62308\" y=\"10.999219\"/>\n      </g>\n     </g>\n     <g id=\"text_8\">\n      <!-- 1200 -->\n      <g transform=\"translate(7.2 14.798437)scale(0.1 -0.1)\">\n       <use xlink:href=\"#DejaVuSans-31\"/>\n       <use x=\"63.623047\" xlink:href=\"#DejaVuSans-32\"/>\n       <use x=\"127.246094\" xlink:href=\"#DejaVuSans-30\"/>\n       <use x=\"190.869141\" xlink:href=\"#DejaVuSans-30\"/>\n      </g>\n     </g>\n    </g>\n   </g>\n   <g id=\"line2d_9\">\n    <path clip-path=\"url(#p411cb725b0)\" d=\"M 207.05 210.038741 \nL 207.05 216.018469 \n\" style=\"fill:none;stroke:#3f3f3f;stroke-linecap:square;stroke-width:1.5;\"/>\n   </g>\n   <g id=\"line2d_10\">\n    <path clip-path=\"url(#p411cb725b0)\" d=\"M 207.05 204.059013 \nL 207.05 198.933532 \n\" style=\"fill:none;stroke:#3f3f3f;stroke-linecap:square;stroke-width:1.5;\"/>\n   </g>\n   <g id=\"line2d_11\">\n    <path clip-path=\"url(#p411cb725b0)\" d=\"M 140.09 216.018469 \nL 274.01 216.018469 \n\" style=\"fill:none;stroke:#3f3f3f;stroke-linecap:square;stroke-width:1.5;\"/>\n   </g>\n   <g id=\"line2d_12\">\n    <path clip-path=\"url(#p411cb725b0)\" d=\"M 140.09 198.933532 \nL 274.01 198.933532 \n\" style=\"fill:none;stroke:#3f3f3f;stroke-linecap:square;stroke-width:1.5;\"/>\n   </g>\n   <g id=\"line2d_13\">\n    <defs>\n     <path d=\"M -0 3.535534 \nL 2.12132 0 \nL -0 -3.535534 \nL -2.12132 -0 \nz\n\" id=\"m4d837a4f76\" style=\"stroke:#3f3f3f;stroke-linejoin:miter;\"/>\n    </defs>\n    <g clip-path=\"url(#p411cb725b0)\">\n     <use style=\"fill:#3f3f3f;stroke:#3f3f3f;stroke-linejoin:miter;\" x=\"207.05\" xlink:href=\"#m4d837a4f76\" y=\"194.662297\"/>\n     <use style=\"fill:#3f3f3f;stroke:#3f3f3f;stroke-linejoin:miter;\" x=\"207.05\" xlink:href=\"#m4d837a4f76\" y=\"194.662297\"/>\n     <use style=\"fill:#3f3f3f;stroke:#3f3f3f;stroke-linejoin:miter;\" x=\"207.05\" xlink:href=\"#m4d837a4f76\" y=\"190.561912\"/>\n     <use style=\"fill:#3f3f3f;stroke:#3f3f3f;stroke-linejoin:miter;\" x=\"207.05\" xlink:href=\"#m4d837a4f76\" y=\"30.646897\"/>\n     <use style=\"fill:#3f3f3f;stroke:#3f3f3f;stroke-linejoin:miter;\" x=\"207.05\" xlink:href=\"#m4d837a4f76\" y=\"193.80805\"/>\n     <use style=\"fill:#3f3f3f;stroke:#3f3f3f;stroke-linejoin:miter;\" x=\"207.05\" xlink:href=\"#m4d837a4f76\" y=\"173.306125\"/>\n     <use style=\"fill:#3f3f3f;stroke:#3f3f3f;stroke-linejoin:miter;\" x=\"207.05\" xlink:href=\"#m4d837a4f76\" y=\"182.190293\"/>\n     <use style=\"fill:#3f3f3f;stroke:#3f3f3f;stroke-linejoin:miter;\" x=\"207.05\" xlink:href=\"#m4d837a4f76\" y=\"18.345742\"/>\n     <use style=\"fill:#3f3f3f;stroke:#3f3f3f;stroke-linejoin:miter;\" x=\"207.05\" xlink:href=\"#m4d837a4f76\" y=\"186.119828\"/>\n     <use style=\"fill:#3f3f3f;stroke:#3f3f3f;stroke-linejoin:miter;\" x=\"207.05\" xlink:href=\"#m4d837a4f76\" y=\"193.80805\"/>\n     <use style=\"fill:#3f3f3f;stroke:#3f3f3f;stroke-linejoin:miter;\" x=\"207.05\" xlink:href=\"#m4d837a4f76\" y=\"173.306125\"/>\n     <use style=\"fill:#3f3f3f;stroke:#3f3f3f;stroke-linejoin:miter;\" x=\"207.05\" xlink:href=\"#m4d837a4f76\" y=\"173.306125\"/>\n     <use style=\"fill:#3f3f3f;stroke:#3f3f3f;stroke-linejoin:miter;\" x=\"207.05\" xlink:href=\"#m4d837a4f76\" y=\"173.306125\"/>\n     <use style=\"fill:#3f3f3f;stroke:#3f3f3f;stroke-linejoin:miter;\" x=\"207.05\" xlink:href=\"#m4d837a4f76\" y=\"173.306125\"/>\n     <use style=\"fill:#3f3f3f;stroke:#3f3f3f;stroke-linejoin:miter;\" x=\"207.05\" xlink:href=\"#m4d837a4f76\" y=\"173.306125\"/>\n     <use style=\"fill:#3f3f3f;stroke:#3f3f3f;stroke-linejoin:miter;\" x=\"207.05\" xlink:href=\"#m4d837a4f76\" y=\"193.466352\"/>\n    </g>\n   </g>\n   <g id=\"line2d_14\">\n    <path clip-path=\"url(#p411cb725b0)\" d=\"M 73.13 207.476 \nL 340.97 207.476 \n\" style=\"fill:none;stroke:#3f3f3f;stroke-linecap:square;stroke-width:1.5;\"/>\n   </g>\n   <g id=\"patch_4\">\n    <path d=\"M 39.65 225.902106 \nL 39.65 8.462106 \n\" style=\"fill:none;stroke:#000000;stroke-linecap:square;stroke-linejoin:miter;stroke-width:0.8;\"/>\n   </g>\n   <g id=\"patch_5\">\n    <path d=\"M 374.45 225.902106 \nL 374.45 8.462106 \n\" style=\"fill:none;stroke:#000000;stroke-linecap:square;stroke-linejoin:miter;stroke-width:0.8;\"/>\n   </g>\n   <g id=\"patch_6\">\n    <path d=\"M 39.65 225.902106 \nL 374.45 225.902106 \n\" style=\"fill:none;stroke:#000000;stroke-linecap:square;stroke-linejoin:miter;stroke-width:0.8;\"/>\n   </g>\n   <g id=\"patch_7\">\n    <path d=\"M 39.65 8.462106 \nL 374.45 8.462106 \n\" style=\"fill:none;stroke:#000000;stroke-linecap:square;stroke-linejoin:miter;stroke-width:0.8;\"/>\n   </g>\n  </g>\n </g>\n <defs>\n  <clipPath id=\"p411cb725b0\">\n   <rect height=\"217.44\" width=\"334.8\" x=\"39.65\" y=\"8.462106\"/>\n  </clipPath>\n </defs>\n</svg>\n",
      "image/png": "[encoded data removed]"
     },
     "metadata": {
      "needs_background": "light"
     }
    }
   ],
   "source": [
    "sns.boxplot(data=df_beer_without_null.ibu)"
   ]
  },
  {
   "cell_type": "code",
   "execution_count": 18,
   "id": "03b8ff2b-8acc-4720-914b-557a1f561cf5",
   "metadata": {},
   "outputs": [
    {
     "output_type": "execute_result",
     "data": {
      "text/plain": [
       "name         Tactical Nuclear Penguin\n",
       "abv                                32\n",
       "ibu                              1157\n",
       "target_fg                        1028\n",
       "target_og                        1157\n",
       "ebc                               250\n",
       "srm                               127\n",
       "ph                                4.4\n",
       "Name: 177, dtype: object"
      ]
     },
     "metadata": {},
     "execution_count": 18
    }
   ],
   "source": [
    "df_beer_without_null.iloc[df_beer_without_null.ibu.idxmax(), :]"
   ]
  },
  {
   "cell_type": "code",
   "execution_count": 19,
   "id": "9573a7dc-d53a-4a23-862b-9ce21342cdff",
   "metadata": {},
   "outputs": [
    {
     "output_type": "execute_result",
     "data": {
      "text/plain": [
       "                         name   abv     ibu  target_fg  target_og    ebc  \\\n",
       "131        Sink The Bismarck!  41.0  1085.0     1016.0     1085.0   40.0   \n",
       "177  Tactical Nuclear Penguin  32.0  1157.0     1028.0     1157.0  250.0   \n",
       "\n",
       "       srm   ph  \n",
       "131   20.0  4.4  \n",
       "177  127.0  4.4  "
      ],
      "text/html": "<div>\n<style scoped>\n    .dataframe tbody tr th:only-of-type {\n        vertical-align: middle;\n    }\n\n    .dataframe tbody tr th {\n        vertical-align: top;\n    }\n\n    .dataframe thead th {\n        text-align: right;\n    }\n</style>\n<table border=\"1\" class=\"dataframe\">\n  <thead>\n    <tr style=\"text-align: right;\">\n      <th></th>\n      <th>name</th>\n      <th>abv</th>\n      <th>ibu</th>\n      <th>target_fg</th>\n      <th>target_og</th>\n      <th>ebc</th>\n      <th>srm</th>\n      <th>ph</th>\n    </tr>\n  </thead>\n  <tbody>\n    <tr>\n      <th>131</th>\n      <td>Sink The Bismarck!</td>\n      <td>41.0</td>\n      <td>1085.0</td>\n      <td>1016.0</td>\n      <td>1085.0</td>\n      <td>40.0</td>\n      <td>20.0</td>\n      <td>4.4</td>\n    </tr>\n    <tr>\n      <th>177</th>\n      <td>Tactical Nuclear Penguin</td>\n      <td>32.0</td>\n      <td>1157.0</td>\n      <td>1028.0</td>\n      <td>1157.0</td>\n      <td>250.0</td>\n      <td>127.0</td>\n      <td>4.4</td>\n    </tr>\n  </tbody>\n</table>\n</div>"
     },
     "metadata": {},
     "execution_count": 19
    }
   ],
   "source": [
    "df_beer_without_null[df_beer_without_null.ibu > 400]"
   ]
  },
  {
   "cell_type": "markdown",
   "id": "bd7ed1e9-88dc-44d9-8794-f1f00f71ede3",
   "metadata": {},
   "source": [
    "Pesquisando na internet, vi que essas não são cervejas comuns e que talvez possuam essa quantidade de IBU, mesmo sendo outliers elas são ocorrencias reais, e não erros, então vamos deixar."
   ]
  },
  {
   "cell_type": "markdown",
   "id": "1b16ab52-d312-4a5a-8685-c0297b758ebd",
   "metadata": {},
   "source": [
    "### ph"
   ]
  },
  {
   "cell_type": "code",
   "execution_count": 20,
   "id": "52c6316c-18f0-436f-b75b-06dce07c61ba",
   "metadata": {},
   "outputs": [
    {
     "output_type": "execute_result",
     "data": {
      "text/plain": [
       "<AxesSubplot:>"
      ]
     },
     "metadata": {},
     "execution_count": 20
    },
    {
     "output_type": "display_data",
     "data": {
      "text/plain": "<Figure size 432x288 with 1 Axes>",
      "image/svg+xml": "<?xml version=\"1.0\" encoding=\"utf-8\" standalone=\"no\"?>\n<!DOCTYPE svg PUBLIC \"-//W3C//DTD SVG 1.1//EN\"\n  \"http://www.w3.org/Graphics/SVG/1.1/DTD/svg11.dtd\">\n<svg height=\"248.518125pt\" version=\"1.1\" viewBox=\"0 0 368.925 248.518125\" width=\"368.925pt\" xmlns=\"http://www.w3.org/2000/svg\" xmlns:xlink=\"http://www.w3.org/1999/xlink\">\n <metadata>\n  <rdf:RDF xmlns:cc=\"http://creativecommons.org/ns#\" xmlns:dc=\"http://purl.org/dc/elements/1.1/\" xmlns:rdf=\"http://www.w3.org/1999/02/22-rdf-syntax-ns#\">\n   <cc:Work>\n    <dc:type rdf:resource=\"http://purl.org/dc/dcmitype/StillImage\"/>\n    <dc:date>2021-06-23T13:06:47.712755</dc:date>\n    <dc:format>image/svg+xml</dc:format>\n    <dc:creator>\n     <cc:Agent>\n      <dc:title>Matplotlib v3.4.2, https://matplotlib.org/</dc:title>\n     </cc:Agent>\n    </dc:creator>\n   </cc:Work>\n  </rdf:RDF>\n </metadata>\n <defs>\n  <style type=\"text/css\">*{stroke-linecap:butt;stroke-linejoin:round;}</style>\n </defs>\n <g id=\"figure_1\">\n  <g id=\"patch_1\">\n   <path d=\"M -0 248.518125 \nL 368.925 248.518125 \nL 368.925 0 \nL -0 0 \nz\n\" style=\"fill:none;\"/>\n  </g>\n  <g id=\"axes_1\">\n   <g id=\"patch_2\">\n    <path d=\"M 26.925 224.64 \nL 361.725 224.64 \nL 361.725 7.2 \nL 26.925 7.2 \nz\n\" style=\"fill:#ffffff;\"/>\n   </g>\n   <g id=\"patch_3\">\n    <path clip-path=\"url(#paeddf6dc7a)\" d=\"M 60.405 211.62698 \nL 328.245 211.62698 \nL 328.245 211.62698 \nL 60.405 211.62698 \nL 60.405 211.62698 \nz\n\" style=\"fill:#3274a1;stroke:#3f3f3f;stroke-linejoin:miter;stroke-width:1.5;\"/>\n   </g>\n   <g id=\"matplotlib.axis_1\">\n    <g id=\"xtick_1\">\n     <g id=\"line2d_1\">\n      <defs>\n       <path d=\"M 0 0 \nL 0 3.5 \n\" id=\"m4e3f4b6a8b\" style=\"stroke:#000000;stroke-width:0.8;\"/>\n      </defs>\n      <g>\n       <use style=\"stroke:#000000;stroke-width:0.8;\" x=\"194.325\" xlink:href=\"#m4e3f4b6a8b\" y=\"224.64\"/>\n      </g>\n     </g>\n     <g id=\"text_1\">\n      <!-- 0 -->\n      <g transform=\"translate(191.14375 239.238437)scale(0.1 -0.1)\">\n       <defs>\n        <path d=\"M 2034 4250 \nQ 1547 4250 1301 3770 \nQ 1056 3291 1056 2328 \nQ 1056 1369 1301 889 \nQ 1547 409 2034 409 \nQ 2525 409 2770 889 \nQ 3016 1369 3016 2328 \nQ 3016 3291 2770 3770 \nQ 2525 4250 2034 4250 \nz\nM 2034 4750 \nQ 2819 4750 3233 4129 \nQ 3647 3509 3647 2328 \nQ 3647 1150 3233 529 \nQ 2819 -91 2034 -91 \nQ 1250 -91 836 529 \nQ 422 1150 422 2328 \nQ 422 3509 836 4129 \nQ 1250 4750 2034 4750 \nz\n\" id=\"DejaVuSans-30\" transform=\"scale(0.015625)\"/>\n       </defs>\n       <use xlink:href=\"#DejaVuSans-30\"/>\n      </g>\n     </g>\n    </g>\n   </g>\n   <g id=\"matplotlib.axis_2\">\n    <g id=\"ytick_1\">\n     <g id=\"line2d_2\">\n      <defs>\n       <path d=\"M 0 0 \nL -3.5 0 \n\" id=\"mab23fed68a\" style=\"stroke:#000000;stroke-width:0.8;\"/>\n      </defs>\n      <g>\n       <use style=\"stroke:#000000;stroke-width:0.8;\" x=\"26.925\" xlink:href=\"#mab23fed68a\" y=\"223.101386\"/>\n      </g>\n     </g>\n     <g id=\"text_2\">\n      <!-- 0 -->\n      <g transform=\"translate(13.5625 226.900605)scale(0.1 -0.1)\">\n       <use xlink:href=\"#DejaVuSans-30\"/>\n      </g>\n     </g>\n    </g>\n    <g id=\"ytick_2\">\n     <g id=\"line2d_3\">\n      <g>\n       <use style=\"stroke:#000000;stroke-width:0.8;\" x=\"26.925\" xlink:href=\"#mab23fed68a\" y=\"197.02319\"/>\n      </g>\n     </g>\n     <g id=\"text_3\">\n      <!-- 10 -->\n      <g transform=\"translate(7.2 200.822409)scale(0.1 -0.1)\">\n       <defs>\n        <path d=\"M 794 531 \nL 1825 531 \nL 1825 4091 \nL 703 3866 \nL 703 4441 \nL 1819 4666 \nL 2450 4666 \nL 2450 531 \nL 3481 531 \nL 3481 0 \nL 794 0 \nL 794 531 \nz\n\" id=\"DejaVuSans-31\" transform=\"scale(0.015625)\"/>\n       </defs>\n       <use xlink:href=\"#DejaVuSans-31\"/>\n       <use x=\"63.623047\" xlink:href=\"#DejaVuSans-30\"/>\n      </g>\n     </g>\n    </g>\n    <g id=\"ytick_3\">\n     <g id=\"line2d_4\">\n      <g>\n       <use style=\"stroke:#000000;stroke-width:0.8;\" x=\"26.925\" xlink:href=\"#mab23fed68a\" y=\"170.944994\"/>\n      </g>\n     </g>\n     <g id=\"text_4\">\n      <!-- 20 -->\n      <g transform=\"translate(7.2 174.744213)scale(0.1 -0.1)\">\n       <defs>\n        <path d=\"M 1228 531 \nL 3431 531 \nL 3431 0 \nL 469 0 \nL 469 531 \nQ 828 903 1448 1529 \nQ 2069 2156 2228 2338 \nQ 2531 2678 2651 2914 \nQ 2772 3150 2772 3378 \nQ 2772 3750 2511 3984 \nQ 2250 4219 1831 4219 \nQ 1534 4219 1204 4116 \nQ 875 4013 500 3803 \nL 500 4441 \nQ 881 4594 1212 4672 \nQ 1544 4750 1819 4750 \nQ 2544 4750 2975 4387 \nQ 3406 4025 3406 3419 \nQ 3406 3131 3298 2873 \nQ 3191 2616 2906 2266 \nQ 2828 2175 2409 1742 \nQ 1991 1309 1228 531 \nz\n\" id=\"DejaVuSans-32\" transform=\"scale(0.015625)\"/>\n       </defs>\n       <use xlink:href=\"#DejaVuSans-32\"/>\n       <use x=\"63.623047\" xlink:href=\"#DejaVuSans-30\"/>\n      </g>\n     </g>\n    </g>\n    <g id=\"ytick_4\">\n     <g id=\"line2d_5\">\n      <g>\n       <use style=\"stroke:#000000;stroke-width:0.8;\" x=\"26.925\" xlink:href=\"#mab23fed68a\" y=\"144.866798\"/>\n      </g>\n     </g>\n     <g id=\"text_5\">\n      <!-- 30 -->\n      <g transform=\"translate(7.2 148.666017)scale(0.1 -0.1)\">\n       <defs>\n        <path d=\"M 2597 2516 \nQ 3050 2419 3304 2112 \nQ 3559 1806 3559 1356 \nQ 3559 666 3084 287 \nQ 2609 -91 1734 -91 \nQ 1441 -91 1130 -33 \nQ 819 25 488 141 \nL 488 750 \nQ 750 597 1062 519 \nQ 1375 441 1716 441 \nQ 2309 441 2620 675 \nQ 2931 909 2931 1356 \nQ 2931 1769 2642 2001 \nQ 2353 2234 1838 2234 \nL 1294 2234 \nL 1294 2753 \nL 1863 2753 \nQ 2328 2753 2575 2939 \nQ 2822 3125 2822 3475 \nQ 2822 3834 2567 4026 \nQ 2313 4219 1838 4219 \nQ 1578 4219 1281 4162 \nQ 984 4106 628 3988 \nL 628 4550 \nQ 988 4650 1302 4700 \nQ 1616 4750 1894 4750 \nQ 2613 4750 3031 4423 \nQ 3450 4097 3450 3541 \nQ 3450 3153 3228 2886 \nQ 3006 2619 2597 2516 \nz\n\" id=\"DejaVuSans-33\" transform=\"scale(0.015625)\"/>\n       </defs>\n       <use xlink:href=\"#DejaVuSans-33\"/>\n       <use x=\"63.623047\" xlink:href=\"#DejaVuSans-30\"/>\n      </g>\n     </g>\n    </g>\n    <g id=\"ytick_5\">\n     <g id=\"line2d_6\">\n      <g>\n       <use style=\"stroke:#000000;stroke-width:0.8;\" x=\"26.925\" xlink:href=\"#mab23fed68a\" y=\"118.788602\"/>\n      </g>\n     </g>\n     <g id=\"text_6\">\n      <!-- 40 -->\n      <g transform=\"translate(7.2 122.58782)scale(0.1 -0.1)\">\n       <defs>\n        <path d=\"M 2419 4116 \nL 825 1625 \nL 2419 1625 \nL 2419 4116 \nz\nM 2253 4666 \nL 3047 4666 \nL 3047 1625 \nL 3713 1625 \nL 3713 1100 \nL 3047 1100 \nL 3047 0 \nL 2419 0 \nL 2419 1100 \nL 313 1100 \nL 313 1709 \nL 2253 4666 \nz\n\" id=\"DejaVuSans-34\" transform=\"scale(0.015625)\"/>\n       </defs>\n       <use xlink:href=\"#DejaVuSans-34\"/>\n       <use x=\"63.623047\" xlink:href=\"#DejaVuSans-30\"/>\n      </g>\n     </g>\n    </g>\n    <g id=\"ytick_6\">\n     <g id=\"line2d_7\">\n      <g>\n       <use style=\"stroke:#000000;stroke-width:0.8;\" x=\"26.925\" xlink:href=\"#mab23fed68a\" y=\"92.710405\"/>\n      </g>\n     </g>\n     <g id=\"text_7\">\n      <!-- 50 -->\n      <g transform=\"translate(7.2 96.509624)scale(0.1 -0.1)\">\n       <defs>\n        <path d=\"M 691 4666 \nL 3169 4666 \nL 3169 4134 \nL 1269 4134 \nL 1269 2991 \nQ 1406 3038 1543 3061 \nQ 1681 3084 1819 3084 \nQ 2600 3084 3056 2656 \nQ 3513 2228 3513 1497 \nQ 3513 744 3044 326 \nQ 2575 -91 1722 -91 \nQ 1428 -91 1123 -41 \nQ 819 9 494 109 \nL 494 744 \nQ 775 591 1075 516 \nQ 1375 441 1709 441 \nQ 2250 441 2565 725 \nQ 2881 1009 2881 1497 \nQ 2881 1984 2565 2268 \nQ 2250 2553 1709 2553 \nQ 1456 2553 1204 2497 \nQ 953 2441 691 2322 \nL 691 4666 \nz\n\" id=\"DejaVuSans-35\" transform=\"scale(0.015625)\"/>\n       </defs>\n       <use xlink:href=\"#DejaVuSans-35\"/>\n       <use x=\"63.623047\" xlink:href=\"#DejaVuSans-30\"/>\n      </g>\n     </g>\n    </g>\n    <g id=\"ytick_7\">\n     <g id=\"line2d_8\">\n      <g>\n       <use style=\"stroke:#000000;stroke-width:0.8;\" x=\"26.925\" xlink:href=\"#mab23fed68a\" y=\"66.632209\"/>\n      </g>\n     </g>\n     <g id=\"text_8\">\n      <!-- 60 -->\n      <g transform=\"translate(7.2 70.431428)scale(0.1 -0.1)\">\n       <defs>\n        <path d=\"M 2113 2584 \nQ 1688 2584 1439 2293 \nQ 1191 2003 1191 1497 \nQ 1191 994 1439 701 \nQ 1688 409 2113 409 \nQ 2538 409 2786 701 \nQ 3034 994 3034 1497 \nQ 3034 2003 2786 2293 \nQ 2538 2584 2113 2584 \nz\nM 3366 4563 \nL 3366 3988 \nQ 3128 4100 2886 4159 \nQ 2644 4219 2406 4219 \nQ 1781 4219 1451 3797 \nQ 1122 3375 1075 2522 \nQ 1259 2794 1537 2939 \nQ 1816 3084 2150 3084 \nQ 2853 3084 3261 2657 \nQ 3669 2231 3669 1497 \nQ 3669 778 3244 343 \nQ 2819 -91 2113 -91 \nQ 1303 -91 875 529 \nQ 447 1150 447 2328 \nQ 447 3434 972 4092 \nQ 1497 4750 2381 4750 \nQ 2619 4750 2861 4703 \nQ 3103 4656 3366 4563 \nz\n\" id=\"DejaVuSans-36\" transform=\"scale(0.015625)\"/>\n       </defs>\n       <use xlink:href=\"#DejaVuSans-36\"/>\n       <use x=\"63.623047\" xlink:href=\"#DejaVuSans-30\"/>\n      </g>\n     </g>\n    </g>\n    <g id=\"ytick_8\">\n     <g id=\"line2d_9\">\n      <g>\n       <use style=\"stroke:#000000;stroke-width:0.8;\" x=\"26.925\" xlink:href=\"#mab23fed68a\" y=\"40.554013\"/>\n      </g>\n     </g>\n     <g id=\"text_9\">\n      <!-- 70 -->\n      <g transform=\"translate(7.2 44.353232)scale(0.1 -0.1)\">\n       <defs>\n        <path d=\"M 525 4666 \nL 3525 4666 \nL 3525 4397 \nL 1831 0 \nL 1172 0 \nL 2766 4134 \nL 525 4134 \nL 525 4666 \nz\n\" id=\"DejaVuSans-37\" transform=\"scale(0.015625)\"/>\n       </defs>\n       <use xlink:href=\"#DejaVuSans-37\"/>\n       <use x=\"63.623047\" xlink:href=\"#DejaVuSans-30\"/>\n      </g>\n     </g>\n    </g>\n    <g id=\"ytick_9\">\n     <g id=\"line2d_10\">\n      <g>\n       <use style=\"stroke:#000000;stroke-width:0.8;\" x=\"26.925\" xlink:href=\"#mab23fed68a\" y=\"14.475817\"/>\n      </g>\n     </g>\n     <g id=\"text_10\">\n      <!-- 80 -->\n      <g transform=\"translate(7.2 18.275035)scale(0.1 -0.1)\">\n       <defs>\n        <path d=\"M 2034 2216 \nQ 1584 2216 1326 1975 \nQ 1069 1734 1069 1313 \nQ 1069 891 1326 650 \nQ 1584 409 2034 409 \nQ 2484 409 2743 651 \nQ 3003 894 3003 1313 \nQ 3003 1734 2745 1975 \nQ 2488 2216 2034 2216 \nz\nM 1403 2484 \nQ 997 2584 770 2862 \nQ 544 3141 544 3541 \nQ 544 4100 942 4425 \nQ 1341 4750 2034 4750 \nQ 2731 4750 3128 4425 \nQ 3525 4100 3525 3541 \nQ 3525 3141 3298 2862 \nQ 3072 2584 2669 2484 \nQ 3125 2378 3379 2068 \nQ 3634 1759 3634 1313 \nQ 3634 634 3220 271 \nQ 2806 -91 2034 -91 \nQ 1263 -91 848 271 \nQ 434 634 434 1313 \nQ 434 1759 690 2068 \nQ 947 2378 1403 2484 \nz\nM 1172 3481 \nQ 1172 3119 1398 2916 \nQ 1625 2713 2034 2713 \nQ 2441 2713 2670 2916 \nQ 2900 3119 2900 3481 \nQ 2900 3844 2670 4047 \nQ 2441 4250 2034 4250 \nQ 1625 4250 1398 4047 \nQ 1172 3844 1172 3481 \nz\n\" id=\"DejaVuSans-38\" transform=\"scale(0.015625)\"/>\n       </defs>\n       <use xlink:href=\"#DejaVuSans-38\"/>\n       <use x=\"63.623047\" xlink:href=\"#DejaVuSans-30\"/>\n      </g>\n     </g>\n    </g>\n   </g>\n   <g id=\"line2d_11\">\n    <path clip-path=\"url(#paeddf6dc7a)\" d=\"M 194.325 211.62698 \nL 194.325 211.62698 \n\" style=\"fill:none;stroke:#3f3f3f;stroke-linecap:square;stroke-width:1.5;\"/>\n   </g>\n   <g id=\"line2d_12\">\n    <path clip-path=\"url(#paeddf6dc7a)\" d=\"M 194.325 211.62698 \nL 194.325 211.62698 \n\" style=\"fill:none;stroke:#3f3f3f;stroke-linecap:square;stroke-width:1.5;\"/>\n   </g>\n   <g id=\"line2d_13\">\n    <path clip-path=\"url(#paeddf6dc7a)\" d=\"M 127.365 211.62698 \nL 261.285 211.62698 \n\" style=\"fill:none;stroke:#3f3f3f;stroke-linecap:square;stroke-width:1.5;\"/>\n   </g>\n   <g id=\"line2d_14\">\n    <path clip-path=\"url(#paeddf6dc7a)\" d=\"M 127.365 211.62698 \nL 261.285 211.62698 \n\" style=\"fill:none;stroke:#3f3f3f;stroke-linecap:square;stroke-width:1.5;\"/>\n   </g>\n   <g id=\"line2d_15\">\n    <defs>\n     <path d=\"M -0 3.535534 \nL 2.12132 0 \nL -0 -3.535534 \nL -2.12132 -0 \nz\n\" id=\"m805e95c55a\" style=\"stroke:#3f3f3f;stroke-linejoin:miter;\"/>\n    </defs>\n    <g clip-path=\"url(#paeddf6dc7a)\">\n     <use style=\"fill:#3f3f3f;stroke:#3f3f3f;stroke-linejoin:miter;\" x=\"194.325\" xlink:href=\"#m805e95c55a\" y=\"214.756364\"/>\n     <use style=\"fill:#3f3f3f;stroke:#3f3f3f;stroke-linejoin:miter;\" x=\"194.325\" xlink:href=\"#m805e95c55a\" y=\"212.148544\"/>\n     <use style=\"fill:#3f3f3f;stroke:#3f3f3f;stroke-linejoin:miter;\" x=\"194.325\" xlink:href=\"#m805e95c55a\" y=\"212.670108\"/>\n     <use style=\"fill:#3f3f3f;stroke:#3f3f3f;stroke-linejoin:miter;\" x=\"194.325\" xlink:href=\"#m805e95c55a\" y=\"211.887762\"/>\n     <use style=\"fill:#3f3f3f;stroke:#3f3f3f;stroke-linejoin:miter;\" x=\"194.325\" xlink:href=\"#m805e95c55a\" y=\"212.148544\"/>\n     <use style=\"fill:#3f3f3f;stroke:#3f3f3f;stroke-linejoin:miter;\" x=\"194.325\" xlink:href=\"#m805e95c55a\" y=\"212.148544\"/>\n     <use style=\"fill:#3f3f3f;stroke:#3f3f3f;stroke-linejoin:miter;\" x=\"194.325\" xlink:href=\"#m805e95c55a\" y=\"214.756364\"/>\n     <use style=\"fill:#3f3f3f;stroke:#3f3f3f;stroke-linejoin:miter;\" x=\"194.325\" xlink:href=\"#m805e95c55a\" y=\"212.670108\"/>\n     <use style=\"fill:#3f3f3f;stroke:#3f3f3f;stroke-linejoin:miter;\" x=\"194.325\" xlink:href=\"#m805e95c55a\" y=\"212.148544\"/>\n     <use style=\"fill:#3f3f3f;stroke:#3f3f3f;stroke-linejoin:miter;\" x=\"194.325\" xlink:href=\"#m805e95c55a\" y=\"211.887762\"/>\n     <use style=\"fill:#3f3f3f;stroke:#3f3f3f;stroke-linejoin:miter;\" x=\"194.325\" xlink:href=\"#m805e95c55a\" y=\"213.974018\"/>\n     <use style=\"fill:#3f3f3f;stroke:#3f3f3f;stroke-linejoin:miter;\" x=\"194.325\" xlink:href=\"#m805e95c55a\" y=\"213.713236\"/>\n     <use style=\"fill:#3f3f3f;stroke:#3f3f3f;stroke-linejoin:miter;\" x=\"194.325\" xlink:href=\"#m805e95c55a\" y=\"212.670108\"/>\n     <use style=\"fill:#3f3f3f;stroke:#3f3f3f;stroke-linejoin:miter;\" x=\"194.325\" xlink:href=\"#m805e95c55a\" y=\"212.409326\"/>\n     <use style=\"fill:#3f3f3f;stroke:#3f3f3f;stroke-linejoin:miter;\" x=\"194.325\" xlink:href=\"#m805e95c55a\" y=\"212.148544\"/>\n     <use style=\"fill:#3f3f3f;stroke:#3f3f3f;stroke-linejoin:miter;\" x=\"194.325\" xlink:href=\"#m805e95c55a\" y=\"212.148544\"/>\n     <use style=\"fill:#3f3f3f;stroke:#3f3f3f;stroke-linejoin:miter;\" x=\"194.325\" xlink:href=\"#m805e95c55a\" y=\"211.887762\"/>\n     <use style=\"fill:#3f3f3f;stroke:#3f3f3f;stroke-linejoin:miter;\" x=\"194.325\" xlink:href=\"#m805e95c55a\" y=\"212.148544\"/>\n     <use style=\"fill:#3f3f3f;stroke:#3f3f3f;stroke-linejoin:miter;\" x=\"194.325\" xlink:href=\"#m805e95c55a\" y=\"212.409326\"/>\n     <use style=\"fill:#3f3f3f;stroke:#3f3f3f;stroke-linejoin:miter;\" x=\"194.325\" xlink:href=\"#m805e95c55a\" y=\"211.887762\"/>\n     <use style=\"fill:#3f3f3f;stroke:#3f3f3f;stroke-linejoin:miter;\" x=\"194.325\" xlink:href=\"#m805e95c55a\" y=\"212.148544\"/>\n     <use style=\"fill:#3f3f3f;stroke:#3f3f3f;stroke-linejoin:miter;\" x=\"194.325\" xlink:href=\"#m805e95c55a\" y=\"212.148544\"/>\n     <use style=\"fill:#3f3f3f;stroke:#3f3f3f;stroke-linejoin:miter;\" x=\"194.325\" xlink:href=\"#m805e95c55a\" y=\"212.148544\"/>\n     <use style=\"fill:#3f3f3f;stroke:#3f3f3f;stroke-linejoin:miter;\" x=\"194.325\" xlink:href=\"#m805e95c55a\" y=\"211.887762\"/>\n     <use style=\"fill:#3f3f3f;stroke:#3f3f3f;stroke-linejoin:miter;\" x=\"194.325\" xlink:href=\"#m805e95c55a\" y=\"212.148544\"/>\n     <use style=\"fill:#3f3f3f;stroke:#3f3f3f;stroke-linejoin:miter;\" x=\"194.325\" xlink:href=\"#m805e95c55a\" y=\"214.756364\"/>\n     <use style=\"fill:#3f3f3f;stroke:#3f3f3f;stroke-linejoin:miter;\" x=\"194.325\" xlink:href=\"#m805e95c55a\" y=\"212.409326\"/>\n     <use style=\"fill:#3f3f3f;stroke:#3f3f3f;stroke-linejoin:miter;\" x=\"194.325\" xlink:href=\"#m805e95c55a\" y=\"212.409326\"/>\n     <use style=\"fill:#3f3f3f;stroke:#3f3f3f;stroke-linejoin:miter;\" x=\"194.325\" xlink:href=\"#m805e95c55a\" y=\"211.887762\"/>\n     <use style=\"fill:#3f3f3f;stroke:#3f3f3f;stroke-linejoin:miter;\" x=\"194.325\" xlink:href=\"#m805e95c55a\" y=\"212.148544\"/>\n     <use style=\"fill:#3f3f3f;stroke:#3f3f3f;stroke-linejoin:miter;\" x=\"194.325\" xlink:href=\"#m805e95c55a\" y=\"212.148544\"/>\n     <use style=\"fill:#3f3f3f;stroke:#3f3f3f;stroke-linejoin:miter;\" x=\"194.325\" xlink:href=\"#m805e95c55a\" y=\"214.756364\"/>\n     <use style=\"fill:#3f3f3f;stroke:#3f3f3f;stroke-linejoin:miter;\" x=\"194.325\" xlink:href=\"#m805e95c55a\" y=\"212.148544\"/>\n     <use style=\"fill:#3f3f3f;stroke:#3f3f3f;stroke-linejoin:miter;\" x=\"194.325\" xlink:href=\"#m805e95c55a\" y=\"212.670108\"/>\n     <use style=\"fill:#3f3f3f;stroke:#3f3f3f;stroke-linejoin:miter;\" x=\"194.325\" xlink:href=\"#m805e95c55a\" y=\"212.148544\"/>\n     <use style=\"fill:#3f3f3f;stroke:#3f3f3f;stroke-linejoin:miter;\" x=\"194.325\" xlink:href=\"#m805e95c55a\" y=\"212.148544\"/>\n     <use style=\"fill:#3f3f3f;stroke:#3f3f3f;stroke-linejoin:miter;\" x=\"194.325\" xlink:href=\"#m805e95c55a\" y=\"212.148544\"/>\n     <use style=\"fill:#3f3f3f;stroke:#3f3f3f;stroke-linejoin:miter;\" x=\"194.325\" xlink:href=\"#m805e95c55a\" y=\"212.148544\"/>\n     <use style=\"fill:#3f3f3f;stroke:#3f3f3f;stroke-linejoin:miter;\" x=\"194.325\" xlink:href=\"#m805e95c55a\" y=\"212.148544\"/>\n     <use style=\"fill:#3f3f3f;stroke:#3f3f3f;stroke-linejoin:miter;\" x=\"194.325\" xlink:href=\"#m805e95c55a\" y=\"212.148544\"/>\n     <use style=\"fill:#3f3f3f;stroke:#3f3f3f;stroke-linejoin:miter;\" x=\"194.325\" xlink:href=\"#m805e95c55a\" y=\"214.756364\"/>\n     <use style=\"fill:#3f3f3f;stroke:#3f3f3f;stroke-linejoin:miter;\" x=\"194.325\" xlink:href=\"#m805e95c55a\" y=\"214.756364\"/>\n     <use style=\"fill:#3f3f3f;stroke:#3f3f3f;stroke-linejoin:miter;\" x=\"194.325\" xlink:href=\"#m805e95c55a\" y=\"212.148544\"/>\n     <use style=\"fill:#3f3f3f;stroke:#3f3f3f;stroke-linejoin:miter;\" x=\"194.325\" xlink:href=\"#m805e95c55a\" y=\"212.148544\"/>\n     <use style=\"fill:#3f3f3f;stroke:#3f3f3f;stroke-linejoin:miter;\" x=\"194.325\" xlink:href=\"#m805e95c55a\" y=\"212.409326\"/>\n     <use style=\"fill:#3f3f3f;stroke:#3f3f3f;stroke-linejoin:miter;\" x=\"194.325\" xlink:href=\"#m805e95c55a\" y=\"212.148544\"/>\n     <use style=\"fill:#3f3f3f;stroke:#3f3f3f;stroke-linejoin:miter;\" x=\"194.325\" xlink:href=\"#m805e95c55a\" y=\"212.148544\"/>\n     <use style=\"fill:#3f3f3f;stroke:#3f3f3f;stroke-linejoin:miter;\" x=\"194.325\" xlink:href=\"#m805e95c55a\" y=\"212.148544\"/>\n     <use style=\"fill:#3f3f3f;stroke:#3f3f3f;stroke-linejoin:miter;\" x=\"194.325\" xlink:href=\"#m805e95c55a\" y=\"211.887762\"/>\n     <use style=\"fill:#3f3f3f;stroke:#3f3f3f;stroke-linejoin:miter;\" x=\"194.325\" xlink:href=\"#m805e95c55a\" y=\"212.148544\"/>\n     <use style=\"fill:#3f3f3f;stroke:#3f3f3f;stroke-linejoin:miter;\" x=\"194.325\" xlink:href=\"#m805e95c55a\" y=\"212.670108\"/>\n     <use style=\"fill:#3f3f3f;stroke:#3f3f3f;stroke-linejoin:miter;\" x=\"194.325\" xlink:href=\"#m805e95c55a\" y=\"212.409326\"/>\n     <use style=\"fill:#3f3f3f;stroke:#3f3f3f;stroke-linejoin:miter;\" x=\"194.325\" xlink:href=\"#m805e95c55a\" y=\"212.148544\"/>\n     <use style=\"fill:#3f3f3f;stroke:#3f3f3f;stroke-linejoin:miter;\" x=\"194.325\" xlink:href=\"#m805e95c55a\" y=\"211.887762\"/>\n     <use style=\"fill:#3f3f3f;stroke:#3f3f3f;stroke-linejoin:miter;\" x=\"194.325\" xlink:href=\"#m805e95c55a\" y=\"212.409326\"/>\n     <use style=\"fill:#3f3f3f;stroke:#3f3f3f;stroke-linejoin:miter;\" x=\"194.325\" xlink:href=\"#m805e95c55a\" y=\"212.148544\"/>\n     <use style=\"fill:#3f3f3f;stroke:#3f3f3f;stroke-linejoin:miter;\" x=\"194.325\" xlink:href=\"#m805e95c55a\" y=\"213.191672\"/>\n     <use style=\"fill:#3f3f3f;stroke:#3f3f3f;stroke-linejoin:miter;\" x=\"194.325\" xlink:href=\"#m805e95c55a\" y=\"211.887762\"/>\n     <use style=\"fill:#3f3f3f;stroke:#3f3f3f;stroke-linejoin:miter;\" x=\"194.325\" xlink:href=\"#m805e95c55a\" y=\"212.409326\"/>\n     <use style=\"fill:#3f3f3f;stroke:#3f3f3f;stroke-linejoin:miter;\" x=\"194.325\" xlink:href=\"#m805e95c55a\" y=\"211.887762\"/>\n     <use style=\"fill:#3f3f3f;stroke:#3f3f3f;stroke-linejoin:miter;\" x=\"194.325\" xlink:href=\"#m805e95c55a\" y=\"212.409326\"/>\n     <use style=\"fill:#3f3f3f;stroke:#3f3f3f;stroke-linejoin:miter;\" x=\"194.325\" xlink:href=\"#m805e95c55a\" y=\"213.191672\"/>\n     <use style=\"fill:#3f3f3f;stroke:#3f3f3f;stroke-linejoin:miter;\" x=\"194.325\" xlink:href=\"#m805e95c55a\" y=\"212.409326\"/>\n     <use style=\"fill:#3f3f3f;stroke:#3f3f3f;stroke-linejoin:miter;\" x=\"194.325\" xlink:href=\"#m805e95c55a\" y=\"212.148544\"/>\n     <use style=\"fill:#3f3f3f;stroke:#3f3f3f;stroke-linejoin:miter;\" x=\"194.325\" xlink:href=\"#m805e95c55a\" y=\"212.409326\"/>\n     <use style=\"fill:#3f3f3f;stroke:#3f3f3f;stroke-linejoin:miter;\" x=\"194.325\" xlink:href=\"#m805e95c55a\" y=\"213.974018\"/>\n     <use style=\"fill:#3f3f3f;stroke:#3f3f3f;stroke-linejoin:miter;\" x=\"194.325\" xlink:href=\"#m805e95c55a\" y=\"212.148544\"/>\n     <use style=\"fill:#3f3f3f;stroke:#3f3f3f;stroke-linejoin:miter;\" x=\"194.325\" xlink:href=\"#m805e95c55a\" y=\"212.148544\"/>\n     <use style=\"fill:#3f3f3f;stroke:#3f3f3f;stroke-linejoin:miter;\" x=\"194.325\" xlink:href=\"#m805e95c55a\" y=\"212.148544\"/>\n     <use style=\"fill:#3f3f3f;stroke:#3f3f3f;stroke-linejoin:miter;\" x=\"194.325\" xlink:href=\"#m805e95c55a\" y=\"212.148544\"/>\n     <use style=\"fill:#3f3f3f;stroke:#3f3f3f;stroke-linejoin:miter;\" x=\"194.325\" xlink:href=\"#m805e95c55a\" y=\"212.148544\"/>\n     <use style=\"fill:#3f3f3f;stroke:#3f3f3f;stroke-linejoin:miter;\" x=\"194.325\" xlink:href=\"#m805e95c55a\" y=\"212.148544\"/>\n     <use style=\"fill:#3f3f3f;stroke:#3f3f3f;stroke-linejoin:miter;\" x=\"194.325\" xlink:href=\"#m805e95c55a\" y=\"212.148544\"/>\n     <use style=\"fill:#3f3f3f;stroke:#3f3f3f;stroke-linejoin:miter;\" x=\"194.325\" xlink:href=\"#m805e95c55a\" y=\"211.887762\"/>\n     <use style=\"fill:#3f3f3f;stroke:#3f3f3f;stroke-linejoin:miter;\" x=\"194.325\" xlink:href=\"#m805e95c55a\" y=\"212.148544\"/>\n     <use style=\"fill:#3f3f3f;stroke:#3f3f3f;stroke-linejoin:miter;\" x=\"194.325\" xlink:href=\"#m805e95c55a\" y=\"212.148544\"/>\n     <use style=\"fill:#3f3f3f;stroke:#3f3f3f;stroke-linejoin:miter;\" x=\"194.325\" xlink:href=\"#m805e95c55a\" y=\"209.279942\"/>\n     <use style=\"fill:#3f3f3f;stroke:#3f3f3f;stroke-linejoin:miter;\" x=\"194.325\" xlink:href=\"#m805e95c55a\" y=\"208.497597\"/>\n     <use style=\"fill:#3f3f3f;stroke:#3f3f3f;stroke-linejoin:miter;\" x=\"194.325\" xlink:href=\"#m805e95c55a\" y=\"209.540724\"/>\n     <use style=\"fill:#3f3f3f;stroke:#3f3f3f;stroke-linejoin:miter;\" x=\"194.325\" xlink:href=\"#m805e95c55a\" y=\"209.540724\"/>\n     <use style=\"fill:#3f3f3f;stroke:#3f3f3f;stroke-linejoin:miter;\" x=\"194.325\" xlink:href=\"#m805e95c55a\" y=\"209.279942\"/>\n     <use style=\"fill:#3f3f3f;stroke:#3f3f3f;stroke-linejoin:miter;\" x=\"194.325\" xlink:href=\"#m805e95c55a\" y=\"211.366198\"/>\n     <use style=\"fill:#3f3f3f;stroke:#3f3f3f;stroke-linejoin:miter;\" x=\"194.325\" xlink:href=\"#m805e95c55a\" y=\"209.540724\"/>\n     <use style=\"fill:#3f3f3f;stroke:#3f3f3f;stroke-linejoin:miter;\" x=\"194.325\" xlink:href=\"#m805e95c55a\" y=\"209.540724\"/>\n     <use style=\"fill:#3f3f3f;stroke:#3f3f3f;stroke-linejoin:miter;\" x=\"194.325\" xlink:href=\"#m805e95c55a\" y=\"209.540724\"/>\n     <use style=\"fill:#3f3f3f;stroke:#3f3f3f;stroke-linejoin:miter;\" x=\"194.325\" xlink:href=\"#m805e95c55a\" y=\"209.540724\"/>\n     <use style=\"fill:#3f3f3f;stroke:#3f3f3f;stroke-linejoin:miter;\" x=\"194.325\" xlink:href=\"#m805e95c55a\" y=\"209.540724\"/>\n     <use style=\"fill:#3f3f3f;stroke:#3f3f3f;stroke-linejoin:miter;\" x=\"194.325\" xlink:href=\"#m805e95c55a\" y=\"209.279942\"/>\n     <use style=\"fill:#3f3f3f;stroke:#3f3f3f;stroke-linejoin:miter;\" x=\"194.325\" xlink:href=\"#m805e95c55a\" y=\"209.540724\"/>\n     <use style=\"fill:#3f3f3f;stroke:#3f3f3f;stroke-linejoin:miter;\" x=\"194.325\" xlink:href=\"#m805e95c55a\" y=\"209.540724\"/>\n     <use style=\"fill:#3f3f3f;stroke:#3f3f3f;stroke-linejoin:miter;\" x=\"194.325\" xlink:href=\"#m805e95c55a\" y=\"209.540724\"/>\n     <use style=\"fill:#3f3f3f;stroke:#3f3f3f;stroke-linejoin:miter;\" x=\"194.325\" xlink:href=\"#m805e95c55a\" y=\"209.540724\"/>\n     <use style=\"fill:#3f3f3f;stroke:#3f3f3f;stroke-linejoin:miter;\" x=\"194.325\" xlink:href=\"#m805e95c55a\" y=\"209.540724\"/>\n     <use style=\"fill:#3f3f3f;stroke:#3f3f3f;stroke-linejoin:miter;\" x=\"194.325\" xlink:href=\"#m805e95c55a\" y=\"209.540724\"/>\n     <use style=\"fill:#3f3f3f;stroke:#3f3f3f;stroke-linejoin:miter;\" x=\"194.325\" xlink:href=\"#m805e95c55a\" y=\"209.540724\"/>\n     <use style=\"fill:#3f3f3f;stroke:#3f3f3f;stroke-linejoin:miter;\" x=\"194.325\" xlink:href=\"#m805e95c55a\" y=\"209.540724\"/>\n     <use style=\"fill:#3f3f3f;stroke:#3f3f3f;stroke-linejoin:miter;\" x=\"194.325\" xlink:href=\"#m805e95c55a\" y=\"211.366198\"/>\n     <use style=\"fill:#3f3f3f;stroke:#3f3f3f;stroke-linejoin:miter;\" x=\"194.325\" xlink:href=\"#m805e95c55a\" y=\"211.366198\"/>\n     <use style=\"fill:#3f3f3f;stroke:#3f3f3f;stroke-linejoin:miter;\" x=\"194.325\" xlink:href=\"#m805e95c55a\" y=\"209.540724\"/>\n     <use style=\"fill:#3f3f3f;stroke:#3f3f3f;stroke-linejoin:miter;\" x=\"194.325\" xlink:href=\"#m805e95c55a\" y=\"209.540724\"/>\n     <use style=\"fill:#3f3f3f;stroke:#3f3f3f;stroke-linejoin:miter;\" x=\"194.325\" xlink:href=\"#m805e95c55a\" y=\"209.540724\"/>\n     <use style=\"fill:#3f3f3f;stroke:#3f3f3f;stroke-linejoin:miter;\" x=\"194.325\" xlink:href=\"#m805e95c55a\" y=\"209.540724\"/>\n     <use style=\"fill:#3f3f3f;stroke:#3f3f3f;stroke-linejoin:miter;\" x=\"194.325\" xlink:href=\"#m805e95c55a\" y=\"209.540724\"/>\n     <use style=\"fill:#3f3f3f;stroke:#3f3f3f;stroke-linejoin:miter;\" x=\"194.325\" xlink:href=\"#m805e95c55a\" y=\"209.540724\"/>\n     <use style=\"fill:#3f3f3f;stroke:#3f3f3f;stroke-linejoin:miter;\" x=\"194.325\" xlink:href=\"#m805e95c55a\" y=\"209.540724\"/>\n     <use style=\"fill:#3f3f3f;stroke:#3f3f3f;stroke-linejoin:miter;\" x=\"194.325\" xlink:href=\"#m805e95c55a\" y=\"209.801506\"/>\n     <use style=\"fill:#3f3f3f;stroke:#3f3f3f;stroke-linejoin:miter;\" x=\"194.325\" xlink:href=\"#m805e95c55a\" y=\"209.540724\"/>\n     <use style=\"fill:#3f3f3f;stroke:#3f3f3f;stroke-linejoin:miter;\" x=\"194.325\" xlink:href=\"#m805e95c55a\" y=\"209.540724\"/>\n     <use style=\"fill:#3f3f3f;stroke:#3f3f3f;stroke-linejoin:miter;\" x=\"194.325\" xlink:href=\"#m805e95c55a\" y=\"209.801506\"/>\n     <use style=\"fill:#3f3f3f;stroke:#3f3f3f;stroke-linejoin:miter;\" x=\"194.325\" xlink:href=\"#m805e95c55a\" y=\"209.540724\"/>\n     <use style=\"fill:#3f3f3f;stroke:#3f3f3f;stroke-linejoin:miter;\" x=\"194.325\" xlink:href=\"#m805e95c55a\" y=\"209.801506\"/>\n     <use style=\"fill:#3f3f3f;stroke:#3f3f3f;stroke-linejoin:miter;\" x=\"194.325\" xlink:href=\"#m805e95c55a\" y=\"209.540724\"/>\n     <use style=\"fill:#3f3f3f;stroke:#3f3f3f;stroke-linejoin:miter;\" x=\"194.325\" xlink:href=\"#m805e95c55a\" y=\"209.279942\"/>\n     <use style=\"fill:#3f3f3f;stroke:#3f3f3f;stroke-linejoin:miter;\" x=\"194.325\" xlink:href=\"#m805e95c55a\" y=\"209.801506\"/>\n     <use style=\"fill:#3f3f3f;stroke:#3f3f3f;stroke-linejoin:miter;\" x=\"194.325\" xlink:href=\"#m805e95c55a\" y=\"209.540724\"/>\n     <use style=\"fill:#3f3f3f;stroke:#3f3f3f;stroke-linejoin:miter;\" x=\"194.325\" xlink:href=\"#m805e95c55a\" y=\"209.540724\"/>\n     <use style=\"fill:#3f3f3f;stroke:#3f3f3f;stroke-linejoin:miter;\" x=\"194.325\" xlink:href=\"#m805e95c55a\" y=\"211.366198\"/>\n     <use style=\"fill:#3f3f3f;stroke:#3f3f3f;stroke-linejoin:miter;\" x=\"194.325\" xlink:href=\"#m805e95c55a\" y=\"211.105416\"/>\n     <use style=\"fill:#3f3f3f;stroke:#3f3f3f;stroke-linejoin:miter;\" x=\"194.325\" xlink:href=\"#m805e95c55a\" y=\"211.105416\"/>\n     <use style=\"fill:#3f3f3f;stroke:#3f3f3f;stroke-linejoin:miter;\" x=\"194.325\" xlink:href=\"#m805e95c55a\" y=\"211.105416\"/>\n     <use style=\"fill:#3f3f3f;stroke:#3f3f3f;stroke-linejoin:miter;\" x=\"194.325\" xlink:href=\"#m805e95c55a\" y=\"211.105416\"/>\n     <use style=\"fill:#3f3f3f;stroke:#3f3f3f;stroke-linejoin:miter;\" x=\"194.325\" xlink:href=\"#m805e95c55a\" y=\"211.105416\"/>\n     <use style=\"fill:#3f3f3f;stroke:#3f3f3f;stroke-linejoin:miter;\" x=\"194.325\" xlink:href=\"#m805e95c55a\" y=\"211.105416\"/>\n     <use style=\"fill:#3f3f3f;stroke:#3f3f3f;stroke-linejoin:miter;\" x=\"194.325\" xlink:href=\"#m805e95c55a\" y=\"17.083636\"/>\n     <use style=\"fill:#3f3f3f;stroke:#3f3f3f;stroke-linejoin:miter;\" x=\"194.325\" xlink:href=\"#m805e95c55a\" y=\"211.105416\"/>\n     <use style=\"fill:#3f3f3f;stroke:#3f3f3f;stroke-linejoin:miter;\" x=\"194.325\" xlink:href=\"#m805e95c55a\" y=\"211.105416\"/>\n    </g>\n   </g>\n   <g id=\"line2d_16\">\n    <path clip-path=\"url(#paeddf6dc7a)\" d=\"M 60.405 211.62698 \nL 328.245 211.62698 \n\" style=\"fill:none;stroke:#3f3f3f;stroke-linecap:square;stroke-width:1.5;\"/>\n   </g>\n   <g id=\"patch_4\">\n    <path d=\"M 26.925 224.64 \nL 26.925 7.2 \n\" style=\"fill:none;stroke:#000000;stroke-linecap:square;stroke-linejoin:miter;stroke-width:0.8;\"/>\n   </g>\n   <g id=\"patch_5\">\n    <path d=\"M 361.725 224.64 \nL 361.725 7.2 \n\" style=\"fill:none;stroke:#000000;stroke-linecap:square;stroke-linejoin:miter;stroke-width:0.8;\"/>\n   </g>\n   <g id=\"patch_6\">\n    <path d=\"M 26.925 224.64 \nL 361.725 224.64 \n\" style=\"fill:none;stroke:#000000;stroke-linecap:square;stroke-linejoin:miter;stroke-width:0.8;\"/>\n   </g>\n   <g id=\"patch_7\">\n    <path d=\"M 26.925 7.2 \nL 361.725 7.2 \n\" style=\"fill:none;stroke:#000000;stroke-linecap:square;stroke-linejoin:miter;stroke-width:0.8;\"/>\n   </g>\n  </g>\n </g>\n <defs>\n  <clipPath id=\"paeddf6dc7a\">\n   <rect height=\"217.44\" width=\"334.8\" x=\"26.925\" y=\"7.2\"/>\n  </clipPath>\n </defs>\n</svg>\n",
      "image/png": "[encoded data removed]"
     },
     "metadata": {
      "needs_background": "light"
     }
    }
   ],
   "source": [
    "sns.boxplot(data=df_beer_without_null.ph)"
   ]
  },
  {
   "cell_type": "code",
   "execution_count": 21,
   "id": "23f43d83-cd03-4827-a467-2f2a907f3f7b",
   "metadata": {},
   "outputs": [
    {
     "output_type": "execute_result",
     "data": {
      "text/plain": [
       "           name  abv   ibu  target_fg  target_og   ebc   srm    ph\n",
       "306  Al Adjore!  9.0  65.0     1018.0     1085.0  35.0  18.0  79.0"
      ],
      "text/html": "<div>\n<style scoped>\n    .dataframe tbody tr th:only-of-type {\n        vertical-align: middle;\n    }\n\n    .dataframe tbody tr th {\n        vertical-align: top;\n    }\n\n    .dataframe thead th {\n        text-align: right;\n    }\n</style>\n<table border=\"1\" class=\"dataframe\">\n  <thead>\n    <tr style=\"text-align: right;\">\n      <th></th>\n      <th>name</th>\n      <th>abv</th>\n      <th>ibu</th>\n      <th>target_fg</th>\n      <th>target_og</th>\n      <th>ebc</th>\n      <th>srm</th>\n      <th>ph</th>\n    </tr>\n  </thead>\n  <tbody>\n    <tr>\n      <th>306</th>\n      <td>Al Adjore!</td>\n      <td>9.0</td>\n      <td>65.0</td>\n      <td>1018.0</td>\n      <td>1085.0</td>\n      <td>35.0</td>\n      <td>18.0</td>\n      <td>79.0</td>\n    </tr>\n  </tbody>\n</table>\n</div>"
     },
     "metadata": {},
     "execution_count": 21
    }
   ],
   "source": [
    "df_beer_without_null[df_beer_without_null.ph > 14]"
   ]
  },
  {
   "cell_type": "markdown",
   "id": "364df056-a38a-429d-bf46-ce1b564b0d26",
   "metadata": {},
   "source": [
    "pH é uma medida que varia de 0 a 14, sendo 79 um valor impossível. Como é somente um registro, vamos tirar."
   ]
  },
  {
   "cell_type": "code",
   "execution_count": 22,
   "id": "36cf2167-4b30-42d9-94a7-a7dff6647ab7",
   "metadata": {},
   "outputs": [],
   "source": [
    "df_beer_without_null = df_beer_without_null.query(\"ph < 15\").reset_index(drop=True)"
   ]
  },
  {
   "cell_type": "markdown",
   "id": "afa20d75-e48b-4906-94a8-d5ebc4b1273f",
   "metadata": {},
   "source": [
    "### ebc"
   ]
  },
  {
   "cell_type": "code",
   "execution_count": 23,
   "id": "b146e649-dcc8-456b-b800-ab5e0a5b5403",
   "metadata": {},
   "outputs": [
    {
     "output_type": "execute_result",
     "data": {
      "text/plain": [
       "<AxesSubplot:>"
      ]
     },
     "metadata": {},
     "execution_count": 23
    },
    {
     "output_type": "display_data",
     "data": {
      "text/plain": "<Figure size 432x288 with 1 Axes>",
      "image/svg+xml": "<?xml version=\"1.0\" encoding=\"utf-8\" standalone=\"no\"?>\n<!DOCTYPE svg PUBLIC \"-//W3C//DTD SVG 1.1//EN\"\n  \"http://www.w3.org/Graphics/SVG/1.1/DTD/svg11.dtd\">\n<svg height=\"248.518125pt\" version=\"1.1\" viewBox=\"0 0 375.2875 248.518125\" width=\"375.2875pt\" xmlns=\"http://www.w3.org/2000/svg\" xmlns:xlink=\"http://www.w3.org/1999/xlink\">\n <metadata>\n  <rdf:RDF xmlns:cc=\"http://creativecommons.org/ns#\" xmlns:dc=\"http://purl.org/dc/elements/1.1/\" xmlns:rdf=\"http://www.w3.org/1999/02/22-rdf-syntax-ns#\">\n   <cc:Work>\n    <dc:type rdf:resource=\"http://purl.org/dc/dcmitype/StillImage\"/>\n    <dc:date>2021-06-23T13:06:48.505021</dc:date>\n    <dc:format>image/svg+xml</dc:format>\n    <dc:creator>\n     <cc:Agent>\n      <dc:title>Matplotlib v3.4.2, https://matplotlib.org/</dc:title>\n     </cc:Agent>\n    </dc:creator>\n   </cc:Work>\n  </rdf:RDF>\n </metadata>\n <defs>\n  <style type=\"text/css\">*{stroke-linecap:butt;stroke-linejoin:round;}</style>\n </defs>\n <g id=\"figure_1\">\n  <g id=\"patch_1\">\n   <path d=\"M 0 248.518125 \nL 375.2875 248.518125 \nL 375.2875 0 \nL 0 0 \nz\n\" style=\"fill:none;\"/>\n  </g>\n  <g id=\"axes_1\">\n   <g id=\"patch_2\">\n    <path d=\"M 33.2875 224.64 \nL 368.0875 224.64 \nL 368.0875 7.2 \nL 33.2875 7.2 \nz\n\" style=\"fill:#ffffff;\"/>\n   </g>\n   <g id=\"patch_3\">\n    <path clip-path=\"url(#pd94077a043)\" d=\"M 66.7675 210.45913 \nL 334.6075 210.45913 \nL 334.6075 190.014217 \nL 66.7675 190.014217 \nL 66.7675 210.45913 \nz\n\" style=\"fill:#3274a1;stroke:#3f3f3f;stroke-linejoin:miter;stroke-width:1.5;\"/>\n   </g>\n   <g id=\"matplotlib.axis_1\">\n    <g id=\"xtick_1\">\n     <g id=\"line2d_1\">\n      <defs>\n       <path d=\"M 0 0 \nL 0 3.5 \n\" id=\"md78d6c36b0\" style=\"stroke:#000000;stroke-width:0.8;\"/>\n      </defs>\n      <g>\n       <use style=\"stroke:#000000;stroke-width:0.8;\" x=\"200.6875\" xlink:href=\"#md78d6c36b0\" y=\"224.64\"/>\n      </g>\n     </g>\n     <g id=\"text_1\">\n      <!-- 0 -->\n      <g transform=\"translate(197.50625 239.238437)scale(0.1 -0.1)\">\n       <defs>\n        <path d=\"M 2034 4250 \nQ 1547 4250 1301 3770 \nQ 1056 3291 1056 2328 \nQ 1056 1369 1301 889 \nQ 1547 409 2034 409 \nQ 2525 409 2770 889 \nQ 3016 1369 3016 2328 \nQ 3016 3291 2770 3770 \nQ 2525 4250 2034 4250 \nz\nM 2034 4750 \nQ 2819 4750 3233 4129 \nQ 3647 3509 3647 2328 \nQ 3647 1150 3233 529 \nQ 2819 -91 2034 -91 \nQ 1250 -91 836 529 \nQ 422 1150 422 2328 \nQ 422 3509 836 4129 \nQ 1250 4750 2034 4750 \nz\n\" id=\"DejaVuSans-30\" transform=\"scale(0.015625)\"/>\n       </defs>\n       <use xlink:href=\"#DejaVuSans-30\"/>\n      </g>\n     </g>\n    </g>\n   </g>\n   <g id=\"matplotlib.axis_2\">\n    <g id=\"ytick_1\">\n     <g id=\"line2d_2\">\n      <defs>\n       <path d=\"M 0 0 \nL -3.5 0 \n\" id=\"m86143ee79b\" style=\"stroke:#000000;stroke-width:0.8;\"/>\n      </defs>\n      <g>\n       <use style=\"stroke:#000000;stroke-width:0.8;\" x=\"33.2875\" xlink:href=\"#m86143ee79b\" y=\"215.417476\"/>\n      </g>\n     </g>\n     <g id=\"text_2\">\n      <!-- 0 -->\n      <g transform=\"translate(19.925 219.216695)scale(0.1 -0.1)\">\n       <use xlink:href=\"#DejaVuSans-30\"/>\n      </g>\n     </g>\n    </g>\n    <g id=\"ytick_2\">\n     <g id=\"line2d_3\">\n      <g>\n       <use style=\"stroke:#000000;stroke-width:0.8;\" x=\"33.2875\" xlink:href=\"#m86143ee79b\" y=\"182.361836\"/>\n      </g>\n     </g>\n     <g id=\"text_3\">\n      <!-- 100 -->\n      <g transform=\"translate(7.2 186.161055)scale(0.1 -0.1)\">\n       <defs>\n        <path d=\"M 794 531 \nL 1825 531 \nL 1825 4091 \nL 703 3866 \nL 703 4441 \nL 1819 4666 \nL 2450 4666 \nL 2450 531 \nL 3481 531 \nL 3481 0 \nL 794 0 \nL 794 531 \nz\n\" id=\"DejaVuSans-31\" transform=\"scale(0.015625)\"/>\n       </defs>\n       <use xlink:href=\"#DejaVuSans-31\"/>\n       <use x=\"63.623047\" xlink:href=\"#DejaVuSans-30\"/>\n       <use x=\"127.246094\" xlink:href=\"#DejaVuSans-30\"/>\n      </g>\n     </g>\n    </g>\n    <g id=\"ytick_3\">\n     <g id=\"line2d_4\">\n      <g>\n       <use style=\"stroke:#000000;stroke-width:0.8;\" x=\"33.2875\" xlink:href=\"#m86143ee79b\" y=\"149.306196\"/>\n      </g>\n     </g>\n     <g id=\"text_4\">\n      <!-- 200 -->\n      <g transform=\"translate(7.2 153.105415)scale(0.1 -0.1)\">\n       <defs>\n        <path d=\"M 1228 531 \nL 3431 531 \nL 3431 0 \nL 469 0 \nL 469 531 \nQ 828 903 1448 1529 \nQ 2069 2156 2228 2338 \nQ 2531 2678 2651 2914 \nQ 2772 3150 2772 3378 \nQ 2772 3750 2511 3984 \nQ 2250 4219 1831 4219 \nQ 1534 4219 1204 4116 \nQ 875 4013 500 3803 \nL 500 4441 \nQ 881 4594 1212 4672 \nQ 1544 4750 1819 4750 \nQ 2544 4750 2975 4387 \nQ 3406 4025 3406 3419 \nQ 3406 3131 3298 2873 \nQ 3191 2616 2906 2266 \nQ 2828 2175 2409 1742 \nQ 1991 1309 1228 531 \nz\n\" id=\"DejaVuSans-32\" transform=\"scale(0.015625)\"/>\n       </defs>\n       <use xlink:href=\"#DejaVuSans-32\"/>\n       <use x=\"63.623047\" xlink:href=\"#DejaVuSans-30\"/>\n       <use x=\"127.246094\" xlink:href=\"#DejaVuSans-30\"/>\n      </g>\n     </g>\n    </g>\n    <g id=\"ytick_4\">\n     <g id=\"line2d_5\">\n      <g>\n       <use style=\"stroke:#000000;stroke-width:0.8;\" x=\"33.2875\" xlink:href=\"#m86143ee79b\" y=\"116.250556\"/>\n      </g>\n     </g>\n     <g id=\"text_5\">\n      <!-- 300 -->\n      <g transform=\"translate(7.2 120.049775)scale(0.1 -0.1)\">\n       <defs>\n        <path d=\"M 2597 2516 \nQ 3050 2419 3304 2112 \nQ 3559 1806 3559 1356 \nQ 3559 666 3084 287 \nQ 2609 -91 1734 -91 \nQ 1441 -91 1130 -33 \nQ 819 25 488 141 \nL 488 750 \nQ 750 597 1062 519 \nQ 1375 441 1716 441 \nQ 2309 441 2620 675 \nQ 2931 909 2931 1356 \nQ 2931 1769 2642 2001 \nQ 2353 2234 1838 2234 \nL 1294 2234 \nL 1294 2753 \nL 1863 2753 \nQ 2328 2753 2575 2939 \nQ 2822 3125 2822 3475 \nQ 2822 3834 2567 4026 \nQ 2313 4219 1838 4219 \nQ 1578 4219 1281 4162 \nQ 984 4106 628 3988 \nL 628 4550 \nQ 988 4650 1302 4700 \nQ 1616 4750 1894 4750 \nQ 2613 4750 3031 4423 \nQ 3450 4097 3450 3541 \nQ 3450 3153 3228 2886 \nQ 3006 2619 2597 2516 \nz\n\" id=\"DejaVuSans-33\" transform=\"scale(0.015625)\"/>\n       </defs>\n       <use xlink:href=\"#DejaVuSans-33\"/>\n       <use x=\"63.623047\" xlink:href=\"#DejaVuSans-30\"/>\n       <use x=\"127.246094\" xlink:href=\"#DejaVuSans-30\"/>\n      </g>\n     </g>\n    </g>\n    <g id=\"ytick_5\">\n     <g id=\"line2d_6\">\n      <g>\n       <use style=\"stroke:#000000;stroke-width:0.8;\" x=\"33.2875\" xlink:href=\"#m86143ee79b\" y=\"83.194916\"/>\n      </g>\n     </g>\n     <g id=\"text_6\">\n      <!-- 400 -->\n      <g transform=\"translate(7.2 86.994135)scale(0.1 -0.1)\">\n       <defs>\n        <path d=\"M 2419 4116 \nL 825 1625 \nL 2419 1625 \nL 2419 4116 \nz\nM 2253 4666 \nL 3047 4666 \nL 3047 1625 \nL 3713 1625 \nL 3713 1100 \nL 3047 1100 \nL 3047 0 \nL 2419 0 \nL 2419 1100 \nL 313 1100 \nL 313 1709 \nL 2253 4666 \nz\n\" id=\"DejaVuSans-34\" transform=\"scale(0.015625)\"/>\n       </defs>\n       <use xlink:href=\"#DejaVuSans-34\"/>\n       <use x=\"63.623047\" xlink:href=\"#DejaVuSans-30\"/>\n       <use x=\"127.246094\" xlink:href=\"#DejaVuSans-30\"/>\n      </g>\n     </g>\n    </g>\n    <g id=\"ytick_6\">\n     <g id=\"line2d_7\">\n      <g>\n       <use style=\"stroke:#000000;stroke-width:0.8;\" x=\"33.2875\" xlink:href=\"#m86143ee79b\" y=\"50.139276\"/>\n      </g>\n     </g>\n     <g id=\"text_7\">\n      <!-- 500 -->\n      <g transform=\"translate(7.2 53.938495)scale(0.1 -0.1)\">\n       <defs>\n        <path d=\"M 691 4666 \nL 3169 4666 \nL 3169 4134 \nL 1269 4134 \nL 1269 2991 \nQ 1406 3038 1543 3061 \nQ 1681 3084 1819 3084 \nQ 2600 3084 3056 2656 \nQ 3513 2228 3513 1497 \nQ 3513 744 3044 326 \nQ 2575 -91 1722 -91 \nQ 1428 -91 1123 -41 \nQ 819 9 494 109 \nL 494 744 \nQ 775 591 1075 516 \nQ 1375 441 1709 441 \nQ 2250 441 2565 725 \nQ 2881 1009 2881 1497 \nQ 2881 1984 2565 2268 \nQ 2250 2553 1709 2553 \nQ 1456 2553 1204 2497 \nQ 953 2441 691 2322 \nL 691 4666 \nz\n\" id=\"DejaVuSans-35\" transform=\"scale(0.015625)\"/>\n       </defs>\n       <use xlink:href=\"#DejaVuSans-35\"/>\n       <use x=\"63.623047\" xlink:href=\"#DejaVuSans-30\"/>\n       <use x=\"127.246094\" xlink:href=\"#DejaVuSans-30\"/>\n      </g>\n     </g>\n    </g>\n    <g id=\"ytick_7\">\n     <g id=\"line2d_8\">\n      <g>\n       <use style=\"stroke:#000000;stroke-width:0.8;\" x=\"33.2875\" xlink:href=\"#m86143ee79b\" y=\"17.083636\"/>\n      </g>\n     </g>\n     <g id=\"text_8\">\n      <!-- 600 -->\n      <g transform=\"translate(7.2 20.882855)scale(0.1 -0.1)\">\n       <defs>\n        <path d=\"M 2113 2584 \nQ 1688 2584 1439 2293 \nQ 1191 2003 1191 1497 \nQ 1191 994 1439 701 \nQ 1688 409 2113 409 \nQ 2538 409 2786 701 \nQ 3034 994 3034 1497 \nQ 3034 2003 2786 2293 \nQ 2538 2584 2113 2584 \nz\nM 3366 4563 \nL 3366 3988 \nQ 3128 4100 2886 4159 \nQ 2644 4219 2406 4219 \nQ 1781 4219 1451 3797 \nQ 1122 3375 1075 2522 \nQ 1259 2794 1537 2939 \nQ 1816 3084 2150 3084 \nQ 2853 3084 3261 2657 \nQ 3669 2231 3669 1497 \nQ 3669 778 3244 343 \nQ 2819 -91 2113 -91 \nQ 1303 -91 875 529 \nQ 447 1150 447 2328 \nQ 447 3434 972 4092 \nQ 1497 4750 2381 4750 \nQ 2619 4750 2861 4703 \nQ 3103 4656 3366 4563 \nz\n\" id=\"DejaVuSans-36\" transform=\"scale(0.015625)\"/>\n       </defs>\n       <use xlink:href=\"#DejaVuSans-36\"/>\n       <use x=\"63.623047\" xlink:href=\"#DejaVuSans-30\"/>\n       <use x=\"127.246094\" xlink:href=\"#DejaVuSans-30\"/>\n      </g>\n     </g>\n    </g>\n   </g>\n   <g id=\"line2d_9\">\n    <path clip-path=\"url(#pd94077a043)\" d=\"M 200.6875 210.45913 \nL 200.6875 214.756364 \n\" style=\"fill:none;stroke:#3f3f3f;stroke-linecap:square;stroke-width:1.5;\"/>\n   </g>\n   <g id=\"line2d_10\">\n    <path clip-path=\"url(#pd94077a043)\" d=\"M 200.6875 190.014217 \nL 200.6875 160.87567 \n\" style=\"fill:none;stroke:#3f3f3f;stroke-linecap:square;stroke-width:1.5;\"/>\n   </g>\n   <g id=\"line2d_11\">\n    <path clip-path=\"url(#pd94077a043)\" d=\"M 133.7275 214.756364 \nL 267.6475 214.756364 \n\" style=\"fill:none;stroke:#3f3f3f;stroke-linecap:square;stroke-width:1.5;\"/>\n   </g>\n   <g id=\"line2d_12\">\n    <path clip-path=\"url(#pd94077a043)\" d=\"M 133.7275 160.87567 \nL 267.6475 160.87567 \n\" style=\"fill:none;stroke:#3f3f3f;stroke-linecap:square;stroke-width:1.5;\"/>\n   </g>\n   <g id=\"line2d_13\">\n    <defs>\n     <path d=\"M -0 3.535534 \nL 2.12132 0 \nL -0 -3.535534 \nL -2.12132 -0 \nz\n\" id=\"m68cda74214\" style=\"stroke:#3f3f3f;stroke-linejoin:miter;\"/>\n    </defs>\n    <g clip-path=\"url(#pd94077a043)\">\n     <use style=\"fill:#3f3f3f;stroke:#3f3f3f;stroke-linejoin:miter;\" x=\"200.6875\" xlink:href=\"#m68cda74214\" y=\"149.306196\"/>\n     <use style=\"fill:#3f3f3f;stroke:#3f3f3f;stroke-linejoin:miter;\" x=\"200.6875\" xlink:href=\"#m68cda74214\" y=\"143.025625\"/>\n     <use style=\"fill:#3f3f3f;stroke:#3f3f3f;stroke-linejoin:miter;\" x=\"200.6875\" xlink:href=\"#m68cda74214\" y=\"155.917324\"/>\n     <use style=\"fill:#3f3f3f;stroke:#3f3f3f;stroke-linejoin:miter;\" x=\"200.6875\" xlink:href=\"#m68cda74214\" y=\"116.250556\"/>\n     <use style=\"fill:#3f3f3f;stroke:#3f3f3f;stroke-linejoin:miter;\" x=\"200.6875\" xlink:href=\"#m68cda74214\" y=\"116.250556\"/>\n     <use style=\"fill:#3f3f3f;stroke:#3f3f3f;stroke-linejoin:miter;\" x=\"200.6875\" xlink:href=\"#m68cda74214\" y=\"132.778376\"/>\n     <use style=\"fill:#3f3f3f;stroke:#3f3f3f;stroke-linejoin:miter;\" x=\"200.6875\" xlink:href=\"#m68cda74214\" y=\"150.297866\"/>\n     <use style=\"fill:#3f3f3f;stroke:#3f3f3f;stroke-linejoin:miter;\" x=\"200.6875\" xlink:href=\"#m68cda74214\" y=\"132.778376\"/>\n     <use style=\"fill:#3f3f3f;stroke:#3f3f3f;stroke-linejoin:miter;\" x=\"200.6875\" xlink:href=\"#m68cda74214\" y=\"83.194916\"/>\n     <use style=\"fill:#3f3f3f;stroke:#3f3f3f;stroke-linejoin:miter;\" x=\"200.6875\" xlink:href=\"#m68cda74214\" y=\"127.82003\"/>\n     <use style=\"fill:#3f3f3f;stroke:#3f3f3f;stroke-linejoin:miter;\" x=\"200.6875\" xlink:href=\"#m68cda74214\" y=\"136.08394\"/>\n     <use style=\"fill:#3f3f3f;stroke:#3f3f3f;stroke-linejoin:miter;\" x=\"200.6875\" xlink:href=\"#m68cda74214\" y=\"149.306196\"/>\n     <use style=\"fill:#3f3f3f;stroke:#3f3f3f;stroke-linejoin:miter;\" x=\"200.6875\" xlink:href=\"#m68cda74214\" y=\"132.778376\"/>\n     <use style=\"fill:#3f3f3f;stroke:#3f3f3f;stroke-linejoin:miter;\" x=\"200.6875\" xlink:href=\"#m68cda74214\" y=\"149.306196\"/>\n     <use style=\"fill:#3f3f3f;stroke:#3f3f3f;stroke-linejoin:miter;\" x=\"200.6875\" xlink:href=\"#m68cda74214\" y=\"83.194916\"/>\n     <use style=\"fill:#3f3f3f;stroke:#3f3f3f;stroke-linejoin:miter;\" x=\"200.6875\" xlink:href=\"#m68cda74214\" y=\"156.809827\"/>\n     <use style=\"fill:#3f3f3f;stroke:#3f3f3f;stroke-linejoin:miter;\" x=\"200.6875\" xlink:href=\"#m68cda74214\" y=\"149.306196\"/>\n     <use style=\"fill:#3f3f3f;stroke:#3f3f3f;stroke-linejoin:miter;\" x=\"200.6875\" xlink:href=\"#m68cda74214\" y=\"155.917324\"/>\n     <use style=\"fill:#3f3f3f;stroke:#3f3f3f;stroke-linejoin:miter;\" x=\"200.6875\" xlink:href=\"#m68cda74214\" y=\"132.778376\"/>\n     <use style=\"fill:#3f3f3f;stroke:#3f3f3f;stroke-linejoin:miter;\" x=\"200.6875\" xlink:href=\"#m68cda74214\" y=\"150.958978\"/>\n     <use style=\"fill:#3f3f3f;stroke:#3f3f3f;stroke-linejoin:miter;\" x=\"200.6875\" xlink:href=\"#m68cda74214\" y=\"152.61176\"/>\n     <use style=\"fill:#3f3f3f;stroke:#3f3f3f;stroke-linejoin:miter;\" x=\"200.6875\" xlink:href=\"#m68cda74214\" y=\"83.194916\"/>\n     <use style=\"fill:#3f3f3f;stroke:#3f3f3f;stroke-linejoin:miter;\" x=\"200.6875\" xlink:href=\"#m68cda74214\" y=\"132.778376\"/>\n     <use style=\"fill:#3f3f3f;stroke:#3f3f3f;stroke-linejoin:miter;\" x=\"200.6875\" xlink:href=\"#m68cda74214\" y=\"116.250556\"/>\n     <use style=\"fill:#3f3f3f;stroke:#3f3f3f;stroke-linejoin:miter;\" x=\"200.6875\" xlink:href=\"#m68cda74214\" y=\"152.61176\"/>\n     <use style=\"fill:#3f3f3f;stroke:#3f3f3f;stroke-linejoin:miter;\" x=\"200.6875\" xlink:href=\"#m68cda74214\" y=\"149.306196\"/>\n     <use style=\"fill:#3f3f3f;stroke:#3f3f3f;stroke-linejoin:miter;\" x=\"200.6875\" xlink:href=\"#m68cda74214\" y=\"139.389504\"/>\n     <use style=\"fill:#3f3f3f;stroke:#3f3f3f;stroke-linejoin:miter;\" x=\"200.6875\" xlink:href=\"#m68cda74214\" y=\"149.306196\"/>\n     <use style=\"fill:#3f3f3f;stroke:#3f3f3f;stroke-linejoin:miter;\" x=\"200.6875\" xlink:href=\"#m68cda74214\" y=\"83.194916\"/>\n     <use style=\"fill:#3f3f3f;stroke:#3f3f3f;stroke-linejoin:miter;\" x=\"200.6875\" xlink:href=\"#m68cda74214\" y=\"50.139276\"/>\n     <use style=\"fill:#3f3f3f;stroke:#3f3f3f;stroke-linejoin:miter;\" x=\"200.6875\" xlink:href=\"#m68cda74214\" y=\"116.250556\"/>\n     <use style=\"fill:#3f3f3f;stroke:#3f3f3f;stroke-linejoin:miter;\" x=\"200.6875\" xlink:href=\"#m68cda74214\" y=\"149.306196\"/>\n     <use style=\"fill:#3f3f3f;stroke:#3f3f3f;stroke-linejoin:miter;\" x=\"200.6875\" xlink:href=\"#m68cda74214\" y=\"149.306196\"/>\n     <use style=\"fill:#3f3f3f;stroke:#3f3f3f;stroke-linejoin:miter;\" x=\"200.6875\" xlink:href=\"#m68cda74214\" y=\"116.250556\"/>\n     <use style=\"fill:#3f3f3f;stroke:#3f3f3f;stroke-linejoin:miter;\" x=\"200.6875\" xlink:href=\"#m68cda74214\" y=\"159.222888\"/>\n     <use style=\"fill:#3f3f3f;stroke:#3f3f3f;stroke-linejoin:miter;\" x=\"200.6875\" xlink:href=\"#m68cda74214\" y=\"142.695068\"/>\n     <use style=\"fill:#3f3f3f;stroke:#3f3f3f;stroke-linejoin:miter;\" x=\"200.6875\" xlink:href=\"#m68cda74214\" y=\"17.083636\"/>\n     <use style=\"fill:#3f3f3f;stroke:#3f3f3f;stroke-linejoin:miter;\" x=\"200.6875\" xlink:href=\"#m68cda74214\" y=\"152.61176\"/>\n     <use style=\"fill:#3f3f3f;stroke:#3f3f3f;stroke-linejoin:miter;\" x=\"200.6875\" xlink:href=\"#m68cda74214\" y=\"116.250556\"/>\n     <use style=\"fill:#3f3f3f;stroke:#3f3f3f;stroke-linejoin:miter;\" x=\"200.6875\" xlink:href=\"#m68cda74214\" y=\"50.139276\"/>\n     <use style=\"fill:#3f3f3f;stroke:#3f3f3f;stroke-linejoin:miter;\" x=\"200.6875\" xlink:href=\"#m68cda74214\" y=\"86.50048\"/>\n    </g>\n   </g>\n   <g id=\"line2d_14\">\n    <path clip-path=\"url(#pd94077a043)\" d=\"M 66.7675 205.831341 \nL 334.6075 205.831341 \n\" style=\"fill:none;stroke:#3f3f3f;stroke-linecap:square;stroke-width:1.5;\"/>\n   </g>\n   <g id=\"patch_4\">\n    <path d=\"M 33.2875 224.64 \nL 33.2875 7.2 \n\" style=\"fill:none;stroke:#000000;stroke-linecap:square;stroke-linejoin:miter;stroke-width:0.8;\"/>\n   </g>\n   <g id=\"patch_5\">\n    <path d=\"M 368.0875 224.64 \nL 368.0875 7.2 \n\" style=\"fill:none;stroke:#000000;stroke-linecap:square;stroke-linejoin:miter;stroke-width:0.8;\"/>\n   </g>\n   <g id=\"patch_6\">\n    <path d=\"M 33.2875 224.64 \nL 368.0875 224.64 \n\" style=\"fill:none;stroke:#000000;stroke-linecap:square;stroke-linejoin:miter;stroke-width:0.8;\"/>\n   </g>\n   <g id=\"patch_7\">\n    <path d=\"M 33.2875 7.2 \nL 368.0875 7.2 \n\" style=\"fill:none;stroke:#000000;stroke-linecap:square;stroke-linejoin:miter;stroke-width:0.8;\"/>\n   </g>\n  </g>\n </g>\n <defs>\n  <clipPath id=\"pd94077a043\">\n   <rect height=\"217.44\" width=\"334.8\" x=\"33.2875\" y=\"7.2\"/>\n  </clipPath>\n </defs>\n</svg>\n",
      "image/png": "[encoded data removed]"
     },
     "metadata": {
      "needs_background": "light"
     }
    }
   ],
   "source": [
    "sns.boxplot(data=df_beer_without_null.ebc)"
   ]
  },
  {
   "cell_type": "code",
   "execution_count": 24,
   "id": "e0c188eb-4055-4293-a706-81ee28f7e4c8",
   "metadata": {},
   "outputs": [
    {
     "output_type": "execute_result",
     "data": {
      "text/plain": [
       "                       name   abv    ibu  target_fg  target_og    ebc    srm  \\\n",
       "75                    AB:04  15.0   80.0     1018.0     1113.0  400.0  200.0   \n",
       "124              Hinterland   9.0   85.0     1025.0     1094.0  400.0  200.0   \n",
       "169                   Dog D  16.1   85.0     1015.0     1125.0  400.0  200.0   \n",
       "208  Barrel Aged Hinterland   9.0   85.0     1025.0     1094.0  400.0  200.0   \n",
       "214                   Dog E  16.1  100.0     1125.0     1015.0  500.0  254.0   \n",
       "282     I Wanna Be Your Dog  12.0   55.0     1035.0     1125.0  600.0  305.0   \n",
       "301                   Dog G  17.0  100.0     1015.0     1125.0  500.0  254.0   \n",
       "302            Mallow Mafia  12.0   75.0     1025.0     1116.0  390.0  198.0   \n",
       "\n",
       "      ph  \n",
       "75   4.0  \n",
       "124  4.3  \n",
       "169  4.3  \n",
       "208  4.3  \n",
       "214  4.4  \n",
       "282  4.1  \n",
       "301  4.4  \n",
       "302  4.4  "
      ],
      "text/html": "<div>\n<style scoped>\n    .dataframe tbody tr th:only-of-type {\n        vertical-align: middle;\n    }\n\n    .dataframe tbody tr th {\n        vertical-align: top;\n    }\n\n    .dataframe thead th {\n        text-align: right;\n    }\n</style>\n<table border=\"1\" class=\"dataframe\">\n  <thead>\n    <tr style=\"text-align: right;\">\n      <th></th>\n      <th>name</th>\n      <th>abv</th>\n      <th>ibu</th>\n      <th>target_fg</th>\n      <th>target_og</th>\n      <th>ebc</th>\n      <th>srm</th>\n      <th>ph</th>\n    </tr>\n  </thead>\n  <tbody>\n    <tr>\n      <th>75</th>\n      <td>AB:04</td>\n      <td>15.0</td>\n      <td>80.0</td>\n      <td>1018.0</td>\n      <td>1113.0</td>\n      <td>400.0</td>\n      <td>200.0</td>\n      <td>4.0</td>\n    </tr>\n    <tr>\n      <th>124</th>\n      <td>Hinterland</td>\n      <td>9.0</td>\n      <td>85.0</td>\n      <td>1025.0</td>\n      <td>1094.0</td>\n      <td>400.0</td>\n      <td>200.0</td>\n      <td>4.3</td>\n    </tr>\n    <tr>\n      <th>169</th>\n      <td>Dog D</td>\n      <td>16.1</td>\n      <td>85.0</td>\n      <td>1015.0</td>\n      <td>1125.0</td>\n      <td>400.0</td>\n      <td>200.0</td>\n      <td>4.3</td>\n    </tr>\n    <tr>\n      <th>208</th>\n      <td>Barrel Aged Hinterland</td>\n      <td>9.0</td>\n      <td>85.0</td>\n      <td>1025.0</td>\n      <td>1094.0</td>\n      <td>400.0</td>\n      <td>200.0</td>\n      <td>4.3</td>\n    </tr>\n    <tr>\n      <th>214</th>\n      <td>Dog E</td>\n      <td>16.1</td>\n      <td>100.0</td>\n      <td>1125.0</td>\n      <td>1015.0</td>\n      <td>500.0</td>\n      <td>254.0</td>\n      <td>4.4</td>\n    </tr>\n    <tr>\n      <th>282</th>\n      <td>I Wanna Be Your Dog</td>\n      <td>12.0</td>\n      <td>55.0</td>\n      <td>1035.0</td>\n      <td>1125.0</td>\n      <td>600.0</td>\n      <td>305.0</td>\n      <td>4.1</td>\n    </tr>\n    <tr>\n      <th>301</th>\n      <td>Dog G</td>\n      <td>17.0</td>\n      <td>100.0</td>\n      <td>1015.0</td>\n      <td>1125.0</td>\n      <td>500.0</td>\n      <td>254.0</td>\n      <td>4.4</td>\n    </tr>\n    <tr>\n      <th>302</th>\n      <td>Mallow Mafia</td>\n      <td>12.0</td>\n      <td>75.0</td>\n      <td>1025.0</td>\n      <td>1116.0</td>\n      <td>390.0</td>\n      <td>198.0</td>\n      <td>4.4</td>\n    </tr>\n  </tbody>\n</table>\n</div>"
     },
     "metadata": {},
     "execution_count": 24
    }
   ],
   "source": [
    "df_beer_without_null.query(\"ebc > 300\")"
   ]
  },
  {
   "cell_type": "markdown",
   "id": "4dd243d5-7846-4cbc-a06f-10b5b7e9ccfb",
   "metadata": {},
   "source": [
    "Novamente, os valores de EBC mesmo sendo altos, são verdadeiros, vamos deixar. [Receitas](https://brewdogrecipes.com/recipes/barrel-aged-hinterland)"
   ]
  },
  {
   "cell_type": "markdown",
   "id": "4e413724-701a-4b28-be1b-bb4fadc6b619",
   "metadata": {},
   "source": [
    "## Correlação"
   ]
  },
  {
   "cell_type": "code",
   "execution_count": 25,
   "id": "0670080c-56e4-4e90-b664-99f72b89a1a3",
   "metadata": {},
   "outputs": [
    {
     "output_type": "execute_result",
     "data": {
      "text/plain": [
       "Text(0.5, 1.0, 'Correlation Heatmap')"
      ]
     },
     "metadata": {},
     "execution_count": 25
    },
    {
     "output_type": "display_data",
     "data": {
      "text/plain": "<Figure size 1152x432 with 2 Axes>",
      "image/svg+xml": "<?xml version=\"1.0\" encoding=\"utf-8\" standalone=\"no\"?>\n<!DOCTYPE svg PUBLIC \"-//W3C//DTD SVG 1.1//EN\"\n  \"http://www.w3.org/Graphics/SVG/1.1/DTD/svg11.dtd\">\n<svg height=\"378.634375pt\" version=\"1.1\" viewBox=\"0 0 479.51025 378.634375\" width=\"479.51025pt\" xmlns=\"http://www.w3.org/2000/svg\" xmlns:xlink=\"http://www.w3.org/1999/xlink\">\n <metadata>\n  <rdf:RDF xmlns:cc=\"http://creativecommons.org/ns#\" xmlns:dc=\"http://purl.org/dc/elements/1.1/\" xmlns:rdf=\"http://www.w3.org/1999/02/22-rdf-syntax-ns#\">\n   <cc:Work>\n    <dc:type rdf:resource=\"http://purl.org/dc/dcmitype/StillImage\"/>\n    <dc:date>2021-06-23T13:06:49.626086</dc:date>\n    <dc:format>image/svg+xml</dc:format>\n    <dc:creator>\n     <cc:Agent>\n      <dc:title>Matplotlib v3.4.2, https://matplotlib.org/</dc:title>\n     </cc:Agent>\n    </dc:creator>\n   </cc:Work>\n  </rdf:RDF>\n </metadata>\n <defs>\n  <style type=\"text/css\">*{stroke-linecap:butt;stroke-linejoin:round;}</style>\n </defs>\n <g id=\"figure_1\">\n  <g id=\"patch_1\">\n   <path d=\"M 0 378.634375 \nL 479.51025 378.634375 \nL 479.51025 0 \nL 0 0 \nz\n\" style=\"fill:none;\"/>\n  </g>\n  <g id=\"axes_1\">\n   <g id=\"patch_2\">\n    <path d=\"M 62.073438 354.478125 \nL 388.233438 354.478125 \nL 388.233438 28.318125 \nL 62.073438 28.318125 \nz\n\" style=\"fill:#ffffff;\"/>\n   </g>\n   <g id=\"QuadMesh_1\">\n    <path clip-path=\"url(#p68487fe198)\" d=\"M 62.073438 28.318125 \nL 108.667723 28.318125 \nL 108.667723 74.912411 \nL 62.073438 74.912411 \nL 62.073438 28.318125 \n\" style=\"fill:none;stroke:#ffffff;stroke-width:0.5;\"/>\n    <path clip-path=\"url(#p68487fe198)\" d=\"M 108.667723 28.318125 \nL 155.262009 28.318125 \nL 155.262009 74.912411 \nL 108.667723 74.912411 \nL 108.667723 28.318125 \n\" style=\"fill:none;stroke:#ffffff;stroke-width:0.5;\"/>\n    <path clip-path=\"url(#p68487fe198)\" d=\"M 155.262009 28.318125 \nL 201.856295 28.318125 \nL 201.856295 74.912411 \nL 155.262009 74.912411 \nL 155.262009 28.318125 \n\" style=\"fill:none;stroke:#ffffff;stroke-width:0.5;\"/>\n    <path clip-path=\"url(#p68487fe198)\" d=\"M 201.856295 28.318125 \nL 248.45058 28.318125 \nL 248.45058 74.912411 \nL 201.856295 74.912411 \nL 201.856295 28.318125 \n\" style=\"fill:none;stroke:#ffffff;stroke-width:0.5;\"/>\n    <path clip-path=\"url(#p68487fe198)\" d=\"M 248.45058 28.318125 \nL 295.044866 28.318125 \nL 295.044866 74.912411 \nL 248.45058 74.912411 \nL 248.45058 28.318125 \n\" style=\"fill:none;stroke:#ffffff;stroke-width:0.5;\"/>\n    <path clip-path=\"url(#p68487fe198)\" d=\"M 295.044866 28.318125 \nL 341.639152 28.318125 \nL 341.639152 74.912411 \nL 295.044866 74.912411 \nL 295.044866 28.318125 \n\" style=\"fill:none;stroke:#ffffff;stroke-width:0.5;\"/>\n    <path clip-path=\"url(#p68487fe198)\" d=\"M 341.639152 28.318125 \nL 388.233437 28.318125 \nL 388.233437 74.912411 \nL 341.639152 74.912411 \nL 341.639152 28.318125 \n\" style=\"fill:none;stroke:#ffffff;stroke-width:0.5;\"/>\n    <path clip-path=\"url(#p68487fe198)\" d=\"M 62.073438 74.912411 \nL 108.667723 74.912411 \nL 108.667723 121.506696 \nL 62.073438 121.506696 \nL 62.073438 74.912411 \n\" style=\"fill:#b40426;stroke:#ffffff;stroke-width:0.5;\"/>\n    <path clip-path=\"url(#p68487fe198)\" d=\"M 108.667723 74.912411 \nL 155.262009 74.912411 \nL 155.262009 121.506696 \nL 108.667723 121.506696 \nL 108.667723 74.912411 \n\" style=\"fill:none;stroke:#ffffff;stroke-width:0.5;\"/>\n    <path clip-path=\"url(#p68487fe198)\" d=\"M 155.262009 74.912411 \nL 201.856295 74.912411 \nL 201.856295 121.506696 \nL 155.262009 121.506696 \nL 155.262009 74.912411 \n\" style=\"fill:none;stroke:#ffffff;stroke-width:0.5;\"/>\n    <path clip-path=\"url(#p68487fe198)\" d=\"M 201.856295 74.912411 \nL 248.45058 74.912411 \nL 248.45058 121.506696 \nL 201.856295 121.506696 \nL 201.856295 74.912411 \n\" style=\"fill:none;stroke:#ffffff;stroke-width:0.5;\"/>\n    <path clip-path=\"url(#p68487fe198)\" d=\"M 248.45058 74.912411 \nL 295.044866 74.912411 \nL 295.044866 121.506696 \nL 248.45058 121.506696 \nL 248.45058 74.912411 \n\" style=\"fill:none;stroke:#ffffff;stroke-width:0.5;\"/>\n    <path clip-path=\"url(#p68487fe198)\" d=\"M 295.044866 74.912411 \nL 341.639152 74.912411 \nL 341.639152 121.506696 \nL 295.044866 121.506696 \nL 295.044866 74.912411 \n\" style=\"fill:none;stroke:#ffffff;stroke-width:0.5;\"/>\n    <path clip-path=\"url(#p68487fe198)\" d=\"M 341.639152 74.912411 \nL 388.233437 74.912411 \nL 388.233437 121.506696 \nL 341.639152 121.506696 \nL 341.639152 74.912411 \n\" style=\"fill:none;stroke:#ffffff;stroke-width:0.5;\"/>\n    <path clip-path=\"url(#p68487fe198)\" d=\"M 62.073438 121.506696 \nL 108.667723 121.506696 \nL 108.667723 168.100982 \nL 62.073438 168.100982 \nL 62.073438 121.506696 \n\" style=\"fill:#cc403a;stroke:#ffffff;stroke-width:0.5;\"/>\n    <path clip-path=\"url(#p68487fe198)\" d=\"M 108.667723 121.506696 \nL 155.262009 121.506696 \nL 155.262009 168.100982 \nL 108.667723 168.100982 \nL 108.667723 121.506696 \n\" style=\"fill:#efcfbf;stroke:#ffffff;stroke-width:0.5;\"/>\n    <path clip-path=\"url(#p68487fe198)\" d=\"M 155.262009 121.506696 \nL 201.856295 121.506696 \nL 201.856295 168.100982 \nL 155.262009 168.100982 \nL 155.262009 121.506696 \n\" style=\"fill:none;stroke:#ffffff;stroke-width:0.5;\"/>\n    <path clip-path=\"url(#p68487fe198)\" d=\"M 201.856295 121.506696 \nL 248.45058 121.506696 \nL 248.45058 168.100982 \nL 201.856295 168.100982 \nL 201.856295 121.506696 \n\" style=\"fill:none;stroke:#ffffff;stroke-width:0.5;\"/>\n    <path clip-path=\"url(#p68487fe198)\" d=\"M 248.45058 121.506696 \nL 295.044866 121.506696 \nL 295.044866 168.100982 \nL 248.45058 168.100982 \nL 248.45058 121.506696 \n\" style=\"fill:none;stroke:#ffffff;stroke-width:0.5;\"/>\n    <path clip-path=\"url(#p68487fe198)\" d=\"M 295.044866 121.506696 \nL 341.639152 121.506696 \nL 341.639152 168.100982 \nL 295.044866 168.100982 \nL 295.044866 121.506696 \n\" style=\"fill:none;stroke:#ffffff;stroke-width:0.5;\"/>\n    <path clip-path=\"url(#p68487fe198)\" d=\"M 341.639152 121.506696 \nL 388.233437 121.506696 \nL 388.233437 168.100982 \nL 341.639152 168.100982 \nL 341.639152 121.506696 \n\" style=\"fill:none;stroke:#ffffff;stroke-width:0.5;\"/>\n    <path clip-path=\"url(#p68487fe198)\" d=\"M 62.073438 168.100982 \nL 108.667723 168.100982 \nL 108.667723 214.695268 \nL 62.073438 214.695268 \nL 62.073438 168.100982 \n\" style=\"fill:#b40426;stroke:#ffffff;stroke-width:0.5;\"/>\n    <path clip-path=\"url(#p68487fe198)\" d=\"M 108.667723 168.100982 \nL 155.262009 168.100982 \nL 155.262009 214.695268 \nL 108.667723 214.695268 \nL 108.667723 168.100982 \n\" style=\"fill:#cf453c;stroke:#ffffff;stroke-width:0.5;\"/>\n    <path clip-path=\"url(#p68487fe198)\" d=\"M 155.262009 168.100982 \nL 201.856295 168.100982 \nL 201.856295 214.695268 \nL 155.262009 214.695268 \nL 155.262009 168.100982 \n\" style=\"fill:#a5c3fe;stroke:#ffffff;stroke-width:0.5;\"/>\n    <path clip-path=\"url(#p68487fe198)\" d=\"M 201.856295 168.100982 \nL 248.45058 168.100982 \nL 248.45058 214.695268 \nL 201.856295 214.695268 \nL 201.856295 168.100982 \n\" style=\"fill:none;stroke:#ffffff;stroke-width:0.5;\"/>\n    <path clip-path=\"url(#p68487fe198)\" d=\"M 248.45058 168.100982 \nL 295.044866 168.100982 \nL 295.044866 214.695268 \nL 248.45058 214.695268 \nL 248.45058 168.100982 \n\" style=\"fill:none;stroke:#ffffff;stroke-width:0.5;\"/>\n    <path clip-path=\"url(#p68487fe198)\" d=\"M 295.044866 168.100982 \nL 341.639152 168.100982 \nL 341.639152 214.695268 \nL 295.044866 214.695268 \nL 295.044866 168.100982 \n\" style=\"fill:none;stroke:#ffffff;stroke-width:0.5;\"/>\n    <path clip-path=\"url(#p68487fe198)\" d=\"M 341.639152 168.100982 \nL 388.233437 168.100982 \nL 388.233437 214.695268 \nL 341.639152 214.695268 \nL 341.639152 168.100982 \n\" style=\"fill:none;stroke:#ffffff;stroke-width:0.5;\"/>\n    <path clip-path=\"url(#p68487fe198)\" d=\"M 62.073438 214.695268 \nL 108.667723 214.695268 \nL 108.667723 261.289554 \nL 62.073438 261.289554 \nL 62.073438 214.695268 \n\" style=\"fill:#b40426;stroke:#ffffff;stroke-width:0.5;\"/>\n    <path clip-path=\"url(#p68487fe198)\" d=\"M 108.667723 214.695268 \nL 155.262009 214.695268 \nL 155.262009 261.289554 \nL 108.667723 261.289554 \nL 108.667723 214.695268 \n\" style=\"fill:#f7aa8c;stroke:#ffffff;stroke-width:0.5;\"/>\n    <path clip-path=\"url(#p68487fe198)\" d=\"M 155.262009 214.695268 \nL 201.856295 214.695268 \nL 201.856295 261.289554 \nL 155.262009 261.289554 \nL 155.262009 214.695268 \n\" style=\"fill:#b40426;stroke:#ffffff;stroke-width:0.5;\"/>\n    <path clip-path=\"url(#p68487fe198)\" d=\"M 201.856295 214.695268 \nL 248.45058 214.695268 \nL 248.45058 261.289554 \nL 201.856295 261.289554 \nL 201.856295 214.695268 \n\" style=\"fill:#b40426;stroke:#ffffff;stroke-width:0.5;\"/>\n    <path clip-path=\"url(#p68487fe198)\" d=\"M 248.45058 214.695268 \nL 295.044866 214.695268 \nL 295.044866 261.289554 \nL 248.45058 261.289554 \nL 248.45058 214.695268 \n\" style=\"fill:none;stroke:#ffffff;stroke-width:0.5;\"/>\n    <path clip-path=\"url(#p68487fe198)\" d=\"M 295.044866 214.695268 \nL 341.639152 214.695268 \nL 341.639152 261.289554 \nL 295.044866 261.289554 \nL 295.044866 214.695268 \n\" style=\"fill:none;stroke:#ffffff;stroke-width:0.5;\"/>\n    <path clip-path=\"url(#p68487fe198)\" d=\"M 341.639152 214.695268 \nL 388.233437 214.695268 \nL 388.233437 261.289554 \nL 341.639152 261.289554 \nL 341.639152 214.695268 \n\" style=\"fill:none;stroke:#ffffff;stroke-width:0.5;\"/>\n    <path clip-path=\"url(#p68487fe198)\" d=\"M 62.073438 261.289554 \nL 108.667723 261.289554 \nL 108.667723 307.883839 \nL 62.073438 307.883839 \nL 62.073438 261.289554 \n\" style=\"fill:#b40426;stroke:#ffffff;stroke-width:0.5;\"/>\n    <path clip-path=\"url(#p68487fe198)\" d=\"M 108.667723 261.289554 \nL 155.262009 261.289554 \nL 155.262009 307.883839 \nL 108.667723 307.883839 \nL 108.667723 261.289554 \n\" style=\"fill:#f7aa8c;stroke:#ffffff;stroke-width:0.5;\"/>\n    <path clip-path=\"url(#p68487fe198)\" d=\"M 155.262009 261.289554 \nL 201.856295 261.289554 \nL 201.856295 307.883839 \nL 155.262009 307.883839 \nL 155.262009 261.289554 \n\" style=\"fill:#b40426;stroke:#ffffff;stroke-width:0.5;\"/>\n    <path clip-path=\"url(#p68487fe198)\" d=\"M 201.856295 261.289554 \nL 248.45058 261.289554 \nL 248.45058 307.883839 \nL 201.856295 307.883839 \nL 201.856295 261.289554 \n\" style=\"fill:#b40426;stroke:#ffffff;stroke-width:0.5;\"/>\n    <path clip-path=\"url(#p68487fe198)\" d=\"M 248.45058 261.289554 \nL 295.044866 261.289554 \nL 295.044866 307.883839 \nL 248.45058 307.883839 \nL 248.45058 261.289554 \n\" style=\"fill:#b40426;stroke:#ffffff;stroke-width:0.5;\"/>\n    <path clip-path=\"url(#p68487fe198)\" d=\"M 295.044866 261.289554 \nL 341.639152 261.289554 \nL 341.639152 307.883839 \nL 295.044866 307.883839 \nL 295.044866 261.289554 \n\" style=\"fill:none;stroke:#ffffff;stroke-width:0.5;\"/>\n    <path clip-path=\"url(#p68487fe198)\" d=\"M 341.639152 261.289554 \nL 388.233437 261.289554 \nL 388.233437 307.883839 \nL 341.639152 307.883839 \nL 341.639152 261.289554 \n\" style=\"fill:none;stroke:#ffffff;stroke-width:0.5;\"/>\n    <path clip-path=\"url(#p68487fe198)\" d=\"M 62.073438 307.883839 \nL 108.667723 307.883839 \nL 108.667723 354.478125 \nL 62.073438 354.478125 \nL 62.073438 307.883839 \n\" style=\"fill:#f5c1a9;stroke:#ffffff;stroke-width:0.5;\"/>\n    <path clip-path=\"url(#p68487fe198)\" d=\"M 108.667723 307.883839 \nL 155.262009 307.883839 \nL 155.262009 354.478125 \nL 108.667723 354.478125 \nL 108.667723 307.883839 \n\" style=\"fill:#f2cbb7;stroke:#ffffff;stroke-width:0.5;\"/>\n    <path clip-path=\"url(#p68487fe198)\" d=\"M 155.262009 307.883839 \nL 201.856295 307.883839 \nL 201.856295 354.478125 \nL 155.262009 354.478125 \nL 155.262009 307.883839 \n\" style=\"fill:#bbd1f8;stroke:#ffffff;stroke-width:0.5;\"/>\n    <path clip-path=\"url(#p68487fe198)\" d=\"M 201.856295 307.883839 \nL 248.45058 307.883839 \nL 248.45058 354.478125 \nL 201.856295 354.478125 \nL 201.856295 307.883839 \n\" style=\"fill:#f7a98b;stroke:#ffffff;stroke-width:0.5;\"/>\n    <path clip-path=\"url(#p68487fe198)\" d=\"M 248.45058 307.883839 \nL 295.044866 307.883839 \nL 295.044866 354.478125 \nL 248.45058 354.478125 \nL 248.45058 307.883839 \n\" style=\"fill:#edd2c3;stroke:#ffffff;stroke-width:0.5;\"/>\n    <path clip-path=\"url(#p68487fe198)\" d=\"M 295.044866 307.883839 \nL 341.639152 307.883839 \nL 341.639152 354.478125 \nL 295.044866 354.478125 \nL 295.044866 307.883839 \n\" style=\"fill:#ecd3c5;stroke:#ffffff;stroke-width:0.5;\"/>\n    <path clip-path=\"url(#p68487fe198)\" d=\"M 341.639152 307.883839 \nL 388.233437 307.883839 \nL 388.233437 354.478125 \nL 341.639152 354.478125 \nL 341.639152 307.883839 \n\" style=\"fill:none;stroke:#ffffff;stroke-width:0.5;\"/>\n   </g>\n   <g id=\"matplotlib.axis_1\">\n    <g id=\"xtick_1\">\n     <g id=\"line2d_1\">\n      <defs>\n       <path d=\"M 0 0 \nL 0 3.5 \n\" id=\"m916f52e4f3\" style=\"stroke:#000000;stroke-width:0.8;\"/>\n      </defs>\n      <g>\n       <use style=\"stroke:#000000;stroke-width:0.8;\" x=\"85.37058\" xlink:href=\"#m916f52e4f3\" y=\"354.478125\"/>\n      </g>\n     </g>\n     <g id=\"text_1\">\n      <!-- abv -->\n      <g transform=\"translate(76.172924 369.076562)scale(0.1 -0.1)\">\n       <defs>\n        <path d=\"M 2194 1759 \nQ 1497 1759 1228 1600 \nQ 959 1441 959 1056 \nQ 959 750 1161 570 \nQ 1363 391 1709 391 \nQ 2188 391 2477 730 \nQ 2766 1069 2766 1631 \nL 2766 1759 \nL 2194 1759 \nz\nM 3341 1997 \nL 3341 0 \nL 2766 0 \nL 2766 531 \nQ 2569 213 2275 61 \nQ 1981 -91 1556 -91 \nQ 1019 -91 701 211 \nQ 384 513 384 1019 \nQ 384 1609 779 1909 \nQ 1175 2209 1959 2209 \nL 2766 2209 \nL 2766 2266 \nQ 2766 2663 2505 2880 \nQ 2244 3097 1772 3097 \nQ 1472 3097 1187 3025 \nQ 903 2953 641 2809 \nL 641 3341 \nQ 956 3463 1253 3523 \nQ 1550 3584 1831 3584 \nQ 2591 3584 2966 3190 \nQ 3341 2797 3341 1997 \nz\n\" id=\"DejaVuSans-61\" transform=\"scale(0.015625)\"/>\n        <path d=\"M 3116 1747 \nQ 3116 2381 2855 2742 \nQ 2594 3103 2138 3103 \nQ 1681 3103 1420 2742 \nQ 1159 2381 1159 1747 \nQ 1159 1113 1420 752 \nQ 1681 391 2138 391 \nQ 2594 391 2855 752 \nQ 3116 1113 3116 1747 \nz\nM 1159 2969 \nQ 1341 3281 1617 3432 \nQ 1894 3584 2278 3584 \nQ 2916 3584 3314 3078 \nQ 3713 2572 3713 1747 \nQ 3713 922 3314 415 \nQ 2916 -91 2278 -91 \nQ 1894 -91 1617 61 \nQ 1341 213 1159 525 \nL 1159 0 \nL 581 0 \nL 581 4863 \nL 1159 4863 \nL 1159 2969 \nz\n\" id=\"DejaVuSans-62\" transform=\"scale(0.015625)\"/>\n        <path d=\"M 191 3500 \nL 800 3500 \nL 1894 563 \nL 2988 3500 \nL 3597 3500 \nL 2284 0 \nL 1503 0 \nL 191 3500 \nz\n\" id=\"DejaVuSans-76\" transform=\"scale(0.015625)\"/>\n       </defs>\n       <use xlink:href=\"#DejaVuSans-61\"/>\n       <use x=\"61.279297\" xlink:href=\"#DejaVuSans-62\"/>\n       <use x=\"124.755859\" xlink:href=\"#DejaVuSans-76\"/>\n      </g>\n     </g>\n    </g>\n    <g id=\"xtick_2\">\n     <g id=\"line2d_2\">\n      <g>\n       <use style=\"stroke:#000000;stroke-width:0.8;\" x=\"131.964866\" xlink:href=\"#m916f52e4f3\" y=\"354.478125\"/>\n      </g>\n     </g>\n     <g id=\"text_2\">\n      <!-- ibu -->\n      <g transform=\"translate(124.232835 369.076562)scale(0.1 -0.1)\">\n       <defs>\n        <path d=\"M 603 3500 \nL 1178 3500 \nL 1178 0 \nL 603 0 \nL 603 3500 \nz\nM 603 4863 \nL 1178 4863 \nL 1178 4134 \nL 603 4134 \nL 603 4863 \nz\n\" id=\"DejaVuSans-69\" transform=\"scale(0.015625)\"/>\n        <path d=\"M 544 1381 \nL 544 3500 \nL 1119 3500 \nL 1119 1403 \nQ 1119 906 1312 657 \nQ 1506 409 1894 409 \nQ 2359 409 2629 706 \nQ 2900 1003 2900 1516 \nL 2900 3500 \nL 3475 3500 \nL 3475 0 \nL 2900 0 \nL 2900 538 \nQ 2691 219 2414 64 \nQ 2138 -91 1772 -91 \nQ 1169 -91 856 284 \nQ 544 659 544 1381 \nz\nM 1991 3584 \nL 1991 3584 \nz\n\" id=\"DejaVuSans-75\" transform=\"scale(0.015625)\"/>\n       </defs>\n       <use xlink:href=\"#DejaVuSans-69\"/>\n       <use x=\"27.783203\" xlink:href=\"#DejaVuSans-62\"/>\n       <use x=\"91.259766\" xlink:href=\"#DejaVuSans-75\"/>\n      </g>\n     </g>\n    </g>\n    <g id=\"xtick_3\">\n     <g id=\"line2d_3\">\n      <g>\n       <use style=\"stroke:#000000;stroke-width:0.8;\" x=\"178.559152\" xlink:href=\"#m916f52e4f3\" y=\"354.478125\"/>\n      </g>\n     </g>\n     <g id=\"text_3\">\n      <!-- target_fg -->\n      <g transform=\"translate(155.921652 369.076562)scale(0.1 -0.1)\">\n       <defs>\n        <path d=\"M 1172 4494 \nL 1172 3500 \nL 2356 3500 \nL 2356 3053 \nL 1172 3053 \nL 1172 1153 \nQ 1172 725 1289 603 \nQ 1406 481 1766 481 \nL 2356 481 \nL 2356 0 \nL 1766 0 \nQ 1100 0 847 248 \nQ 594 497 594 1153 \nL 594 3053 \nL 172 3053 \nL 172 3500 \nL 594 3500 \nL 594 4494 \nL 1172 4494 \nz\n\" id=\"DejaVuSans-74\" transform=\"scale(0.015625)\"/>\n        <path d=\"M 2631 2963 \nQ 2534 3019 2420 3045 \nQ 2306 3072 2169 3072 \nQ 1681 3072 1420 2755 \nQ 1159 2438 1159 1844 \nL 1159 0 \nL 581 0 \nL 581 3500 \nL 1159 3500 \nL 1159 2956 \nQ 1341 3275 1631 3429 \nQ 1922 3584 2338 3584 \nQ 2397 3584 2469 3576 \nQ 2541 3569 2628 3553 \nL 2631 2963 \nz\n\" id=\"DejaVuSans-72\" transform=\"scale(0.015625)\"/>\n        <path d=\"M 2906 1791 \nQ 2906 2416 2648 2759 \nQ 2391 3103 1925 3103 \nQ 1463 3103 1205 2759 \nQ 947 2416 947 1791 \nQ 947 1169 1205 825 \nQ 1463 481 1925 481 \nQ 2391 481 2648 825 \nQ 2906 1169 2906 1791 \nz\nM 3481 434 \nQ 3481 -459 3084 -895 \nQ 2688 -1331 1869 -1331 \nQ 1566 -1331 1297 -1286 \nQ 1028 -1241 775 -1147 \nL 775 -588 \nQ 1028 -725 1275 -790 \nQ 1522 -856 1778 -856 \nQ 2344 -856 2625 -561 \nQ 2906 -266 2906 331 \nL 2906 616 \nQ 2728 306 2450 153 \nQ 2172 0 1784 0 \nQ 1141 0 747 490 \nQ 353 981 353 1791 \nQ 353 2603 747 3093 \nQ 1141 3584 1784 3584 \nQ 2172 3584 2450 3431 \nQ 2728 3278 2906 2969 \nL 2906 3500 \nL 3481 3500 \nL 3481 434 \nz\n\" id=\"DejaVuSans-67\" transform=\"scale(0.015625)\"/>\n        <path d=\"M 3597 1894 \nL 3597 1613 \nL 953 1613 \nQ 991 1019 1311 708 \nQ 1631 397 2203 397 \nQ 2534 397 2845 478 \nQ 3156 559 3463 722 \nL 3463 178 \nQ 3153 47 2828 -22 \nQ 2503 -91 2169 -91 \nQ 1331 -91 842 396 \nQ 353 884 353 1716 \nQ 353 2575 817 3079 \nQ 1281 3584 2069 3584 \nQ 2775 3584 3186 3129 \nQ 3597 2675 3597 1894 \nz\nM 3022 2063 \nQ 3016 2534 2758 2815 \nQ 2500 3097 2075 3097 \nQ 1594 3097 1305 2825 \nQ 1016 2553 972 2059 \nL 3022 2063 \nz\n\" id=\"DejaVuSans-65\" transform=\"scale(0.015625)\"/>\n        <path d=\"M 3263 -1063 \nL 3263 -1509 \nL -63 -1509 \nL -63 -1063 \nL 3263 -1063 \nz\n\" id=\"DejaVuSans-5f\" transform=\"scale(0.015625)\"/>\n        <path d=\"M 2375 4863 \nL 2375 4384 \nL 1825 4384 \nQ 1516 4384 1395 4259 \nQ 1275 4134 1275 3809 \nL 1275 3500 \nL 2222 3500 \nL 2222 3053 \nL 1275 3053 \nL 1275 0 \nL 697 0 \nL 697 3053 \nL 147 3053 \nL 147 3500 \nL 697 3500 \nL 697 3744 \nQ 697 4328 969 4595 \nQ 1241 4863 1831 4863 \nL 2375 4863 \nz\n\" id=\"DejaVuSans-66\" transform=\"scale(0.015625)\"/>\n       </defs>\n       <use xlink:href=\"#DejaVuSans-74\"/>\n       <use x=\"39.208984\" xlink:href=\"#DejaVuSans-61\"/>\n       <use x=\"100.488281\" xlink:href=\"#DejaVuSans-72\"/>\n       <use x=\"139.851562\" xlink:href=\"#DejaVuSans-67\"/>\n       <use x=\"203.328125\" xlink:href=\"#DejaVuSans-65\"/>\n       <use x=\"264.851562\" xlink:href=\"#DejaVuSans-74\"/>\n       <use x=\"304.060547\" xlink:href=\"#DejaVuSans-5f\"/>\n       <use x=\"354.060547\" xlink:href=\"#DejaVuSans-66\"/>\n       <use x=\"389.265625\" xlink:href=\"#DejaVuSans-67\"/>\n      </g>\n     </g>\n    </g>\n    <g id=\"xtick_4\">\n     <g id=\"line2d_4\">\n      <g>\n       <use style=\"stroke:#000000;stroke-width:0.8;\" x=\"225.153438\" xlink:href=\"#m916f52e4f3\" y=\"354.478125\"/>\n      </g>\n     </g>\n     <g id=\"text_4\">\n      <!-- target_og -->\n      <g transform=\"translate(201.216719 368.798437)scale(0.1 -0.1)\">\n       <defs>\n        <path d=\"M 1959 3097 \nQ 1497 3097 1228 2736 \nQ 959 2375 959 1747 \nQ 959 1119 1226 758 \nQ 1494 397 1959 397 \nQ 2419 397 2687 759 \nQ 2956 1122 2956 1747 \nQ 2956 2369 2687 2733 \nQ 2419 3097 1959 3097 \nz\nM 1959 3584 \nQ 2709 3584 3137 3096 \nQ 3566 2609 3566 1747 \nQ 3566 888 3137 398 \nQ 2709 -91 1959 -91 \nQ 1206 -91 779 398 \nQ 353 888 353 1747 \nQ 353 2609 779 3096 \nQ 1206 3584 1959 3584 \nz\n\" id=\"DejaVuSans-6f\" transform=\"scale(0.015625)\"/>\n       </defs>\n       <use xlink:href=\"#DejaVuSans-74\"/>\n       <use x=\"39.208984\" xlink:href=\"#DejaVuSans-61\"/>\n       <use x=\"100.488281\" xlink:href=\"#DejaVuSans-72\"/>\n       <use x=\"139.851562\" xlink:href=\"#DejaVuSans-67\"/>\n       <use x=\"203.328125\" xlink:href=\"#DejaVuSans-65\"/>\n       <use x=\"264.851562\" xlink:href=\"#DejaVuSans-74\"/>\n       <use x=\"304.060547\" xlink:href=\"#DejaVuSans-5f\"/>\n       <use x=\"354.060547\" xlink:href=\"#DejaVuSans-6f\"/>\n       <use x=\"415.242188\" xlink:href=\"#DejaVuSans-67\"/>\n      </g>\n     </g>\n    </g>\n    <g id=\"xtick_5\">\n     <g id=\"line2d_5\">\n      <g>\n       <use style=\"stroke:#000000;stroke-width:0.8;\" x=\"271.747723\" xlink:href=\"#m916f52e4f3\" y=\"354.478125\"/>\n      </g>\n     </g>\n     <g id=\"text_5\">\n      <!-- ebc -->\n      <g transform=\"translate(262.747723 369.076562)scale(0.1 -0.1)\">\n       <defs>\n        <path d=\"M 3122 3366 \nL 3122 2828 \nQ 2878 2963 2633 3030 \nQ 2388 3097 2138 3097 \nQ 1578 3097 1268 2742 \nQ 959 2388 959 1747 \nQ 959 1106 1268 751 \nQ 1578 397 2138 397 \nQ 2388 397 2633 464 \nQ 2878 531 3122 666 \nL 3122 134 \nQ 2881 22 2623 -34 \nQ 2366 -91 2075 -91 \nQ 1284 -91 818 406 \nQ 353 903 353 1747 \nQ 353 2603 823 3093 \nQ 1294 3584 2113 3584 \nQ 2378 3584 2631 3529 \nQ 2884 3475 3122 3366 \nz\n\" id=\"DejaVuSans-63\" transform=\"scale(0.015625)\"/>\n       </defs>\n       <use xlink:href=\"#DejaVuSans-65\"/>\n       <use x=\"61.523438\" xlink:href=\"#DejaVuSans-62\"/>\n       <use x=\"125\" xlink:href=\"#DejaVuSans-63\"/>\n      </g>\n     </g>\n    </g>\n    <g id=\"xtick_6\">\n     <g id=\"line2d_6\">\n      <g>\n       <use style=\"stroke:#000000;stroke-width:0.8;\" x=\"318.342009\" xlink:href=\"#m916f52e4f3\" y=\"354.478125\"/>\n      </g>\n     </g>\n     <g id=\"text_6\">\n      <!-- srm -->\n      <g transform=\"translate(308.89904 369.076562)scale(0.1 -0.1)\">\n       <defs>\n        <path d=\"M 2834 3397 \nL 2834 2853 \nQ 2591 2978 2328 3040 \nQ 2066 3103 1784 3103 \nQ 1356 3103 1142 2972 \nQ 928 2841 928 2578 \nQ 928 2378 1081 2264 \nQ 1234 2150 1697 2047 \nL 1894 2003 \nQ 2506 1872 2764 1633 \nQ 3022 1394 3022 966 \nQ 3022 478 2636 193 \nQ 2250 -91 1575 -91 \nQ 1294 -91 989 -36 \nQ 684 19 347 128 \nL 347 722 \nQ 666 556 975 473 \nQ 1284 391 1588 391 \nQ 1994 391 2212 530 \nQ 2431 669 2431 922 \nQ 2431 1156 2273 1281 \nQ 2116 1406 1581 1522 \nL 1381 1569 \nQ 847 1681 609 1914 \nQ 372 2147 372 2553 \nQ 372 3047 722 3315 \nQ 1072 3584 1716 3584 \nQ 2034 3584 2315 3537 \nQ 2597 3491 2834 3397 \nz\n\" id=\"DejaVuSans-73\" transform=\"scale(0.015625)\"/>\n        <path d=\"M 3328 2828 \nQ 3544 3216 3844 3400 \nQ 4144 3584 4550 3584 \nQ 5097 3584 5394 3201 \nQ 5691 2819 5691 2113 \nL 5691 0 \nL 5113 0 \nL 5113 2094 \nQ 5113 2597 4934 2840 \nQ 4756 3084 4391 3084 \nQ 3944 3084 3684 2787 \nQ 3425 2491 3425 1978 \nL 3425 0 \nL 2847 0 \nL 2847 2094 \nQ 2847 2600 2669 2842 \nQ 2491 3084 2119 3084 \nQ 1678 3084 1418 2786 \nQ 1159 2488 1159 1978 \nL 1159 0 \nL 581 0 \nL 581 3500 \nL 1159 3500 \nL 1159 2956 \nQ 1356 3278 1631 3431 \nQ 1906 3584 2284 3584 \nQ 2666 3584 2933 3390 \nQ 3200 3197 3328 2828 \nz\n\" id=\"DejaVuSans-6d\" transform=\"scale(0.015625)\"/>\n       </defs>\n       <use xlink:href=\"#DejaVuSans-73\"/>\n       <use x=\"52.099609\" xlink:href=\"#DejaVuSans-72\"/>\n       <use x=\"91.462891\" xlink:href=\"#DejaVuSans-6d\"/>\n      </g>\n     </g>\n    </g>\n    <g id=\"xtick_7\">\n     <g id=\"line2d_7\">\n      <g>\n       <use style=\"stroke:#000000;stroke-width:0.8;\" x=\"364.936295\" xlink:href=\"#m916f52e4f3\" y=\"354.478125\"/>\n      </g>\n     </g>\n     <g id=\"text_7\">\n      <!-- ph -->\n      <g transform=\"translate(358.593326 369.076562)scale(0.1 -0.1)\">\n       <defs>\n        <path d=\"M 1159 525 \nL 1159 -1331 \nL 581 -1331 \nL 581 3500 \nL 1159 3500 \nL 1159 2969 \nQ 1341 3281 1617 3432 \nQ 1894 3584 2278 3584 \nQ 2916 3584 3314 3078 \nQ 3713 2572 3713 1747 \nQ 3713 922 3314 415 \nQ 2916 -91 2278 -91 \nQ 1894 -91 1617 61 \nQ 1341 213 1159 525 \nz\nM 3116 1747 \nQ 3116 2381 2855 2742 \nQ 2594 3103 2138 3103 \nQ 1681 3103 1420 2742 \nQ 1159 2381 1159 1747 \nQ 1159 1113 1420 752 \nQ 1681 391 2138 391 \nQ 2594 391 2855 752 \nQ 3116 1113 3116 1747 \nz\n\" id=\"DejaVuSans-70\" transform=\"scale(0.015625)\"/>\n        <path d=\"M 3513 2113 \nL 3513 0 \nL 2938 0 \nL 2938 2094 \nQ 2938 2591 2744 2837 \nQ 2550 3084 2163 3084 \nQ 1697 3084 1428 2787 \nQ 1159 2491 1159 1978 \nL 1159 0 \nL 581 0 \nL 581 4863 \nL 1159 4863 \nL 1159 2956 \nQ 1366 3272 1645 3428 \nQ 1925 3584 2291 3584 \nQ 2894 3584 3203 3211 \nQ 3513 2838 3513 2113 \nz\n\" id=\"DejaVuSans-68\" transform=\"scale(0.015625)\"/>\n       </defs>\n       <use xlink:href=\"#DejaVuSans-70\"/>\n       <use x=\"63.476562\" xlink:href=\"#DejaVuSans-68\"/>\n      </g>\n     </g>\n    </g>\n   </g>\n   <g id=\"matplotlib.axis_2\">\n    <g id=\"ytick_1\">\n     <g id=\"line2d_8\">\n      <defs>\n       <path d=\"M 0 0 \nL -3.5 0 \n\" id=\"mb9f50f6659\" style=\"stroke:#000000;stroke-width:0.8;\"/>\n      </defs>\n      <g>\n       <use style=\"stroke:#000000;stroke-width:0.8;\" x=\"62.073438\" xlink:href=\"#mb9f50f6659\" y=\"51.615268\"/>\n      </g>\n     </g>\n     <g id=\"text_8\">\n      <!-- abv -->\n      <g transform=\"translate(36.678125 55.414487)scale(0.1 -0.1)\">\n       <use xlink:href=\"#DejaVuSans-61\"/>\n       <use x=\"61.279297\" xlink:href=\"#DejaVuSans-62\"/>\n       <use x=\"124.755859\" xlink:href=\"#DejaVuSans-76\"/>\n      </g>\n     </g>\n    </g>\n    <g id=\"ytick_2\">\n     <g id=\"line2d_9\">\n      <g>\n       <use style=\"stroke:#000000;stroke-width:0.8;\" x=\"62.073438\" xlink:href=\"#mb9f50f6659\" y=\"98.209554\"/>\n      </g>\n     </g>\n     <g id=\"text_9\">\n      <!-- ibu -->\n      <g transform=\"translate(39.609375 102.008772)scale(0.1 -0.1)\">\n       <use xlink:href=\"#DejaVuSans-69\"/>\n       <use x=\"27.783203\" xlink:href=\"#DejaVuSans-62\"/>\n       <use x=\"91.259766\" xlink:href=\"#DejaVuSans-75\"/>\n      </g>\n     </g>\n    </g>\n    <g id=\"ytick_3\">\n     <g id=\"line2d_10\">\n      <g>\n       <use style=\"stroke:#000000;stroke-width:0.8;\" x=\"62.073438\" xlink:href=\"#mb9f50f6659\" y=\"144.803839\"/>\n      </g>\n     </g>\n     <g id=\"text_10\">\n      <!-- target_fg -->\n      <g transform=\"translate(9.798438 148.603058)scale(0.1 -0.1)\">\n       <use xlink:href=\"#DejaVuSans-74\"/>\n       <use x=\"39.208984\" xlink:href=\"#DejaVuSans-61\"/>\n       <use x=\"100.488281\" xlink:href=\"#DejaVuSans-72\"/>\n       <use x=\"139.851562\" xlink:href=\"#DejaVuSans-67\"/>\n       <use x=\"203.328125\" xlink:href=\"#DejaVuSans-65\"/>\n       <use x=\"264.851562\" xlink:href=\"#DejaVuSans-74\"/>\n       <use x=\"304.060547\" xlink:href=\"#DejaVuSans-5f\"/>\n       <use x=\"354.060547\" xlink:href=\"#DejaVuSans-66\"/>\n       <use x=\"389.265625\" xlink:href=\"#DejaVuSans-67\"/>\n      </g>\n     </g>\n    </g>\n    <g id=\"ytick_4\">\n     <g id=\"line2d_11\">\n      <g>\n       <use style=\"stroke:#000000;stroke-width:0.8;\" x=\"62.073438\" xlink:href=\"#mb9f50f6659\" y=\"191.398125\"/>\n      </g>\n     </g>\n     <g id=\"text_11\">\n      <!-- target_og -->\n      <g transform=\"translate(7.2 195.058281)scale(0.1 -0.1)\">\n       <use xlink:href=\"#DejaVuSans-74\"/>\n       <use x=\"39.208984\" xlink:href=\"#DejaVuSans-61\"/>\n       <use x=\"100.488281\" xlink:href=\"#DejaVuSans-72\"/>\n       <use x=\"139.851562\" xlink:href=\"#DejaVuSans-67\"/>\n       <use x=\"203.328125\" xlink:href=\"#DejaVuSans-65\"/>\n       <use x=\"264.851562\" xlink:href=\"#DejaVuSans-74\"/>\n       <use x=\"304.060547\" xlink:href=\"#DejaVuSans-5f\"/>\n       <use x=\"354.060547\" xlink:href=\"#DejaVuSans-6f\"/>\n       <use x=\"415.242188\" xlink:href=\"#DejaVuSans-67\"/>\n      </g>\n     </g>\n    </g>\n    <g id=\"ytick_5\">\n     <g id=\"line2d_12\">\n      <g>\n       <use style=\"stroke:#000000;stroke-width:0.8;\" x=\"62.073438\" xlink:href=\"#mb9f50f6659\" y=\"237.992411\"/>\n      </g>\n     </g>\n     <g id=\"text_12\">\n      <!-- ebc -->\n      <g transform=\"translate(37.073438 241.791629)scale(0.1 -0.1)\">\n       <use xlink:href=\"#DejaVuSans-65\"/>\n       <use x=\"61.523438\" xlink:href=\"#DejaVuSans-62\"/>\n       <use x=\"125\" xlink:href=\"#DejaVuSans-63\"/>\n      </g>\n     </g>\n    </g>\n    <g id=\"ytick_6\">\n     <g id=\"line2d_13\">\n      <g>\n       <use style=\"stroke:#000000;stroke-width:0.8;\" x=\"62.073438\" xlink:href=\"#mb9f50f6659\" y=\"284.586696\"/>\n      </g>\n     </g>\n     <g id=\"text_13\">\n      <!-- srm -->\n      <g transform=\"translate(36.1875 288.385915)scale(0.1 -0.1)\">\n       <use xlink:href=\"#DejaVuSans-73\"/>\n       <use x=\"52.099609\" xlink:href=\"#DejaVuSans-72\"/>\n       <use x=\"91.462891\" xlink:href=\"#DejaVuSans-6d\"/>\n      </g>\n     </g>\n    </g>\n    <g id=\"ytick_7\">\n     <g id=\"line2d_14\">\n      <g>\n       <use style=\"stroke:#000000;stroke-width:0.8;\" x=\"62.073438\" xlink:href=\"#mb9f50f6659\" y=\"331.180982\"/>\n      </g>\n     </g>\n     <g id=\"text_14\">\n      <!-- ph -->\n      <g transform=\"translate(42.3875 334.980201)scale(0.1 -0.1)\">\n       <use xlink:href=\"#DejaVuSans-70\"/>\n       <use x=\"63.476562\" xlink:href=\"#DejaVuSans-68\"/>\n      </g>\n     </g>\n    </g>\n   </g>\n   <g id=\"text_15\">\n    <!-- 0.63 -->\n    <g style=\"fill:#ffffff;\" transform=\"translate(74.237768 100.968929)scale(0.1 -0.1)\">\n     <defs>\n      <path d=\"M 2034 4250 \nQ 1547 4250 1301 3770 \nQ 1056 3291 1056 2328 \nQ 1056 1369 1301 889 \nQ 1547 409 2034 409 \nQ 2525 409 2770 889 \nQ 3016 1369 3016 2328 \nQ 3016 3291 2770 3770 \nQ 2525 4250 2034 4250 \nz\nM 2034 4750 \nQ 2819 4750 3233 4129 \nQ 3647 3509 3647 2328 \nQ 3647 1150 3233 529 \nQ 2819 -91 2034 -91 \nQ 1250 -91 836 529 \nQ 422 1150 422 2328 \nQ 422 3509 836 4129 \nQ 1250 4750 2034 4750 \nz\n\" id=\"DejaVuSans-30\" transform=\"scale(0.015625)\"/>\n      <path d=\"M 684 794 \nL 1344 794 \nL 1344 0 \nL 684 0 \nL 684 794 \nz\n\" id=\"DejaVuSans-2e\" transform=\"scale(0.015625)\"/>\n      <path d=\"M 2113 2584 \nQ 1688 2584 1439 2293 \nQ 1191 2003 1191 1497 \nQ 1191 994 1439 701 \nQ 1688 409 2113 409 \nQ 2538 409 2786 701 \nQ 3034 994 3034 1497 \nQ 3034 2003 2786 2293 \nQ 2538 2584 2113 2584 \nz\nM 3366 4563 \nL 3366 3988 \nQ 3128 4100 2886 4159 \nQ 2644 4219 2406 4219 \nQ 1781 4219 1451 3797 \nQ 1122 3375 1075 2522 \nQ 1259 2794 1537 2939 \nQ 1816 3084 2150 3084 \nQ 2853 3084 3261 2657 \nQ 3669 2231 3669 1497 \nQ 3669 778 3244 343 \nQ 2819 -91 2113 -91 \nQ 1303 -91 875 529 \nQ 447 1150 447 2328 \nQ 447 3434 972 4092 \nQ 1497 4750 2381 4750 \nQ 2619 4750 2861 4703 \nQ 3103 4656 3366 4563 \nz\n\" id=\"DejaVuSans-36\" transform=\"scale(0.015625)\"/>\n      <path d=\"M 2597 2516 \nQ 3050 2419 3304 2112 \nQ 3559 1806 3559 1356 \nQ 3559 666 3084 287 \nQ 2609 -91 1734 -91 \nQ 1441 -91 1130 -33 \nQ 819 25 488 141 \nL 488 750 \nQ 750 597 1062 519 \nQ 1375 441 1716 441 \nQ 2309 441 2620 675 \nQ 2931 909 2931 1356 \nQ 2931 1769 2642 2001 \nQ 2353 2234 1838 2234 \nL 1294 2234 \nL 1294 2753 \nL 1863 2753 \nQ 2328 2753 2575 2939 \nQ 2822 3125 2822 3475 \nQ 2822 3834 2567 4026 \nQ 2313 4219 1838 4219 \nQ 1578 4219 1281 4162 \nQ 984 4106 628 3988 \nL 628 4550 \nQ 988 4650 1302 4700 \nQ 1616 4750 1894 4750 \nQ 2613 4750 3031 4423 \nQ 3450 4097 3450 3541 \nQ 3450 3153 3228 2886 \nQ 3006 2619 2597 2516 \nz\n\" id=\"DejaVuSans-33\" transform=\"scale(0.015625)\"/>\n     </defs>\n     <use xlink:href=\"#DejaVuSans-30\"/>\n     <use x=\"63.623047\" xlink:href=\"#DejaVuSans-2e\"/>\n     <use x=\"95.410156\" xlink:href=\"#DejaVuSans-36\"/>\n     <use x=\"159.033203\" xlink:href=\"#DejaVuSans-33\"/>\n    </g>\n   </g>\n   <g id=\"text_16\">\n    <!-- 0.26 -->\n    <g style=\"fill:#ffffff;\" transform=\"translate(74.237768 147.563214)scale(0.1 -0.1)\">\n     <defs>\n      <path d=\"M 1228 531 \nL 3431 531 \nL 3431 0 \nL 469 0 \nL 469 531 \nQ 828 903 1448 1529 \nQ 2069 2156 2228 2338 \nQ 2531 2678 2651 2914 \nQ 2772 3150 2772 3378 \nQ 2772 3750 2511 3984 \nQ 2250 4219 1831 4219 \nQ 1534 4219 1204 4116 \nQ 875 4013 500 3803 \nL 500 4441 \nQ 881 4594 1212 4672 \nQ 1544 4750 1819 4750 \nQ 2544 4750 2975 4387 \nQ 3406 4025 3406 3419 \nQ 3406 3131 3298 2873 \nQ 3191 2616 2906 2266 \nQ 2828 2175 2409 1742 \nQ 1991 1309 1228 531 \nz\n\" id=\"DejaVuSans-32\" transform=\"scale(0.015625)\"/>\n     </defs>\n     <use xlink:href=\"#DejaVuSans-30\"/>\n     <use x=\"63.623047\" xlink:href=\"#DejaVuSans-2e\"/>\n     <use x=\"95.410156\" xlink:href=\"#DejaVuSans-32\"/>\n     <use x=\"159.033203\" xlink:href=\"#DejaVuSans-36\"/>\n    </g>\n   </g>\n   <g id=\"text_17\">\n    <!-- 0.049 -->\n    <g style=\"fill:#262626;\" transform=\"translate(117.650804 147.563214)scale(0.1 -0.1)\">\n     <defs>\n      <path d=\"M 2419 4116 \nL 825 1625 \nL 2419 1625 \nL 2419 4116 \nz\nM 2253 4666 \nL 3047 4666 \nL 3047 1625 \nL 3713 1625 \nL 3713 1100 \nL 3047 1100 \nL 3047 0 \nL 2419 0 \nL 2419 1100 \nL 313 1100 \nL 313 1709 \nL 2253 4666 \nz\n\" id=\"DejaVuSans-34\" transform=\"scale(0.015625)\"/>\n      <path d=\"M 703 97 \nL 703 672 \nQ 941 559 1184 500 \nQ 1428 441 1663 441 \nQ 2288 441 2617 861 \nQ 2947 1281 2994 2138 \nQ 2813 1869 2534 1725 \nQ 2256 1581 1919 1581 \nQ 1219 1581 811 2004 \nQ 403 2428 403 3163 \nQ 403 3881 828 4315 \nQ 1253 4750 1959 4750 \nQ 2769 4750 3195 4129 \nQ 3622 3509 3622 2328 \nQ 3622 1225 3098 567 \nQ 2575 -91 1691 -91 \nQ 1453 -91 1209 -44 \nQ 966 3 703 97 \nz\nM 1959 2075 \nQ 2384 2075 2632 2365 \nQ 2881 2656 2881 3163 \nQ 2881 3666 2632 3958 \nQ 2384 4250 1959 4250 \nQ 1534 4250 1286 3958 \nQ 1038 3666 1038 3163 \nQ 1038 2656 1286 2365 \nQ 1534 2075 1959 2075 \nz\n\" id=\"DejaVuSans-39\" transform=\"scale(0.015625)\"/>\n     </defs>\n     <use xlink:href=\"#DejaVuSans-30\"/>\n     <use x=\"63.623047\" xlink:href=\"#DejaVuSans-2e\"/>\n     <use x=\"95.410156\" xlink:href=\"#DejaVuSans-30\"/>\n     <use x=\"159.033203\" xlink:href=\"#DejaVuSans-34\"/>\n     <use x=\"222.65625\" xlink:href=\"#DejaVuSans-39\"/>\n    </g>\n   </g>\n   <g id=\"text_18\">\n    <!-- 0.73 -->\n    <g style=\"fill:#ffffff;\" transform=\"translate(74.237768 194.1575)scale(0.1 -0.1)\">\n     <defs>\n      <path d=\"M 525 4666 \nL 3525 4666 \nL 3525 4397 \nL 1831 0 \nL 1172 0 \nL 2766 4134 \nL 525 4134 \nL 525 4666 \nz\n\" id=\"DejaVuSans-37\" transform=\"scale(0.015625)\"/>\n     </defs>\n     <use xlink:href=\"#DejaVuSans-30\"/>\n     <use x=\"63.623047\" xlink:href=\"#DejaVuSans-2e\"/>\n     <use x=\"95.410156\" xlink:href=\"#DejaVuSans-37\"/>\n     <use x=\"159.033203\" xlink:href=\"#DejaVuSans-33\"/>\n    </g>\n   </g>\n   <g id=\"text_19\">\n    <!-- 0.25 -->\n    <g style=\"fill:#ffffff;\" transform=\"translate(120.832054 194.1575)scale(0.1 -0.1)\">\n     <defs>\n      <path d=\"M 691 4666 \nL 3169 4666 \nL 3169 4134 \nL 1269 4134 \nL 1269 2991 \nQ 1406 3038 1543 3061 \nQ 1681 3084 1819 3084 \nQ 2600 3084 3056 2656 \nQ 3513 2228 3513 1497 \nQ 3513 744 3044 326 \nQ 2575 -91 1722 -91 \nQ 1428 -91 1123 -41 \nQ 819 9 494 109 \nL 494 744 \nQ 775 591 1075 516 \nQ 1375 441 1709 441 \nQ 2250 441 2565 725 \nQ 2881 1009 2881 1497 \nQ 2881 1984 2565 2268 \nQ 2250 2553 1709 2553 \nQ 1456 2553 1204 2497 \nQ 953 2441 691 2322 \nL 691 4666 \nz\n\" id=\"DejaVuSans-35\" transform=\"scale(0.015625)\"/>\n     </defs>\n     <use xlink:href=\"#DejaVuSans-30\"/>\n     <use x=\"63.623047\" xlink:href=\"#DejaVuSans-2e\"/>\n     <use x=\"95.410156\" xlink:href=\"#DejaVuSans-32\"/>\n     <use x=\"159.033203\" xlink:href=\"#DejaVuSans-35\"/>\n    </g>\n   </g>\n   <g id=\"text_20\">\n    <!-- -0.11 -->\n    <g style=\"fill:#262626;\" transform=\"translate(165.622433 194.1575)scale(0.1 -0.1)\">\n     <defs>\n      <path d=\"M 313 2009 \nL 1997 2009 \nL 1997 1497 \nL 313 1497 \nL 313 2009 \nz\n\" id=\"DejaVuSans-2d\" transform=\"scale(0.015625)\"/>\n      <path d=\"M 794 531 \nL 1825 531 \nL 1825 4091 \nL 703 3866 \nL 703 4441 \nL 1819 4666 \nL 2450 4666 \nL 2450 531 \nL 3481 531 \nL 3481 0 \nL 794 0 \nL 794 531 \nz\n\" id=\"DejaVuSans-31\" transform=\"scale(0.015625)\"/>\n     </defs>\n     <use xlink:href=\"#DejaVuSans-2d\"/>\n     <use x=\"36.083984\" xlink:href=\"#DejaVuSans-30\"/>\n     <use x=\"99.707031\" xlink:href=\"#DejaVuSans-2e\"/>\n     <use x=\"131.494141\" xlink:href=\"#DejaVuSans-31\"/>\n     <use x=\"195.117188\" xlink:href=\"#DejaVuSans-31\"/>\n    </g>\n   </g>\n   <g id=\"text_21\">\n    <!-- 0.41 -->\n    <g style=\"fill:#ffffff;\" transform=\"translate(74.237768 240.751786)scale(0.1 -0.1)\">\n     <use xlink:href=\"#DejaVuSans-30\"/>\n     <use x=\"63.623047\" xlink:href=\"#DejaVuSans-2e\"/>\n     <use x=\"95.410156\" xlink:href=\"#DejaVuSans-34\"/>\n     <use x=\"159.033203\" xlink:href=\"#DejaVuSans-31\"/>\n    </g>\n   </g>\n   <g id=\"text_22\">\n    <!-- 0.12 -->\n    <g style=\"fill:#262626;\" transform=\"translate(120.832054 240.751786)scale(0.1 -0.1)\">\n     <use xlink:href=\"#DejaVuSans-30\"/>\n     <use x=\"63.623047\" xlink:href=\"#DejaVuSans-2e\"/>\n     <use x=\"95.410156\" xlink:href=\"#DejaVuSans-31\"/>\n     <use x=\"159.033203\" xlink:href=\"#DejaVuSans-32\"/>\n    </g>\n   </g>\n   <g id=\"text_23\">\n    <!-- 0.36 -->\n    <g style=\"fill:#ffffff;\" transform=\"translate(167.426339 240.751786)scale(0.1 -0.1)\">\n     <use xlink:href=\"#DejaVuSans-30\"/>\n     <use x=\"63.623047\" xlink:href=\"#DejaVuSans-2e\"/>\n     <use x=\"95.410156\" xlink:href=\"#DejaVuSans-33\"/>\n     <use x=\"159.033203\" xlink:href=\"#DejaVuSans-36\"/>\n    </g>\n   </g>\n   <g id=\"text_24\">\n    <!-- 0.44 -->\n    <g style=\"fill:#ffffff;\" transform=\"translate(214.020625 240.751786)scale(0.1 -0.1)\">\n     <use xlink:href=\"#DejaVuSans-30\"/>\n     <use x=\"63.623047\" xlink:href=\"#DejaVuSans-2e\"/>\n     <use x=\"95.410156\" xlink:href=\"#DejaVuSans-34\"/>\n     <use x=\"159.033203\" xlink:href=\"#DejaVuSans-34\"/>\n    </g>\n   </g>\n   <g id=\"text_25\">\n    <!-- 0.41 -->\n    <g style=\"fill:#ffffff;\" transform=\"translate(74.237768 287.346071)scale(0.1 -0.1)\">\n     <use xlink:href=\"#DejaVuSans-30\"/>\n     <use x=\"63.623047\" xlink:href=\"#DejaVuSans-2e\"/>\n     <use x=\"95.410156\" xlink:href=\"#DejaVuSans-34\"/>\n     <use x=\"159.033203\" xlink:href=\"#DejaVuSans-31\"/>\n    </g>\n   </g>\n   <g id=\"text_26\">\n    <!-- 0.12 -->\n    <g style=\"fill:#262626;\" transform=\"translate(120.832054 287.346071)scale(0.1 -0.1)\">\n     <use xlink:href=\"#DejaVuSans-30\"/>\n     <use x=\"63.623047\" xlink:href=\"#DejaVuSans-2e\"/>\n     <use x=\"95.410156\" xlink:href=\"#DejaVuSans-31\"/>\n     <use x=\"159.033203\" xlink:href=\"#DejaVuSans-32\"/>\n    </g>\n   </g>\n   <g id=\"text_27\">\n    <!-- 0.36 -->\n    <g style=\"fill:#ffffff;\" transform=\"translate(167.426339 287.346071)scale(0.1 -0.1)\">\n     <use xlink:href=\"#DejaVuSans-30\"/>\n     <use x=\"63.623047\" xlink:href=\"#DejaVuSans-2e\"/>\n     <use x=\"95.410156\" xlink:href=\"#DejaVuSans-33\"/>\n     <use x=\"159.033203\" xlink:href=\"#DejaVuSans-36\"/>\n    </g>\n   </g>\n   <g id=\"text_28\">\n    <!-- 0.44 -->\n    <g style=\"fill:#ffffff;\" transform=\"translate(214.020625 287.346071)scale(0.1 -0.1)\">\n     <use xlink:href=\"#DejaVuSans-30\"/>\n     <use x=\"63.623047\" xlink:href=\"#DejaVuSans-2e\"/>\n     <use x=\"95.410156\" xlink:href=\"#DejaVuSans-34\"/>\n     <use x=\"159.033203\" xlink:href=\"#DejaVuSans-34\"/>\n    </g>\n   </g>\n   <g id=\"text_29\">\n    <!-- 1 -->\n    <g style=\"fill:#ffffff;\" transform=\"translate(268.566473 287.346071)scale(0.1 -0.1)\">\n     <use xlink:href=\"#DejaVuSans-31\"/>\n    </g>\n   </g>\n   <g id=\"text_30\">\n    <!-- 0.082 -->\n    <g style=\"fill:#262626;\" transform=\"translate(71.056518 333.940357)scale(0.1 -0.1)\">\n     <defs>\n      <path d=\"M 2034 2216 \nQ 1584 2216 1326 1975 \nQ 1069 1734 1069 1313 \nQ 1069 891 1326 650 \nQ 1584 409 2034 409 \nQ 2484 409 2743 651 \nQ 3003 894 3003 1313 \nQ 3003 1734 2745 1975 \nQ 2488 2216 2034 2216 \nz\nM 1403 2484 \nQ 997 2584 770 2862 \nQ 544 3141 544 3541 \nQ 544 4100 942 4425 \nQ 1341 4750 2034 4750 \nQ 2731 4750 3128 4425 \nQ 3525 4100 3525 3541 \nQ 3525 3141 3298 2862 \nQ 3072 2584 2669 2484 \nQ 3125 2378 3379 2068 \nQ 3634 1759 3634 1313 \nQ 3634 634 3220 271 \nQ 2806 -91 2034 -91 \nQ 1263 -91 848 271 \nQ 434 634 434 1313 \nQ 434 1759 690 2068 \nQ 947 2378 1403 2484 \nz\nM 1172 3481 \nQ 1172 3119 1398 2916 \nQ 1625 2713 2034 2713 \nQ 2441 2713 2670 2916 \nQ 2900 3119 2900 3481 \nQ 2900 3844 2670 4047 \nQ 2441 4250 2034 4250 \nQ 1625 4250 1398 4047 \nQ 1172 3844 1172 3481 \nz\n\" id=\"DejaVuSans-38\" transform=\"scale(0.015625)\"/>\n     </defs>\n     <use xlink:href=\"#DejaVuSans-30\"/>\n     <use x=\"63.623047\" xlink:href=\"#DejaVuSans-2e\"/>\n     <use x=\"95.410156\" xlink:href=\"#DejaVuSans-30\"/>\n     <use x=\"159.033203\" xlink:href=\"#DejaVuSans-38\"/>\n     <use x=\"222.65625\" xlink:href=\"#DejaVuSans-32\"/>\n    </g>\n   </g>\n   <g id=\"text_31\">\n    <!-- 0.059 -->\n    <g style=\"fill:#262626;\" transform=\"translate(117.650804 333.940357)scale(0.1 -0.1)\">\n     <use xlink:href=\"#DejaVuSans-30\"/>\n     <use x=\"63.623047\" xlink:href=\"#DejaVuSans-2e\"/>\n     <use x=\"95.410156\" xlink:href=\"#DejaVuSans-30\"/>\n     <use x=\"159.033203\" xlink:href=\"#DejaVuSans-35\"/>\n     <use x=\"222.65625\" xlink:href=\"#DejaVuSans-39\"/>\n    </g>\n   </g>\n   <g id=\"text_32\">\n    <!-- -0.07 -->\n    <g style=\"fill:#262626;\" transform=\"translate(165.622433 333.940357)scale(0.1 -0.1)\">\n     <use xlink:href=\"#DejaVuSans-2d\"/>\n     <use x=\"36.083984\" xlink:href=\"#DejaVuSans-30\"/>\n     <use x=\"99.707031\" xlink:href=\"#DejaVuSans-2e\"/>\n     <use x=\"131.494141\" xlink:href=\"#DejaVuSans-30\"/>\n     <use x=\"195.117188\" xlink:href=\"#DejaVuSans-37\"/>\n    </g>\n   </g>\n   <g id=\"text_33\">\n    <!-- 0.12 -->\n    <g style=\"fill:#262626;\" transform=\"translate(214.020625 333.940357)scale(0.1 -0.1)\">\n     <use xlink:href=\"#DejaVuSans-30\"/>\n     <use x=\"63.623047\" xlink:href=\"#DejaVuSans-2e\"/>\n     <use x=\"95.410156\" xlink:href=\"#DejaVuSans-31\"/>\n     <use x=\"159.033203\" xlink:href=\"#DejaVuSans-32\"/>\n    </g>\n   </g>\n   <g id=\"text_34\">\n    <!-- 0.041 -->\n    <g style=\"fill:#262626;\" transform=\"translate(257.433661 333.940357)scale(0.1 -0.1)\">\n     <use xlink:href=\"#DejaVuSans-30\"/>\n     <use x=\"63.623047\" xlink:href=\"#DejaVuSans-2e\"/>\n     <use x=\"95.410156\" xlink:href=\"#DejaVuSans-30\"/>\n     <use x=\"159.033203\" xlink:href=\"#DejaVuSans-34\"/>\n     <use x=\"222.65625\" xlink:href=\"#DejaVuSans-31\"/>\n    </g>\n   </g>\n   <g id=\"text_35\">\n    <!-- 0.038 -->\n    <g style=\"fill:#262626;\" transform=\"translate(304.027946 333.940357)scale(0.1 -0.1)\">\n     <use xlink:href=\"#DejaVuSans-30\"/>\n     <use x=\"63.623047\" xlink:href=\"#DejaVuSans-2e\"/>\n     <use x=\"95.410156\" xlink:href=\"#DejaVuSans-30\"/>\n     <use x=\"159.033203\" xlink:href=\"#DejaVuSans-33\"/>\n     <use x=\"222.65625\" xlink:href=\"#DejaVuSans-38\"/>\n    </g>\n   </g>\n   <g id=\"text_36\">\n    <!-- Correlation Heatmap -->\n    <g transform=\"translate(162.600625 16.318125)scale(0.12 -0.12)\">\n     <defs>\n      <path d=\"M 4122 4306 \nL 4122 3641 \nQ 3803 3938 3442 4084 \nQ 3081 4231 2675 4231 \nQ 1875 4231 1450 3742 \nQ 1025 3253 1025 2328 \nQ 1025 1406 1450 917 \nQ 1875 428 2675 428 \nQ 3081 428 3442 575 \nQ 3803 722 4122 1019 \nL 4122 359 \nQ 3791 134 3420 21 \nQ 3050 -91 2638 -91 \nQ 1578 -91 968 557 \nQ 359 1206 359 2328 \nQ 359 3453 968 4101 \nQ 1578 4750 2638 4750 \nQ 3056 4750 3426 4639 \nQ 3797 4528 4122 4306 \nz\n\" id=\"DejaVuSans-43\" transform=\"scale(0.015625)\"/>\n      <path d=\"M 603 4863 \nL 1178 4863 \nL 1178 0 \nL 603 0 \nL 603 4863 \nz\n\" id=\"DejaVuSans-6c\" transform=\"scale(0.015625)\"/>\n      <path d=\"M 3513 2113 \nL 3513 0 \nL 2938 0 \nL 2938 2094 \nQ 2938 2591 2744 2837 \nQ 2550 3084 2163 3084 \nQ 1697 3084 1428 2787 \nQ 1159 2491 1159 1978 \nL 1159 0 \nL 581 0 \nL 581 3500 \nL 1159 3500 \nL 1159 2956 \nQ 1366 3272 1645 3428 \nQ 1925 3584 2291 3584 \nQ 2894 3584 3203 3211 \nQ 3513 2838 3513 2113 \nz\n\" id=\"DejaVuSans-6e\" transform=\"scale(0.015625)\"/>\n      <path id=\"DejaVuSans-20\" transform=\"scale(0.015625)\"/>\n      <path d=\"M 628 4666 \nL 1259 4666 \nL 1259 2753 \nL 3553 2753 \nL 3553 4666 \nL 4184 4666 \nL 4184 0 \nL 3553 0 \nL 3553 2222 \nL 1259 2222 \nL 1259 0 \nL 628 0 \nL 628 4666 \nz\n\" id=\"DejaVuSans-48\" transform=\"scale(0.015625)\"/>\n     </defs>\n     <use xlink:href=\"#DejaVuSans-43\"/>\n     <use x=\"69.824219\" xlink:href=\"#DejaVuSans-6f\"/>\n     <use x=\"131.005859\" xlink:href=\"#DejaVuSans-72\"/>\n     <use x=\"170.369141\" xlink:href=\"#DejaVuSans-72\"/>\n     <use x=\"209.232422\" xlink:href=\"#DejaVuSans-65\"/>\n     <use x=\"270.755859\" xlink:href=\"#DejaVuSans-6c\"/>\n     <use x=\"298.539062\" xlink:href=\"#DejaVuSans-61\"/>\n     <use x=\"359.818359\" xlink:href=\"#DejaVuSans-74\"/>\n     <use x=\"399.027344\" xlink:href=\"#DejaVuSans-69\"/>\n     <use x=\"426.810547\" xlink:href=\"#DejaVuSans-6f\"/>\n     <use x=\"487.992188\" xlink:href=\"#DejaVuSans-6e\"/>\n     <use x=\"551.371094\" xlink:href=\"#DejaVuSans-20\"/>\n     <use x=\"583.158203\" xlink:href=\"#DejaVuSans-48\"/>\n     <use x=\"658.353516\" xlink:href=\"#DejaVuSans-65\"/>\n     <use x=\"719.876953\" xlink:href=\"#DejaVuSans-61\"/>\n     <use x=\"781.15625\" xlink:href=\"#DejaVuSans-74\"/>\n     <use x=\"820.365234\" xlink:href=\"#DejaVuSans-6d\"/>\n     <use x=\"917.777344\" xlink:href=\"#DejaVuSans-61\"/>\n     <use x=\"979.056641\" xlink:href=\"#DejaVuSans-70\"/>\n    </g>\n   </g>\n  </g>\n  <g id=\"axes_2\">\n   <g id=\"patch_3\">\n    <path d=\"M 432.873438 272.938125 \nL 441.027438 272.938125 \nL 441.027438 109.858125 \nL 432.873438 109.858125 \nz\n\" style=\"fill:#ffffff;\"/>\n   </g>\n   <g id=\"patch_4\">\n    <path clip-path=\"url(#p5f25746ae8)\" d=\"M 432.873438 272.938125 \nL 432.873438 272.301094 \nL 432.873438 110.495156 \nL 432.873438 109.858125 \nL 441.027438 109.858125 \nL 441.027438 110.495156 \nL 441.027438 272.301094 \nL 441.027438 272.938125 \nL 441.027438 272.938125 \nz\n\" style=\"fill:#ffffff;stroke:#ffffff;stroke-linejoin:miter;stroke-width:0.01;\"/>\n   </g>\n   <image height=\"163\" id=\"imagee6cf85e511\" transform=\"scale(1 -1)translate(0 -163)\" width=\"8\" x=\"433\" xlink:href=\"data:image/png;base64,\niVBORw0KGgoAAAANSUhEUgAAAAgAAACjCAYAAAC31F+mAAABBUlEQVR4nM2W0RHEIAhEhaT/Lq6S6yqJeB2wzDz1kl+Zx7KLGe3zjdGS7zTLjisFbmmHAuHwvEAcFzRowuF0Cm+UYMpJl4QNGlQLl05KwoQxqYaCD/m3QwMnHC2Wa+AFb9Cgl7anBYWf2MizqBByDaeJFgUfJhCWt/CgWZhwkmdR0CCmKBilrG6aQLMotFAEnuYEwkMJXaTZJoRFCTPCki2wSOGkzkJt1JYp8od5ifB/kYOGdQ4+BSZoDdwHHPeQBDXFwBdHEbTIDVZPMEoRgjv5UEIsJxScxDeLL0yBoNLETvabZ0Ef/zzN6NRJHhbXEDiLftMs+rU+C1UQjyLcbyCIhcEafiClGU7lF6R6AAAAAElFTkSuQmCC\" y=\"-109\"/>\n   <g id=\"matplotlib.axis_3\"/>\n   <g id=\"matplotlib.axis_4\">\n    <g id=\"ytick_8\">\n     <g id=\"line2d_15\">\n      <defs>\n       <path d=\"M 0 0 \nL 3.5 0 \n\" id=\"mdcee664f7d\" style=\"stroke:#000000;stroke-width:0.8;\"/>\n      </defs>\n      <g>\n       <use style=\"stroke:#000000;stroke-width:0.8;\" x=\"441.027438\" xlink:href=\"#mdcee664f7d\" y=\"268.943145\"/>\n      </g>\n     </g>\n     <g id=\"text_37\">\n      <!-- −0.1 -->\n      <g transform=\"translate(448.027438 272.742364)scale(0.1 -0.1)\">\n       <defs>\n        <path d=\"M 678 2272 \nL 4684 2272 \nL 4684 1741 \nL 678 1741 \nL 678 2272 \nz\n\" id=\"DejaVuSans-2212\" transform=\"scale(0.015625)\"/>\n       </defs>\n       <use xlink:href=\"#DejaVuSans-2212\"/>\n       <use x=\"83.789062\" xlink:href=\"#DejaVuSans-30\"/>\n       <use x=\"147.412109\" xlink:href=\"#DejaVuSans-2e\"/>\n       <use x=\"179.199219\" xlink:href=\"#DejaVuSans-31\"/>\n      </g>\n     </g>\n    </g>\n    <g id=\"ytick_9\">\n     <g id=\"line2d_16\">\n      <g>\n       <use style=\"stroke:#000000;stroke-width:0.8;\" x=\"441.027438\" xlink:href=\"#mdcee664f7d\" y=\"229.17189\"/>\n      </g>\n     </g>\n     <g id=\"text_38\">\n      <!-- 0.0 -->\n      <g transform=\"translate(448.027438 232.971109)scale(0.1 -0.1)\">\n       <use xlink:href=\"#DejaVuSans-30\"/>\n       <use x=\"63.623047\" xlink:href=\"#DejaVuSans-2e\"/>\n       <use x=\"95.410156\" xlink:href=\"#DejaVuSans-30\"/>\n      </g>\n     </g>\n    </g>\n    <g id=\"ytick_10\">\n     <g id=\"line2d_17\">\n      <g>\n       <use style=\"stroke:#000000;stroke-width:0.8;\" x=\"441.027438\" xlink:href=\"#mdcee664f7d\" y=\"189.400635\"/>\n      </g>\n     </g>\n     <g id=\"text_39\">\n      <!-- 0.1 -->\n      <g transform=\"translate(448.027438 193.199854)scale(0.1 -0.1)\">\n       <use xlink:href=\"#DejaVuSans-30\"/>\n       <use x=\"63.623047\" xlink:href=\"#DejaVuSans-2e\"/>\n       <use x=\"95.410156\" xlink:href=\"#DejaVuSans-31\"/>\n      </g>\n     </g>\n    </g>\n    <g id=\"ytick_11\">\n     <g id=\"line2d_18\">\n      <g>\n       <use style=\"stroke:#000000;stroke-width:0.8;\" x=\"441.027438\" xlink:href=\"#mdcee664f7d\" y=\"149.62938\"/>\n      </g>\n     </g>\n     <g id=\"text_40\">\n      <!-- 0.2 -->\n      <g transform=\"translate(448.027438 153.428599)scale(0.1 -0.1)\">\n       <use xlink:href=\"#DejaVuSans-30\"/>\n       <use x=\"63.623047\" xlink:href=\"#DejaVuSans-2e\"/>\n       <use x=\"95.410156\" xlink:href=\"#DejaVuSans-32\"/>\n      </g>\n     </g>\n    </g>\n    <g id=\"ytick_12\">\n     <g id=\"line2d_19\">\n      <g>\n       <use style=\"stroke:#000000;stroke-width:0.8;\" x=\"441.027438\" xlink:href=\"#mdcee664f7d\" y=\"109.858125\"/>\n      </g>\n     </g>\n     <g id=\"text_41\">\n      <!-- 0.3 -->\n      <g transform=\"translate(448.027438 113.657344)scale(0.1 -0.1)\">\n       <use xlink:href=\"#DejaVuSans-30\"/>\n       <use x=\"63.623047\" xlink:href=\"#DejaVuSans-2e\"/>\n       <use x=\"95.410156\" xlink:href=\"#DejaVuSans-33\"/>\n      </g>\n     </g>\n    </g>\n   </g>\n   <g id=\"LineCollection_1\"/>\n   <g id=\"patch_5\">\n    <path d=\"M 432.873438 272.938125 \nL 432.873438 272.301094 \nL 432.873438 110.495156 \nL 432.873438 109.858125 \nL 441.027438 109.858125 \nL 441.027438 110.495156 \nL 441.027438 272.301094 \nL 441.027438 272.938125 \nz\n\" style=\"fill:none;\"/>\n   </g>\n  </g>\n </g>\n <defs>\n  <clipPath id=\"p68487fe198\">\n   <rect height=\"326.16\" width=\"326.16\" x=\"62.073438\" y=\"28.318125\"/>\n  </clipPath>\n  <clipPath id=\"p5f25746ae8\">\n   <rect height=\"163.08\" width=\"8.154\" x=\"432.873438\" y=\"109.858125\"/>\n  </clipPath>\n </defs>\n</svg>\n",
      "image/png": "[encoded data removed]"
     },
     "metadata": {
      "needs_background": "light"
     }
    }
   ],
   "source": [
    "plt.figure(figsize=(16, 6))\n",
    "\n",
    "corr = df_beer_without_null.drop(columns=[\"name\"]).corr()\n",
    "mask = np.triu(np.ones_like(corr, dtype=bool))\n",
    "heatmap = sns.heatmap(\n",
    "    corr,\n",
    "    annot=True,\n",
    "    cmap=\"coolwarm\",\n",
    "    mask=mask,\n",
    "    vmax=0.3,\n",
    "    center=0,\n",
    "    square=True,\n",
    "    linewidths=0.5,\n",
    "    cbar_kws={\"shrink\": 0.5},\n",
    ")\n",
    "heatmap.set_title(\"Correlation Heatmap\", fontdict={\"fontsize\": 12}, pad=12)"
   ]
  },
  {
   "cell_type": "code",
   "execution_count": 26,
   "id": "05642f51-3cd8-4773-b068-30d11e357b12",
   "metadata": {},
   "outputs": [
    {
     "output_type": "execute_result",
     "data": {
      "text/plain": [
       "<AxesSubplot:xlabel='ebc', ylabel='srm'>"
      ]
     },
     "metadata": {},
     "execution_count": 26
    },
    {
     "output_type": "display_data",
     "data": {
      "text/plain": "<Figure size 432x288 with 1 Axes>",
      "image/svg+xml": "<?xml version=\"1.0\" encoding=\"utf-8\" standalone=\"no\"?>\n<!DOCTYPE svg PUBLIC \"-//W3C//DTD SVG 1.1//EN\"\n  \"http://www.w3.org/Graphics/SVG/1.1/DTD/svg11.dtd\">\n<svg height=\"262.19625pt\" version=\"1.1\" viewBox=\"0 0 398.509375 262.19625\" width=\"398.509375pt\" xmlns=\"http://www.w3.org/2000/svg\" xmlns:xlink=\"http://www.w3.org/1999/xlink\">\n <metadata>\n  <rdf:RDF xmlns:cc=\"http://creativecommons.org/ns#\" xmlns:dc=\"http://purl.org/dc/elements/1.1/\" xmlns:rdf=\"http://www.w3.org/1999/02/22-rdf-syntax-ns#\">\n   <cc:Work>\n    <dc:type rdf:resource=\"http://purl.org/dc/dcmitype/StillImage\"/>\n    <dc:date>2021-06-23T13:06:51.613755</dc:date>\n    <dc:format>image/svg+xml</dc:format>\n    <dc:creator>\n     <cc:Agent>\n      <dc:title>Matplotlib v3.4.2, https://matplotlib.org/</dc:title>\n     </cc:Agent>\n    </dc:creator>\n   </cc:Work>\n  </rdf:RDF>\n </metadata>\n <defs>\n  <style type=\"text/css\">*{stroke-linecap:butt;stroke-linejoin:round;}</style>\n </defs>\n <g id=\"figure_1\">\n  <g id=\"patch_1\">\n   <path d=\"M -0 262.19625 \nL 398.509375 262.19625 \nL 398.509375 0 \nL -0 0 \nz\n\" style=\"fill:none;\"/>\n  </g>\n  <g id=\"axes_1\">\n   <g id=\"patch_2\">\n    <path d=\"M 46.965625 224.64 \nL 381.765625 224.64 \nL 381.765625 7.2 \nL 46.965625 7.2 \nz\n\" style=\"fill:#ffffff;\"/>\n   </g>\n   <g id=\"PathCollection_1\">\n    <defs>\n     <path d=\"M 0 3 \nC 0.795609 3 1.55874 2.683901 2.12132 2.12132 \nC 2.683901 1.55874 3 0.795609 3 0 \nC 3 -0.795609 2.683901 -1.55874 2.12132 -2.12132 \nC 1.55874 -2.683901 0.795609 -3 0 -3 \nC -0.795609 -3 -1.55874 -2.683901 -2.12132 -2.12132 \nC -2.683901 -1.55874 -3 -0.795609 -3 0 \nC -3 0.795609 -2.683901 1.55874 -2.12132 2.12132 \nC -1.55874 2.683901 -0.795609 3 0 3 \nz\n\" id=\"m17bc12bfc8\" style=\"stroke:#1f77b4;stroke-opacity:0.8;\"/>\n    </defs>\n    <g clip-path=\"url(#pd9f47e565c)\">\n     <use style=\"fill:#1f77b4;fill-opacity:0.8;stroke:#1f77b4;stroke-opacity:0.8;\" x=\"57.043217\" xlink:href=\"#m17bc12bfc8\" y=\"208.790649\"/>\n     <use style=\"fill:#1f77b4;fill-opacity:0.8;stroke:#1f77b4;stroke-opacity:0.8;\" x=\"54.243886\" xlink:href=\"#m17bc12bfc8\" y=\"205.541378\"/>\n     <use style=\"fill:#1f77b4;fill-opacity:0.8;stroke:#1f77b4;stroke-opacity:0.8;\" x=\"50.324822\" xlink:href=\"#m17bc12bfc8\" y=\"212.689775\"/>\n     <use style=\"fill:#1f77b4;fill-opacity:0.8;stroke:#1f77b4;stroke-opacity:0.8;\" x=\"62.641879\" xlink:href=\"#m17bc12bfc8\" y=\"205.541378\"/>\n     <use style=\"fill:#1f77b4;fill-opacity:0.8;stroke:#1f77b4;stroke-opacity:0.8;\" x=\"51.444555\" xlink:href=\"#m17bc12bfc8\" y=\"212.039921\"/>\n     <use style=\"fill:#1f77b4;fill-opacity:0.8;stroke:#1f77b4;stroke-opacity:0.8;\" x=\"54.243886\" xlink:href=\"#m17bc12bfc8\" y=\"210.415285\"/>\n     <use style=\"fill:#1f77b4;fill-opacity:0.8;stroke:#1f77b4;stroke-opacity:0.8;\" x=\"90.63519\" xlink:href=\"#m17bc12bfc8\" y=\"189.295021\"/>\n     <use style=\"fill:#1f77b4;fill-opacity:0.8;stroke:#1f77b4;stroke-opacity:0.8;\" x=\"52.564287\" xlink:href=\"#m17bc12bfc8\" y=\"211.390066\"/>\n     <use style=\"fill:#1f77b4;fill-opacity:0.8;stroke:#1f77b4;stroke-opacity:0.8;\" x=\"92.874655\" xlink:href=\"#m17bc12bfc8\" y=\"187.995312\"/>\n     <use style=\"fill:#1f77b4;fill-opacity:0.8;stroke:#1f77b4;stroke-opacity:0.8;\" x=\"58.162949\" xlink:href=\"#m17bc12bfc8\" y=\"208.140795\"/>\n     <use style=\"fill:#1f77b4;fill-opacity:0.8;stroke:#1f77b4;stroke-opacity:0.8;\" x=\"113.029839\" xlink:href=\"#m17bc12bfc8\" y=\"176.297935\"/>\n     <use style=\"fill:#1f77b4;fill-opacity:0.8;stroke:#1f77b4;stroke-opacity:0.8;\" x=\"157.819137\" xlink:href=\"#m17bc12bfc8\" y=\"150.303764\"/>\n     <use style=\"fill:#1f77b4;fill-opacity:0.8;stroke:#1f77b4;stroke-opacity:0.8;\" x=\"124.227163\" xlink:href=\"#m17bc12bfc8\" y=\"169.799392\"/>\n     <use style=\"fill:#1f77b4;fill-opacity:0.8;stroke:#1f77b4;stroke-opacity:0.8;\" x=\"80.557598\" xlink:href=\"#m17bc12bfc8\" y=\"195.143709\"/>\n     <use style=\"fill:#1f77b4;fill-opacity:0.8;stroke:#1f77b4;stroke-opacity:0.8;\" x=\"68.240541\" xlink:href=\"#m17bc12bfc8\" y=\"202.292106\"/>\n     <use style=\"fill:#1f77b4;fill-opacity:0.8;stroke:#1f77b4;stroke-opacity:0.8;\" x=\"168.456595\" xlink:href=\"#m17bc12bfc8\" y=\"144.130148\"/>\n     <use style=\"fill:#1f77b4;fill-opacity:0.8;stroke:#1f77b4;stroke-opacity:0.8;\" x=\"59.842548\" xlink:href=\"#m17bc12bfc8\" y=\"207.166014\"/>\n     <use style=\"fill:#1f77b4;fill-opacity:0.8;stroke:#1f77b4;stroke-opacity:0.8;\" x=\"59.282682\" xlink:href=\"#m17bc12bfc8\" y=\"207.490941\"/>\n     <use style=\"fill:#1f77b4;fill-opacity:0.8;stroke:#1f77b4;stroke-opacity:0.8;\" x=\"62.641879\" xlink:href=\"#m17bc12bfc8\" y=\"205.541378\"/>\n     <use style=\"fill:#1f77b4;fill-opacity:0.8;stroke:#1f77b4;stroke-opacity:0.8;\" x=\"66.001077\" xlink:href=\"#m17bc12bfc8\" y=\"203.591815\"/>\n     <use style=\"fill:#1f77b4;fill-opacity:0.8;stroke:#1f77b4;stroke-opacity:0.8;\" x=\"52.564287\" xlink:href=\"#m17bc12bfc8\" y=\"211.390066\"/>\n     <use style=\"fill:#1f77b4;fill-opacity:0.8;stroke:#1f77b4;stroke-opacity:0.8;\" x=\"50.324822\" xlink:href=\"#m17bc12bfc8\" y=\"212.689775\"/>\n     <use style=\"fill:#1f77b4;fill-opacity:0.8;stroke:#1f77b4;stroke-opacity:0.8;\" x=\"73.839204\" xlink:href=\"#m17bc12bfc8\" y=\"199.042835\"/>\n     <use style=\"fill:#1f77b4;fill-opacity:0.8;stroke:#1f77b4;stroke-opacity:0.8;\" x=\"101.832515\" xlink:href=\"#m17bc12bfc8\" y=\"182.796478\"/>\n     <use style=\"fill:#1f77b4;fill-opacity:0.8;stroke:#1f77b4;stroke-opacity:0.8;\" x=\"56.483351\" xlink:href=\"#m17bc12bfc8\" y=\"209.115576\"/>\n     <use style=\"fill:#1f77b4;fill-opacity:0.8;stroke:#1f77b4;stroke-opacity:0.8;\" x=\"96.233852\" xlink:href=\"#m17bc12bfc8\" y=\"186.045749\"/>\n     <use style=\"fill:#1f77b4;fill-opacity:0.8;stroke:#1f77b4;stroke-opacity:0.8;\" x=\"62.641879\" xlink:href=\"#m17bc12bfc8\" y=\"205.541378\"/>\n     <use style=\"fill:#1f77b4;fill-opacity:0.8;stroke:#1f77b4;stroke-opacity:0.8;\" x=\"62.641879\" xlink:href=\"#m17bc12bfc8\" y=\"205.541378\"/>\n     <use style=\"fill:#1f77b4;fill-opacity:0.8;stroke:#1f77b4;stroke-opacity:0.8;\" x=\"146.621812\" xlink:href=\"#m17bc12bfc8\" y=\"156.802307\"/>\n     <use style=\"fill:#1f77b4;fill-opacity:0.8;stroke:#1f77b4;stroke-opacity:0.8;\" x=\"62.641879\" xlink:href=\"#m17bc12bfc8\" y=\"205.541378\"/>\n     <use style=\"fill:#1f77b4;fill-opacity:0.8;stroke:#1f77b4;stroke-opacity:0.8;\" x=\"70.480006\" xlink:href=\"#m17bc12bfc8\" y=\"200.992398\"/>\n     <use style=\"fill:#1f77b4;fill-opacity:0.8;stroke:#1f77b4;stroke-opacity:0.8;\" x=\"81.677331\" xlink:href=\"#m17bc12bfc8\" y=\"194.493855\"/>\n     <use style=\"fill:#1f77b4;fill-opacity:0.8;stroke:#1f77b4;stroke-opacity:0.8;\" x=\"68.240541\" xlink:href=\"#m17bc12bfc8\" y=\"202.292106\"/>\n     <use style=\"fill:#1f77b4;fill-opacity:0.8;stroke:#1f77b4;stroke-opacity:0.8;\" x=\"62.641879\" xlink:href=\"#m17bc12bfc8\" y=\"205.541378\"/>\n     <use style=\"fill:#1f77b4;fill-opacity:0.8;stroke:#1f77b4;stroke-opacity:0.8;\" x=\"62.641879\" xlink:href=\"#m17bc12bfc8\" y=\"205.541378\"/>\n     <use style=\"fill:#1f77b4;fill-opacity:0.8;stroke:#1f77b4;stroke-opacity:0.8;\" x=\"54.803752\" xlink:href=\"#m17bc12bfc8\" y=\"210.090358\"/>\n     <use style=\"fill:#1f77b4;fill-opacity:0.8;stroke:#1f77b4;stroke-opacity:0.8;\" x=\"213.805759\" xlink:href=\"#m17bc12bfc8\" y=\"117.81105\"/>\n     <use style=\"fill:#1f77b4;fill-opacity:0.8;stroke:#1f77b4;stroke-opacity:0.8;\" x=\"68.240541\" xlink:href=\"#m17bc12bfc8\" y=\"202.292106\"/>\n     <use style=\"fill:#1f77b4;fill-opacity:0.8;stroke:#1f77b4;stroke-opacity:0.8;\" x=\"51.444555\" xlink:href=\"#m17bc12bfc8\" y=\"212.039921\"/>\n     <use style=\"fill:#1f77b4;fill-opacity:0.8;stroke:#1f77b4;stroke-opacity:0.8;\" x=\"53.124153\" xlink:href=\"#m17bc12bfc8\" y=\"211.065139\"/>\n     <use style=\"fill:#1f77b4;fill-opacity:0.8;stroke:#1f77b4;stroke-opacity:0.8;\" x=\"82.237197\" xlink:href=\"#m17bc12bfc8\" y=\"194.168928\"/>\n     <use style=\"fill:#1f77b4;fill-opacity:0.8;stroke:#1f77b4;stroke-opacity:0.8;\" x=\"57.043217\" xlink:href=\"#m17bc12bfc8\" y=\"208.790649\"/>\n     <use style=\"fill:#1f77b4;fill-opacity:0.8;stroke:#1f77b4;stroke-opacity:0.8;\" x=\"107.991043\" xlink:href=\"#m17bc12bfc8\" y=\"179.222279\"/>\n     <use style=\"fill:#1f77b4;fill-opacity:0.8;stroke:#1f77b4;stroke-opacity:0.8;\" x=\"62.641879\" xlink:href=\"#m17bc12bfc8\" y=\"205.541378\"/>\n     <use style=\"fill:#1f77b4;fill-opacity:0.8;stroke:#1f77b4;stroke-opacity:0.8;\" x=\"57.043217\" xlink:href=\"#m17bc12bfc8\" y=\"208.790649\"/>\n     <use style=\"fill:#1f77b4;fill-opacity:0.8;stroke:#1f77b4;stroke-opacity:0.8;\" x=\"90.63519\" xlink:href=\"#m17bc12bfc8\" y=\"189.295021\"/>\n     <use style=\"fill:#1f77b4;fill-opacity:0.8;stroke:#1f77b4;stroke-opacity:0.8;\" x=\"53.68402\" xlink:href=\"#m17bc12bfc8\" y=\"210.740212\"/>\n     <use style=\"fill:#1f77b4;fill-opacity:0.8;stroke:#1f77b4;stroke-opacity:0.8;\" x=\"213.805759\" xlink:href=\"#m17bc12bfc8\" y=\"116.511341\"/>\n     <use style=\"fill:#1f77b4;fill-opacity:0.8;stroke:#1f77b4;stroke-opacity:0.8;\" x=\"68.240541\" xlink:href=\"#m17bc12bfc8\" y=\"202.292106\"/>\n     <use style=\"fill:#1f77b4;fill-opacity:0.8;stroke:#1f77b4;stroke-opacity:0.8;\" x=\"79.437866\" xlink:href=\"#m17bc12bfc8\" y=\"195.793564\"/>\n     <use style=\"fill:#1f77b4;fill-opacity:0.8;stroke:#1f77b4;stroke-opacity:0.8;\" x=\"62.641879\" xlink:href=\"#m17bc12bfc8\" y=\"205.541378\"/>\n     <use style=\"fill:#1f77b4;fill-opacity:0.8;stroke:#1f77b4;stroke-opacity:0.8;\" x=\"185.812448\" xlink:href=\"#m17bc12bfc8\" y=\"134.057407\"/>\n     <use style=\"fill:#1f77b4;fill-opacity:0.8;stroke:#1f77b4;stroke-opacity:0.8;\" x=\"56.763284\" xlink:href=\"#m17bc12bfc8\" y=\"208.92062\"/>\n     <use style=\"fill:#1f77b4;fill-opacity:0.8;stroke:#1f77b4;stroke-opacity:0.8;\" x=\"100.152916\" xlink:href=\"#m17bc12bfc8\" y=\"183.446332\"/>\n     <use style=\"fill:#1f77b4;fill-opacity:0.8;stroke:#1f77b4;stroke-opacity:0.8;\" x=\"52.564287\" xlink:href=\"#m17bc12bfc8\" y=\"211.390066\"/>\n     <use style=\"fill:#1f77b4;fill-opacity:0.8;stroke:#1f77b4;stroke-opacity:0.8;\" x=\"71.599739\" xlink:href=\"#m17bc12bfc8\" y=\"200.342544\"/>\n     <use style=\"fill:#1f77b4;fill-opacity:0.8;stroke:#1f77b4;stroke-opacity:0.8;\" x=\"54.243886\" xlink:href=\"#m17bc12bfc8\" y=\"210.415285\"/>\n     <use style=\"fill:#1f77b4;fill-opacity:0.8;stroke:#1f77b4;stroke-opacity:0.8;\" x=\"58.722816\" xlink:href=\"#m17bc12bfc8\" y=\"207.815868\"/>\n     <use style=\"fill:#1f77b4;fill-opacity:0.8;stroke:#1f77b4;stroke-opacity:0.8;\" x=\"53.68402\" xlink:href=\"#m17bc12bfc8\" y=\"210.740212\"/>\n     <use style=\"fill:#1f77b4;fill-opacity:0.8;stroke:#1f77b4;stroke-opacity:0.8;\" x=\"54.243886\" xlink:href=\"#m17bc12bfc8\" y=\"210.415285\"/>\n     <use style=\"fill:#1f77b4;fill-opacity:0.8;stroke:#1f77b4;stroke-opacity:0.8;\" x=\"107.431177\" xlink:href=\"#m17bc12bfc8\" y=\"179.547207\"/>\n     <use style=\"fill:#1f77b4;fill-opacity:0.8;stroke:#1f77b4;stroke-opacity:0.8;\" x=\"124.227163\" xlink:href=\"#m17bc12bfc8\" y=\"169.149538\"/>\n     <use style=\"fill:#1f77b4;fill-opacity:0.8;stroke:#1f77b4;stroke-opacity:0.8;\" x=\"52.284354\" xlink:href=\"#m17bc12bfc8\" y=\"211.55253\"/>\n     <use style=\"fill:#1f77b4;fill-opacity:0.8;stroke:#1f77b4;stroke-opacity:0.8;\" x=\"55.363618\" xlink:href=\"#m17bc12bfc8\" y=\"209.765431\"/>\n     <use style=\"fill:#1f77b4;fill-opacity:0.8;stroke:#1f77b4;stroke-opacity:0.8;\" x=\"62.641879\" xlink:href=\"#m17bc12bfc8\" y=\"205.541378\"/>\n     <use style=\"fill:#1f77b4;fill-opacity:0.8;stroke:#1f77b4;stroke-opacity:0.8;\" x=\"156.139538\" xlink:href=\"#m17bc12bfc8\" y=\"150.303764\"/>\n     <use style=\"fill:#1f77b4;fill-opacity:0.8;stroke:#1f77b4;stroke-opacity:0.8;\" x=\"71.039872\" xlink:href=\"#m17bc12bfc8\" y=\"200.667471\"/>\n     <use style=\"fill:#1f77b4;fill-opacity:0.8;stroke:#1f77b4;stroke-opacity:0.8;\" x=\"52.564287\" xlink:href=\"#m17bc12bfc8\" y=\"211.390066\"/>\n     <use style=\"fill:#1f77b4;fill-opacity:0.8;stroke:#1f77b4;stroke-opacity:0.8;\" x=\"185.812448\" xlink:href=\"#m17bc12bfc8\" y=\"134.057407\"/>\n     <use style=\"fill:#1f77b4;fill-opacity:0.8;stroke:#1f77b4;stroke-opacity:0.8;\" x=\"55.363618\" xlink:href=\"#m17bc12bfc8\" y=\"209.765431\"/>\n     <use style=\"fill:#1f77b4;fill-opacity:0.8;stroke:#1f77b4;stroke-opacity:0.8;\" x=\"58.722816\" xlink:href=\"#m17bc12bfc8\" y=\"207.815868\"/>\n     <use style=\"fill:#1f77b4;fill-opacity:0.8;stroke:#1f77b4;stroke-opacity:0.8;\" x=\"68.240541\" xlink:href=\"#m17bc12bfc8\" y=\"202.292106\"/>\n     <use style=\"fill:#1f77b4;fill-opacity:0.8;stroke:#1f77b4;stroke-opacity:0.8;\" x=\"62.641879\" xlink:href=\"#m17bc12bfc8\" y=\"205.541378\"/>\n     <use style=\"fill:#1f77b4;fill-opacity:0.8;stroke:#1f77b4;stroke-opacity:0.8;\" x=\"110.230508\" xlink:href=\"#m17bc12bfc8\" y=\"177.922571\"/>\n     <use style=\"fill:#1f77b4;fill-opacity:0.8;stroke:#1f77b4;stroke-opacity:0.8;\" x=\"78.878\" xlink:href=\"#m17bc12bfc8\" y=\"196.118491\"/>\n     <use style=\"fill:#1f77b4;fill-opacity:0.8;stroke:#1f77b4;stroke-opacity:0.8;\" x=\"269.792381\" xlink:href=\"#m17bc12bfc8\" y=\"85.318336\"/>\n     <use style=\"fill:#1f77b4;fill-opacity:0.8;stroke:#1f77b4;stroke-opacity:0.8;\" x=\"52.564287\" xlink:href=\"#m17bc12bfc8\" y=\"211.390066\"/>\n     <use style=\"fill:#1f77b4;fill-opacity:0.8;stroke:#1f77b4;stroke-opacity:0.8;\" x=\"59.282682\" xlink:href=\"#m17bc12bfc8\" y=\"207.490941\"/>\n     <use style=\"fill:#1f77b4;fill-opacity:0.8;stroke:#1f77b4;stroke-opacity:0.8;\" x=\"62.641879\" xlink:href=\"#m17bc12bfc8\" y=\"205.541378\"/>\n     <use style=\"fill:#1f77b4;fill-opacity:0.8;stroke:#1f77b4;stroke-opacity:0.8;\" x=\"46.965625\" xlink:href=\"#m17bc12bfc8\" y=\"214.639338\"/>\n     <use style=\"fill:#1f77b4;fill-opacity:0.8;stroke:#1f77b4;stroke-opacity:0.8;\" x=\"70.480006\" xlink:href=\"#m17bc12bfc8\" y=\"200.992398\"/>\n     <use style=\"fill:#1f77b4;fill-opacity:0.8;stroke:#1f77b4;stroke-opacity:0.8;\" x=\"63.201745\" xlink:href=\"#m17bc12bfc8\" y=\"205.216451\"/>\n     <use style=\"fill:#1f77b4;fill-opacity:0.8;stroke:#1f77b4;stroke-opacity:0.8;\" x=\"59.842548\" xlink:href=\"#m17bc12bfc8\" y=\"207.166014\"/>\n     <use style=\"fill:#1f77b4;fill-opacity:0.8;stroke:#1f77b4;stroke-opacity:0.8;\" x=\"62.641879\" xlink:href=\"#m17bc12bfc8\" y=\"205.541378\"/>\n     <use style=\"fill:#1f77b4;fill-opacity:0.8;stroke:#1f77b4;stroke-opacity:0.8;\" x=\"62.641879\" xlink:href=\"#m17bc12bfc8\" y=\"205.541378\"/>\n     <use style=\"fill:#1f77b4;fill-opacity:0.8;stroke:#1f77b4;stroke-opacity:0.8;\" x=\"118.628501\" xlink:href=\"#m17bc12bfc8\" y=\"173.048664\"/>\n     <use style=\"fill:#1f77b4;fill-opacity:0.8;stroke:#1f77b4;stroke-opacity:0.8;\" x=\"59.842548\" xlink:href=\"#m17bc12bfc8\" y=\"207.036043\"/>\n     <use style=\"fill:#1f77b4;fill-opacity:0.8;stroke:#1f77b4;stroke-opacity:0.8;\" x=\"194.210441\" xlink:href=\"#m17bc12bfc8\" y=\"129.1835\"/>\n     <use style=\"fill:#1f77b4;fill-opacity:0.8;stroke:#1f77b4;stroke-opacity:0.8;\" x=\"51.444555\" xlink:href=\"#m17bc12bfc8\" y=\"212.039921\"/>\n     <use style=\"fill:#1f77b4;fill-opacity:0.8;stroke:#1f77b4;stroke-opacity:0.8;\" x=\"54.243886\" xlink:href=\"#m17bc12bfc8\" y=\"210.415285\"/>\n     <use style=\"fill:#1f77b4;fill-opacity:0.8;stroke:#1f77b4;stroke-opacity:0.8;\" x=\"55.923485\" xlink:href=\"#m17bc12bfc8\" y=\"209.440504\"/>\n     <use style=\"fill:#1f77b4;fill-opacity:0.8;stroke:#1f77b4;stroke-opacity:0.8;\" x=\"134.304755\" xlink:href=\"#m17bc12bfc8\" y=\"163.950704\"/>\n     <use style=\"fill:#1f77b4;fill-opacity:0.8;stroke:#1f77b4;stroke-opacity:0.8;\" x=\"54.243886\" xlink:href=\"#m17bc12bfc8\" y=\"210.090358\"/>\n     <use style=\"fill:#1f77b4;fill-opacity:0.8;stroke:#1f77b4;stroke-opacity:0.8;\" x=\"62.641879\" xlink:href=\"#m17bc12bfc8\" y=\"205.541378\"/>\n     <use style=\"fill:#1f77b4;fill-opacity:0.8;stroke:#1f77b4;stroke-opacity:0.8;\" x=\"62.641879\" xlink:href=\"#m17bc12bfc8\" y=\"205.541378\"/>\n     <use style=\"fill:#1f77b4;fill-opacity:0.8;stroke:#1f77b4;stroke-opacity:0.8;\" x=\"59.842548\" xlink:href=\"#m17bc12bfc8\" y=\"207.166014\"/>\n     <use style=\"fill:#1f77b4;fill-opacity:0.8;stroke:#1f77b4;stroke-opacity:0.8;\" x=\"180.213786\" xlink:href=\"#m17bc12bfc8\" y=\"137.306678\"/>\n     <use style=\"fill:#1f77b4;fill-opacity:0.8;stroke:#1f77b4;stroke-opacity:0.8;\" x=\"52.564287\" xlink:href=\"#m17bc12bfc8\" y=\"211.390066\"/>\n     <use style=\"fill:#1f77b4;fill-opacity:0.8;stroke:#1f77b4;stroke-opacity:0.8;\" x=\"59.282682\" xlink:href=\"#m17bc12bfc8\" y=\"207.490941\"/>\n     <use style=\"fill:#1f77b4;fill-opacity:0.8;stroke:#1f77b4;stroke-opacity:0.8;\" x=\"65.44121\" xlink:href=\"#m17bc12bfc8\" y=\"203.916742\"/>\n     <use style=\"fill:#1f77b4;fill-opacity:0.8;stroke:#1f77b4;stroke-opacity:0.8;\" x=\"96.233852\" xlink:href=\"#m17bc12bfc8\" y=\"186.045749\"/>\n     <use style=\"fill:#1f77b4;fill-opacity:0.8;stroke:#1f77b4;stroke-opacity:0.8;\" x=\"54.243886\" xlink:href=\"#m17bc12bfc8\" y=\"210.3503\"/>\n     <use style=\"fill:#1f77b4;fill-opacity:0.8;stroke:#1f77b4;stroke-opacity:0.8;\" x=\"62.641879\" xlink:href=\"#m17bc12bfc8\" y=\"205.541378\"/>\n     <use style=\"fill:#1f77b4;fill-opacity:0.8;stroke:#1f77b4;stroke-opacity:0.8;\" x=\"62.641879\" xlink:href=\"#m17bc12bfc8\" y=\"205.541378\"/>\n     <use style=\"fill:#1f77b4;fill-opacity:0.8;stroke:#1f77b4;stroke-opacity:0.8;\" x=\"62.641879\" xlink:href=\"#m17bc12bfc8\" y=\"205.378914\"/>\n     <use style=\"fill:#1f77b4;fill-opacity:0.8;stroke:#1f77b4;stroke-opacity:0.8;\" x=\"76.078668\" xlink:href=\"#m17bc12bfc8\" y=\"197.743126\"/>\n     <use style=\"fill:#1f77b4;fill-opacity:0.8;stroke:#1f77b4;stroke-opacity:0.8;\" x=\"59.842548\" xlink:href=\"#m17bc12bfc8\" y=\"207.166014\"/>\n     <use style=\"fill:#1f77b4;fill-opacity:0.8;stroke:#1f77b4;stroke-opacity:0.8;\" x=\"50.324822\" xlink:href=\"#m17bc12bfc8\" y=\"212.689775\"/>\n     <use style=\"fill:#1f77b4;fill-opacity:0.8;stroke:#1f77b4;stroke-opacity:0.8;\" x=\"85.036528\" xlink:href=\"#m17bc12bfc8\" y=\"192.544292\"/>\n     <use style=\"fill:#1f77b4;fill-opacity:0.8;stroke:#1f77b4;stroke-opacity:0.8;\" x=\"157.819137\" xlink:href=\"#m17bc12bfc8\" y=\"150.303764\"/>\n     <use style=\"fill:#1f77b4;fill-opacity:0.8;stroke:#1f77b4;stroke-opacity:0.8;\" x=\"50.324822\" xlink:href=\"#m17bc12bfc8\" y=\"212.689775\"/>\n     <use style=\"fill:#1f77b4;fill-opacity:0.8;stroke:#1f77b4;stroke-opacity:0.8;\" x=\"54.243886\" xlink:href=\"#m17bc12bfc8\" y=\"210.415285\"/>\n     <use style=\"fill:#1f77b4;fill-opacity:0.8;stroke:#1f77b4;stroke-opacity:0.8;\" x=\"59.842548\" xlink:href=\"#m17bc12bfc8\" y=\"207.490941\"/>\n     <use style=\"fill:#1f77b4;fill-opacity:0.8;stroke:#1f77b4;stroke-opacity:0.8;\" x=\"185.812448\" xlink:href=\"#m17bc12bfc8\" y=\"134.057407\"/>\n     <use style=\"fill:#1f77b4;fill-opacity:0.8;stroke:#1f77b4;stroke-opacity:0.8;\" x=\"113.029839\" xlink:href=\"#m17bc12bfc8\" y=\"176.297935\"/>\n     <use style=\"fill:#1f77b4;fill-opacity:0.8;stroke:#1f77b4;stroke-opacity:0.8;\" x=\"110.230508\" xlink:href=\"#m17bc12bfc8\" y=\"177.922571\"/>\n     <use style=\"fill:#1f77b4;fill-opacity:0.8;stroke:#1f77b4;stroke-opacity:0.8;\" x=\"55.363618\" xlink:href=\"#m17bc12bfc8\" y=\"209.765431\"/>\n     <use style=\"fill:#1f77b4;fill-opacity:0.8;stroke:#1f77b4;stroke-opacity:0.8;\" x=\"63.313719\" xlink:href=\"#m17bc12bfc8\" y=\"205.151465\"/>\n     <use style=\"fill:#1f77b4;fill-opacity:0.8;stroke:#1f77b4;stroke-opacity:0.8;\" x=\"71.039872\" xlink:href=\"#m17bc12bfc8\" y=\"200.667471\"/>\n     <use style=\"fill:#1f77b4;fill-opacity:0.8;stroke:#1f77b4;stroke-opacity:0.8;\" x=\"54.243886\" xlink:href=\"#m17bc12bfc8\" y=\"210.415285\"/>\n     <use style=\"fill:#1f77b4;fill-opacity:0.8;stroke:#1f77b4;stroke-opacity:0.8;\" x=\"54.243886\" xlink:href=\"#m17bc12bfc8\" y=\"210.415285\"/>\n     <use style=\"fill:#1f77b4;fill-opacity:0.8;stroke:#1f77b4;stroke-opacity:0.8;\" x=\"157.819137\" xlink:href=\"#m17bc12bfc8\" y=\"150.303764\"/>\n     <use style=\"fill:#1f77b4;fill-opacity:0.8;stroke:#1f77b4;stroke-opacity:0.8;\" x=\"56.483351\" xlink:href=\"#m17bc12bfc8\" y=\"209.115576\"/>\n     <use style=\"fill:#1f77b4;fill-opacity:0.8;stroke:#1f77b4;stroke-opacity:0.8;\" x=\"62.641879\" xlink:href=\"#m17bc12bfc8\" y=\"205.541378\"/>\n     <use style=\"fill:#1f77b4;fill-opacity:0.8;stroke:#1f77b4;stroke-opacity:0.8;\" x=\"269.792381\" xlink:href=\"#m17bc12bfc8\" y=\"85.318336\"/>\n     <use style=\"fill:#1f77b4;fill-opacity:0.8;stroke:#1f77b4;stroke-opacity:0.8;\" x=\"56.483351\" xlink:href=\"#m17bc12bfc8\" y=\"209.115576\"/>\n     <use style=\"fill:#1f77b4;fill-opacity:0.8;stroke:#1f77b4;stroke-opacity:0.8;\" x=\"79.437866\" xlink:href=\"#m17bc12bfc8\" y=\"195.468636\"/>\n     <use style=\"fill:#1f77b4;fill-opacity:0.8;stroke:#1f77b4;stroke-opacity:0.8;\" x=\"145.110173\" xlink:href=\"#m17bc12bfc8\" y=\"157.647117\"/>\n     <use style=\"fill:#1f77b4;fill-opacity:0.8;stroke:#1f77b4;stroke-opacity:0.8;\" x=\"157.819137\" xlink:href=\"#m17bc12bfc8\" y=\"149.004055\"/>\n     <use style=\"fill:#1f77b4;fill-opacity:0.8;stroke:#1f77b4;stroke-opacity:0.8;\" x=\"55.923485\" xlink:href=\"#m17bc12bfc8\" y=\"209.440504\"/>\n     <use style=\"fill:#1f77b4;fill-opacity:0.8;stroke:#1f77b4;stroke-opacity:0.8;\" x=\"57.043217\" xlink:href=\"#m17bc12bfc8\" y=\"208.790649\"/>\n     <use style=\"fill:#1f77b4;fill-opacity:0.8;stroke:#1f77b4;stroke-opacity:0.8;\" x=\"68.240541\" xlink:href=\"#m17bc12bfc8\" y=\"202.292106\"/>\n     <use style=\"fill:#1f77b4;fill-opacity:0.8;stroke:#1f77b4;stroke-opacity:0.8;\" x=\"101.832515\" xlink:href=\"#m17bc12bfc8\" y=\"182.796478\"/>\n     <use style=\"fill:#1f77b4;fill-opacity:0.8;stroke:#1f77b4;stroke-opacity:0.8;\" x=\"54.243886\" xlink:href=\"#m17bc12bfc8\" y=\"210.415285\"/>\n     <use style=\"fill:#1f77b4;fill-opacity:0.8;stroke:#1f77b4;stroke-opacity:0.8;\" x=\"52.564287\" xlink:href=\"#m17bc12bfc8\" y=\"211.390066\"/>\n     <use style=\"fill:#1f77b4;fill-opacity:0.8;stroke:#1f77b4;stroke-opacity:0.8;\" x=\"146.621812\" xlink:href=\"#m17bc12bfc8\" y=\"156.802307\"/>\n     <use style=\"fill:#1f77b4;fill-opacity:0.8;stroke:#1f77b4;stroke-opacity:0.8;\" x=\"49.20509\" xlink:href=\"#m17bc12bfc8\" y=\"213.339629\"/>\n     <use style=\"fill:#1f77b4;fill-opacity:0.8;stroke:#1f77b4;stroke-opacity:0.8;\" x=\"59.842548\" xlink:href=\"#m17bc12bfc8\" y=\"207.166014\"/>\n     <use style=\"fill:#1f77b4;fill-opacity:0.8;stroke:#1f77b4;stroke-opacity:0.8;\" x=\"185.812448\" xlink:href=\"#m17bc12bfc8\" y=\"132.757698\"/>\n     <use style=\"fill:#1f77b4;fill-opacity:0.8;stroke:#1f77b4;stroke-opacity:0.8;\" x=\"53.68402\" xlink:href=\"#m17bc12bfc8\" y=\"210.740212\"/>\n     <use style=\"fill:#1f77b4;fill-opacity:0.8;stroke:#1f77b4;stroke-opacity:0.8;\" x=\"62.641879\" xlink:href=\"#m17bc12bfc8\" y=\"205.541378\"/>\n     <use style=\"fill:#1f77b4;fill-opacity:0.8;stroke:#1f77b4;stroke-opacity:0.8;\" x=\"62.641879\" xlink:href=\"#m17bc12bfc8\" y=\"205.541378\"/>\n     <use style=\"fill:#1f77b4;fill-opacity:0.8;stroke:#1f77b4;stroke-opacity:0.8;\" x=\"77.758267\" xlink:href=\"#m17bc12bfc8\" y=\"196.768345\"/>\n     <use style=\"fill:#1f77b4;fill-opacity:0.8;stroke:#1f77b4;stroke-opacity:0.8;\" x=\"137.663953\" xlink:href=\"#m17bc12bfc8\" y=\"161.351287\"/>\n     <use style=\"fill:#1f77b4;fill-opacity:0.8;stroke:#1f77b4;stroke-opacity:0.8;\" x=\"51.444555\" xlink:href=\"#m17bc12bfc8\" y=\"212.039921\"/>\n     <use style=\"fill:#1f77b4;fill-opacity:0.8;stroke:#1f77b4;stroke-opacity:0.8;\" x=\"54.803752\" xlink:href=\"#m17bc12bfc8\" y=\"210.090358\"/>\n     <use style=\"fill:#1f77b4;fill-opacity:0.8;stroke:#1f77b4;stroke-opacity:0.8;\" x=\"50.324822\" xlink:href=\"#m17bc12bfc8\" y=\"212.689775\"/>\n     <use style=\"fill:#1f77b4;fill-opacity:0.8;stroke:#1f77b4;stroke-opacity:0.8;\" x=\"51.444555\" xlink:href=\"#m17bc12bfc8\" y=\"212.039921\"/>\n     <use style=\"fill:#1f77b4;fill-opacity:0.8;stroke:#1f77b4;stroke-opacity:0.8;\" x=\"155.019806\" xlink:href=\"#m17bc12bfc8\" y=\"151.9284\"/>\n     <use style=\"fill:#1f77b4;fill-opacity:0.8;stroke:#1f77b4;stroke-opacity:0.8;\" x=\"62.641879\" xlink:href=\"#m17bc12bfc8\" y=\"205.541378\"/>\n     <use style=\"fill:#1f77b4;fill-opacity:0.8;stroke:#1f77b4;stroke-opacity:0.8;\" x=\"77.758267\" xlink:href=\"#m17bc12bfc8\" y=\"196.443418\"/>\n     <use style=\"fill:#1f77b4;fill-opacity:0.8;stroke:#1f77b4;stroke-opacity:0.8;\" x=\"57.043217\" xlink:href=\"#m17bc12bfc8\" y=\"208.790649\"/>\n     <use style=\"fill:#1f77b4;fill-opacity:0.8;stroke:#1f77b4;stroke-opacity:0.8;\" x=\"117.508769\" xlink:href=\"#m17bc12bfc8\" y=\"173.698518\"/>\n     <use style=\"fill:#1f77b4;fill-opacity:0.8;stroke:#1f77b4;stroke-opacity:0.8;\" x=\"54.243886\" xlink:href=\"#m17bc12bfc8\" y=\"210.415285\"/>\n     <use style=\"fill:#1f77b4;fill-opacity:0.8;stroke:#1f77b4;stroke-opacity:0.8;\" x=\"124.227163\" xlink:href=\"#m17bc12bfc8\" y=\"169.149538\"/>\n     <use style=\"fill:#1f77b4;fill-opacity:0.8;stroke:#1f77b4;stroke-opacity:0.8;\" x=\"52.564287\" xlink:href=\"#m17bc12bfc8\" y=\"211.390066\"/>\n     <use style=\"fill:#1f77b4;fill-opacity:0.8;stroke:#1f77b4;stroke-opacity:0.8;\" x=\"51.444555\" xlink:href=\"#m17bc12bfc8\" y=\"211.390066\"/>\n     <use style=\"fill:#1f77b4;fill-opacity:0.8;stroke:#1f77b4;stroke-opacity:0.8;\" x=\"52.564287\" xlink:href=\"#m17bc12bfc8\" y=\"211.390066\"/>\n     <use style=\"fill:#1f77b4;fill-opacity:0.8;stroke:#1f77b4;stroke-opacity:0.8;\" x=\"82.237197\" xlink:href=\"#m17bc12bfc8\" y=\"194.168928\"/>\n     <use style=\"fill:#1f77b4;fill-opacity:0.8;stroke:#1f77b4;stroke-opacity:0.8;\" x=\"57.043217\" xlink:href=\"#m17bc12bfc8\" y=\"208.790649\"/>\n     <use style=\"fill:#1f77b4;fill-opacity:0.8;stroke:#1f77b4;stroke-opacity:0.8;\" x=\"129.825826\" xlink:href=\"#m17bc12bfc8\" y=\"165.900267\"/>\n     <use style=\"fill:#1f77b4;fill-opacity:0.8;stroke:#1f77b4;stroke-opacity:0.8;\" x=\"54.243886\" xlink:href=\"#m17bc12bfc8\" y=\"210.415285\"/>\n     <use style=\"fill:#1f77b4;fill-opacity:0.8;stroke:#1f77b4;stroke-opacity:0.8;\" x=\"62.641879\" xlink:href=\"#m17bc12bfc8\" y=\"205.346422\"/>\n     <use style=\"fill:#1f77b4;fill-opacity:0.8;stroke:#1f77b4;stroke-opacity:0.8;\" x=\"56.483351\" xlink:href=\"#m17bc12bfc8\" y=\"209.115576\"/>\n     <use style=\"fill:#1f77b4;fill-opacity:0.8;stroke:#1f77b4;stroke-opacity:0.8;\" x=\"51.444555\" xlink:href=\"#m17bc12bfc8\" y=\"212.039921\"/>\n     <use style=\"fill:#1f77b4;fill-opacity:0.8;stroke:#1f77b4;stroke-opacity:0.8;\" x=\"52.564287\" xlink:href=\"#m17bc12bfc8\" y=\"211.390066\"/>\n     <use style=\"fill:#1f77b4;fill-opacity:0.8;stroke:#1f77b4;stroke-opacity:0.8;\" x=\"62.641879\" xlink:href=\"#m17bc12bfc8\" y=\"205.541378\"/>\n     <use style=\"fill:#1f77b4;fill-opacity:0.8;stroke:#1f77b4;stroke-opacity:0.8;\" x=\"152.220474\" xlink:href=\"#m17bc12bfc8\" y=\"153.553035\"/>\n     <use style=\"fill:#1f77b4;fill-opacity:0.8;stroke:#1f77b4;stroke-opacity:0.8;\" x=\"73.839204\" xlink:href=\"#m17bc12bfc8\" y=\"199.042835\"/>\n     <use style=\"fill:#1f77b4;fill-opacity:0.8;stroke:#1f77b4;stroke-opacity:0.8;\" x=\"269.792381\" xlink:href=\"#m17bc12bfc8\" y=\"85.318336\"/>\n     <use style=\"fill:#1f77b4;fill-opacity:0.8;stroke:#1f77b4;stroke-opacity:0.8;\" x=\"62.641879\" xlink:href=\"#m17bc12bfc8\" y=\"205.541378\"/>\n     <use style=\"fill:#1f77b4;fill-opacity:0.8;stroke:#1f77b4;stroke-opacity:0.8;\" x=\"66.560943\" xlink:href=\"#m17bc12bfc8\" y=\"202.941961\"/>\n     <use style=\"fill:#1f77b4;fill-opacity:0.8;stroke:#1f77b4;stroke-opacity:0.8;\" x=\"51.444555\" xlink:href=\"#m17bc12bfc8\" y=\"212.039921\"/>\n     <use style=\"fill:#1f77b4;fill-opacity:0.8;stroke:#1f77b4;stroke-opacity:0.8;\" x=\"62.641879\" xlink:href=\"#m17bc12bfc8\" y=\"205.541378\"/>\n     <use style=\"fill:#1f77b4;fill-opacity:0.8;stroke:#1f77b4;stroke-opacity:0.8;\" x=\"69.360274\" xlink:href=\"#m17bc12bfc8\" y=\"201.642252\"/>\n     <use style=\"fill:#1f77b4;fill-opacity:0.8;stroke:#1f77b4;stroke-opacity:0.8;\" x=\"56.483351\" xlink:href=\"#m17bc12bfc8\" y=\"209.115576\"/>\n     <use style=\"fill:#1f77b4;fill-opacity:0.8;stroke:#1f77b4;stroke-opacity:0.8;\" x=\"76.638535\" xlink:href=\"#m17bc12bfc8\" y=\"206.841086\"/>\n     <use style=\"fill:#1f77b4;fill-opacity:0.8;stroke:#1f77b4;stroke-opacity:0.8;\" x=\"185.812448\" xlink:href=\"#m17bc12bfc8\" y=\"132.757698\"/>\n     <use style=\"fill:#1f77b4;fill-opacity:0.8;stroke:#1f77b4;stroke-opacity:0.8;\" x=\"65.44121\" xlink:href=\"#m17bc12bfc8\" y=\"203.916742\"/>\n     <use style=\"fill:#1f77b4;fill-opacity:0.8;stroke:#1f77b4;stroke-opacity:0.8;\" x=\"55.363618\" xlink:href=\"#m17bc12bfc8\" y=\"209.765431\"/>\n     <use style=\"fill:#1f77b4;fill-opacity:0.8;stroke:#1f77b4;stroke-opacity:0.8;\" x=\"213.805759\" xlink:href=\"#m17bc12bfc8\" y=\"116.511341\"/>\n     <use style=\"fill:#1f77b4;fill-opacity:0.8;stroke:#1f77b4;stroke-opacity:0.8;\" x=\"90.075324\" xlink:href=\"#m17bc12bfc8\" y=\"189.295021\"/>\n     <use style=\"fill:#1f77b4;fill-opacity:0.8;stroke:#1f77b4;stroke-opacity:0.8;\" x=\"62.641879\" xlink:href=\"#m17bc12bfc8\" y=\"205.541378\"/>\n     <use style=\"fill:#1f77b4;fill-opacity:0.8;stroke:#1f77b4;stroke-opacity:0.8;\" x=\"73.839204\" xlink:href=\"#m17bc12bfc8\" y=\"199.042835\"/>\n     <use style=\"fill:#1f77b4;fill-opacity:0.8;stroke:#1f77b4;stroke-opacity:0.8;\" x=\"55.363618\" xlink:href=\"#m17bc12bfc8\" y=\"209.765431\"/>\n     <use style=\"fill:#1f77b4;fill-opacity:0.8;stroke:#1f77b4;stroke-opacity:0.8;\" x=\"50.884689\" xlink:href=\"#m17bc12bfc8\" y=\"212.364848\"/>\n     <use style=\"fill:#1f77b4;fill-opacity:0.8;stroke:#1f77b4;stroke-opacity:0.8;\" x=\"68.240541\" xlink:href=\"#m17bc12bfc8\" y=\"202.292106\"/>\n     <use style=\"fill:#1f77b4;fill-opacity:0.8;stroke:#1f77b4;stroke-opacity:0.8;\" x=\"59.842548\" xlink:href=\"#m17bc12bfc8\" y=\"207.166014\"/>\n     <use style=\"fill:#1f77b4;fill-opacity:0.8;stroke:#1f77b4;stroke-opacity:0.8;\" x=\"152.220474\" xlink:href=\"#m17bc12bfc8\" y=\"153.553035\"/>\n     <use style=\"fill:#1f77b4;fill-opacity:0.8;stroke:#1f77b4;stroke-opacity:0.8;\" x=\"65.44121\" xlink:href=\"#m17bc12bfc8\" y=\"203.916742\"/>\n     <use style=\"fill:#1f77b4;fill-opacity:0.8;stroke:#1f77b4;stroke-opacity:0.8;\" x=\"54.803752\" xlink:href=\"#m17bc12bfc8\" y=\"210.090358\"/>\n     <use style=\"fill:#1f77b4;fill-opacity:0.8;stroke:#1f77b4;stroke-opacity:0.8;\" x=\"138.223819\" xlink:href=\"#m17bc12bfc8\" y=\"161.676214\"/>\n     <use style=\"fill:#1f77b4;fill-opacity:0.8;stroke:#1f77b4;stroke-opacity:0.8;\" x=\"65.44121\" xlink:href=\"#m17bc12bfc8\" y=\"203.916742\"/>\n     <use style=\"fill:#1f77b4;fill-opacity:0.8;stroke:#1f77b4;stroke-opacity:0.8;\" x=\"62.641879\" xlink:href=\"#m17bc12bfc8\" y=\"205.541378\"/>\n     <use style=\"fill:#1f77b4;fill-opacity:0.8;stroke:#1f77b4;stroke-opacity:0.8;\" x=\"101.832515\" xlink:href=\"#m17bc12bfc8\" y=\"182.796478\"/>\n     <use style=\"fill:#1f77b4;fill-opacity:0.8;stroke:#1f77b4;stroke-opacity:0.8;\" x=\"67.120809\" xlink:href=\"#m17bc12bfc8\" y=\"202.941961\"/>\n     <use style=\"fill:#1f77b4;fill-opacity:0.8;stroke:#1f77b4;stroke-opacity:0.8;\" x=\"53.68402\" xlink:href=\"#m17bc12bfc8\" y=\"210.740212\"/>\n     <use style=\"fill:#1f77b4;fill-opacity:0.8;stroke:#1f77b4;stroke-opacity:0.8;\" x=\"85.596394\" xlink:href=\"#m17bc12bfc8\" y=\"191.894438\"/>\n     <use style=\"fill:#1f77b4;fill-opacity:0.8;stroke:#1f77b4;stroke-opacity:0.8;\" x=\"54.243886\" xlink:href=\"#m17bc12bfc8\" y=\"210.415285\"/>\n     <use style=\"fill:#1f77b4;fill-opacity:0.8;stroke:#1f77b4;stroke-opacity:0.8;\" x=\"73.839204\" xlink:href=\"#m17bc12bfc8\" y=\"199.042835\"/>\n     <use style=\"fill:#1f77b4;fill-opacity:0.8;stroke:#1f77b4;stroke-opacity:0.8;\" x=\"53.68402\" xlink:href=\"#m17bc12bfc8\" y=\"210.740212\"/>\n     <use style=\"fill:#1f77b4;fill-opacity:0.8;stroke:#1f77b4;stroke-opacity:0.8;\" x=\"157.819137\" xlink:href=\"#m17bc12bfc8\" y=\"150.303764\"/>\n     <use style=\"fill:#1f77b4;fill-opacity:0.8;stroke:#1f77b4;stroke-opacity:0.8;\" x=\"93.994388\" xlink:href=\"#m17bc12bfc8\" y=\"187.345458\"/>\n     <use style=\"fill:#1f77b4;fill-opacity:0.8;stroke:#1f77b4;stroke-opacity:0.8;\" x=\"174.615123\" xlink:href=\"#m17bc12bfc8\" y=\"140.55595\"/>\n     <use style=\"fill:#1f77b4;fill-opacity:0.8;stroke:#1f77b4;stroke-opacity:0.8;\" x=\"53.124153\" xlink:href=\"#m17bc12bfc8\" y=\"211.065139\"/>\n     <use style=\"fill:#1f77b4;fill-opacity:0.8;stroke:#1f77b4;stroke-opacity:0.8;\" x=\"62.641879\" xlink:href=\"#m17bc12bfc8\" y=\"205.541378\"/>\n     <use style=\"fill:#1f77b4;fill-opacity:0.8;stroke:#1f77b4;stroke-opacity:0.8;\" x=\"56.483351\" xlink:href=\"#m17bc12bfc8\" y=\"210.090358\"/>\n     <use style=\"fill:#1f77b4;fill-opacity:0.8;stroke:#1f77b4;stroke-opacity:0.8;\" x=\"157.819137\" xlink:href=\"#m17bc12bfc8\" y=\"150.303764\"/>\n     <use style=\"fill:#1f77b4;fill-opacity:0.8;stroke:#1f77b4;stroke-opacity:0.8;\" x=\"269.792381\" xlink:href=\"#m17bc12bfc8\" y=\"85.318336\"/>\n     <use style=\"fill:#1f77b4;fill-opacity:0.8;stroke:#1f77b4;stroke-opacity:0.8;\" x=\"79.437866\" xlink:href=\"#m17bc12bfc8\" y=\"195.793564\"/>\n     <use style=\"fill:#1f77b4;fill-opacity:0.8;stroke:#1f77b4;stroke-opacity:0.8;\" x=\"54.243886\" xlink:href=\"#m17bc12bfc8\" y=\"210.415285\"/>\n     <use style=\"fill:#1f77b4;fill-opacity:0.8;stroke:#1f77b4;stroke-opacity:0.8;\" x=\"59.842548\" xlink:href=\"#m17bc12bfc8\" y=\"206.841086\"/>\n     <use style=\"fill:#1f77b4;fill-opacity:0.8;stroke:#1f77b4;stroke-opacity:0.8;\" x=\"55.923485\" xlink:href=\"#m17bc12bfc8\" y=\"209.440504\"/>\n     <use style=\"fill:#1f77b4;fill-opacity:0.8;stroke:#1f77b4;stroke-opacity:0.8;\" x=\"50.324822\" xlink:href=\"#m17bc12bfc8\" y=\"213.339629\"/>\n     <use style=\"fill:#1f77b4;fill-opacity:0.8;stroke:#1f77b4;stroke-opacity:0.8;\" x=\"325.779003\" xlink:href=\"#m17bc12bfc8\" y=\"50.226205\"/>\n     <use style=\"fill:#1f77b4;fill-opacity:0.8;stroke:#1f77b4;stroke-opacity:0.8;\" x=\"59.842548\" xlink:href=\"#m17bc12bfc8\" y=\"212.039921\"/>\n     <use style=\"fill:#1f77b4;fill-opacity:0.8;stroke:#1f77b4;stroke-opacity:0.8;\" x=\"83.356929\" xlink:href=\"#m17bc12bfc8\" y=\"193.194146\"/>\n     <use style=\"fill:#1f77b4;fill-opacity:0.8;stroke:#1f77b4;stroke-opacity:0.8;\" x=\"213.805759\" xlink:href=\"#m17bc12bfc8\" y=\"116.511341\"/>\n     <use style=\"fill:#1f77b4;fill-opacity:0.8;stroke:#1f77b4;stroke-opacity:0.8;\" x=\"54.243886\" xlink:href=\"#m17bc12bfc8\" y=\"210.415285\"/>\n     <use style=\"fill:#1f77b4;fill-opacity:0.8;stroke:#1f77b4;stroke-opacity:0.8;\" x=\"89.963351\" xlink:href=\"#m17bc12bfc8\" y=\"189.295021\"/>\n     <use style=\"fill:#1f77b4;fill-opacity:0.8;stroke:#1f77b4;stroke-opacity:0.8;\" x=\"53.124153\" xlink:href=\"#m17bc12bfc8\" y=\"211.000154\"/>\n     <use style=\"fill:#1f77b4;fill-opacity:0.8;stroke:#1f77b4;stroke-opacity:0.8;\" x=\"55.363618\" xlink:href=\"#m17bc12bfc8\" y=\"209.765431\"/>\n     <use style=\"fill:#1f77b4;fill-opacity:0.8;stroke:#1f77b4;stroke-opacity:0.8;\" x=\"104.07198\" xlink:href=\"#m17bc12bfc8\" y=\"180.846915\"/>\n     <use style=\"fill:#1f77b4;fill-opacity:0.8;stroke:#1f77b4;stroke-opacity:0.8;\" x=\"55.923485\" xlink:href=\"#m17bc12bfc8\" y=\"209.440504\"/>\n     <use style=\"fill:#1f77b4;fill-opacity:0.8;stroke:#1f77b4;stroke-opacity:0.8;\" x=\"55.923485\" xlink:href=\"#m17bc12bfc8\" y=\"209.440504\"/>\n     <use style=\"fill:#1f77b4;fill-opacity:0.8;stroke:#1f77b4;stroke-opacity:0.8;\" x=\"55.923485\" xlink:href=\"#m17bc12bfc8\" y=\"209.440504\"/>\n     <use style=\"fill:#1f77b4;fill-opacity:0.8;stroke:#1f77b4;stroke-opacity:0.8;\" x=\"57.043217\" xlink:href=\"#m17bc12bfc8\" y=\"208.790649\"/>\n     <use style=\"fill:#1f77b4;fill-opacity:0.8;stroke:#1f77b4;stroke-opacity:0.8;\" x=\"53.68402\" xlink:href=\"#m17bc12bfc8\" y=\"210.740212\"/>\n     <use style=\"fill:#1f77b4;fill-opacity:0.8;stroke:#1f77b4;stroke-opacity:0.8;\" x=\"54.243886\" xlink:href=\"#m17bc12bfc8\" y=\"210.090358\"/>\n     <use style=\"fill:#1f77b4;fill-opacity:0.8;stroke:#1f77b4;stroke-opacity:0.8;\" x=\"49.764956\" xlink:href=\"#m17bc12bfc8\" y=\"206.191232\"/>\n     <use style=\"fill:#1f77b4;fill-opacity:0.8;stroke:#1f77b4;stroke-opacity:0.8;\" x=\"62.641879\" xlink:href=\"#m17bc12bfc8\" y=\"205.411407\"/>\n     <use style=\"fill:#1f77b4;fill-opacity:0.8;stroke:#1f77b4;stroke-opacity:0.8;\" x=\"61.522147\" xlink:href=\"#m17bc12bfc8\" y=\"206.061261\"/>\n     <use style=\"fill:#1f77b4;fill-opacity:0.8;stroke:#1f77b4;stroke-opacity:0.8;\" x=\"50.324822\" xlink:href=\"#m17bc12bfc8\" y=\"212.689775\"/>\n     <use style=\"fill:#1f77b4;fill-opacity:0.8;stroke:#1f77b4;stroke-opacity:0.8;\" x=\"157.819137\" xlink:href=\"#m17bc12bfc8\" y=\"149.263997\"/>\n     <use style=\"fill:#1f77b4;fill-opacity:0.8;stroke:#1f77b4;stroke-opacity:0.8;\" x=\"79.437866\" xlink:href=\"#m17bc12bfc8\" y=\"195.468636\"/>\n     <use style=\"fill:#1f77b4;fill-opacity:0.8;stroke:#1f77b4;stroke-opacity:0.8;\" x=\"59.842548\" xlink:href=\"#m17bc12bfc8\" y=\"207.036043\"/>\n     <use style=\"fill:#1f77b4;fill-opacity:0.8;stroke:#1f77b4;stroke-opacity:0.8;\" x=\"157.819137\" xlink:href=\"#m17bc12bfc8\" y=\"149.263997\"/>\n     <use style=\"fill:#1f77b4;fill-opacity:0.8;stroke:#1f77b4;stroke-opacity:0.8;\" x=\"56.483351\" xlink:href=\"#m17bc12bfc8\" y=\"208.985606\"/>\n     <use style=\"fill:#1f77b4;fill-opacity:0.8;stroke:#1f77b4;stroke-opacity:0.8;\" x=\"54.243886\" xlink:href=\"#m17bc12bfc8\" y=\"210.415285\"/>\n     <use style=\"fill:#1f77b4;fill-opacity:0.8;stroke:#1f77b4;stroke-opacity:0.8;\" x=\"50.324822\" xlink:href=\"#m17bc12bfc8\" y=\"204.891524\"/>\n     <use style=\"fill:#1f77b4;fill-opacity:0.8;stroke:#1f77b4;stroke-opacity:0.8;\" x=\"54.243886\" xlink:href=\"#m17bc12bfc8\" y=\"210.337302\"/>\n     <use style=\"fill:#1f77b4;fill-opacity:0.8;stroke:#1f77b4;stroke-opacity:0.8;\" x=\"54.243886\" xlink:href=\"#m17bc12bfc8\" y=\"210.337302\"/>\n     <use style=\"fill:#1f77b4;fill-opacity:0.8;stroke:#1f77b4;stroke-opacity:0.8;\" x=\"68.240541\" xlink:href=\"#m17bc12bfc8\" y=\"202.084153\"/>\n     <use style=\"fill:#1f77b4;fill-opacity:0.8;stroke:#1f77b4;stroke-opacity:0.8;\" x=\"55.363618\" xlink:href=\"#m17bc12bfc8\" y=\"209.700445\"/>\n     <use style=\"fill:#1f77b4;fill-opacity:0.8;stroke:#1f77b4;stroke-opacity:0.8;\" x=\"58.722816\" xlink:href=\"#m17bc12bfc8\" y=\"207.750882\"/>\n     <use style=\"fill:#1f77b4;fill-opacity:0.8;stroke:#1f77b4;stroke-opacity:0.8;\" x=\"54.243886\" xlink:href=\"#m17bc12bfc8\" y=\"210.337302\"/>\n     <use style=\"fill:#1f77b4;fill-opacity:0.8;stroke:#1f77b4;stroke-opacity:0.8;\" x=\"135.424488\" xlink:href=\"#m17bc12bfc8\" y=\"162.469036\"/>\n     <use style=\"fill:#1f77b4;fill-opacity:0.8;stroke:#1f77b4;stroke-opacity:0.8;\" x=\"213.805759\" xlink:href=\"#m17bc12bfc8\" y=\"116.511341\"/>\n     <use style=\"fill:#1f77b4;fill-opacity:0.8;stroke:#1f77b4;stroke-opacity:0.8;\" x=\"141.02315\" xlink:href=\"#m17bc12bfc8\" y=\"159.167776\"/>\n     <use style=\"fill:#1f77b4;fill-opacity:0.8;stroke:#1f77b4;stroke-opacity:0.8;\" x=\"55.363618\" xlink:href=\"#m17bc12bfc8\" y=\"209.440504\"/>\n     <use style=\"fill:#1f77b4;fill-opacity:0.8;stroke:#1f77b4;stroke-opacity:0.8;\" x=\"95.11412\" xlink:href=\"#m17bc12bfc8\" y=\"186.240706\"/>\n     <use style=\"fill:#1f77b4;fill-opacity:0.8;stroke:#1f77b4;stroke-opacity:0.8;\" x=\"54.243886\" xlink:href=\"#m17bc12bfc8\" y=\"210.3503\"/>\n     <use style=\"fill:#1f77b4;fill-opacity:0.8;stroke:#1f77b4;stroke-opacity:0.8;\" x=\"49.764956\" xlink:href=\"#m17bc12bfc8\" y=\"212.689775\"/>\n     <use style=\"fill:#1f77b4;fill-opacity:0.8;stroke:#1f77b4;stroke-opacity:0.8;\" x=\"54.243886\" xlink:href=\"#m17bc12bfc8\" y=\"210.090358\"/>\n     <use style=\"fill:#1f77b4;fill-opacity:0.8;stroke:#1f77b4;stroke-opacity:0.8;\" x=\"52.564287\" xlink:href=\"#m17bc12bfc8\" y=\"211.390066\"/>\n     <use style=\"fill:#1f77b4;fill-opacity:0.8;stroke:#1f77b4;stroke-opacity:0.8;\" x=\"49.764956\" xlink:href=\"#m17bc12bfc8\" y=\"212.689775\"/>\n     <use style=\"fill:#1f77b4;fill-opacity:0.8;stroke:#1f77b4;stroke-opacity:0.8;\" x=\"101.832515\" xlink:href=\"#m17bc12bfc8\" y=\"182.146624\"/>\n     <use style=\"fill:#1f77b4;fill-opacity:0.8;stroke:#1f77b4;stroke-opacity:0.8;\" x=\"54.243886\" xlink:href=\"#m17bc12bfc8\" y=\"210.090358\"/>\n     <use style=\"fill:#1f77b4;fill-opacity:0.8;stroke:#1f77b4;stroke-opacity:0.8;\" x=\"55.923485\" xlink:href=\"#m17bc12bfc8\" y=\"209.440504\"/>\n     <use style=\"fill:#1f77b4;fill-opacity:0.8;stroke:#1f77b4;stroke-opacity:0.8;\" x=\"54.803752\" xlink:href=\"#m17bc12bfc8\" y=\"210.090358\"/>\n     <use style=\"fill:#1f77b4;fill-opacity:0.8;stroke:#1f77b4;stroke-opacity:0.8;\" x=\"51.444555\" xlink:href=\"#m17bc12bfc8\" y=\"212.039921\"/>\n     <use style=\"fill:#1f77b4;fill-opacity:0.8;stroke:#1f77b4;stroke-opacity:0.8;\" x=\"50.324822\" xlink:href=\"#m17bc12bfc8\" y=\"212.689775\"/>\n     <use style=\"fill:#1f77b4;fill-opacity:0.8;stroke:#1f77b4;stroke-opacity:0.8;\" x=\"54.243886\" xlink:href=\"#m17bc12bfc8\" y=\"210.090358\"/>\n     <use style=\"fill:#1f77b4;fill-opacity:0.8;stroke:#1f77b4;stroke-opacity:0.8;\" x=\"121.427832\" xlink:href=\"#m17bc12bfc8\" y=\"170.449247\"/>\n     <use style=\"fill:#1f77b4;fill-opacity:0.8;stroke:#1f77b4;stroke-opacity:0.8;\" x=\"49.764956\" xlink:href=\"#m17bc12bfc8\" y=\"212.689775\"/>\n     <use style=\"fill:#1f77b4;fill-opacity:0.8;stroke:#1f77b4;stroke-opacity:0.8;\" x=\"57.043217\" xlink:href=\"#m17bc12bfc8\" y=\"208.790649\"/>\n     <use style=\"fill:#1f77b4;fill-opacity:0.8;stroke:#1f77b4;stroke-opacity:0.8;\" x=\"52.564287\" xlink:href=\"#m17bc12bfc8\" y=\"211.390066\"/>\n     <use style=\"fill:#1f77b4;fill-opacity:0.8;stroke:#1f77b4;stroke-opacity:0.8;\" x=\"90.63519\" xlink:href=\"#m17bc12bfc8\" y=\"188.645167\"/>\n     <use style=\"fill:#1f77b4;fill-opacity:0.8;stroke:#1f77b4;stroke-opacity:0.8;\" x=\"73.839204\" xlink:href=\"#m17bc12bfc8\" y=\"199.042835\"/>\n     <use style=\"fill:#1f77b4;fill-opacity:0.8;stroke:#1f77b4;stroke-opacity:0.8;\" x=\"50.884689\" xlink:href=\"#m17bc12bfc8\" y=\"212.039921\"/>\n     <use style=\"fill:#1f77b4;fill-opacity:0.8;stroke:#1f77b4;stroke-opacity:0.8;\" x=\"71.039872\" xlink:href=\"#m17bc12bfc8\" y=\"200.342544\"/>\n     <use style=\"fill:#1f77b4;fill-opacity:0.8;stroke:#1f77b4;stroke-opacity:0.8;\" x=\"54.243886\" xlink:href=\"#m17bc12bfc8\" y=\"210.740212\"/>\n     <use style=\"fill:#1f77b4;fill-opacity:0.8;stroke:#1f77b4;stroke-opacity:0.8;\" x=\"169.016461\" xlink:href=\"#m17bc12bfc8\" y=\"142.505513\"/>\n     <use style=\"fill:#1f77b4;fill-opacity:0.8;stroke:#1f77b4;stroke-opacity:0.8;\" x=\"54.243886\" xlink:href=\"#m17bc12bfc8\" y=\"210.090358\"/>\n     <use style=\"fill:#1f77b4;fill-opacity:0.8;stroke:#1f77b4;stroke-opacity:0.8;\" x=\"54.243886\" xlink:href=\"#m17bc12bfc8\" y=\"210.090358\"/>\n     <use style=\"fill:#1f77b4;fill-opacity:0.8;stroke:#1f77b4;stroke-opacity:0.8;\" x=\"54.243886\" xlink:href=\"#m17bc12bfc8\" y=\"210.090358\"/>\n     <use style=\"fill:#1f77b4;fill-opacity:0.8;stroke:#1f77b4;stroke-opacity:0.8;\" x=\"54.243886\" xlink:href=\"#m17bc12bfc8\" y=\"210.090358\"/>\n     <use style=\"fill:#1f77b4;fill-opacity:0.8;stroke:#1f77b4;stroke-opacity:0.8;\" x=\"54.243886\" xlink:href=\"#m17bc12bfc8\" y=\"210.090358\"/>\n     <use style=\"fill:#1f77b4;fill-opacity:0.8;stroke:#1f77b4;stroke-opacity:0.8;\" x=\"54.243886\" xlink:href=\"#m17bc12bfc8\" y=\"210.090358\"/>\n     <use style=\"fill:#1f77b4;fill-opacity:0.8;stroke:#1f77b4;stroke-opacity:0.8;\" x=\"54.243886\" xlink:href=\"#m17bc12bfc8\" y=\"210.090358\"/>\n     <use style=\"fill:#1f77b4;fill-opacity:0.8;stroke:#1f77b4;stroke-opacity:0.8;\" x=\"54.243886\" xlink:href=\"#m17bc12bfc8\" y=\"210.090358\"/>\n     <use style=\"fill:#1f77b4;fill-opacity:0.8;stroke:#1f77b4;stroke-opacity:0.8;\" x=\"54.243886\" xlink:href=\"#m17bc12bfc8\" y=\"210.090358\"/>\n     <use style=\"fill:#1f77b4;fill-opacity:0.8;stroke:#1f77b4;stroke-opacity:0.8;\" x=\"381.765625\" xlink:href=\"#m17bc12bfc8\" y=\"17.083636\"/>\n     <use style=\"fill:#1f77b4;fill-opacity:0.8;stroke:#1f77b4;stroke-opacity:0.8;\" x=\"57.043217\" xlink:href=\"#m17bc12bfc8\" y=\"208.790649\"/>\n     <use style=\"fill:#1f77b4;fill-opacity:0.8;stroke:#1f77b4;stroke-opacity:0.8;\" x=\"152.220474\" xlink:href=\"#m17bc12bfc8\" y=\"152.903181\"/>\n     <use style=\"fill:#1f77b4;fill-opacity:0.8;stroke:#1f77b4;stroke-opacity:0.8;\" x=\"57.043217\" xlink:href=\"#m17bc12bfc8\" y=\"208.790649\"/>\n     <use style=\"fill:#1f77b4;fill-opacity:0.8;stroke:#1f77b4;stroke-opacity:0.8;\" x=\"57.043217\" xlink:href=\"#m17bc12bfc8\" y=\"208.790649\"/>\n     <use style=\"fill:#1f77b4;fill-opacity:0.8;stroke:#1f77b4;stroke-opacity:0.8;\" x=\"96.233852\" xlink:href=\"#m17bc12bfc8\" y=\"185.395895\"/>\n     <use style=\"fill:#1f77b4;fill-opacity:0.8;stroke:#1f77b4;stroke-opacity:0.8;\" x=\"50.324822\" xlink:href=\"#m17bc12bfc8\" y=\"212.689775\"/>\n     <use style=\"fill:#1f77b4;fill-opacity:0.8;stroke:#1f77b4;stroke-opacity:0.8;\" x=\"55.139672\" xlink:href=\"#m17bc12bfc8\" y=\"210.090358\"/>\n     <use style=\"fill:#1f77b4;fill-opacity:0.8;stroke:#1f77b4;stroke-opacity:0.8;\" x=\"48.645224\" xlink:href=\"#m17bc12bfc8\" y=\"213.339629\"/>\n     <use style=\"fill:#1f77b4;fill-opacity:0.8;stroke:#1f77b4;stroke-opacity:0.8;\" x=\"54.243886\" xlink:href=\"#m17bc12bfc8\" y=\"210.090358\"/>\n     <use style=\"fill:#1f77b4;fill-opacity:0.8;stroke:#1f77b4;stroke-opacity:0.8;\" x=\"54.243886\" xlink:href=\"#m17bc12bfc8\" y=\"210.090358\"/>\n     <use style=\"fill:#1f77b4;fill-opacity:0.8;stroke:#1f77b4;stroke-opacity:0.8;\" x=\"65.44121\" xlink:href=\"#m17bc12bfc8\" y=\"203.591815\"/>\n     <use style=\"fill:#1f77b4;fill-opacity:0.8;stroke:#1f77b4;stroke-opacity:0.8;\" x=\"55.923485\" xlink:href=\"#m17bc12bfc8\" y=\"209.440504\"/>\n     <use style=\"fill:#1f77b4;fill-opacity:0.8;stroke:#1f77b4;stroke-opacity:0.8;\" x=\"96.233852\" xlink:href=\"#m17bc12bfc8\" y=\"185.395895\"/>\n     <use style=\"fill:#1f77b4;fill-opacity:0.8;stroke:#1f77b4;stroke-opacity:0.8;\" x=\"118.628501\" xlink:href=\"#m17bc12bfc8\" y=\"172.398809\"/>\n     <use style=\"fill:#1f77b4;fill-opacity:0.8;stroke:#1f77b4;stroke-opacity:0.8;\" x=\"101.832515\" xlink:href=\"#m17bc12bfc8\" y=\"182.796478\"/>\n     <use style=\"fill:#1f77b4;fill-opacity:0.8;stroke:#1f77b4;stroke-opacity:0.8;\" x=\"213.805759\" xlink:href=\"#m17bc12bfc8\" y=\"116.511341\"/>\n     <use style=\"fill:#1f77b4;fill-opacity:0.8;stroke:#1f77b4;stroke-opacity:0.8;\" x=\"57.043217\" xlink:href=\"#m17bc12bfc8\" y=\"208.790649\"/>\n     <use style=\"fill:#1f77b4;fill-opacity:0.8;stroke:#1f77b4;stroke-opacity:0.8;\" x=\"52.004421\" xlink:href=\"#m17bc12bfc8\" y=\"211.390066\"/>\n     <use style=\"fill:#1f77b4;fill-opacity:0.8;stroke:#1f77b4;stroke-opacity:0.8;\" x=\"325.779003\" xlink:href=\"#m17bc12bfc8\" y=\"50.226205\"/>\n     <use style=\"fill:#1f77b4;fill-opacity:0.8;stroke:#1f77b4;stroke-opacity:0.8;\" x=\"264.193719\" xlink:href=\"#m17bc12bfc8\" y=\"86.618044\"/>\n     <use style=\"fill:#1f77b4;fill-opacity:0.8;stroke:#1f77b4;stroke-opacity:0.8;\" x=\"52.564287\" xlink:href=\"#m17bc12bfc8\" y=\"211.390066\"/>\n     <use style=\"fill:#1f77b4;fill-opacity:0.8;stroke:#1f77b4;stroke-opacity:0.8;\" x=\"113.029839\" xlink:href=\"#m17bc12bfc8\" y=\"175.648081\"/>\n     <use style=\"fill:#1f77b4;fill-opacity:0.8;stroke:#1f77b4;stroke-opacity:0.8;\" x=\"57.603083\" xlink:href=\"#m17bc12bfc8\" y=\"208.140795\"/>\n     <use style=\"fill:#1f77b4;fill-opacity:0.8;stroke:#1f77b4;stroke-opacity:0.8;\" x=\"52.564287\" xlink:href=\"#m17bc12bfc8\" y=\"211.390066\"/>\n     <use style=\"fill:#1f77b4;fill-opacity:0.8;stroke:#1f77b4;stroke-opacity:0.8;\" x=\"76.638535\" xlink:href=\"#m17bc12bfc8\" y=\"197.093272\"/>\n     <use style=\"fill:#1f77b4;fill-opacity:0.8;stroke:#1f77b4;stroke-opacity:0.8;\" x=\"57.043217\" xlink:href=\"#m17bc12bfc8\" y=\"208.790649\"/>\n     <use style=\"fill:#1f77b4;fill-opacity:0.8;stroke:#1f77b4;stroke-opacity:0.8;\" x=\"53.124153\" xlink:href=\"#m17bc12bfc8\" y=\"210.740212\"/>\n     <use style=\"fill:#1f77b4;fill-opacity:0.8;stroke:#1f77b4;stroke-opacity:0.8;\" x=\"55.923485\" xlink:href=\"#m17bc12bfc8\" y=\"209.440504\"/>\n     <use style=\"fill:#1f77b4;fill-opacity:0.8;stroke:#1f77b4;stroke-opacity:0.8;\" x=\"53.68402\" xlink:href=\"#m17bc12bfc8\" y=\"210.740212\"/>\n     <use style=\"fill:#1f77b4;fill-opacity:0.8;stroke:#1f77b4;stroke-opacity:0.8;\" x=\"52.004421\" xlink:href=\"#m17bc12bfc8\" y=\"211.390066\"/>\n     <use style=\"fill:#1f77b4;fill-opacity:0.8;stroke:#1f77b4;stroke-opacity:0.8;\" x=\"48.645224\" xlink:href=\"#m17bc12bfc8\" y=\"213.339629\"/>\n    </g>\n   </g>\n   <g id=\"PolyCollection_1\">\n    <path clip-path=\"url(#pd9f47e565c)\" d=\"M 46.965625 214.48066 \nL 46.965625 214.756364 \nL 50.347443 212.77633 \nL 53.729261 210.79728 \nL 57.11108 208.818889 \nL 60.492898 206.836513 \nL 63.874716 204.854117 \nL 67.256534 202.871479 \nL 70.638352 200.890557 \nL 74.02017 198.909709 \nL 77.401989 196.931451 \nL 80.783807 194.954599 \nL 84.165625 192.975947 \nL 87.547443 190.997532 \nL 90.929261 189.019834 \nL 94.31108 187.043334 \nL 97.692898 185.06906 \nL 101.074716 183.094992 \nL 104.456534 181.120608 \nL 107.838352 179.146089 \nL 111.22017 177.170963 \nL 114.601989 175.19523 \nL 117.983807 173.221743 \nL 121.365625 171.248332 \nL 124.747443 169.274591 \nL 128.129261 167.300825 \nL 131.51108 165.329269 \nL 134.892898 163.358232 \nL 138.274716 161.389008 \nL 141.656534 159.418759 \nL 145.038352 157.449872 \nL 148.42017 155.480621 \nL 151.801989 153.509628 \nL 155.183807 151.539936 \nL 158.565625 149.56758 \nL 161.947443 147.596136 \nL 165.329261 145.625656 \nL 168.71108 143.65557 \nL 172.092898 141.683956 \nL 175.474716 139.711801 \nL 178.856534 137.7396 \nL 182.238352 135.768956 \nL 185.62017 133.800719 \nL 189.001989 131.831493 \nL 192.383807 129.86135 \nL 195.765625 127.893315 \nL 199.147443 125.92173 \nL 202.529261 123.951004 \nL 205.91108 121.979772 \nL 209.292898 120.011604 \nL 212.674716 118.043446 \nL 216.056534 116.0728 \nL 219.438352 114.102096 \nL 222.82017 112.131061 \nL 226.201989 110.158503 \nL 229.583807 108.189024 \nL 232.965625 106.219286 \nL 236.347443 104.248624 \nL 239.729261 102.277962 \nL 243.11108 100.307299 \nL 246.492898 98.336637 \nL 249.874716 96.365975 \nL 253.256534 94.395312 \nL 256.638352 92.42465 \nL 260.02017 90.453988 \nL 263.401989 88.483325 \nL 266.783807 86.512663 \nL 270.165625 84.542001 \nL 273.547443 82.572228 \nL 276.929261 80.602637 \nL 280.31108 78.633047 \nL 283.692898 76.663457 \nL 287.074716 74.693867 \nL 290.456534 72.724423 \nL 293.838352 70.755052 \nL 297.22017 68.78603 \nL 300.601989 66.817035 \nL 303.983807 64.848041 \nL 307.365625 62.879046 \nL 310.747443 60.910052 \nL 314.129261 58.941057 \nL 317.51108 56.972062 \nL 320.892898 55.003068 \nL 324.274716 53.034073 \nL 327.656534 51.065111 \nL 331.038352 49.097219 \nL 334.42017 47.129327 \nL 337.801989 45.161434 \nL 341.183807 43.193542 \nL 344.565625 41.22565 \nL 347.947443 39.257758 \nL 351.329261 37.288901 \nL 354.71108 35.319493 \nL 358.092898 33.350085 \nL 361.474716 31.380677 \nL 364.856534 29.411269 \nL 368.238352 27.441861 \nL 371.62017 25.472453 \nL 375.001989 23.503045 \nL 378.383807 21.533637 \nL 381.765625 19.564229 \nL 381.765625 18.234695 \nL 381.765625 18.234695 \nL 378.383807 20.21954 \nL 375.001989 22.204385 \nL 371.62017 24.18923 \nL 368.238352 26.174075 \nL 364.856534 28.15892 \nL 361.474716 30.143765 \nL 358.092898 32.12861 \nL 354.71108 34.113455 \nL 351.329261 36.097795 \nL 347.947443 38.081758 \nL 344.565625 40.065723 \nL 341.183807 42.049688 \nL 337.801989 44.033653 \nL 334.42017 46.017647 \nL 331.038352 48.002247 \nL 327.656534 49.988414 \nL 324.274716 51.97458 \nL 320.892898 53.960747 \nL 317.51108 55.945978 \nL 314.129261 57.92938 \nL 310.747443 59.912796 \nL 307.365625 61.896211 \nL 303.983807 63.879626 \nL 300.601989 65.86328 \nL 297.22017 67.848441 \nL 293.838352 69.833603 \nL 290.456534 71.818795 \nL 287.074716 73.802707 \nL 283.692898 75.78657 \nL 280.31108 77.770104 \nL 276.929261 79.753075 \nL 273.547443 81.73729 \nL 270.165625 83.720981 \nL 266.783807 85.704531 \nL 263.401989 87.688082 \nL 260.02017 89.671657 \nL 256.638352 91.655256 \nL 253.256534 93.638855 \nL 249.874716 95.623318 \nL 246.492898 97.608151 \nL 243.11108 99.592763 \nL 239.729261 101.576576 \nL 236.347443 103.56041 \nL 232.965625 105.544265 \nL 229.583807 107.528121 \nL 226.201989 109.511996 \nL 222.82017 111.496765 \nL 219.438352 113.48027 \nL 216.056534 115.463895 \nL 212.674716 117.448188 \nL 209.292898 119.433179 \nL 205.91108 121.4183 \nL 202.529261 123.401289 \nL 199.147443 125.38609 \nL 195.765625 127.371154 \nL 192.383807 129.356218 \nL 189.001989 131.340392 \nL 185.62017 133.323079 \nL 182.238352 135.306835 \nL 178.856534 137.291102 \nL 175.474716 139.275438 \nL 172.092898 141.258685 \nL 168.71108 143.244033 \nL 165.329261 145.22833 \nL 161.947443 147.212616 \nL 158.565625 149.195577 \nL 155.183807 151.177513 \nL 151.801989 153.161119 \nL 148.42017 155.14272 \nL 145.038352 157.124445 \nL 141.656534 159.10706 \nL 138.274716 161.090513 \nL 134.892898 163.072997 \nL 131.51108 165.053791 \nL 128.129261 167.035898 \nL 124.747443 169.018191 \nL 121.365625 170.99792 \nL 117.983807 172.977926 \nL 114.601989 174.958131 \nL 111.22017 176.940749 \nL 107.838352 178.921064 \nL 104.456534 180.900537 \nL 101.074716 182.88142 \nL 97.692898 184.861212 \nL 94.31108 186.839079 \nL 90.929261 188.818399 \nL 87.547443 190.798371 \nL 84.165625 192.773109 \nL 80.783807 194.749749 \nL 77.401989 196.723906 \nL 74.02017 198.698713 \nL 70.638352 200.673313 \nL 67.256534 202.649657 \nL 63.874716 204.625014 \nL 60.492898 206.596108 \nL 57.11108 208.566876 \nL 53.729261 210.536677 \nL 50.347443 212.507328 \nL 46.965625 214.48066 \nz\n\" style=\"fill:#1f77b4;fill-opacity:0.15;\"/>\n   </g>\n   <g id=\"matplotlib.axis_1\">\n    <g id=\"xtick_1\">\n     <g id=\"line2d_1\">\n      <defs>\n       <path d=\"M 0 0 \nL 0 3.5 \n\" id=\"m4ed251dd50\" style=\"stroke:#000000;stroke-width:0.8;\"/>\n      </defs>\n      <g>\n       <use style=\"stroke:#000000;stroke-width:0.8;\" x=\"101.832515\" xlink:href=\"#m4ed251dd50\" y=\"224.64\"/>\n      </g>\n     </g>\n     <g id=\"text_1\">\n      <!-- 100 -->\n      <g transform=\"translate(92.288765 239.238438)scale(0.1 -0.1)\">\n       <defs>\n        <path d=\"M 794 531 \nL 1825 531 \nL 1825 4091 \nL 703 3866 \nL 703 4441 \nL 1819 4666 \nL 2450 4666 \nL 2450 531 \nL 3481 531 \nL 3481 0 \nL 794 0 \nL 794 531 \nz\n\" id=\"DejaVuSans-31\" transform=\"scale(0.015625)\"/>\n        <path d=\"M 2034 4250 \nQ 1547 4250 1301 3770 \nQ 1056 3291 1056 2328 \nQ 1056 1369 1301 889 \nQ 1547 409 2034 409 \nQ 2525 409 2770 889 \nQ 3016 1369 3016 2328 \nQ 3016 3291 2770 3770 \nQ 2525 4250 2034 4250 \nz\nM 2034 4750 \nQ 2819 4750 3233 4129 \nQ 3647 3509 3647 2328 \nQ 3647 1150 3233 529 \nQ 2819 -91 2034 -91 \nQ 1250 -91 836 529 \nQ 422 1150 422 2328 \nQ 422 3509 836 4129 \nQ 1250 4750 2034 4750 \nz\n\" id=\"DejaVuSans-30\" transform=\"scale(0.015625)\"/>\n       </defs>\n       <use xlink:href=\"#DejaVuSans-31\"/>\n       <use x=\"63.623047\" xlink:href=\"#DejaVuSans-30\"/>\n       <use x=\"127.246094\" xlink:href=\"#DejaVuSans-30\"/>\n      </g>\n     </g>\n    </g>\n    <g id=\"xtick_2\">\n     <g id=\"line2d_2\">\n      <g>\n       <use style=\"stroke:#000000;stroke-width:0.8;\" x=\"157.819137\" xlink:href=\"#m4ed251dd50\" y=\"224.64\"/>\n      </g>\n     </g>\n     <g id=\"text_2\">\n      <!-- 200 -->\n      <g transform=\"translate(148.275387 239.238438)scale(0.1 -0.1)\">\n       <defs>\n        <path d=\"M 1228 531 \nL 3431 531 \nL 3431 0 \nL 469 0 \nL 469 531 \nQ 828 903 1448 1529 \nQ 2069 2156 2228 2338 \nQ 2531 2678 2651 2914 \nQ 2772 3150 2772 3378 \nQ 2772 3750 2511 3984 \nQ 2250 4219 1831 4219 \nQ 1534 4219 1204 4116 \nQ 875 4013 500 3803 \nL 500 4441 \nQ 881 4594 1212 4672 \nQ 1544 4750 1819 4750 \nQ 2544 4750 2975 4387 \nQ 3406 4025 3406 3419 \nQ 3406 3131 3298 2873 \nQ 3191 2616 2906 2266 \nQ 2828 2175 2409 1742 \nQ 1991 1309 1228 531 \nz\n\" id=\"DejaVuSans-32\" transform=\"scale(0.015625)\"/>\n       </defs>\n       <use xlink:href=\"#DejaVuSans-32\"/>\n       <use x=\"63.623047\" xlink:href=\"#DejaVuSans-30\"/>\n       <use x=\"127.246094\" xlink:href=\"#DejaVuSans-30\"/>\n      </g>\n     </g>\n    </g>\n    <g id=\"xtick_3\">\n     <g id=\"line2d_3\">\n      <g>\n       <use style=\"stroke:#000000;stroke-width:0.8;\" x=\"213.805759\" xlink:href=\"#m4ed251dd50\" y=\"224.64\"/>\n      </g>\n     </g>\n     <g id=\"text_3\">\n      <!-- 300 -->\n      <g transform=\"translate(204.262009 239.238438)scale(0.1 -0.1)\">\n       <defs>\n        <path d=\"M 2597 2516 \nQ 3050 2419 3304 2112 \nQ 3559 1806 3559 1356 \nQ 3559 666 3084 287 \nQ 2609 -91 1734 -91 \nQ 1441 -91 1130 -33 \nQ 819 25 488 141 \nL 488 750 \nQ 750 597 1062 519 \nQ 1375 441 1716 441 \nQ 2309 441 2620 675 \nQ 2931 909 2931 1356 \nQ 2931 1769 2642 2001 \nQ 2353 2234 1838 2234 \nL 1294 2234 \nL 1294 2753 \nL 1863 2753 \nQ 2328 2753 2575 2939 \nQ 2822 3125 2822 3475 \nQ 2822 3834 2567 4026 \nQ 2313 4219 1838 4219 \nQ 1578 4219 1281 4162 \nQ 984 4106 628 3988 \nL 628 4550 \nQ 988 4650 1302 4700 \nQ 1616 4750 1894 4750 \nQ 2613 4750 3031 4423 \nQ 3450 4097 3450 3541 \nQ 3450 3153 3228 2886 \nQ 3006 2619 2597 2516 \nz\n\" id=\"DejaVuSans-33\" transform=\"scale(0.015625)\"/>\n       </defs>\n       <use xlink:href=\"#DejaVuSans-33\"/>\n       <use x=\"63.623047\" xlink:href=\"#DejaVuSans-30\"/>\n       <use x=\"127.246094\" xlink:href=\"#DejaVuSans-30\"/>\n      </g>\n     </g>\n    </g>\n    <g id=\"xtick_4\">\n     <g id=\"line2d_4\">\n      <g>\n       <use style=\"stroke:#000000;stroke-width:0.8;\" x=\"269.792381\" xlink:href=\"#m4ed251dd50\" y=\"224.64\"/>\n      </g>\n     </g>\n     <g id=\"text_4\">\n      <!-- 400 -->\n      <g transform=\"translate(260.248631 239.238438)scale(0.1 -0.1)\">\n       <defs>\n        <path d=\"M 2419 4116 \nL 825 1625 \nL 2419 1625 \nL 2419 4116 \nz\nM 2253 4666 \nL 3047 4666 \nL 3047 1625 \nL 3713 1625 \nL 3713 1100 \nL 3047 1100 \nL 3047 0 \nL 2419 0 \nL 2419 1100 \nL 313 1100 \nL 313 1709 \nL 2253 4666 \nz\n\" id=\"DejaVuSans-34\" transform=\"scale(0.015625)\"/>\n       </defs>\n       <use xlink:href=\"#DejaVuSans-34\"/>\n       <use x=\"63.623047\" xlink:href=\"#DejaVuSans-30\"/>\n       <use x=\"127.246094\" xlink:href=\"#DejaVuSans-30\"/>\n      </g>\n     </g>\n    </g>\n    <g id=\"xtick_5\">\n     <g id=\"line2d_5\">\n      <g>\n       <use style=\"stroke:#000000;stroke-width:0.8;\" x=\"325.779003\" xlink:href=\"#m4ed251dd50\" y=\"224.64\"/>\n      </g>\n     </g>\n     <g id=\"text_5\">\n      <!-- 500 -->\n      <g transform=\"translate(316.235253 239.238438)scale(0.1 -0.1)\">\n       <defs>\n        <path d=\"M 691 4666 \nL 3169 4666 \nL 3169 4134 \nL 1269 4134 \nL 1269 2991 \nQ 1406 3038 1543 3061 \nQ 1681 3084 1819 3084 \nQ 2600 3084 3056 2656 \nQ 3513 2228 3513 1497 \nQ 3513 744 3044 326 \nQ 2575 -91 1722 -91 \nQ 1428 -91 1123 -41 \nQ 819 9 494 109 \nL 494 744 \nQ 775 591 1075 516 \nQ 1375 441 1709 441 \nQ 2250 441 2565 725 \nQ 2881 1009 2881 1497 \nQ 2881 1984 2565 2268 \nQ 2250 2553 1709 2553 \nQ 1456 2553 1204 2497 \nQ 953 2441 691 2322 \nL 691 4666 \nz\n\" id=\"DejaVuSans-35\" transform=\"scale(0.015625)\"/>\n       </defs>\n       <use xlink:href=\"#DejaVuSans-35\"/>\n       <use x=\"63.623047\" xlink:href=\"#DejaVuSans-30\"/>\n       <use x=\"127.246094\" xlink:href=\"#DejaVuSans-30\"/>\n      </g>\n     </g>\n    </g>\n    <g id=\"xtick_6\">\n     <g id=\"line2d_6\">\n      <g>\n       <use style=\"stroke:#000000;stroke-width:0.8;\" x=\"381.765625\" xlink:href=\"#m4ed251dd50\" y=\"224.64\"/>\n      </g>\n     </g>\n     <g id=\"text_6\">\n      <!-- 600 -->\n      <g transform=\"translate(372.221875 239.238438)scale(0.1 -0.1)\">\n       <defs>\n        <path d=\"M 2113 2584 \nQ 1688 2584 1439 2293 \nQ 1191 2003 1191 1497 \nQ 1191 994 1439 701 \nQ 1688 409 2113 409 \nQ 2538 409 2786 701 \nQ 3034 994 3034 1497 \nQ 3034 2003 2786 2293 \nQ 2538 2584 2113 2584 \nz\nM 3366 4563 \nL 3366 3988 \nQ 3128 4100 2886 4159 \nQ 2644 4219 2406 4219 \nQ 1781 4219 1451 3797 \nQ 1122 3375 1075 2522 \nQ 1259 2794 1537 2939 \nQ 1816 3084 2150 3084 \nQ 2853 3084 3261 2657 \nQ 3669 2231 3669 1497 \nQ 3669 778 3244 343 \nQ 2819 -91 2113 -91 \nQ 1303 -91 875 529 \nQ 447 1150 447 2328 \nQ 447 3434 972 4092 \nQ 1497 4750 2381 4750 \nQ 2619 4750 2861 4703 \nQ 3103 4656 3366 4563 \nz\n\" id=\"DejaVuSans-36\" transform=\"scale(0.015625)\"/>\n       </defs>\n       <use xlink:href=\"#DejaVuSans-36\"/>\n       <use x=\"63.623047\" xlink:href=\"#DejaVuSans-30\"/>\n       <use x=\"127.246094\" xlink:href=\"#DejaVuSans-30\"/>\n      </g>\n     </g>\n    </g>\n    <g id=\"text_7\">\n     <!-- ebc -->\n     <g transform=\"translate(205.365625 252.916563)scale(0.1 -0.1)\">\n      <defs>\n       <path d=\"M 3597 1894 \nL 3597 1613 \nL 953 1613 \nQ 991 1019 1311 708 \nQ 1631 397 2203 397 \nQ 2534 397 2845 478 \nQ 3156 559 3463 722 \nL 3463 178 \nQ 3153 47 2828 -22 \nQ 2503 -91 2169 -91 \nQ 1331 -91 842 396 \nQ 353 884 353 1716 \nQ 353 2575 817 3079 \nQ 1281 3584 2069 3584 \nQ 2775 3584 3186 3129 \nQ 3597 2675 3597 1894 \nz\nM 3022 2063 \nQ 3016 2534 2758 2815 \nQ 2500 3097 2075 3097 \nQ 1594 3097 1305 2825 \nQ 1016 2553 972 2059 \nL 3022 2063 \nz\n\" id=\"DejaVuSans-65\" transform=\"scale(0.015625)\"/>\n       <path d=\"M 3116 1747 \nQ 3116 2381 2855 2742 \nQ 2594 3103 2138 3103 \nQ 1681 3103 1420 2742 \nQ 1159 2381 1159 1747 \nQ 1159 1113 1420 752 \nQ 1681 391 2138 391 \nQ 2594 391 2855 752 \nQ 3116 1113 3116 1747 \nz\nM 1159 2969 \nQ 1341 3281 1617 3432 \nQ 1894 3584 2278 3584 \nQ 2916 3584 3314 3078 \nQ 3713 2572 3713 1747 \nQ 3713 922 3314 415 \nQ 2916 -91 2278 -91 \nQ 1894 -91 1617 61 \nQ 1341 213 1159 525 \nL 1159 0 \nL 581 0 \nL 581 4863 \nL 1159 4863 \nL 1159 2969 \nz\n\" id=\"DejaVuSans-62\" transform=\"scale(0.015625)\"/>\n       <path d=\"M 3122 3366 \nL 3122 2828 \nQ 2878 2963 2633 3030 \nQ 2388 3097 2138 3097 \nQ 1578 3097 1268 2742 \nQ 959 2388 959 1747 \nQ 959 1106 1268 751 \nQ 1578 397 2138 397 \nQ 2388 397 2633 464 \nQ 2878 531 3122 666 \nL 3122 134 \nQ 2881 22 2623 -34 \nQ 2366 -91 2075 -91 \nQ 1284 -91 818 406 \nQ 353 903 353 1747 \nQ 353 2603 823 3093 \nQ 1294 3584 2113 3584 \nQ 2378 3584 2631 3529 \nQ 2884 3475 3122 3366 \nz\n\" id=\"DejaVuSans-63\" transform=\"scale(0.015625)\"/>\n      </defs>\n      <use xlink:href=\"#DejaVuSans-65\"/>\n      <use x=\"61.523438\" xlink:href=\"#DejaVuSans-62\"/>\n      <use x=\"125\" xlink:href=\"#DejaVuSans-63\"/>\n     </g>\n    </g>\n   </g>\n   <g id=\"matplotlib.axis_2\">\n    <g id=\"ytick_1\">\n     <g id=\"line2d_7\">\n      <defs>\n       <path d=\"M 0 0 \nL -3.5 0 \n\" id=\"m62b308e8e5\" style=\"stroke:#000000;stroke-width:0.8;\"/>\n      </defs>\n      <g>\n       <use style=\"stroke:#000000;stroke-width:0.8;\" x=\"46.965625\" xlink:href=\"#m62b308e8e5\" y=\"215.289192\"/>\n      </g>\n     </g>\n     <g id=\"text_8\">\n      <!-- 0 -->\n      <g transform=\"translate(33.603125 219.088411)scale(0.1 -0.1)\">\n       <use xlink:href=\"#DejaVuSans-30\"/>\n      </g>\n     </g>\n    </g>\n    <g id=\"ytick_2\">\n     <g id=\"line2d_8\">\n      <g>\n       <use style=\"stroke:#000000;stroke-width:0.8;\" x=\"46.965625\" xlink:href=\"#m62b308e8e5\" y=\"182.796478\"/>\n      </g>\n     </g>\n     <g id=\"text_9\">\n      <!-- 50 -->\n      <g transform=\"translate(27.240625 186.595697)scale(0.1 -0.1)\">\n       <use xlink:href=\"#DejaVuSans-35\"/>\n       <use x=\"63.623047\" xlink:href=\"#DejaVuSans-30\"/>\n      </g>\n     </g>\n    </g>\n    <g id=\"ytick_3\">\n     <g id=\"line2d_9\">\n      <g>\n       <use style=\"stroke:#000000;stroke-width:0.8;\" x=\"46.965625\" xlink:href=\"#m62b308e8e5\" y=\"150.303764\"/>\n      </g>\n     </g>\n     <g id=\"text_10\">\n      <!-- 100 -->\n      <g transform=\"translate(20.878125 154.102983)scale(0.1 -0.1)\">\n       <use xlink:href=\"#DejaVuSans-31\"/>\n       <use x=\"63.623047\" xlink:href=\"#DejaVuSans-30\"/>\n       <use x=\"127.246094\" xlink:href=\"#DejaVuSans-30\"/>\n      </g>\n     </g>\n    </g>\n    <g id=\"ytick_4\">\n     <g id=\"line2d_10\">\n      <g>\n       <use style=\"stroke:#000000;stroke-width:0.8;\" x=\"46.965625\" xlink:href=\"#m62b308e8e5\" y=\"117.81105\"/>\n      </g>\n     </g>\n     <g id=\"text_11\">\n      <!-- 150 -->\n      <g transform=\"translate(20.878125 121.610269)scale(0.1 -0.1)\">\n       <use xlink:href=\"#DejaVuSans-31\"/>\n       <use x=\"63.623047\" xlink:href=\"#DejaVuSans-35\"/>\n       <use x=\"127.246094\" xlink:href=\"#DejaVuSans-30\"/>\n      </g>\n     </g>\n    </g>\n    <g id=\"ytick_5\">\n     <g id=\"line2d_11\">\n      <g>\n       <use style=\"stroke:#000000;stroke-width:0.8;\" x=\"46.965625\" xlink:href=\"#m62b308e8e5\" y=\"85.318336\"/>\n      </g>\n     </g>\n     <g id=\"text_12\">\n      <!-- 200 -->\n      <g transform=\"translate(20.878125 89.117555)scale(0.1 -0.1)\">\n       <use xlink:href=\"#DejaVuSans-32\"/>\n       <use x=\"63.623047\" xlink:href=\"#DejaVuSans-30\"/>\n       <use x=\"127.246094\" xlink:href=\"#DejaVuSans-30\"/>\n      </g>\n     </g>\n    </g>\n    <g id=\"ytick_6\">\n     <g id=\"line2d_12\">\n      <g>\n       <use style=\"stroke:#000000;stroke-width:0.8;\" x=\"46.965625\" xlink:href=\"#m62b308e8e5\" y=\"52.825622\"/>\n      </g>\n     </g>\n     <g id=\"text_13\">\n      <!-- 250 -->\n      <g transform=\"translate(20.878125 56.624841)scale(0.1 -0.1)\">\n       <use xlink:href=\"#DejaVuSans-32\"/>\n       <use x=\"63.623047\" xlink:href=\"#DejaVuSans-35\"/>\n       <use x=\"127.246094\" xlink:href=\"#DejaVuSans-30\"/>\n      </g>\n     </g>\n    </g>\n    <g id=\"ytick_7\">\n     <g id=\"line2d_13\">\n      <g>\n       <use style=\"stroke:#000000;stroke-width:0.8;\" x=\"46.965625\" xlink:href=\"#m62b308e8e5\" y=\"20.332908\"/>\n      </g>\n     </g>\n     <g id=\"text_14\">\n      <!-- 300 -->\n      <g transform=\"translate(20.878125 24.132127)scale(0.1 -0.1)\">\n       <use xlink:href=\"#DejaVuSans-33\"/>\n       <use x=\"63.623047\" xlink:href=\"#DejaVuSans-30\"/>\n       <use x=\"127.246094\" xlink:href=\"#DejaVuSans-30\"/>\n      </g>\n     </g>\n    </g>\n    <g id=\"text_15\">\n     <!-- srm -->\n     <g transform=\"translate(14.798438 125.362969)rotate(-90)scale(0.1 -0.1)\">\n      <defs>\n       <path d=\"M 2834 3397 \nL 2834 2853 \nQ 2591 2978 2328 3040 \nQ 2066 3103 1784 3103 \nQ 1356 3103 1142 2972 \nQ 928 2841 928 2578 \nQ 928 2378 1081 2264 \nQ 1234 2150 1697 2047 \nL 1894 2003 \nQ 2506 1872 2764 1633 \nQ 3022 1394 3022 966 \nQ 3022 478 2636 193 \nQ 2250 -91 1575 -91 \nQ 1294 -91 989 -36 \nQ 684 19 347 128 \nL 347 722 \nQ 666 556 975 473 \nQ 1284 391 1588 391 \nQ 1994 391 2212 530 \nQ 2431 669 2431 922 \nQ 2431 1156 2273 1281 \nQ 2116 1406 1581 1522 \nL 1381 1569 \nQ 847 1681 609 1914 \nQ 372 2147 372 2553 \nQ 372 3047 722 3315 \nQ 1072 3584 1716 3584 \nQ 2034 3584 2315 3537 \nQ 2597 3491 2834 3397 \nz\n\" id=\"DejaVuSans-73\" transform=\"scale(0.015625)\"/>\n       <path d=\"M 2631 2963 \nQ 2534 3019 2420 3045 \nQ 2306 3072 2169 3072 \nQ 1681 3072 1420 2755 \nQ 1159 2438 1159 1844 \nL 1159 0 \nL 581 0 \nL 581 3500 \nL 1159 3500 \nL 1159 2956 \nQ 1341 3275 1631 3429 \nQ 1922 3584 2338 3584 \nQ 2397 3584 2469 3576 \nQ 2541 3569 2628 3553 \nL 2631 2963 \nz\n\" id=\"DejaVuSans-72\" transform=\"scale(0.015625)\"/>\n       <path d=\"M 3328 2828 \nQ 3544 3216 3844 3400 \nQ 4144 3584 4550 3584 \nQ 5097 3584 5394 3201 \nQ 5691 2819 5691 2113 \nL 5691 0 \nL 5113 0 \nL 5113 2094 \nQ 5113 2597 4934 2840 \nQ 4756 3084 4391 3084 \nQ 3944 3084 3684 2787 \nQ 3425 2491 3425 1978 \nL 3425 0 \nL 2847 0 \nL 2847 2094 \nQ 2847 2600 2669 2842 \nQ 2491 3084 2119 3084 \nQ 1678 3084 1418 2786 \nQ 1159 2488 1159 1978 \nL 1159 0 \nL 581 0 \nL 581 3500 \nL 1159 3500 \nL 1159 2956 \nQ 1356 3278 1631 3431 \nQ 1906 3584 2284 3584 \nQ 2666 3584 2933 3390 \nQ 3200 3197 3328 2828 \nz\n\" id=\"DejaVuSans-6d\" transform=\"scale(0.015625)\"/>\n      </defs>\n      <use xlink:href=\"#DejaVuSans-73\"/>\n      <use x=\"52.099609\" xlink:href=\"#DejaVuSans-72\"/>\n      <use x=\"91.462891\" xlink:href=\"#DejaVuSans-6d\"/>\n     </g>\n    </g>\n   </g>\n   <g id=\"line2d_14\">\n    <path clip-path=\"url(#pd9f47e565c)\" d=\"M 46.965625 214.629008 \nL 50.347443 212.651134 \nL 53.729261 210.67326 \nL 57.11108 208.695387 \nL 60.492898 206.717513 \nL 63.874716 204.739639 \nL 67.256534 202.761765 \nL 70.638352 200.783891 \nL 74.02017 198.806017 \nL 77.401989 196.828143 \nL 80.783807 194.850269 \nL 84.165625 192.872395 \nL 87.547443 190.894521 \nL 90.929261 188.916647 \nL 94.31108 186.938774 \nL 97.692898 184.9609 \nL 101.074716 182.983026 \nL 104.456534 181.005152 \nL 107.838352 179.027278 \nL 111.22017 177.049404 \nL 114.601989 175.07153 \nL 117.983807 173.093656 \nL 121.365625 171.115782 \nL 124.747443 169.137908 \nL 128.129261 167.160034 \nL 131.51108 165.18216 \nL 134.892898 163.204287 \nL 138.274716 161.226413 \nL 141.656534 159.248539 \nL 145.038352 157.270665 \nL 148.42017 155.292791 \nL 151.801989 153.314917 \nL 155.183807 151.337043 \nL 158.565625 149.359169 \nL 161.947443 147.381295 \nL 165.329261 145.403421 \nL 168.71108 143.425547 \nL 172.092898 141.447673 \nL 175.474716 139.4698 \nL 178.856534 137.491926 \nL 182.238352 135.514052 \nL 185.62017 133.536178 \nL 189.001989 131.558304 \nL 192.383807 129.58043 \nL 195.765625 127.602556 \nL 199.147443 125.624682 \nL 202.529261 123.646808 \nL 205.91108 121.668934 \nL 209.292898 119.69106 \nL 212.674716 117.713187 \nL 216.056534 115.735313 \nL 219.438352 113.757439 \nL 222.82017 111.779565 \nL 226.201989 109.801691 \nL 229.583807 107.823817 \nL 232.965625 105.845943 \nL 236.347443 103.868069 \nL 239.729261 101.890195 \nL 243.11108 99.912321 \nL 246.492898 97.934447 \nL 249.874716 95.956573 \nL 253.256534 93.9787 \nL 256.638352 92.000826 \nL 260.02017 90.022952 \nL 263.401989 88.045078 \nL 266.783807 86.067204 \nL 270.165625 84.08933 \nL 273.547443 82.111456 \nL 276.929261 80.133582 \nL 280.31108 78.155708 \nL 283.692898 76.177834 \nL 287.074716 74.19996 \nL 290.456534 72.222086 \nL 293.838352 70.244213 \nL 297.22017 68.266339 \nL 300.601989 66.288465 \nL 303.983807 64.310591 \nL 307.365625 62.332717 \nL 310.747443 60.354843 \nL 314.129261 58.376969 \nL 317.51108 56.399095 \nL 320.892898 54.421221 \nL 324.274716 52.443347 \nL 327.656534 50.465473 \nL 331.038352 48.487599 \nL 334.42017 46.509726 \nL 337.801989 44.531852 \nL 341.183807 42.553978 \nL 344.565625 40.576104 \nL 347.947443 38.59823 \nL 351.329261 36.620356 \nL 354.71108 34.642482 \nL 358.092898 32.664608 \nL 361.474716 30.686734 \nL 364.856534 28.70886 \nL 368.238352 26.730986 \nL 371.62017 24.753113 \nL 375.001989 22.775239 \nL 378.383807 20.797365 \nL 381.765625 18.819491 \n\" style=\"fill:none;stroke:#1f77b4;stroke-linecap:square;stroke-width:2.25;\"/>\n   </g>\n   <g id=\"patch_3\">\n    <path d=\"M 46.965625 224.64 \nL 46.965625 7.2 \n\" style=\"fill:none;stroke:#000000;stroke-linecap:square;stroke-linejoin:miter;stroke-width:0.8;\"/>\n   </g>\n   <g id=\"patch_4\">\n    <path d=\"M 381.765625 224.64 \nL 381.765625 7.2 \n\" style=\"fill:none;stroke:#000000;stroke-linecap:square;stroke-linejoin:miter;stroke-width:0.8;\"/>\n   </g>\n   <g id=\"patch_5\">\n    <path d=\"M 46.965625 224.64 \nL 381.765625 224.64 \n\" style=\"fill:none;stroke:#000000;stroke-linecap:square;stroke-linejoin:miter;stroke-width:0.8;\"/>\n   </g>\n   <g id=\"patch_6\">\n    <path d=\"M 46.965625 7.2 \nL 381.765625 7.2 \n\" style=\"fill:none;stroke:#000000;stroke-linecap:square;stroke-linejoin:miter;stroke-width:0.8;\"/>\n   </g>\n  </g>\n </g>\n <defs>\n  <clipPath id=\"pd9f47e565c\">\n   <rect height=\"217.44\" width=\"334.8\" x=\"46.965625\" y=\"7.2\"/>\n  </clipPath>\n </defs>\n</svg>\n",
      "image/png": "[encoded data removed]"
     },
     "metadata": {
      "needs_background": "light"
     }
    }
   ],
   "source": [
    "sns.regplot(x=\"ebc\", y=\"srm\", data=df_beer_without_null)"
   ]
  },
  {
   "cell_type": "markdown",
   "id": "b8e17016-7de6-46b4-9d38-87c2ac51c7ff",
   "metadata": {},
   "source": [
    "SRM e EBC são variaveis altamente correlacionas, se formos fazer um modelo de regressao precisamos tomar cuidado com elas."
   ]
  },
  {
   "cell_type": "code",
   "execution_count": 27,
   "id": "ff9b4be3-d934-4558-b4a3-715c5281b42e",
   "metadata": {},
   "outputs": [
    {
     "output_type": "execute_result",
     "data": {
      "text/plain": [
       "                   name   abv     ibu  target_fg  target_og   ebc   srm   ph\n",
       "131  Sink The Bismarck!  41.0  1085.0     1016.0     1085.0  40.0  20.0  4.4"
      ],
      "text/html": "<div>\n<style scoped>\n    .dataframe tbody tr th:only-of-type {\n        vertical-align: middle;\n    }\n\n    .dataframe tbody tr th {\n        vertical-align: top;\n    }\n\n    .dataframe thead th {\n        text-align: right;\n    }\n</style>\n<table border=\"1\" class=\"dataframe\">\n  <thead>\n    <tr style=\"text-align: right;\">\n      <th></th>\n      <th>name</th>\n      <th>abv</th>\n      <th>ibu</th>\n      <th>target_fg</th>\n      <th>target_og</th>\n      <th>ebc</th>\n      <th>srm</th>\n      <th>ph</th>\n    </tr>\n  </thead>\n  <tbody>\n    <tr>\n      <th>131</th>\n      <td>Sink The Bismarck!</td>\n      <td>41.0</td>\n      <td>1085.0</td>\n      <td>1016.0</td>\n      <td>1085.0</td>\n      <td>40.0</td>\n      <td>20.0</td>\n      <td>4.4</td>\n    </tr>\n  </tbody>\n</table>\n</div>"
     },
     "metadata": {},
     "execution_count": 27
    }
   ],
   "source": [
    "df_beer_without_null[df_beer_without_null.ibu == 1085.0]"
   ]
  },
  {
   "cell_type": "markdown",
   "id": "8f3966fe-d6bb-4ce0-ac92-80afbbbcfece",
   "metadata": {},
   "source": [
    "# Feature Engineering"
   ]
  },
  {
   "cell_type": "markdown",
   "id": "2227eb74-8350-43f6-96fb-9ce18c5c12b0",
   "metadata": {},
   "source": [
    "## Tipo"
   ]
  },
  {
   "cell_type": "markdown",
   "id": "f1b28355-b3a6-4478-8e2c-54419b67da93",
   "metadata": {},
   "source": [
    "As cervejas são divididas em dois grupos principais, Ales e Largers. Vamos tentar inferir os tipos pelos nomes das cervejas."
   ]
  },
  {
   "cell_type": "code",
   "execution_count": 28,
   "id": "4baab4af-1261-4218-893f-bc05cd144483",
   "metadata": {},
   "outputs": [],
   "source": [
    "def ale_or_pilsen(text):\n",
    "    if \"ale\" in text.lower():\n",
    "        return \"ale\"\n",
    "    elif \"lager\" in text.lower():\n",
    "        return \"lager\"\n",
    "    else:\n",
    "        return \"who_knows\""
   ]
  },
  {
   "cell_type": "code",
   "execution_count": 29,
   "id": "68386e86-9c5d-4e22-ae9b-963c01d3095d",
   "metadata": {},
   "outputs": [
    {
     "output_type": "execute_result",
     "data": {
      "text/plain": [
       "who_knows    0.910828\n",
       "ale          0.060510\n",
       "lager        0.028662\n",
       "Name: name, dtype: float64"
      ]
     },
     "metadata": {},
     "execution_count": 29
    }
   ],
   "source": [
    "df_beer_without_null.name.apply(ale_or_pilsen).value_counts(normalize=True)"
   ]
  },
  {
   "cell_type": "code",
   "execution_count": 30,
   "id": "bf706490-2b71-496b-a1dc-e353247a76c4",
   "metadata": {},
   "outputs": [],
   "source": [
    "df_beer_without_null[\"type\"] = df_beer_without_null.name.apply(ale_or_pilsen)"
   ]
  },
  {
   "cell_type": "markdown",
   "id": "1c8b83ee-f0e8-499d-bde0-b0e5b9865aff",
   "metadata": {},
   "source": [
    "## Cor"
   ]
  },
  {
   "cell_type": "markdown",
   "id": "175c98a5-b107-4ea8-8bc9-45a5e7139bc2",
   "metadata": {},
   "source": [
    "Para modelos de arvore é sempre bom agruparmos nossos dados continuos, \n",
    "fazendo um tipo de feature engineering conhecido como bucket ou binagem. \n",
    "Faremos isso com as escalas de coloração SRM e EBC, como elas são correlacionadas,\n",
    "podemos usar qualquer uma para esse agrupamento.\n",
    "\n",
    "Iremos usar como base a seguinte imagem\n",
    "![lovibond](imagens/chart_beer_hues.jpg)\n",
    "\n",
    "Porém, esse diagrama usa uma terceira escala de color conhecida como lovibond, então precisamos converter a SRM ou a EBC para adequarmos ao diagrama.\n",
    "\n",
    "Procurando na internet, vi que a conversão segue a seguinte fórmula:  \n",
    "˚L = EBC/1.97"
   ]
  },
  {
   "cell_type": "code",
   "execution_count": 31,
   "id": "515e5c9a-5f3a-4c01-8c68-7b55c9db587f",
   "metadata": {},
   "outputs": [],
   "source": [
    "def ebc_to_group(ebc_color: float) -> str:\n",
    "    lovibond = ebc_color / 1.97\n",
    "    if lovibond <= 7.5:\n",
    "        return \"yellow\"\n",
    "    elif lovibond > 7.5 and lovibond <= 14:\n",
    "        return \"amber\"\n",
    "    elif lovibond > 14 and lovibond <= 25:\n",
    "        return \"brown\"\n",
    "    elif lovibond > 25:\n",
    "        return \"black\""
   ]
  },
  {
   "cell_type": "code",
   "execution_count": 32,
   "id": "b0c8fca2-2efb-48ad-bed4-5f03422a54b2",
   "metadata": {},
   "outputs": [
    {
     "output_type": "execute_result",
     "data": {
      "text/plain": [
       "black     0.321656\n",
       "amber     0.315287\n",
       "yellow    0.181529\n",
       "brown     0.181529\n",
       "Name: ebc, dtype: float64"
      ]
     },
     "metadata": {},
     "execution_count": 32
    }
   ],
   "source": [
    "df_beer_without_null.ebc.apply(ebc_to_group).value_counts(normalize=True)"
   ]
  },
  {
   "cell_type": "code",
   "execution_count": 33,
   "id": "db815043-c9e0-4a18-9222-78ee3e055ed3",
   "metadata": {},
   "outputs": [],
   "source": [
    "df_beer_without_null[\"color_group\"] = df_beer_without_null.ebc.apply(ebc_to_group)"
   ]
  },
  {
   "cell_type": "code",
   "execution_count": 34,
   "id": "faf61e3c-768c-4f68-8856-157575c4d546",
   "metadata": {},
   "outputs": [
    {
     "output_type": "execute_result",
     "data": {
      "text/plain": [
       "                                  name  abv   ibu  target_fg  target_og   ebc  \\\n",
       "0                                 Buzz  4.5  60.0     1010.0     1044.0  20.0   \n",
       "1                        Trashy Blonde  4.1  41.5     1010.0     1041.7  15.0   \n",
       "2  Berliner Weisse With Yuzu - B-Sides  4.2   8.0     1007.0     1040.0   8.0   \n",
       "3                         Pilsen Lager  6.3  55.0     1012.0     1060.0  30.0   \n",
       "4                   Avery Brown Dredge  7.2  59.0     1027.0     1069.0  10.0   \n",
       "\n",
       "    srm   ph       type color_group  \n",
       "0  10.0  4.4  who_knows       amber  \n",
       "1  15.0  4.4  who_knows       amber  \n",
       "2   4.0  3.2  who_knows      yellow  \n",
       "3  15.0  4.4      lager       brown  \n",
       "4   5.0  4.4  who_knows      yellow  "
      ],
      "text/html": "<div>\n<style scoped>\n    .dataframe tbody tr th:only-of-type {\n        vertical-align: middle;\n    }\n\n    .dataframe tbody tr th {\n        vertical-align: top;\n    }\n\n    .dataframe thead th {\n        text-align: right;\n    }\n</style>\n<table border=\"1\" class=\"dataframe\">\n  <thead>\n    <tr style=\"text-align: right;\">\n      <th></th>\n      <th>name</th>\n      <th>abv</th>\n      <th>ibu</th>\n      <th>target_fg</th>\n      <th>target_og</th>\n      <th>ebc</th>\n      <th>srm</th>\n      <th>ph</th>\n      <th>type</th>\n      <th>color_group</th>\n    </tr>\n  </thead>\n  <tbody>\n    <tr>\n      <th>0</th>\n      <td>Buzz</td>\n      <td>4.5</td>\n      <td>60.0</td>\n      <td>1010.0</td>\n      <td>1044.0</td>\n      <td>20.0</td>\n      <td>10.0</td>\n      <td>4.4</td>\n      <td>who_knows</td>\n      <td>amber</td>\n    </tr>\n    <tr>\n      <th>1</th>\n      <td>Trashy Blonde</td>\n      <td>4.1</td>\n      <td>41.5</td>\n      <td>1010.0</td>\n      <td>1041.7</td>\n      <td>15.0</td>\n      <td>15.0</td>\n      <td>4.4</td>\n      <td>who_knows</td>\n      <td>amber</td>\n    </tr>\n    <tr>\n      <th>2</th>\n      <td>Berliner Weisse With Yuzu - B-Sides</td>\n      <td>4.2</td>\n      <td>8.0</td>\n      <td>1007.0</td>\n      <td>1040.0</td>\n      <td>8.0</td>\n      <td>4.0</td>\n      <td>3.2</td>\n      <td>who_knows</td>\n      <td>yellow</td>\n    </tr>\n    <tr>\n      <th>3</th>\n      <td>Pilsen Lager</td>\n      <td>6.3</td>\n      <td>55.0</td>\n      <td>1012.0</td>\n      <td>1060.0</td>\n      <td>30.0</td>\n      <td>15.0</td>\n      <td>4.4</td>\n      <td>lager</td>\n      <td>brown</td>\n    </tr>\n    <tr>\n      <th>4</th>\n      <td>Avery Brown Dredge</td>\n      <td>7.2</td>\n      <td>59.0</td>\n      <td>1027.0</td>\n      <td>1069.0</td>\n      <td>10.0</td>\n      <td>5.0</td>\n      <td>4.4</td>\n      <td>who_knows</td>\n      <td>yellow</td>\n    </tr>\n  </tbody>\n</table>\n</div>"
     },
     "metadata": {},
     "execution_count": 34
    }
   ],
   "source": [
    "df_beer_without_null.head()"
   ]
  },
  {
   "cell_type": "markdown",
   "id": "ecac4160-5bd0-4a5d-83a6-873cce14d621",
   "metadata": {},
   "source": [
    "## Acidez"
   ]
  },
  {
   "cell_type": "markdown",
   "id": "1d872c99-b63e-432d-9d65-f171a6da59af",
   "metadata": {},
   "source": [
    "Acidez da cerveja é um fator que influencia diretamente no amargor da cerveja, vamos fazer um agrupamento entre elas"
   ]
  },
  {
   "cell_type": "code",
   "execution_count": 35,
   "id": "bceae432-04c2-4119-ad34-670633bca1fa",
   "metadata": {},
   "outputs": [
    {
     "output_type": "execute_result",
     "data": {
      "text/plain": [
       "4.4    189\n",
       "4.2     38\n",
       "5.2     28\n",
       "4.3     11\n",
       "4.1     11\n",
       "4.6      8\n",
       "3.2      6\n",
       "4.0      5\n",
       "5.1      4\n",
       "5.3      4\n",
       "4.5      4\n",
       "3.8      2\n",
       "3.5      2\n",
       "5.6      1\n",
       "3.6      1\n",
       "Name: ph, dtype: int64"
      ]
     },
     "metadata": {},
     "execution_count": 35
    }
   ],
   "source": [
    "df_beer_without_null.ph.value_counts()"
   ]
  },
  {
   "cell_type": "code",
   "execution_count": 36,
   "id": "f05ea16d-5769-4957-87ad-425cb59fe73e",
   "metadata": {},
   "outputs": [
    {
     "output_type": "execute_result",
     "data": {
      "text/plain": [
       "(3.8, 4.4]      254\n",
       "(5.0, 5.6]       37\n",
       "(4.4, 5.0]       12\n",
       "(3.198, 3.8]     11\n",
       "Name: ph, dtype: int64"
      ]
     },
     "metadata": {},
     "execution_count": 36
    }
   ],
   "source": [
    "pd.cut(df_beer_without_null.ph, bins=4).value_counts()"
   ]
  },
  {
   "cell_type": "code",
   "execution_count": 37,
   "id": "15ee24ff-ce58-49c9-9296-a6e02489b71a",
   "metadata": {},
   "outputs": [],
   "source": [
    "df_beer_without_null[\"ph_group\"] = pd.cut(df_beer_without_null.ph, bins=4).apply(str)"
   ]
  },
  {
   "cell_type": "markdown",
   "id": "70df7684-7375-487f-a5de-bff9b7e7baba",
   "metadata": {},
   "source": [
    "# Model"
   ]
  },
  {
   "cell_type": "code",
   "execution_count": 38,
   "id": "65e1a462-7248-4cf0-9762-b959989956af",
   "metadata": {},
   "outputs": [],
   "source": [
    "import lightgbm as lgb\n",
    "from sklearn.model_selection import train_test_split, RandomizedSearchCV\n",
    "from sklearn.ensemble import RandomForestRegressor\n",
    "from sklearn.metrics import mean_absolute_error, mean_squared_error"
   ]
  },
  {
   "cell_type": "code",
   "execution_count": 39,
   "id": "83ee1f78-8a95-45f5-9ec8-05722f687649",
   "metadata": {},
   "outputs": [],
   "source": [
    "objects_columns = df_beer_without_null.select_dtypes(\"object\").columns"
   ]
  },
  {
   "cell_type": "code",
   "execution_count": 40,
   "id": "3187a4ab-0361-47dd-91fb-47689b65a726",
   "metadata": {},
   "outputs": [],
   "source": [
    "df_beer_without_null[objects_columns] = df_beer_without_null[objects_columns].astype(\n",
    "    \"category\"\n",
    ")"
   ]
  },
  {
   "cell_type": "code",
   "execution_count": 41,
   "id": "48c61cfb-dec6-4b06-811f-1373efbf424f",
   "metadata": {
    "tags": []
   },
   "outputs": [],
   "source": [
    "df_beer_without_null = df_beer_without_null.drop(columns=[\"name\"])"
   ]
  },
  {
   "cell_type": "code",
   "execution_count": 42,
   "id": "61524914-76b6-4192-9c79-00417d7b4a58",
   "metadata": {},
   "outputs": [],
   "source": [
    "df_beer_dummies = pd.get_dummies(\n",
    "    df_beer_without_null, columns=[\"type\", \"color_group\", \"ph_group\"]\n",
    ")"
   ]
  },
  {
   "cell_type": "code",
   "execution_count": 43,
   "id": "37d2c4cd-c07a-4702-bd75-dc8a8899d16f",
   "metadata": {},
   "outputs": [],
   "source": [
    "X_dummies = df_beer_dummies.drop(columns=[\"ibu\"])\n",
    "y_dummies = df_beer_dummies.ibu\n",
    "\n",
    "X = df_beer_without_null.drop(columns=[\"ibu\"])\n",
    "y = df_beer_without_null.ibu"
   ]
  },
  {
   "cell_type": "code",
   "execution_count": 44,
   "id": "1690ca17-cbc6-4a98-8615-927c2433b373",
   "metadata": {},
   "outputs": [],
   "source": [
    "X_train_dummies, X_test_dummies, y_train_dummies, y_test_dummies = train_test_split(\n",
    "    X_dummies,\n",
    "    y_dummies,\n",
    "    test_size=0.3,\n",
    "    random_state=42,\n",
    ")"
   ]
  },
  {
   "cell_type": "code",
   "execution_count": 45,
   "id": "ca72cf41-3340-4f7d-b18c-fc182eff57c1",
   "metadata": {},
   "outputs": [],
   "source": [
    "X_train, X_test, y_train, y_test = train_test_split(\n",
    "    X,\n",
    "    y,\n",
    "    test_size=0.3,\n",
    "    random_state=42,\n",
    ")"
   ]
  },
  {
   "cell_type": "markdown",
   "id": "a43b4bd4-f211-40d6-911e-7e643a810e77",
   "metadata": {},
   "source": [
    "## RandomForestRegressor"
   ]
  },
  {
   "cell_type": "code",
   "execution_count": 46,
   "id": "18eb7750-af5f-4c00-83e1-1c35e96305bb",
   "metadata": {},
   "outputs": [],
   "source": [
    "n_estimators = [int(x) for x in np.linspace(start=100, stop=1000, num=10)]\n",
    "max_features = [\"auto\", \"sqrt\"]\n",
    "max_depth = [int(x) for x in np.linspace(2, 20, num=12)]\n",
    "max_depth.append(None)\n",
    "min_samples_split = [2, 5, 10]\n",
    "min_samples_leaf = [1, 2, 4]\n",
    "bootstrap = [True, False]\n",
    "criterion = [\"mse\", \"mae\"]\n",
    "random_grid = {\n",
    "    \"n_estimators\": n_estimators,\n",
    "    \"max_features\": max_features,\n",
    "    \"max_depth\": max_depth,\n",
    "    \"min_samples_leaf\": min_samples_leaf,\n",
    "    \"bootstrap\": bootstrap,\n",
    "    \"criterion\": criterion,\n",
    "}"
   ]
  },
  {
   "cell_type": "code",
   "execution_count": 48,
   "id": "c60de9f2-1f4a-441c-8188-96d9bfd9daaa",
   "metadata": {},
   "outputs": [],
   "source": [
    "rf = RandomForestRegressor(random_state=42, n_jobs=-1, criterion='mse')"
   ]
  },
  {
   "cell_type": "code",
   "execution_count": 49,
   "id": "733c2b81-b614-4616-ba2e-41ab4f4c2942",
   "metadata": {},
   "outputs": [],
   "source": [
    "rf_random = RandomizedSearchCV(\n",
    "    estimator=rf,\n",
    "    param_distributions=random_grid,\n",
    "    n_iter=100,\n",
    "    cv=3,\n",
    "    verbose=1,\n",
    "    random_state=42,\n",
    "    n_jobs=-1,\n",
    ")"
   ]
  },
  {
   "cell_type": "code",
   "execution_count": 50,
   "id": "fede99a7-3914-4978-bd57-0974666fc65c",
   "metadata": {},
   "outputs": [
    {
     "output_type": "stream",
     "name": "stdout",
     "text": [
      "Fitting 3 folds for each of 100 candidates, totalling 300 fits\n"
     ]
    },
    {
     "output_type": "execute_result",
     "data": {
      "text/plain": [
       "RandomizedSearchCV(cv=3,\n",
       "                   estimator=RandomForestRegressor(n_jobs=-1, random_state=42),\n",
       "                   n_iter=100, n_jobs=-1,\n",
       "                   param_distributions={'bootstrap': [True, False],\n",
       "                                        'criterion': ['mse', 'mae'],\n",
       "                                        'max_depth': [2, 3, 5, 6, 8, 10, 11, 13,\n",
       "                                                      15, 16, 18, 20, None],\n",
       "                                        'max_features': ['auto', 'sqrt'],\n",
       "                                        'min_samples_leaf': [1, 2, 4],\n",
       "                                        'n_estimators': [100, 200, 300, 400,\n",
       "                                                         500, 600, 700, 800,\n",
       "                                                         900, 1000]},\n",
       "                   random_state=42, verbose=1)"
      ]
     },
     "metadata": {},
     "execution_count": 50
    }
   ],
   "source": [
    "rf_random.fit(X_train_dummies, y_train_dummies)"
   ]
  },
  {
   "cell_type": "markdown",
   "id": "3326089e-763c-4eee-bb8d-31c0e75d6fb8",
   "metadata": {},
   "source": [
    "### Eval"
   ]
  },
  {
   "cell_type": "code",
   "execution_count": 51,
   "id": "93608b96-0b62-4bda-add2-ba98f5694704",
   "metadata": {},
   "outputs": [],
   "source": [
    "from sklearn.metrics import mean_squared_error, mean_absolute_error"
   ]
  },
  {
   "cell_type": "code",
   "execution_count": 52,
   "id": "862e8d76-9e1d-4a49-968c-d634b8739b28",
   "metadata": {},
   "outputs": [],
   "source": [
    "y_pred_forest = rf_random.predict(X_test_dummies)"
   ]
  },
  {
   "cell_type": "code",
   "execution_count": 53,
   "id": "b091bccc-634c-46fd-b771-8c40451a0b4a",
   "metadata": {},
   "outputs": [
    {
     "output_type": "execute_result",
     "data": {
      "text/plain": [
       "116.80334825179006"
      ]
     },
     "metadata": {},
     "execution_count": 53
    }
   ],
   "source": [
    "mean_squared_error(y_test_dummies, y_pred_forest, squared=False)"
   ]
  },
  {
   "cell_type": "code",
   "execution_count": 54,
   "id": "5ecd34e0-e6ca-4305-a190-42bcdf59bdb6",
   "metadata": {},
   "outputs": [
    {
     "output_type": "execute_result",
     "data": {
      "text/plain": [
       "31.58828195488722"
      ]
     },
     "metadata": {},
     "execution_count": 54
    }
   ],
   "source": [
    "mean_absolute_error(y_test_dummies, y_pred_forest)"
   ]
  },
  {
   "cell_type": "markdown",
   "id": "9126992e-80c4-464b-9271-8d38bbf71103",
   "metadata": {},
   "source": [
    "## Lightgbm"
   ]
  },
  {
   "cell_type": "markdown",
   "id": "aa61837f-b0cd-4564-9ee3-f1b66a86783a",
   "metadata": {},
   "source": [
    "### Naive"
   ]
  },
  {
   "cell_type": "code",
   "execution_count": 55,
   "id": "9722152b-3f34-4763-b06d-ef3bdd067285",
   "metadata": {},
   "outputs": [],
   "source": [
    "lgb_regressor = lgb.LGBMRegressor(\n",
    "    min_data=1, n_estimators=200, max_depth=30, silent=True\n",
    ")"
   ]
  },
  {
   "cell_type": "code",
   "execution_count": 56,
   "id": "3abf970d-5274-426c-99e8-c40a78ecfe1c",
   "metadata": {
    "scrolled": true,
    "tags": []
   },
   "outputs": [
    {
     "output_type": "stream",
     "name": "stdout",
     "text": [
      "[LightGBM] [Warning] min_data_in_leaf is set with min_data=1, min_child_samples=20 will be ignored. Current value: min_data_in_leaf=1\n",
      "/Users/gabrielsoares/Library/Caches/pypoetry/virtualenvs/case_picpay-GeTRvL1e-py3.8/lib/python3.8/site-packages/lightgbm/basic.py:1433: UserWarning: Overriding the parameters from Reference Dataset.\n",
      "  _log_warning('Overriding the parameters from Reference Dataset.')\n",
      "/Users/gabrielsoares/Library/Caches/pypoetry/virtualenvs/case_picpay-GeTRvL1e-py3.8/lib/python3.8/site-packages/lightgbm/basic.py:1245: UserWarning: categorical_column in param dict is overridden.\n",
      "  _log_warning('{} in param dict is overridden.'.format(cat_alias))\n",
      "[1]\tvalid_0's rmse: 110.8\tvalid_0's l2: 12276.7\n",
      "Training until validation scores don't improve for 300 rounds\n",
      "[2]\tvalid_0's rmse: 101.538\tvalid_0's l2: 10310\n",
      "[3]\tvalid_0's rmse: 93.3644\tvalid_0's l2: 8716.91\n",
      "[4]\tvalid_0's rmse: 86.2907\tvalid_0's l2: 7446.09\n",
      "[5]\tvalid_0's rmse: 79.6453\tvalid_0's l2: 6343.37\n",
      "[6]\tvalid_0's rmse: 74.0411\tvalid_0's l2: 5482.08\n",
      "[7]\tvalid_0's rmse: 68.9082\tvalid_0's l2: 4748.35\n",
      "[8]\tvalid_0's rmse: 64.4177\tvalid_0's l2: 4149.65\n",
      "[9]\tvalid_0's rmse: 60.5485\tvalid_0's l2: 3666.12\n",
      "[10]\tvalid_0's rmse: 56.8707\tvalid_0's l2: 3234.27\n",
      "[11]\tvalid_0's rmse: 53.9119\tvalid_0's l2: 2906.5\n",
      "[12]\tvalid_0's rmse: 51.3646\tvalid_0's l2: 2638.32\n",
      "[13]\tvalid_0's rmse: 48.8764\tvalid_0's l2: 2388.9\n",
      "[14]\tvalid_0's rmse: 46.7245\tvalid_0's l2: 2183.18\n",
      "[15]\tvalid_0's rmse: 45.0969\tvalid_0's l2: 2033.73\n",
      "[16]\tvalid_0's rmse: 43.8022\tvalid_0's l2: 1918.64\n",
      "[17]\tvalid_0's rmse: 42.6322\tvalid_0's l2: 1817.5\n",
      "[18]\tvalid_0's rmse: 41.5939\tvalid_0's l2: 1730.05\n",
      "[19]\tvalid_0's rmse: 40.6566\tvalid_0's l2: 1652.96\n",
      "[20]\tvalid_0's rmse: 39.8746\tvalid_0's l2: 1589.98\n",
      "[21]\tvalid_0's rmse: 39.136\tvalid_0's l2: 1531.63\n",
      "[22]\tvalid_0's rmse: 38.5797\tvalid_0's l2: 1488.4\n",
      "[23]\tvalid_0's rmse: 38.0903\tvalid_0's l2: 1450.87\n",
      "[24]\tvalid_0's rmse: 37.7\tvalid_0's l2: 1421.29\n",
      "[25]\tvalid_0's rmse: 37.2076\tvalid_0's l2: 1384.41\n",
      "[26]\tvalid_0's rmse: 36.8863\tvalid_0's l2: 1360.6\n",
      "[27]\tvalid_0's rmse: 36.6634\tvalid_0's l2: 1344.2\n",
      "[28]\tvalid_0's rmse: 36.3075\tvalid_0's l2: 1318.23\n",
      "[29]\tvalid_0's rmse: 36.1112\tvalid_0's l2: 1304.02\n",
      "[30]\tvalid_0's rmse: 35.9881\tvalid_0's l2: 1295.15\n",
      "[31]\tvalid_0's rmse: 35.8991\tvalid_0's l2: 1288.75\n",
      "[32]\tvalid_0's rmse: 35.5912\tvalid_0's l2: 1266.73\n",
      "[33]\tvalid_0's rmse: 35.4763\tvalid_0's l2: 1258.57\n",
      "[34]\tvalid_0's rmse: 35.291\tvalid_0's l2: 1245.45\n",
      "[35]\tvalid_0's rmse: 35.1215\tvalid_0's l2: 1233.52\n",
      "[36]\tvalid_0's rmse: 35.0367\tvalid_0's l2: 1227.57\n",
      "[37]\tvalid_0's rmse: 34.9788\tvalid_0's l2: 1223.51\n",
      "[38]\tvalid_0's rmse: 34.9486\tvalid_0's l2: 1221.4\n",
      "[39]\tvalid_0's rmse: 34.9052\tvalid_0's l2: 1218.37\n",
      "[40]\tvalid_0's rmse: 34.8293\tvalid_0's l2: 1213.08\n",
      "[41]\tvalid_0's rmse: 34.7838\tvalid_0's l2: 1209.91\n",
      "[42]\tvalid_0's rmse: 34.7747\tvalid_0's l2: 1209.28\n",
      "[43]\tvalid_0's rmse: 34.7229\tvalid_0's l2: 1205.68\n",
      "[44]\tvalid_0's rmse: 34.6903\tvalid_0's l2: 1203.41\n",
      "[45]\tvalid_0's rmse: 34.6498\tvalid_0's l2: 1200.61\n",
      "[46]\tvalid_0's rmse: 34.6303\tvalid_0's l2: 1199.26\n",
      "[47]\tvalid_0's rmse: 34.5841\tvalid_0's l2: 1196.06\n",
      "[48]\tvalid_0's rmse: 34.539\tvalid_0's l2: 1192.94\n",
      "[49]\tvalid_0's rmse: 34.5383\tvalid_0's l2: 1192.89\n",
      "[50]\tvalid_0's rmse: 34.5223\tvalid_0's l2: 1191.79\n",
      "[51]\tvalid_0's rmse: 34.4919\tvalid_0's l2: 1189.69\n",
      "[52]\tvalid_0's rmse: 34.4952\tvalid_0's l2: 1189.92\n",
      "[53]\tvalid_0's rmse: 34.4628\tvalid_0's l2: 1187.68\n",
      "[54]\tvalid_0's rmse: 34.4569\tvalid_0's l2: 1187.27\n",
      "[55]\tvalid_0's rmse: 34.4923\tvalid_0's l2: 1189.72\n",
      "[56]\tvalid_0's rmse: 34.4593\tvalid_0's l2: 1187.45\n",
      "[57]\tvalid_0's rmse: 34.4348\tvalid_0's l2: 1185.75\n",
      "[58]\tvalid_0's rmse: 34.4341\tvalid_0's l2: 1185.71\n",
      "[59]\tvalid_0's rmse: 34.418\tvalid_0's l2: 1184.6\n",
      "[60]\tvalid_0's rmse: 34.4102\tvalid_0's l2: 1184.06\n",
      "[61]\tvalid_0's rmse: 34.4047\tvalid_0's l2: 1183.68\n",
      "[62]\tvalid_0's rmse: 34.3886\tvalid_0's l2: 1182.57\n",
      "[63]\tvalid_0's rmse: 34.4036\tvalid_0's l2: 1183.61\n",
      "[64]\tvalid_0's rmse: 34.3902\tvalid_0's l2: 1182.68\n",
      "[65]\tvalid_0's rmse: 34.3913\tvalid_0's l2: 1182.76\n",
      "[66]\tvalid_0's rmse: 34.3881\tvalid_0's l2: 1182.54\n",
      "[67]\tvalid_0's rmse: 34.3852\tvalid_0's l2: 1182.34\n",
      "[68]\tvalid_0's rmse: 34.3701\tvalid_0's l2: 1181.3\n",
      "[69]\tvalid_0's rmse: 34.3613\tvalid_0's l2: 1180.7\n",
      "[70]\tvalid_0's rmse: 34.3337\tvalid_0's l2: 1178.8\n",
      "[71]\tvalid_0's rmse: 34.3191\tvalid_0's l2: 1177.8\n",
      "[72]\tvalid_0's rmse: 34.321\tvalid_0's l2: 1177.93\n",
      "[73]\tvalid_0's rmse: 34.3165\tvalid_0's l2: 1177.62\n",
      "[74]\tvalid_0's rmse: 34.3185\tvalid_0's l2: 1177.76\n",
      "[75]\tvalid_0's rmse: 34.3262\tvalid_0's l2: 1178.29\n",
      "[76]\tvalid_0's rmse: 34.3201\tvalid_0's l2: 1177.87\n",
      "[77]\tvalid_0's rmse: 34.3122\tvalid_0's l2: 1177.33\n",
      "[78]\tvalid_0's rmse: 34.3062\tvalid_0's l2: 1176.91\n",
      "[79]\tvalid_0's rmse: 34.31\tvalid_0's l2: 1177.18\n",
      "[80]\tvalid_0's rmse: 34.3115\tvalid_0's l2: 1177.28\n",
      "[81]\tvalid_0's rmse: 34.305\tvalid_0's l2: 1176.84\n",
      "[82]\tvalid_0's rmse: 34.3086\tvalid_0's l2: 1177.08\n",
      "[83]\tvalid_0's rmse: 34.3047\tvalid_0's l2: 1176.81\n",
      "[84]\tvalid_0's rmse: 34.2952\tvalid_0's l2: 1176.16\n",
      "[85]\tvalid_0's rmse: 34.2976\tvalid_0's l2: 1176.32\n",
      "[86]\tvalid_0's rmse: 34.2945\tvalid_0's l2: 1176.11\n",
      "[87]\tvalid_0's rmse: 34.2977\tvalid_0's l2: 1176.33\n",
      "[88]\tvalid_0's rmse: 34.2998\tvalid_0's l2: 1176.48\n",
      "[89]\tvalid_0's rmse: 34.3004\tvalid_0's l2: 1176.52\n",
      "[90]\tvalid_0's rmse: 34.3014\tvalid_0's l2: 1176.59\n",
      "[91]\tvalid_0's rmse: 34.2954\tvalid_0's l2: 1176.18\n",
      "[92]\tvalid_0's rmse: 34.2974\tvalid_0's l2: 1176.31\n",
      "[93]\tvalid_0's rmse: 34.3001\tvalid_0's l2: 1176.5\n",
      "[94]\tvalid_0's rmse: 34.2977\tvalid_0's l2: 1176.33\n",
      "[95]\tvalid_0's rmse: 34.3095\tvalid_0's l2: 1177.14\n",
      "[96]\tvalid_0's rmse: 34.3075\tvalid_0's l2: 1177.01\n",
      "[97]\tvalid_0's rmse: 34.3033\tvalid_0's l2: 1176.72\n",
      "[98]\tvalid_0's rmse: 34.2899\tvalid_0's l2: 1175.8\n",
      "[99]\tvalid_0's rmse: 34.2835\tvalid_0's l2: 1175.36\n",
      "[100]\tvalid_0's rmse: 34.2907\tvalid_0's l2: 1175.85\n",
      "[101]\tvalid_0's rmse: 34.2932\tvalid_0's l2: 1176.03\n",
      "[102]\tvalid_0's rmse: 34.29\tvalid_0's l2: 1175.8\n",
      "[103]\tvalid_0's rmse: 34.2875\tvalid_0's l2: 1175.63\n",
      "[104]\tvalid_0's rmse: 34.2905\tvalid_0's l2: 1175.84\n",
      "[105]\tvalid_0's rmse: 34.2829\tvalid_0's l2: 1175.32\n",
      "[106]\tvalid_0's rmse: 34.2845\tvalid_0's l2: 1175.43\n",
      "[107]\tvalid_0's rmse: 34.2935\tvalid_0's l2: 1176.05\n",
      "[108]\tvalid_0's rmse: 34.2912\tvalid_0's l2: 1175.89\n",
      "[109]\tvalid_0's rmse: 34.2799\tvalid_0's l2: 1175.11\n",
      "[110]\tvalid_0's rmse: 34.2829\tvalid_0's l2: 1175.32\n",
      "[111]\tvalid_0's rmse: 34.2823\tvalid_0's l2: 1175.28\n",
      "[112]\tvalid_0's rmse: 34.2839\tvalid_0's l2: 1175.38\n",
      "[113]\tvalid_0's rmse: 34.2822\tvalid_0's l2: 1175.27\n",
      "[114]\tvalid_0's rmse: 34.2916\tvalid_0's l2: 1175.91\n",
      "[115]\tvalid_0's rmse: 34.2942\tvalid_0's l2: 1176.09\n",
      "[116]\tvalid_0's rmse: 34.2949\tvalid_0's l2: 1176.14\n",
      "[117]\tvalid_0's rmse: 34.2953\tvalid_0's l2: 1176.17\n",
      "[118]\tvalid_0's rmse: 34.2925\tvalid_0's l2: 1175.98\n",
      "[119]\tvalid_0's rmse: 34.2942\tvalid_0's l2: 1176.09\n",
      "[120]\tvalid_0's rmse: 34.2951\tvalid_0's l2: 1176.15\n",
      "[121]\tvalid_0's rmse: 34.2946\tvalid_0's l2: 1176.12\n",
      "[122]\tvalid_0's rmse: 34.2984\tvalid_0's l2: 1176.38\n",
      "[123]\tvalid_0's rmse: 34.3032\tvalid_0's l2: 1176.71\n",
      "[124]\tvalid_0's rmse: 34.3036\tvalid_0's l2: 1176.74\n",
      "[125]\tvalid_0's rmse: 34.3046\tvalid_0's l2: 1176.81\n",
      "[126]\tvalid_0's rmse: 34.3074\tvalid_0's l2: 1177\n",
      "[127]\tvalid_0's rmse: 34.3064\tvalid_0's l2: 1176.93\n",
      "[128]\tvalid_0's rmse: 34.311\tvalid_0's l2: 1177.24\n",
      "[129]\tvalid_0's rmse: 34.3105\tvalid_0's l2: 1177.21\n",
      "[130]\tvalid_0's rmse: 34.3104\tvalid_0's l2: 1177.2\n",
      "[131]\tvalid_0's rmse: 34.3077\tvalid_0's l2: 1177.02\n",
      "[132]\tvalid_0's rmse: 34.3093\tvalid_0's l2: 1177.13\n",
      "[133]\tvalid_0's rmse: 34.3079\tvalid_0's l2: 1177.03\n",
      "[134]\tvalid_0's rmse: 34.3065\tvalid_0's l2: 1176.94\n",
      "[135]\tvalid_0's rmse: 34.3049\tvalid_0's l2: 1176.83\n",
      "[136]\tvalid_0's rmse: 34.3012\tvalid_0's l2: 1176.57\n",
      "[137]\tvalid_0's rmse: 34.2996\tvalid_0's l2: 1176.46\n",
      "[138]\tvalid_0's rmse: 34.2939\tvalid_0's l2: 1176.07\n",
      "[139]\tvalid_0's rmse: 34.294\tvalid_0's l2: 1176.08\n",
      "[140]\tvalid_0's rmse: 34.2939\tvalid_0's l2: 1176.07\n",
      "[141]\tvalid_0's rmse: 34.2922\tvalid_0's l2: 1175.95\n",
      "[142]\tvalid_0's rmse: 34.2922\tvalid_0's l2: 1175.95\n",
      "[143]\tvalid_0's rmse: 34.2938\tvalid_0's l2: 1176.06\n",
      "[144]\tvalid_0's rmse: 34.2914\tvalid_0's l2: 1175.9\n",
      "[145]\tvalid_0's rmse: 34.2914\tvalid_0's l2: 1175.9\n",
      "[146]\tvalid_0's rmse: 34.2911\tvalid_0's l2: 1175.88\n",
      "[147]\tvalid_0's rmse: 34.292\tvalid_0's l2: 1175.94\n",
      "[148]\tvalid_0's rmse: 34.2922\tvalid_0's l2: 1175.95\n",
      "[149]\tvalid_0's rmse: 34.2921\tvalid_0's l2: 1175.95\n",
      "[150]\tvalid_0's rmse: 34.2927\tvalid_0's l2: 1175.99\n",
      "[151]\tvalid_0's rmse: 34.2926\tvalid_0's l2: 1175.98\n",
      "[152]\tvalid_0's rmse: 34.291\tvalid_0's l2: 1175.87\n",
      "[153]\tvalid_0's rmse: 34.2909\tvalid_0's l2: 1175.86\n",
      "[154]\tvalid_0's rmse: 34.2921\tvalid_0's l2: 1175.95\n",
      "[155]\tvalid_0's rmse: 34.2924\tvalid_0's l2: 1175.97\n",
      "[156]\tvalid_0's rmse: 34.2944\tvalid_0's l2: 1176.11\n",
      "[157]\tvalid_0's rmse: 34.2944\tvalid_0's l2: 1176.1\n",
      "[158]\tvalid_0's rmse: 34.2941\tvalid_0's l2: 1176.09\n",
      "[159]\tvalid_0's rmse: 34.2938\tvalid_0's l2: 1176.06\n",
      "[160]\tvalid_0's rmse: 34.2932\tvalid_0's l2: 1176.03\n",
      "[161]\tvalid_0's rmse: 34.2938\tvalid_0's l2: 1176.07\n",
      "[162]\tvalid_0's rmse: 34.2956\tvalid_0's l2: 1176.19\n",
      "[163]\tvalid_0's rmse: 34.2949\tvalid_0's l2: 1176.14\n",
      "[164]\tvalid_0's rmse: 34.2947\tvalid_0's l2: 1176.13\n",
      "[165]\tvalid_0's rmse: 34.2945\tvalid_0's l2: 1176.11\n",
      "[166]\tvalid_0's rmse: 34.2944\tvalid_0's l2: 1176.11\n",
      "[167]\tvalid_0's rmse: 34.2928\tvalid_0's l2: 1176\n",
      "[168]\tvalid_0's rmse: 34.2929\tvalid_0's l2: 1176\n",
      "[169]\tvalid_0's rmse: 34.2936\tvalid_0's l2: 1176.05\n",
      "[170]\tvalid_0's rmse: 34.2923\tvalid_0's l2: 1175.96\n",
      "[171]\tvalid_0's rmse: 34.2913\tvalid_0's l2: 1175.89\n",
      "[172]\tvalid_0's rmse: 34.2904\tvalid_0's l2: 1175.83\n",
      "[173]\tvalid_0's rmse: 34.2901\tvalid_0's l2: 1175.81\n",
      "[174]\tvalid_0's rmse: 34.2895\tvalid_0's l2: 1175.77\n",
      "[175]\tvalid_0's rmse: 34.2902\tvalid_0's l2: 1175.82\n",
      "[176]\tvalid_0's rmse: 34.2902\tvalid_0's l2: 1175.82\n",
      "[177]\tvalid_0's rmse: 34.2909\tvalid_0's l2: 1175.86\n",
      "[178]\tvalid_0's rmse: 34.2894\tvalid_0's l2: 1175.76\n",
      "[179]\tvalid_0's rmse: 34.2894\tvalid_0's l2: 1175.76\n",
      "[180]\tvalid_0's rmse: 34.2898\tvalid_0's l2: 1175.79\n",
      "[181]\tvalid_0's rmse: 34.289\tvalid_0's l2: 1175.74\n",
      "[182]\tvalid_0's rmse: 34.2883\tvalid_0's l2: 1175.69\n",
      "[183]\tvalid_0's rmse: 34.2887\tvalid_0's l2: 1175.72\n",
      "[184]\tvalid_0's rmse: 34.2881\tvalid_0's l2: 1175.67\n",
      "[185]\tvalid_0's rmse: 34.2873\tvalid_0's l2: 1175.62\n",
      "[186]\tvalid_0's rmse: 34.2876\tvalid_0's l2: 1175.64\n",
      "[187]\tvalid_0's rmse: 34.2869\tvalid_0's l2: 1175.59\n",
      "[188]\tvalid_0's rmse: 34.2867\tvalid_0's l2: 1175.58\n",
      "[189]\tvalid_0's rmse: 34.2859\tvalid_0's l2: 1175.53\n",
      "[190]\tvalid_0's rmse: 34.2863\tvalid_0's l2: 1175.55\n",
      "[191]\tvalid_0's rmse: 34.2864\tvalid_0's l2: 1175.56\n",
      "[192]\tvalid_0's rmse: 34.2869\tvalid_0's l2: 1175.59\n",
      "[193]\tvalid_0's rmse: 34.2865\tvalid_0's l2: 1175.56\n",
      "[194]\tvalid_0's rmse: 34.2863\tvalid_0's l2: 1175.55\n",
      "[195]\tvalid_0's rmse: 34.2863\tvalid_0's l2: 1175.55\n",
      "[196]\tvalid_0's rmse: 34.2858\tvalid_0's l2: 1175.52\n",
      "[197]\tvalid_0's rmse: 34.286\tvalid_0's l2: 1175.53\n",
      "[198]\tvalid_0's rmse: 34.2866\tvalid_0's l2: 1175.57\n",
      "[199]\tvalid_0's rmse: 34.2866\tvalid_0's l2: 1175.57\n",
      "[200]\tvalid_0's rmse: 34.2863\tvalid_0's l2: 1175.55\n",
      "Did not meet early stopping. Best iteration is:\n",
      "[109]\tvalid_0's rmse: 34.2799\tvalid_0's l2: 1175.11\n"
     ]
    },
    {
     "output_type": "execute_result",
     "data": {
      "text/plain": [
       "LGBMRegressor(max_depth=30, min_data=1, n_estimators=200)"
      ]
     },
     "metadata": {},
     "execution_count": 56
    }
   ],
   "source": [
    "lgb_regressor.fit(\n",
    "    X_train,\n",
    "    y_train,\n",
    "    eval_metric=\"rmse\",\n",
    "    eval_set=(X_test, y_test),\n",
    "    early_stopping_rounds=300,\n",
    ")"
   ]
  },
  {
   "cell_type": "code",
   "execution_count": 48,
   "id": "ff96e43a-4e2c-49bf-b2dc-563a73682c94",
   "metadata": {},
   "outputs": [],
   "source": [
    "y_pred_naive_lgb = lgb_regressor.predict(X_test)"
   ]
  },
  {
   "cell_type": "code",
   "execution_count": 59,
   "id": "0fe85b6b-ca07-4058-abda-e7d16d82a8b4",
   "metadata": {},
   "outputs": [
    {
     "output_type": "execute_result",
     "data": {
      "text/plain": [
       "34.27989021388441"
      ]
     },
     "metadata": {},
     "execution_count": 59
    }
   ],
   "source": [
    "mean_squared_error(y_test, y_pred_naive_lgb, squared=False)"
   ]
  },
  {
   "cell_type": "code",
   "execution_count": 49,
   "id": "eba833b7-ee4c-41e3-b3c7-c713986954ea",
   "metadata": {},
   "outputs": [
    {
     "output_type": "execute_result",
     "data": {
      "text/plain": [
       "19.306900546007892"
      ]
     },
     "metadata": {},
     "execution_count": 49
    }
   ],
   "source": [
    "mean_absolute_error(y_test, y_pred_naive_lgb)"
   ]
  },
  {
   "cell_type": "markdown",
   "id": "9723004b-aa64-422a-9266-db75d735bf04",
   "metadata": {},
   "source": [
    "### Tunning"
   ]
  },
  {
   "cell_type": "code",
   "execution_count": 61,
   "id": "93168c3b-0cc0-4b67-83f3-6de3fab60d33",
   "metadata": {},
   "outputs": [],
   "source": [
    "from scipy.stats import randint, uniform"
   ]
  },
  {
   "cell_type": "code",
   "execution_count": 62,
   "id": "2926a5cd-e4ee-4a8d-a67f-253da48bfcb4",
   "metadata": {},
   "outputs": [],
   "source": [
    "grid_params = {\n",
    "    \"colsample_bytree\": 1.0,\n",
    "    \"importance_type\": [\"gain\", \"split\"],\n",
    "    \"max_depth\": [5, 10, 20, 30, 40],\n",
    "    \"min_child_samples\": [10, 20, 30, 40],\n",
    "    \"min_child_weight\": [0.001],\n",
    "    \"min_split_gain\": [0.001],\n",
    "    \"n_estimators\": [100, 200, 300, 400, 500],\n",
    "    \"num_leaves\": [20, 30, 40],\n",
    "    \"random_state\": [42],\n",
    "    \"reg_alpha\": [0.01],\n",
    "    \"reg_lambda\": [0.01],\n",
    "    \"subsample\": [0.1, 0.2, 0.5, 1.0],\n",
    "    \"subsample_for_bin\": [5000, 10000, 200000],\n",
    "    \"subsample_freq\": [0, 1],\n",
    "    \"num_leaves\": randint(6, 50),\n",
    "    \"min_data\": [1, 2, 4, 8, 10],\n",
    "    \"learning_rate\": [0.9],\n",
    "    \"min_child_samples\": randint(10, 500),\n",
    "    \"boosting_type\": [\"gbdt\"],\n",
    "    \"subsample\": uniform(loc=0.2, scale=0.8),\n",
    "    \"colsample_bytree\": uniform(loc=0.4, scale=0.6),\n",
    "    \"bagging_fraction\": [0.2, 0.4, 0.6, 0.8],\n",
    "}"
   ]
  },
  {
   "cell_type": "code",
   "execution_count": 63,
   "id": "035b69f9-b826-471f-821f-babd518b062c",
   "metadata": {},
   "outputs": [],
   "source": [
    "lgb_regressor = lgb.LGBMRegressor(objective=\"regression\", silent=True)"
   ]
  },
  {
   "cell_type": "code",
   "execution_count": 64,
   "id": "42fd283c-7871-482c-9855-d3b88b353149",
   "metadata": {},
   "outputs": [],
   "source": [
    "model = RandomizedSearchCV(\n",
    "    estimator=lgb_regressor,\n",
    "    param_distributions=grid_params,\n",
    "    n_iter=200,\n",
    "    scoring=\"neg_root_mean_squared_error\",\n",
    "    cv=3,\n",
    "    n_jobs=-1,\n",
    "    refit=True,\n",
    "    random_state=42,\n",
    "    verbose=True,\n",
    ")"
   ]
  },
  {
   "cell_type": "code",
   "execution_count": 65,
   "id": "0f68d3d5-9e1d-4898-8e69-da64786590c8",
   "metadata": {
    "scrolled": true,
    "tags": []
   },
   "outputs": [
    {
     "output_type": "stream",
     "name": "stdout",
     "text": [
      "Fitting 3 folds for each of 200 candidates, totalling 600 fits\n",
      "[LightGBM] [Warning] min_data_in_leaf is set with min_data=1, min_child_samples=196 will be ignored. Current value: min_data_in_leaf=1\n",
      "[LightGBM] [Warning] bagging_fraction is set=0.2, subsample=0.5288296106545851 will be ignored. Current value: bagging_fraction=0.2\n",
      "[1]\tvalid_0's rmse: 40.9911\tvalid_0's l2: 1680.27\n",
      "Training until validation scores don't improve for 300 rounds\n",
      "[2]\tvalid_0's rmse: 38.0889\tvalid_0's l2: 1450.77\n",
      "[3]\tvalid_0's rmse: 37.3576\tvalid_0's l2: 1395.59\n",
      "[4]\tvalid_0's rmse: 37.6849\tvalid_0's l2: 1420.15\n",
      "[5]\tvalid_0's rmse: 38.1462\tvalid_0's l2: 1455.14\n",
      "[6]\tvalid_0's rmse: 37.9016\tvalid_0's l2: 1436.53\n",
      "[7]\tvalid_0's rmse: 37.6636\tvalid_0's l2: 1418.55\n",
      "[8]\tvalid_0's rmse: 37.6128\tvalid_0's l2: 1414.72\n",
      "[9]\tvalid_0's rmse: 37.1308\tvalid_0's l2: 1378.69\n",
      "[10]\tvalid_0's rmse: 36.5637\tvalid_0's l2: 1336.91\n",
      "[11]\tvalid_0's rmse: 36.5495\tvalid_0's l2: 1335.87\n",
      "[12]\tvalid_0's rmse: 35.8377\tvalid_0's l2: 1284.34\n",
      "[13]\tvalid_0's rmse: 35.2846\tvalid_0's l2: 1245\n",
      "[14]\tvalid_0's rmse: 35.2532\tvalid_0's l2: 1242.79\n",
      "[15]\tvalid_0's rmse: 35.1765\tvalid_0's l2: 1237.39\n",
      "[16]\tvalid_0's rmse: 35.2558\tvalid_0's l2: 1242.97\n",
      "[17]\tvalid_0's rmse: 34.9422\tvalid_0's l2: 1220.96\n",
      "[18]\tvalid_0's rmse: 35.1464\tvalid_0's l2: 1235.27\n",
      "/Users/gabrielsoares/Library/Caches/pypoetry/virtualenvs/case_picpay-GeTRvL1e-py3.8/lib/python3.8/site-packages/lightgbm/basic.py:1433: UserWarning: Overriding the parameters from Reference Dataset.\n",
      "  _log_warning('Overriding the parameters from Reference Dataset.')\n",
      "/Users/gabrielsoares/Library/Caches/pypoetry/virtualenvs/case_picpay-GeTRvL1e-py3.8/lib/python3.8/site-packages/lightgbm/basic.py:1245: UserWarning: categorical_column in param dict is overridden.\n",
      "  _log_warning('{} in param dict is overridden.'.format(cat_alias))\n",
      "[19]\tvalid_0's rmse: 35.5751\tvalid_0's l2: 1265.59\n",
      "[20]\tvalid_0's rmse: 35.6741\tvalid_0's l2: 1272.64\n",
      "[21]\tvalid_0's rmse: 35.7327\tvalid_0's l2: 1276.83\n",
      "[22]\tvalid_0's rmse: 35.7938\tvalid_0's l2: 1281.2\n",
      "[23]\tvalid_0's rmse: 35.6492\tvalid_0's l2: 1270.86\n",
      "[24]\tvalid_0's rmse: 35.519\tvalid_0's l2: 1261.6\n",
      "[25]\tvalid_0's rmse: 34.5086\tvalid_0's l2: 1190.84\n",
      "[26]\tvalid_0's rmse: 34.5429\tvalid_0's l2: 1193.21\n",
      "[27]\tvalid_0's rmse: 33.5827\tvalid_0's l2: 1127.8\n",
      "[28]\tvalid_0's rmse: 33.2095\tvalid_0's l2: 1102.87\n",
      "[29]\tvalid_0's rmse: 32.7812\tvalid_0's l2: 1074.6\n",
      "[30]\tvalid_0's rmse: 33.1195\tvalid_0's l2: 1096.9\n",
      "[31]\tvalid_0's rmse: 33.1422\tvalid_0's l2: 1098.4\n",
      "[32]\tvalid_0's rmse: 32.9271\tvalid_0's l2: 1084.19\n",
      "[33]\tvalid_0's rmse: 32.9264\tvalid_0's l2: 1084.15\n",
      "[34]\tvalid_0's rmse: 33.025\tvalid_0's l2: 1090.65\n",
      "[35]\tvalid_0's rmse: 33.0245\tvalid_0's l2: 1090.62\n",
      "[36]\tvalid_0's rmse: 33.3104\tvalid_0's l2: 1109.58\n",
      "[37]\tvalid_0's rmse: 33.2519\tvalid_0's l2: 1105.69\n",
      "[38]\tvalid_0's rmse: 33.1548\tvalid_0's l2: 1099.24\n",
      "[39]\tvalid_0's rmse: 33.0144\tvalid_0's l2: 1089.95\n",
      "[40]\tvalid_0's rmse: 32.9563\tvalid_0's l2: 1086.12\n",
      "[41]\tvalid_0's rmse: 32.9151\tvalid_0's l2: 1083.4\n",
      "[42]\tvalid_0's rmse: 32.8726\tvalid_0's l2: 1080.61\n",
      "[43]\tvalid_0's rmse: 32.9405\tvalid_0's l2: 1085.08\n",
      "[44]\tvalid_0's rmse: 32.9689\tvalid_0's l2: 1086.95\n",
      "[45]\tvalid_0's rmse: 32.946\tvalid_0's l2: 1085.44\n",
      "[46]\tvalid_0's rmse: 32.7298\tvalid_0's l2: 1071.24\n",
      "[47]\tvalid_0's rmse: 32.7809\tvalid_0's l2: 1074.59\n",
      "[48]\tvalid_0's rmse: 32.6932\tvalid_0's l2: 1068.84\n",
      "[49]\tvalid_0's rmse: 32.7141\tvalid_0's l2: 1070.21\n",
      "[50]\tvalid_0's rmse: 32.6604\tvalid_0's l2: 1066.7\n",
      "[51]\tvalid_0's rmse: 32.6887\tvalid_0's l2: 1068.55\n",
      "[52]\tvalid_0's rmse: 32.7061\tvalid_0's l2: 1069.69\n",
      "[53]\tvalid_0's rmse: 32.7786\tvalid_0's l2: 1074.43\n",
      "[54]\tvalid_0's rmse: 32.9032\tvalid_0's l2: 1082.62\n",
      "[55]\tvalid_0's rmse: 32.9025\tvalid_0's l2: 1082.57\n",
      "[56]\tvalid_0's rmse: 32.8509\tvalid_0's l2: 1079.18\n",
      "[57]\tvalid_0's rmse: 32.7902\tvalid_0's l2: 1075.2\n",
      "[58]\tvalid_0's rmse: 32.8175\tvalid_0's l2: 1076.99\n",
      "[59]\tvalid_0's rmse: 32.7283\tvalid_0's l2: 1071.14\n",
      "[60]\tvalid_0's rmse: 32.734\tvalid_0's l2: 1071.52\n",
      "[61]\tvalid_0's rmse: 32.7245\tvalid_0's l2: 1070.89\n",
      "[62]\tvalid_0's rmse: 32.7528\tvalid_0's l2: 1072.74\n",
      "[63]\tvalid_0's rmse: 32.7661\tvalid_0's l2: 1073.62\n",
      "[64]\tvalid_0's rmse: 32.6952\tvalid_0's l2: 1068.98\n",
      "[65]\tvalid_0's rmse: 32.7453\tvalid_0's l2: 1072.25\n",
      "[66]\tvalid_0's rmse: 32.7404\tvalid_0's l2: 1071.94\n",
      "[67]\tvalid_0's rmse: 32.7446\tvalid_0's l2: 1072.21\n",
      "[68]\tvalid_0's rmse: 32.7691\tvalid_0's l2: 1073.81\n",
      "[69]\tvalid_0's rmse: 32.7821\tvalid_0's l2: 1074.67\n",
      "[70]\tvalid_0's rmse: 32.7859\tvalid_0's l2: 1074.91\n",
      "[71]\tvalid_0's rmse: 32.7739\tvalid_0's l2: 1074.13\n",
      "[72]\tvalid_0's rmse: 32.7317\tvalid_0's l2: 1071.36\n",
      "[73]\tvalid_0's rmse: 32.7732\tvalid_0's l2: 1074.08\n",
      "[74]\tvalid_0's rmse: 32.7945\tvalid_0's l2: 1075.48\n",
      "[75]\tvalid_0's rmse: 32.7677\tvalid_0's l2: 1073.72\n",
      "[76]\tvalid_0's rmse: 32.7609\tvalid_0's l2: 1073.28\n",
      "[77]\tvalid_0's rmse: 32.7672\tvalid_0's l2: 1073.69\n",
      "[78]\tvalid_0's rmse: 32.7805\tvalid_0's l2: 1074.56\n",
      "[79]\tvalid_0's rmse: 32.7974\tvalid_0's l2: 1075.67\n",
      "[80]\tvalid_0's rmse: 32.7958\tvalid_0's l2: 1075.57\n",
      "[81]\tvalid_0's rmse: 32.7959\tvalid_0's l2: 1075.57\n",
      "[82]\tvalid_0's rmse: 32.8155\tvalid_0's l2: 1076.86\n",
      "[83]\tvalid_0's rmse: 32.8349\tvalid_0's l2: 1078.13\n",
      "[84]\tvalid_0's rmse: 32.8308\tvalid_0's l2: 1077.86\n",
      "[85]\tvalid_0's rmse: 32.8267\tvalid_0's l2: 1077.59\n",
      "[86]\tvalid_0's rmse: 32.8067\tvalid_0's l2: 1076.28\n",
      "[87]\tvalid_0's rmse: 32.816\tvalid_0's l2: 1076.89\n",
      "[88]\tvalid_0's rmse: 32.824\tvalid_0's l2: 1077.41\n",
      "[89]\tvalid_0's rmse: 32.8278\tvalid_0's l2: 1077.67\n",
      "[90]\tvalid_0's rmse: 32.8215\tvalid_0's l2: 1077.25\n",
      "[91]\tvalid_0's rmse: 32.8319\tvalid_0's l2: 1077.93\n",
      "[92]\tvalid_0's rmse: 32.8353\tvalid_0's l2: 1078.15\n",
      "[93]\tvalid_0's rmse: 32.8377\tvalid_0's l2: 1078.32\n",
      "[94]\tvalid_0's rmse: 32.8431\tvalid_0's l2: 1078.67\n",
      "[95]\tvalid_0's rmse: 32.8243\tvalid_0's l2: 1077.43\n",
      "[96]\tvalid_0's rmse: 32.8339\tvalid_0's l2: 1078.07\n",
      "[97]\tvalid_0's rmse: 32.827\tvalid_0's l2: 1077.61\n",
      "[98]\tvalid_0's rmse: 32.8298\tvalid_0's l2: 1077.8\n",
      "[99]\tvalid_0's rmse: 32.8333\tvalid_0's l2: 1078.03\n",
      "[100]\tvalid_0's rmse: 32.835\tvalid_0's l2: 1078.13\n",
      "[101]\tvalid_0's rmse: 32.8436\tvalid_0's l2: 1078.7\n",
      "[102]\tvalid_0's rmse: 32.8402\tvalid_0's l2: 1078.48\n",
      "[103]\tvalid_0's rmse: 32.8448\tvalid_0's l2: 1078.78\n",
      "[104]\tvalid_0's rmse: 32.8457\tvalid_0's l2: 1078.84\n",
      "[105]\tvalid_0's rmse: 32.844\tvalid_0's l2: 1078.73\n",
      "[106]\tvalid_0's rmse: 32.8331\tvalid_0's l2: 1078.01\n",
      "[107]\tvalid_0's rmse: 32.8322\tvalid_0's l2: 1077.95\n",
      "[108]\tvalid_0's rmse: 32.8412\tvalid_0's l2: 1078.54\n",
      "[109]\tvalid_0's rmse: 32.843\tvalid_0's l2: 1078.66\n",
      "[110]\tvalid_0's rmse: 32.8452\tvalid_0's l2: 1078.81\n",
      "[111]\tvalid_0's rmse: 32.8492\tvalid_0's l2: 1079.07\n",
      "[112]\tvalid_0's rmse: 32.8534\tvalid_0's l2: 1079.35\n",
      "[113]\tvalid_0's rmse: 32.8533\tvalid_0's l2: 1079.34\n",
      "[114]\tvalid_0's rmse: 32.8484\tvalid_0's l2: 1079.02\n",
      "[115]\tvalid_0's rmse: 32.8497\tvalid_0's l2: 1079.1\n",
      "[116]\tvalid_0's rmse: 32.8506\tvalid_0's l2: 1079.16\n",
      "[117]\tvalid_0's rmse: 32.856\tvalid_0's l2: 1079.52\n",
      "[118]\tvalid_0's rmse: 32.8557\tvalid_0's l2: 1079.5\n",
      "[119]\tvalid_0's rmse: 32.8525\tvalid_0's l2: 1079.29\n",
      "[120]\tvalid_0's rmse: 32.8503\tvalid_0's l2: 1079.14\n",
      "[121]\tvalid_0's rmse: 32.8442\tvalid_0's l2: 1078.74\n",
      "[122]\tvalid_0's rmse: 32.8456\tvalid_0's l2: 1078.83\n",
      "[123]\tvalid_0's rmse: 32.8516\tvalid_0's l2: 1079.23\n",
      "[124]\tvalid_0's rmse: 32.8548\tvalid_0's l2: 1079.44\n",
      "[125]\tvalid_0's rmse: 32.8546\tvalid_0's l2: 1079.42\n",
      "[126]\tvalid_0's rmse: 32.8563\tvalid_0's l2: 1079.54\n",
      "[127]\tvalid_0's rmse: 32.8619\tvalid_0's l2: 1079.9\n",
      "[128]\tvalid_0's rmse: 32.8614\tvalid_0's l2: 1079.87\n",
      "[129]\tvalid_0's rmse: 32.864\tvalid_0's l2: 1080.04\n",
      "[130]\tvalid_0's rmse: 32.865\tvalid_0's l2: 1080.11\n",
      "[131]\tvalid_0's rmse: 32.8644\tvalid_0's l2: 1080.07\n",
      "[132]\tvalid_0's rmse: 32.8651\tvalid_0's l2: 1080.12\n",
      "[133]\tvalid_0's rmse: 32.8652\tvalid_0's l2: 1080.12\n",
      "[134]\tvalid_0's rmse: 32.8644\tvalid_0's l2: 1080.07\n",
      "[135]\tvalid_0's rmse: 32.8633\tvalid_0's l2: 1080\n",
      "[136]\tvalid_0's rmse: 32.8644\tvalid_0's l2: 1080.07\n",
      "[137]\tvalid_0's rmse: 32.8672\tvalid_0's l2: 1080.25\n",
      "[138]\tvalid_0's rmse: 32.8674\tvalid_0's l2: 1080.26\n",
      "[139]\tvalid_0's rmse: 32.871\tvalid_0's l2: 1080.5\n",
      "[140]\tvalid_0's rmse: 32.8731\tvalid_0's l2: 1080.64\n",
      "[141]\tvalid_0's rmse: 32.8734\tvalid_0's l2: 1080.66\n",
      "[142]\tvalid_0's rmse: 32.8722\tvalid_0's l2: 1080.58\n",
      "[143]\tvalid_0's rmse: 32.8712\tvalid_0's l2: 1080.51\n",
      "[144]\tvalid_0's rmse: 32.8726\tvalid_0's l2: 1080.61\n",
      "[145]\tvalid_0's rmse: 32.8731\tvalid_0's l2: 1080.64\n",
      "[146]\tvalid_0's rmse: 32.8737\tvalid_0's l2: 1080.68\n",
      "[147]\tvalid_0's rmse: 32.8734\tvalid_0's l2: 1080.66\n",
      "[148]\tvalid_0's rmse: 32.8706\tvalid_0's l2: 1080.48\n",
      "[149]\tvalid_0's rmse: 32.8708\tvalid_0's l2: 1080.49\n",
      "[150]\tvalid_0's rmse: 32.8683\tvalid_0's l2: 1080.33\n",
      "[151]\tvalid_0's rmse: 32.8668\tvalid_0's l2: 1080.23\n",
      "[152]\tvalid_0's rmse: 32.8673\tvalid_0's l2: 1080.26\n",
      "[153]\tvalid_0's rmse: 32.8687\tvalid_0's l2: 1080.35\n",
      "[154]\tvalid_0's rmse: 32.8712\tvalid_0's l2: 1080.52\n",
      "[155]\tvalid_0's rmse: 32.8711\tvalid_0's l2: 1080.51\n",
      "[156]\tvalid_0's rmse: 32.8711\tvalid_0's l2: 1080.51\n",
      "[157]\tvalid_0's rmse: 32.8692\tvalid_0's l2: 1080.39\n",
      "[158]\tvalid_0's rmse: 32.8693\tvalid_0's l2: 1080.39\n",
      "[159]\tvalid_0's rmse: 32.8695\tvalid_0's l2: 1080.4\n",
      "[160]\tvalid_0's rmse: 32.872\tvalid_0's l2: 1080.57\n",
      "[161]\tvalid_0's rmse: 32.8735\tvalid_0's l2: 1080.67\n",
      "[162]\tvalid_0's rmse: 32.8734\tvalid_0's l2: 1080.66\n",
      "[163]\tvalid_0's rmse: 32.8725\tvalid_0's l2: 1080.6\n",
      "[164]\tvalid_0's rmse: 32.8727\tvalid_0's l2: 1080.62\n",
      "[165]\tvalid_0's rmse: 32.8731\tvalid_0's l2: 1080.64\n",
      "[166]\tvalid_0's rmse: 32.8731\tvalid_0's l2: 1080.64\n",
      "[167]\tvalid_0's rmse: 32.8723\tvalid_0's l2: 1080.59\n",
      "[168]\tvalid_0's rmse: 32.8723\tvalid_0's l2: 1080.59\n",
      "[169]\tvalid_0's rmse: 32.8723\tvalid_0's l2: 1080.59\n",
      "[170]\tvalid_0's rmse: 32.8723\tvalid_0's l2: 1080.59\n",
      "[171]\tvalid_0's rmse: 32.8723\tvalid_0's l2: 1080.59\n",
      "[172]\tvalid_0's rmse: 32.8723\tvalid_0's l2: 1080.59\n",
      "[173]\tvalid_0's rmse: 32.8723\tvalid_0's l2: 1080.59\n",
      "[174]\tvalid_0's rmse: 32.8723\tvalid_0's l2: 1080.59\n",
      "[175]\tvalid_0's rmse: 32.8723\tvalid_0's l2: 1080.59\n",
      "[176]\tvalid_0's rmse: 32.8723\tvalid_0's l2: 1080.59\n",
      "[177]\tvalid_0's rmse: 32.8723\tvalid_0's l2: 1080.59\n",
      "[178]\tvalid_0's rmse: 32.8723\tvalid_0's l2: 1080.59\n",
      "[179]\tvalid_0's rmse: 32.8723\tvalid_0's l2: 1080.59\n",
      "[180]\tvalid_0's rmse: 32.8723\tvalid_0's l2: 1080.59\n",
      "[181]\tvalid_0's rmse: 32.8723\tvalid_0's l2: 1080.59\n",
      "[182]\tvalid_0's rmse: 32.8723\tvalid_0's l2: 1080.59\n",
      "[183]\tvalid_0's rmse: 32.8723\tvalid_0's l2: 1080.59\n",
      "[184]\tvalid_0's rmse: 32.8723\tvalid_0's l2: 1080.59\n",
      "[185]\tvalid_0's rmse: 32.8723\tvalid_0's l2: 1080.59\n",
      "[186]\tvalid_0's rmse: 32.8723\tvalid_0's l2: 1080.59\n",
      "[187]\tvalid_0's rmse: 32.8723\tvalid_0's l2: 1080.59\n",
      "[188]\tvalid_0's rmse: 32.8723\tvalid_0's l2: 1080.59\n",
      "[189]\tvalid_0's rmse: 32.8723\tvalid_0's l2: 1080.59\n",
      "[190]\tvalid_0's rmse: 32.8723\tvalid_0's l2: 1080.59\n",
      "[191]\tvalid_0's rmse: 32.8723\tvalid_0's l2: 1080.59\n",
      "[192]\tvalid_0's rmse: 32.8723\tvalid_0's l2: 1080.59\n",
      "[193]\tvalid_0's rmse: 32.8723\tvalid_0's l2: 1080.59\n",
      "[194]\tvalid_0's rmse: 32.8723\tvalid_0's l2: 1080.59\n",
      "[195]\tvalid_0's rmse: 32.8723\tvalid_0's l2: 1080.59\n",
      "[196]\tvalid_0's rmse: 32.8723\tvalid_0's l2: 1080.59\n",
      "[197]\tvalid_0's rmse: 32.8723\tvalid_0's l2: 1080.59\n",
      "[198]\tvalid_0's rmse: 32.8723\tvalid_0's l2: 1080.59\n",
      "[199]\tvalid_0's rmse: 32.8723\tvalid_0's l2: 1080.59\n",
      "[200]\tvalid_0's rmse: 32.8723\tvalid_0's l2: 1080.59\n",
      "Did not meet early stopping. Best iteration is:\n",
      "[50]\tvalid_0's rmse: 32.6604\tvalid_0's l2: 1066.7\n"
     ]
    },
    {
     "output_type": "execute_result",
     "data": {
      "text/plain": [
       "RandomizedSearchCV(cv=3, estimator=LGBMRegressor(objective='regression'),\n",
       "                   n_iter=200, n_jobs=-1,\n",
       "                   param_distributions={'bagging_fraction': [0.2, 0.4, 0.6,\n",
       "                                                             0.8],\n",
       "                                        'boosting_type': ['gbdt'],\n",
       "                                        'colsample_bytree': <scipy.stats._distn_infrastructure.rv_frozen object at 0x124941a30>,\n",
       "                                        'importance_type': ['gain', 'split'],\n",
       "                                        'learning_rate': [0.9],\n",
       "                                        'max_depth': [5, 10, 20, 30, 40],\n",
       "                                        'min_...\n",
       "                                                         500],\n",
       "                                        'num_leaves': <scipy.stats._distn_infrastructure.rv_frozen object at 0x1249411f0>,\n",
       "                                        'random_state': [42],\n",
       "                                        'reg_alpha': [0.01],\n",
       "                                        'reg_lambda': [0.01],\n",
       "                                        'subsample': <scipy.stats._distn_infrastructure.rv_frozen object at 0x124941700>,\n",
       "                                        'subsample_for_bin': [5000, 10000,\n",
       "                                                              200000],\n",
       "                                        'subsample_freq': [0, 1]},\n",
       "                   random_state=42, scoring='neg_root_mean_squared_error',\n",
       "                   verbose=True)"
      ]
     },
     "metadata": {},
     "execution_count": 65
    }
   ],
   "source": [
    "model.fit(\n",
    "    X_train,\n",
    "    y_train,\n",
    "    eval_metric=\"rmse\",\n",
    "    eval_set=(X_test, y_test),\n",
    "    early_stopping_rounds=300,\n",
    ")"
   ]
  },
  {
   "cell_type": "code",
   "execution_count": 66,
   "id": "537fd437-0c08-4451-9d94-b56a57cd94e7",
   "metadata": {},
   "outputs": [],
   "source": [
    "y_pred_tunning_lgb = model.predict(X_test)"
   ]
  },
  {
   "cell_type": "code",
   "execution_count": 67,
   "id": "125bad5b-35a6-426f-a93b-28783eb9a4dd",
   "metadata": {},
   "outputs": [
    {
     "output_type": "execute_result",
     "data": {
      "text/plain": [
       "32.660389025192465"
      ]
     },
     "metadata": {},
     "execution_count": 67
    }
   ],
   "source": [
    "mean_squared_error(y_test, y_pred_tunning_lgb, squared=False)"
   ]
  },
  {
   "cell_type": "code",
   "execution_count": 68,
   "id": "97b885d4-fcb0-40b0-965e-b108ffaa5ef2",
   "metadata": {},
   "outputs": [
    {
     "output_type": "execute_result",
     "data": {
      "text/plain": [
       "20.521925111729125"
      ]
     },
     "metadata": {},
     "execution_count": 68
    }
   ],
   "source": [
    "mean_absolute_error(y_test, y_pred_tunning_lgb)"
   ]
  },
  {
   "cell_type": "markdown",
   "id": "adf7726a-08c6-4eed-b1fd-748c3bb2bca1",
   "metadata": {},
   "source": [
    "## Compare"
   ]
  },
  {
   "cell_type": "code",
   "execution_count": 69,
   "id": "d81d6c08-dc1c-4231-bbaf-b04e092e96bc",
   "metadata": {},
   "outputs": [
    {
     "output_type": "stream",
     "name": "stdout",
     "text": [
      "RandomForest\nRMSE=116.80334825179006\nMAE=31.58828195488722\n\nLightgbmNaive\nRMSE=34.27989021388441\nMAE=19.306900546007892\n\nLightgbmRegressor\nRMSE=32.660389025192465\nMAE=20.521925111729125\n\n"
     ]
    }
   ],
   "source": [
    "print(\n",
    "    f\"RandomForest\\nRMSE={mean_squared_error(y_test, y_pred_forest, squared=False)}\\nMAE={mean_absolute_error(y_test, y_pred_forest)}\\n\"\n",
    ")\n",
    "print(\n",
    "    f\"LightgbmNaive\\nRMSE={mean_squared_error(y_test, y_pred_naive_lgb, squared=False)}\\nMAE={mean_absolute_error(y_test, y_pred_naive_lgb)}\\n\"\n",
    ")\n",
    "print(\n",
    "    f\"LightgbmRegressor\\nRMSE={mean_squared_error(y_test, y_pred_tunning_lgb, squared=False)}\\nMAE={mean_absolute_error(y_test, y_pred_tunning_lgb)}\\n\"\n",
    ")"
   ]
  },
  {
   "cell_type": "markdown",
   "id": "c5d5fc4a-600b-46a8-89a6-ff9cc4ad952a",
   "metadata": {},
   "source": [
    "**Naive e Tunning Lightgbm tiveram métricas muito próximas, entretando o RMSE do Tunning está melhor. Vamos usalo.**"
   ]
  },
  {
   "cell_type": "markdown",
   "id": "aa710c6e",
   "metadata": {},
   "source": [
    "# Produtização"
   ]
  },
  {
   "cell_type": "code",
   "execution_count": 50,
   "id": "e74ac0c4",
   "metadata": {},
   "outputs": [],
   "source": [
    "import os\n",
    "from serving.model_server import BeerPredictionService"
   ]
  },
  {
   "cell_type": "code",
   "execution_count": null,
   "metadata": {},
   "outputs": [],
   "source": [
    "\n",
    "bento_service = BeerPredictionService()\n",
    "bento_service.pack(\"model\", model)"
   ]
  },
  {
   "cell_type": "code",
   "execution_count": 51,
   "metadata": {},
   "outputs": [
    {
     "output_type": "execute_result",
     "data": {
      "text/plain": [
       "['ibu_model.pkl']"
      ]
     },
     "metadata": {},
     "execution_count": 51
    }
   ],
   "source": [
    "os.environ[\"BENTOML_HOME\"] = f\"{os.getcwd()}/bentoml\""
   ]
  },
  {
   "cell_type": "code",
   "execution_count": null,
   "metadata": {},
   "outputs": [],
   "source": [
    "bento_service.save(version=\"v1\")"
   ]
  }
 ],
 "metadata": {
  "interpreter": {
   "hash": "853a2b7ef0c40ff47d8df57729c28f9c3f6cd5aee1c757e491db4d7519452609"
  },
  "kernelspec": {
   "name": "python3",
   "display_name": "Python 3.8.10 64-bit ('case_picpay-GeTRvL1e-py3.8': poetry)"
  },
  "language_info": {
   "codemirror_mode": {
    "name": "ipython",
    "version": 3
   },
   "file_extension": ".py",
   "mimetype": "text/x-python",
   "name": "python",
   "nbconvert_exporter": "python",
   "pygments_lexer": "ipython3",
   "version": "3.8.10"
  }
 },
 "nbformat": 4,
 "nbformat_minor": 5
}